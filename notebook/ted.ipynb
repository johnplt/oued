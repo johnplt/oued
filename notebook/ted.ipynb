{
 "cells": [
  {
   "attachments": {},
   "cell_type": "markdown",
   "metadata": {},
   "source": [
    "# Library imports, configurations"
   ]
  },
  {
   "cell_type": "code",
   "execution_count": 124,
   "metadata": {},
   "outputs": [
    {
     "name": "stderr",
     "output_type": "stream",
     "text": [
      "[nltk_data] Downloading package punkt to /home/onyxia/nltk_data...\n",
      "[nltk_data]   Package punkt is already up-to-date!\n"
     ]
    }
   ],
   "source": [
    "import os\n",
    "import re\n",
    "import s3fs\n",
    "import pandas as pd\n",
    "import requests\n",
    "import json\n",
    "pd.set_option('display.max_columns', None)\n",
    "pd.set_option('display.max_colwidth', None)\n",
    "from unidecode import unidecode\n",
    "from wordcloud import WordCloud\n",
    "import nltk\n",
    "nltk.download('punkt')\n",
    "\n",
    "from stop_words import get_stop_words\n",
    "import unicodedata\n",
    "\n",
    "from nltk.tokenize import word_tokenize\n",
    "from elasticsearch import Elasticsearch\n",
    "from elasticsearch import helpers\n",
    "from elasticsearch_dsl import connections"
   ]
  },
  {
   "cell_type": "code",
   "execution_count": 6,
   "metadata": {},
   "outputs": [],
   "source": [
    "# Create filesystem object\n",
    "S3_ENDPOINT_URL = \"https://\" + os.environ[\"AWS_S3_ENDPOINT\"]\n",
    "fs = s3fs.S3FileSystem(client_kwargs={'endpoint_url': S3_ENDPOINT_URL})"
   ]
  },
  {
   "cell_type": "code",
   "execution_count": 7,
   "metadata": {},
   "outputs": [
    {
     "data": {
      "text/plain": [
       "['jplaton/diffusion/.keep',\n",
       " 'jplaton/diffusion/ted',\n",
       " 'jplaton/diffusion/visio_mel']"
      ]
     },
     "execution_count": 7,
     "metadata": {},
     "output_type": "execute_result"
    }
   ],
   "source": [
    "BUCKET = \"jplaton/diffusion\"\n",
    "fs.ls(BUCKET)"
   ]
  },
  {
   "cell_type": "code",
   "execution_count": 8,
   "metadata": {},
   "outputs": [
    {
     "data": {
      "text/plain": [
       "['clementg/diffusion/.keep',\n",
       " 'clementg/diffusion/Fiche de Poste DINUM - francetransfert-3595970061- pdf.csv']"
      ]
     },
     "execution_count": 8,
     "metadata": {},
     "output_type": "execute_result"
    }
   ],
   "source": [
    "BUCKET_CLEM = \"clementg/diffusion\"\n",
    "fs.ls(BUCKET_CLEM)"
   ]
  },
  {
   "cell_type": "markdown",
   "metadata": {},
   "source": [
    "# Functions"
   ]
  },
  {
   "cell_type": "code",
   "execution_count": 80,
   "metadata": {},
   "outputs": [],
   "source": [
    "# Suppression des accents\n",
    "\n",
    "def remove_accent(s):\n",
    "\n",
    "    s = unidecode(str(s))\n",
    "    return(s)\n",
    "\n",
    "# Suppression de la ponctuation\n",
    "\n",
    "def remove_punctuation(s):\n",
    "    # On retire la ponctuation\n",
    " \n",
    "    s = re.sub(r'[^A-Za-z0-9]',' ',str(s))\n",
    "    return(s)\n",
    "\n",
    "# Réduction de la casse\n",
    "\n",
    "def tolower(s):\n",
    "    s = ' '.join(str(s).lower().split())\n",
    "    return(s)\n",
    "\n",
    "\n",
    "# Sur cette base, on crée une petite fonction qui retire les stop words\n",
    "stopwords = get_stop_words('french')   \n",
    "stopwords = [unicodedata.normalize('NFKD',m).encode('ASCII', 'ignore').decode() for m in stopwords]\n",
    "\n",
    "def remove_stopwords(s):\n",
    "    s = [w for w in word_tokenize(s) if w not in stopwords]\n",
    "    s = ' '.join(s)\n",
    "    return(s)\n",
    "\n",
    "def remove_accent_from_df(df,list_cols):\n",
    "    df_c =  df.copy()\n",
    "    df_c[list_cols] = df_c[list_cols].applymap(remove_accent)\n",
    "    return df_c\n",
    "\n",
    "def remove_punctuation_from_df(df,list_cols):\n",
    "    df_c =  df.copy()\n",
    "    df_c[list_cols] = df_c[list_cols].applymap(remove_punctuation)\n",
    "    return df_c\n",
    "\n",
    "def tolower_df(df,list_cols):\n",
    "    df_c =  df.copy()\n",
    "    df_c[list_cols] = df_c[list_cols].applymap(tolower)\n",
    "    return df_c"
   ]
  },
  {
   "attachments": {},
   "cell_type": "markdown",
   "metadata": {},
   "source": [
    "# DATA Download"
   ]
  },
  {
   "cell_type": "code",
   "execution_count": 81,
   "metadata": {},
   "outputs": [
    {
     "name": "stderr",
     "output_type": "stream",
     "text": [
      "/tmp/ipykernel_72898/4280061390.py:5: DtypeWarning: Columns (22) have mixed types. Specify dtype option on import or set low_memory=False.\n",
      "  offres_2023_df = pd.read_csv(file_in, sep=\";\")\n",
      "/tmp/ipykernel_72898/4280061390.py:8: DtypeWarning: Columns (22) have mixed types. Specify dtype option on import or set low_memory=False.\n",
      "  offres_2022_df = pd.read_csv(file_in, sep=\";\")\n"
     ]
    }
   ],
   "source": [
    "FILE_PATH_TED = \"ted\"\n",
    "FILE_PATH_TED_S3 = BUCKET + \"/\" + FILE_PATH_TED\n",
    "\n",
    "with fs.open(FILE_PATH_TED_S3+\"/offres-datagouv-20230409.csv\", mode=\"rb\") as file_in:\n",
    "    offres_2023_df = pd.read_csv(file_in, sep=\";\")\n",
    "\n",
    "with fs.open(FILE_PATH_TED_S3+\"/offres-datagouv-20221225.csv\", mode=\"rb\") as file_in:   \n",
    "    offres_2022_df = pd.read_csv(file_in, sep=\";\")\n",
    "\n",
    "with fs.open(FILE_PATH_TED_S3+\"/Bulloterie_10_Saison_2.xlsx\", mode=\"rb\") as file_in:  \n",
    "    bulloterie_df =  pd.read_excel(file_in, sheet_name=0,header=[0,1])\n"
   ]
  },
  {
   "cell_type": "code",
   "execution_count": 82,
   "metadata": {},
   "outputs": [],
   "source": [
    "with fs.open(BUCKET_CLEM+\"/Fiche de Poste DINUM - francetransfert-3595970061- pdf.csv\", mode=\"rb\") as file_in:\n",
    "    fdp_dinum_df = pd.read_csv(file_in, sep=\";\",encoding='Windows-1252')"
   ]
  },
  {
   "cell_type": "code",
   "execution_count": 12,
   "metadata": {},
   "outputs": [],
   "source": [
    "with fs.open(FILE_PATH_TED_S3+\"/dila_refOrga_admin_Etat_fr_20230505.json\", mode=\"rb\") as file_in:  \n",
    "    orga =  json.load(file_in)"
   ]
  },
  {
   "cell_type": "markdown",
   "metadata": {},
   "source": [
    "### Traitement référentiel services"
   ]
  },
  {
   "cell_type": "code",
   "execution_count": 129,
   "metadata": {},
   "outputs": [],
   "source": [
    "orga_df = pd.json_normalize(orga,record_path='service')"
   ]
  },
  {
   "cell_type": "code",
   "execution_count": 136,
   "metadata": {},
   "outputs": [
    {
     "data": {
      "text/html": [
       "<div>\n",
       "<style scoped>\n",
       "    .dataframe tbody tr th:only-of-type {\n",
       "        vertical-align: middle;\n",
       "    }\n",
       "\n",
       "    .dataframe tbody tr th {\n",
       "        vertical-align: top;\n",
       "    }\n",
       "\n",
       "    .dataframe thead th {\n",
       "        text-align: right;\n",
       "    }\n",
       "</style>\n",
       "<table border=\"1\" class=\"dataframe\">\n",
       "  <thead>\n",
       "    <tr style=\"text-align: right;\">\n",
       "      <th></th>\n",
       "      <th>plage_ouverture</th>\n",
       "      <th>site_internet</th>\n",
       "      <th>copyright</th>\n",
       "      <th>siren</th>\n",
       "      <th>ancien_code_pivot</th>\n",
       "      <th>texte_reference</th>\n",
       "      <th>partenaire</th>\n",
       "      <th>telecopie</th>\n",
       "      <th>nom</th>\n",
       "      <th>siret</th>\n",
       "      <th>itm_identifiant</th>\n",
       "      <th>sigle</th>\n",
       "      <th>date_modification</th>\n",
       "      <th>adresse_courriel</th>\n",
       "      <th>service_disponible</th>\n",
       "      <th>organigramme</th>\n",
       "      <th>pivot</th>\n",
       "      <th>partenaire_identifiant</th>\n",
       "      <th>ancien_identifiant</th>\n",
       "      <th>id</th>\n",
       "      <th>ancien_nom</th>\n",
       "      <th>commentaire_plage_ouverture</th>\n",
       "      <th>annuaire</th>\n",
       "      <th>hierarchie</th>\n",
       "      <th>categorie</th>\n",
       "      <th>sve</th>\n",
       "      <th>telephone_accessible</th>\n",
       "      <th>version_type</th>\n",
       "      <th>type_repertoire</th>\n",
       "      <th>telephone</th>\n",
       "      <th>version_etat_modification</th>\n",
       "      <th>date_creation</th>\n",
       "      <th>partenaire_date_modification</th>\n",
       "      <th>mission</th>\n",
       "      <th>formulaire_contact</th>\n",
       "      <th>version_source</th>\n",
       "      <th>type_organisme</th>\n",
       "      <th>code_insee_commune</th>\n",
       "      <th>statut_de_diffusion</th>\n",
       "      <th>adresse</th>\n",
       "      <th>information_complementaire</th>\n",
       "      <th>date_diffusion</th>\n",
       "    </tr>\n",
       "  </thead>\n",
       "  <tbody>\n",
       "    <tr>\n",
       "      <th>0</th>\n",
       "      <td>[]</td>\n",
       "      <td>[{'libelle': '', 'valeur': 'http://www.police-nationale.interieur.gouv.fr'}]</td>\n",
       "      <td>Direction de l'information légale et administrative (Première ministre)</td>\n",
       "      <td></td>\n",
       "      <td></td>\n",
       "      <td>[]</td>\n",
       "      <td></td>\n",
       "      <td>[01 47 44 97 99]</td>\n",
       "      <td>Bureau de coordination stratégique</td>\n",
       "      <td></td>\n",
       "      <td>184318</td>\n",
       "      <td></td>\n",
       "      <td>04/02/2021 18:26:23</td>\n",
       "      <td>[]</td>\n",
       "      <td></td>\n",
       "      <td>[]</td>\n",
       "      <td>[]</td>\n",
       "      <td></td>\n",
       "      <td>[]</td>\n",
       "      <td>00014eb0-f7fe-4988-9380-137ccdfc401e</td>\n",
       "      <td>[]</td>\n",
       "      <td></td>\n",
       "      <td>[]</td>\n",
       "      <td>[]</td>\n",
       "      <td>SI</td>\n",
       "      <td>[https://contacts-demarches.interieur.gouv.fr]</td>\n",
       "      <td>[]</td>\n",
       "      <td>Publiable</td>\n",
       "      <td></td>\n",
       "      <td>[{'valeur': '01 49 27 49 27', 'description': ''}]</td>\n",
       "      <td></td>\n",
       "      <td>10/08/2009 00:00:00</td>\n",
       "      <td></td>\n",
       "      <td></td>\n",
       "      <td>[http://www.police-nationale.interieur.gouv.fr/Menu-accessibilite/Nous-contacter]</td>\n",
       "      <td></td>\n",
       "      <td>Administration centrale (ou Ministère)</td>\n",
       "      <td></td>\n",
       "      <td>true</td>\n",
       "      <td>[{'type_adresse': 'Adresse', 'complement1': '', 'complement2': '', 'numero_voie': '11 rue des Saussaies', 'service_distribution': '', 'code_postal': '75008', 'nom_commune': 'Paris', 'pays': '', 'continent': '', 'longitude': '', 'latitude': '', 'accessibilite': '', 'note_accessibilite': ''}]</td>\n",
       "      <td></td>\n",
       "      <td></td>\n",
       "    </tr>\n",
       "    <tr>\n",
       "      <th>1</th>\n",
       "      <td>[]</td>\n",
       "      <td>[{'libelle': '', 'valeur': 'https://www.dila.premier-ministre.gouv.fr'}]</td>\n",
       "      <td>Direction de l'information légale et administrative (Première ministre)</td>\n",
       "      <td>130009186</td>\n",
       "      <td></td>\n",
       "      <td>[{'libelle': 'Missions de la DILA (décret)', 'valeur': 'http://www.legifrance.gouv.fr/affichTexte.do?cidTexte=JORFTEXT000021658499'}, {'libelle': 'Organisation de la DILA (arrêté)', 'valeur': 'https://www.legifrance.gouv.fr/affichTexte.do;?cidTexte=JORFTEXT000033781192'}]</td>\n",
       "      <td></td>\n",
       "      <td>[]</td>\n",
       "      <td>Direction de l'information légale et administrative</td>\n",
       "      <td>13000918600011</td>\n",
       "      <td>185945</td>\n",
       "      <td>DILA</td>\n",
       "      <td>17/03/2023 14:31:25</td>\n",
       "      <td>[]</td>\n",
       "      <td></td>\n",
       "      <td>[]</td>\n",
       "      <td>[]</td>\n",
       "      <td></td>\n",
       "      <td>[]</td>\n",
       "      <td>0001945a-3c57-4271-b3cd-38ce8ff2c696</td>\n",
       "      <td>[]</td>\n",
       "      <td></td>\n",
       "      <td>[]</td>\n",
       "      <td>[{'type_hierarchie': 'Service Fils', 'service': '68c54a12-2377-4d44-b170-c210312d37b6'}, {'type_hierarchie': 'Service Fils', 'service': '53735d1c-3257-47ad-9197-63fd7edfac36'}, {'type_hierarchie': 'Service Fils', 'service': 'd77756bc-6c8d-4a4f-8a1d-5fefe11a6729'}, {'type_hierarchie': 'Service Fils', 'service': '8df3ee3a-3db4-4bda-9780-89d958c74321'}]</td>\n",
       "      <td>SI</td>\n",
       "      <td>[https://www.dila.premier-ministre.gouv.fr/contacts/saisine-sve]</td>\n",
       "      <td>[{'valeur': 'https://www.acce-o.fr/client/dila', 'description': 'Du lundi au vendredi de 9h à 17h30', 'custom_dico1': ['Transcription automatique']}]</td>\n",
       "      <td>Publiable</td>\n",
       "      <td></td>\n",
       "      <td>[{'valeur': '01 40 58 75 00', 'description': ''}]</td>\n",
       "      <td></td>\n",
       "      <td>06/01/2010 00:00:00</td>\n",
       "      <td></td>\n",
       "      <td>La direction de l’information légale et administrative (DILA) est une direction d’administration centrale des services du Premier ministre, placée sous l’autorité du Secrétaire général du Gouvernement. Créée par décret le 11 janvier 2010, elle résulte de la fusion des directions de La Documentation française et des Journaux officiels. La DILA exerce les missions de diffusion légale, d’édition publique et d’information administrative. Elle publie le Journal officiel de la République française (JORF), édite et diffuse les textes législatifs et réglementaires français, mettant à la disposition de tous, la norme juridique française. Elle garantit également la transparence économique et financière par la publication au niveau national de l’ensemble des informations légales, économiques et financières relatives à la vie des entreprises et au milieu associatif. Elle gère des services d’information qui permettent aux citoyens de connaître leurs droits et obligations et facilitent leurs démarches, via le site web service-public.fr. Elle édite des conventions collectives, des codes, des publications de référence, imprimées ou numériques, favorisant l’accès des citoyens à la vie publique et au débat public.</td>\n",
       "      <td>[https://www.dila.premier-ministre.gouv.fr/contacts/nous-contacter]</td>\n",
       "      <td></td>\n",
       "      <td>Administration centrale (ou Ministère)</td>\n",
       "      <td></td>\n",
       "      <td>true</td>\n",
       "      <td>[{'type_adresse': 'Adresse', 'complement1': '', 'complement2': '', 'numero_voie': '26 rue Desaix', 'service_distribution': '', 'code_postal': '75015', 'nom_commune': 'Paris', 'pays': 'France', 'continent': 'Europe', 'longitude': '2.292977', 'latitude': '48.852932', 'accessibilite': 'ACC', 'note_accessibilite': ''}, {'type_adresse': 'Adresse postale', 'complement1': '', 'complement2': '', 'numero_voie': '26 rue Desaix', 'service_distribution': '', 'code_postal': '75727', 'nom_commune': 'Paris Cedex 15', 'pays': '', 'continent': '', 'longitude': '', 'latitude': '', 'accessibilite': '', 'note_accessibilite': ''}]</td>\n",
       "      <td></td>\n",
       "      <td></td>\n",
       "    </tr>\n",
       "    <tr>\n",
       "      <th>2</th>\n",
       "      <td>[]</td>\n",
       "      <td>[{'libelle': '', 'valeur': 'https://www.ecologie.gouv.fr/'}]</td>\n",
       "      <td>Direction de l'information légale et administrative (Première ministre)</td>\n",
       "      <td></td>\n",
       "      <td></td>\n",
       "      <td>[]</td>\n",
       "      <td></td>\n",
       "      <td>[01 40 81 27 34]</td>\n",
       "      <td>Bureau de la simplification et de la qualité de service</td>\n",
       "      <td></td>\n",
       "      <td>178944</td>\n",
       "      <td></td>\n",
       "      <td>21/12/2022 15:35:12</td>\n",
       "      <td>[]</td>\n",
       "      <td></td>\n",
       "      <td>[]</td>\n",
       "      <td>[]</td>\n",
       "      <td></td>\n",
       "      <td>[]</td>\n",
       "      <td>00021836-d404-4f42-95a3-0a8cb0e01d35</td>\n",
       "      <td>[]</td>\n",
       "      <td></td>\n",
       "      <td>[]</td>\n",
       "      <td>[]</td>\n",
       "      <td>SI</td>\n",
       "      <td>[]</td>\n",
       "      <td>[]</td>\n",
       "      <td>Publiable</td>\n",
       "      <td></td>\n",
       "      <td>[{'valeur': '01 40 81 18 09', 'description': ''}]</td>\n",
       "      <td></td>\n",
       "      <td>15/12/2008 00:00:00</td>\n",
       "      <td></td>\n",
       "      <td></td>\n",
       "      <td>[http://contact.ecologique-solidaire.gouv.fr/]</td>\n",
       "      <td></td>\n",
       "      <td>Administration centrale (ou Ministère)</td>\n",
       "      <td></td>\n",
       "      <td>true</td>\n",
       "      <td>[{'type_adresse': 'Adresse', 'complement1': 'Grand Arche paroi Sud', 'complement2': '', 'numero_voie': 'Parvis de La Défense', 'service_distribution': '', 'code_postal': '92800', 'nom_commune': 'Puteaux', 'pays': 'France', 'continent': 'Europe', 'longitude': '2.23611', 'latitude': '48.89258', 'accessibilite': '', 'note_accessibilite': ''}, {'type_adresse': 'Adresse postale', 'complement1': '', 'complement2': '', 'numero_voie': '', 'service_distribution': '', 'code_postal': '92055', 'nom_commune': 'Paris-La-Défense Cedex', 'pays': '', 'continent': '', 'longitude': '', 'latitude': '', 'accessibilite': '', 'note_accessibilite': ''}]</td>\n",
       "      <td></td>\n",
       "      <td></td>\n",
       "    </tr>\n",
       "    <tr>\n",
       "      <th>3</th>\n",
       "      <td>[]</td>\n",
       "      <td>[{'libelle': '', 'valeur': 'https://www.police-nationale.interieur.gouv.fr/Organisation/Service-de-la-Protection'}]</td>\n",
       "      <td>Direction de l'information légale et administrative (Première ministre)</td>\n",
       "      <td></td>\n",
       "      <td></td>\n",
       "      <td>[{'libelle': 'Missions et organisation du Service de la protection (arrêté)', 'valeur': 'http://www.legifrance.gouv.fr/affichTexte.do?cidTexte=JORFTEXT000027838141'}]</td>\n",
       "      <td></td>\n",
       "      <td>[]</td>\n",
       "      <td>Service de la protection (SDLP)</td>\n",
       "      <td></td>\n",
       "      <td>171803</td>\n",
       "      <td></td>\n",
       "      <td>05/04/2023 09:50:44</td>\n",
       "      <td>[]</td>\n",
       "      <td></td>\n",
       "      <td>[]</td>\n",
       "      <td>[]</td>\n",
       "      <td></td>\n",
       "      <td>[]</td>\n",
       "      <td>00088aa7-27fd-48d8-97bf-fe62e36425e7</td>\n",
       "      <td>[]</td>\n",
       "      <td></td>\n",
       "      <td>[]</td>\n",
       "      <td>[]</td>\n",
       "      <td>SI</td>\n",
       "      <td>[https://contacts-demarches.interieur.gouv.fr]</td>\n",
       "      <td>[]</td>\n",
       "      <td>Publiable</td>\n",
       "      <td></td>\n",
       "      <td>[{'valeur': '01 49 27 49 27', 'description': ''}]</td>\n",
       "      <td></td>\n",
       "      <td>30/06/2008 00:00:00</td>\n",
       "      <td></td>\n",
       "      <td></td>\n",
       "      <td>[http://www.police-nationale.interieur.gouv.fr/Menu-accessibilite/Nous-contacter]</td>\n",
       "      <td></td>\n",
       "      <td>Administration centrale (ou Ministère)</td>\n",
       "      <td></td>\n",
       "      <td>true</td>\n",
       "      <td>[{'type_adresse': 'Adresse', 'complement1': '', 'complement2': '', 'numero_voie': '14-16 rue de Miromesnil', 'service_distribution': '', 'code_postal': '75008', 'nom_commune': 'Paris', 'pays': '', 'continent': '', 'longitude': '', 'latitude': '', 'accessibilite': '', 'note_accessibilite': ''}, {'type_adresse': 'Adresse postale', 'complement1': '', 'complement2': '', 'numero_voie': 'Place Beauvau', 'service_distribution': '', 'code_postal': '75800', 'nom_commune': 'Paris Cedex 08', 'pays': '', 'continent': '', 'longitude': '', 'latitude': '', 'accessibilite': '', 'note_accessibilite': ''}]</td>\n",
       "      <td></td>\n",
       "      <td></td>\n",
       "    </tr>\n",
       "    <tr>\n",
       "      <th>4</th>\n",
       "      <td>[]</td>\n",
       "      <td>[{'libelle': '', 'valeur': 'https://www.allo119.gouv.fr/'}]</td>\n",
       "      <td>Direction de l'information légale et administrative (Première ministre)</td>\n",
       "      <td></td>\n",
       "      <td></td>\n",
       "      <td>[]</td>\n",
       "      <td></td>\n",
       "      <td>[]</td>\n",
       "      <td>Service national d'accueil téléphonique de l'enfance en danger (SNATED)</td>\n",
       "      <td></td>\n",
       "      <td>1170698</td>\n",
       "      <td></td>\n",
       "      <td>01/03/2019 08:58:12</td>\n",
       "      <td>[]</td>\n",
       "      <td></td>\n",
       "      <td>[]</td>\n",
       "      <td>[]</td>\n",
       "      <td></td>\n",
       "      <td>[]</td>\n",
       "      <td>00097eba-9000-454c-82d5-20e50310b5cf</td>\n",
       "      <td>[]</td>\n",
       "      <td></td>\n",
       "      <td>[]</td>\n",
       "      <td>[]</td>\n",
       "      <td>SI</td>\n",
       "      <td>[]</td>\n",
       "      <td>[]</td>\n",
       "      <td>Publiable</td>\n",
       "      <td></td>\n",
       "      <td>[{'valeur': '119', 'description': ''}]</td>\n",
       "      <td></td>\n",
       "      <td>27/02/2019 10:08:25</td>\n",
       "      <td></td>\n",
       "      <td>Le Service national d’accueil téléphonique de l’enfance en danger (SNATED) est accessible sans interruption par le numéro national d’urgence 119. Le SNATED assure une mission de prévention et de protection. Il reçoit les appels d’enfants en danger ou en risque de l’être et de toute personne confrontée à ce type de situations, pour aider à leur dépistage et faciliter la protection de mineurs en danger. Il transmet les informations préoccupantes concernant ces enfants aux services départementaux compétents en la matière, à savoir les cellules de recueil des informations préoccupantes (CRIP).</td>\n",
       "      <td>[https://www.allo119.gouv.fr/vos-questions]</td>\n",
       "      <td></td>\n",
       "      <td>Groupement d'intérêt public</td>\n",
       "      <td></td>\n",
       "      <td>true</td>\n",
       "      <td>[{'type_adresse': 'Adresse', 'complement1': '', 'complement2': '', 'numero_voie': '63bis boulevard Bessières', 'service_distribution': 'BP 30302', 'code_postal': '75823', 'nom_commune': 'Paris Cedex 17', 'pays': '', 'continent': '', 'longitude': '2.32215', 'latitude': '48.897253', 'accessibilite': '', 'note_accessibilite': ''}]</td>\n",
       "      <td></td>\n",
       "      <td></td>\n",
       "    </tr>\n",
       "    <tr>\n",
       "      <th>5</th>\n",
       "      <td>[]</td>\n",
       "      <td>[{'libelle': '', 'valeur': 'http://www.education.gouv.fr'}, {'libelle': '', 'valeur': 'http://www.enseignementsup-recherche.gouv.fr'}]</td>\n",
       "      <td>Direction de l'information légale et administrative (Première ministre)</td>\n",
       "      <td></td>\n",
       "      <td></td>\n",
       "      <td>[]</td>\n",
       "      <td></td>\n",
       "      <td>[01 55 55 70 66]</td>\n",
       "      <td>Sous-direction du budget des missions Enseignement scolaire et Sport, jeunesse et vie associative</td>\n",
       "      <td></td>\n",
       "      <td>169843</td>\n",
       "      <td></td>\n",
       "      <td>08/07/2022 10:29:17</td>\n",
       "      <td>[]</td>\n",
       "      <td></td>\n",
       "      <td>[]</td>\n",
       "      <td>[]</td>\n",
       "      <td></td>\n",
       "      <td>[]</td>\n",
       "      <td>001b277c-5cf3-4dda-b0e3-3d5b4c48fc9b</td>\n",
       "      <td>[]</td>\n",
       "      <td></td>\n",
       "      <td>[]</td>\n",
       "      <td>[{'type_hierarchie': 'Service Fils', 'service': '5a49d526-738b-411d-a0f3-858eb724b7b9'}, {'type_hierarchie': 'Service Fils', 'service': 'f889a139-b635-4c83-bd77-494409c964ee'}, {'type_hierarchie': 'Service Fils', 'service': '2dce06b4-026d-4772-935c-54f17b64a0f1'}]</td>\n",
       "      <td>SI</td>\n",
       "      <td>[]</td>\n",
       "      <td>[]</td>\n",
       "      <td>Publiable</td>\n",
       "      <td></td>\n",
       "      <td>[{'valeur': '01 55 55 61 66', 'description': ''}]</td>\n",
       "      <td></td>\n",
       "      <td>30/06/2008 00:00:00</td>\n",
       "      <td></td>\n",
       "      <td></td>\n",
       "      <td>[http://www.education.gouv.fr/cid2559/page-contacts.html]</td>\n",
       "      <td></td>\n",
       "      <td>Administration centrale (ou Ministère)</td>\n",
       "      <td></td>\n",
       "      <td>true</td>\n",
       "      <td>[{'type_adresse': 'Adresse', 'complement1': '', 'complement2': '', 'numero_voie': '110 rue de Grenelle', 'service_distribution': '', 'code_postal': '75007', 'nom_commune': 'Paris', 'pays': '', 'continent': '', 'longitude': '', 'latitude': '', 'accessibilite': '', 'note_accessibilite': ''}, {'type_adresse': 'Adresse postale', 'complement1': '', 'complement2': '', 'numero_voie': '110 rue de Grenelle', 'service_distribution': '', 'code_postal': '75357', 'nom_commune': 'Paris SP 07', 'pays': '', 'continent': '', 'longitude': '', 'latitude': '', 'accessibilite': '', 'note_accessibilite': ''}]</td>\n",
       "      <td></td>\n",
       "      <td></td>\n",
       "    </tr>\n",
       "    <tr>\n",
       "      <th>6</th>\n",
       "      <td>[]</td>\n",
       "      <td>[{'libelle': '', 'valeur': 'https://www.defense.gouv.fr/sante'}]</td>\n",
       "      <td>Direction de l'information légale et administrative (Première ministre)</td>\n",
       "      <td></td>\n",
       "      <td></td>\n",
       "      <td>[]</td>\n",
       "      <td></td>\n",
       "      <td>[]</td>\n",
       "      <td>Bureau Contrôles internes supports</td>\n",
       "      <td></td>\n",
       "      <td>1127311</td>\n",
       "      <td></td>\n",
       "      <td>26/09/2022 16:32:25</td>\n",
       "      <td>[dcssa-paris@sante.defense.gouv.fr]</td>\n",
       "      <td></td>\n",
       "      <td>[]</td>\n",
       "      <td>[]</td>\n",
       "      <td></td>\n",
       "      <td>[]</td>\n",
       "      <td>001d5334-6172-4435-9dd1-8204d8dcceba</td>\n",
       "      <td>[]</td>\n",
       "      <td></td>\n",
       "      <td>[]</td>\n",
       "      <td>[]</td>\n",
       "      <td>SI</td>\n",
       "      <td>[]</td>\n",
       "      <td>[]</td>\n",
       "      <td>Publiable</td>\n",
       "      <td></td>\n",
       "      <td>[{'valeur': '01 41 93 36 10', 'description': ''}]</td>\n",
       "      <td></td>\n",
       "      <td>07/09/2018 11:27:29</td>\n",
       "      <td></td>\n",
       "      <td></td>\n",
       "      <td>[]</td>\n",
       "      <td></td>\n",
       "      <td>Administration centrale (ou Ministère)</td>\n",
       "      <td></td>\n",
       "      <td>true</td>\n",
       "      <td>[{'type_adresse': 'Adresse', 'complement1': 'Fort neuf de Vincennes', 'complement2': '', 'numero_voie': 'Cours des Maréchaux', 'service_distribution': '', 'code_postal': '75614', 'nom_commune': 'Paris Cedex 12', 'pays': '', 'continent': '', 'longitude': '2.439246', 'latitude': '48.8425', 'accessibilite': '', 'note_accessibilite': ''}]</td>\n",
       "      <td></td>\n",
       "      <td></td>\n",
       "    </tr>\n",
       "    <tr>\n",
       "      <th>7</th>\n",
       "      <td>[]</td>\n",
       "      <td>[{'libelle': '', 'valeur': 'http://travail-emploi.gouv.fr'}, {'libelle': '', 'valeur': 'http://www.social-sante.gouv.fr'}]</td>\n",
       "      <td>Direction de l'information légale et administrative (Première ministre)</td>\n",
       "      <td></td>\n",
       "      <td></td>\n",
       "      <td>[]</td>\n",
       "      <td></td>\n",
       "      <td>[01 44 38 20 10]</td>\n",
       "      <td>Bureau de la synthèse et des programmes soutien - SPS</td>\n",
       "      <td></td>\n",
       "      <td>166338</td>\n",
       "      <td></td>\n",
       "      <td>28/04/2023 17:47:29</td>\n",
       "      <td>[]</td>\n",
       "      <td></td>\n",
       "      <td>[]</td>\n",
       "      <td>[]</td>\n",
       "      <td></td>\n",
       "      <td>[]</td>\n",
       "      <td>001d7040-014f-42d2-9216-ba8d57a61c5e</td>\n",
       "      <td>[]</td>\n",
       "      <td></td>\n",
       "      <td>[]</td>\n",
       "      <td>[]</td>\n",
       "      <td>SI</td>\n",
       "      <td>[]</td>\n",
       "      <td>[]</td>\n",
       "      <td>Publiable</td>\n",
       "      <td></td>\n",
       "      <td>[{'valeur': '01 44 38 37 34', 'description': ''}]</td>\n",
       "      <td></td>\n",
       "      <td>30/06/2008 00:00:00</td>\n",
       "      <td></td>\n",
       "      <td></td>\n",
       "      <td>[]</td>\n",
       "      <td></td>\n",
       "      <td>Administration centrale (ou Ministère)</td>\n",
       "      <td></td>\n",
       "      <td>true</td>\n",
       "      <td>[{'type_adresse': 'Adresse', 'complement1': '', 'complement2': '', 'numero_voie': '14 avenue Duquesne', 'service_distribution': '', 'code_postal': '75007', 'nom_commune': 'Paris', 'pays': '', 'continent': '', 'longitude': '', 'latitude': '', 'accessibilite': '', 'note_accessibilite': ''}, {'type_adresse': 'Adresse postale', 'complement1': '', 'complement2': '', 'numero_voie': '14 avenue Duquesne', 'service_distribution': '', 'code_postal': '75350', 'nom_commune': 'Paris SP 07', 'pays': '', 'continent': '', 'longitude': '', 'latitude': '', 'accessibilite': '', 'note_accessibilite': ''}]</td>\n",
       "      <td></td>\n",
       "      <td></td>\n",
       "    </tr>\n",
       "    <tr>\n",
       "      <th>8</th>\n",
       "      <td>[]</td>\n",
       "      <td>[{'libelle': '', 'valeur': 'https://www.conseil-etat.fr/'}]</td>\n",
       "      <td>Direction de l'information légale et administrative (Première ministre)</td>\n",
       "      <td></td>\n",
       "      <td></td>\n",
       "      <td>[{'libelle': 'Attributions du Conseil d'État (Code de justice administrative, partie législative)', 'valeur': 'http://www.legifrance.gouv.fr/affichCode.do?idArticle=LEGIARTI000006449167&amp;idSectionTA=LEGISCTA000006150369&amp;cidTexte=LEGITEXT000006070933&amp;dateTexte=20141010'}]</td>\n",
       "      <td></td>\n",
       "      <td>[01 40 20 80 08]</td>\n",
       "      <td>Conseil d'État</td>\n",
       "      <td></td>\n",
       "      <td>171313</td>\n",
       "      <td></td>\n",
       "      <td>18/10/2022 15:58:59</td>\n",
       "      <td>[]</td>\n",
       "      <td></td>\n",
       "      <td>[{'libelle': 'Organigramme du Conseil d'État', 'valeur': 'http://www.conseil-etat.fr/Conseil-d-Etat/Organisation/Organigramme-du-Conseil-d-Etat'}]</td>\n",
       "      <td>[]</td>\n",
       "      <td></td>\n",
       "      <td>[]</td>\n",
       "      <td>003022d4-6d9c-450d-a4a3-4a3c43c4a340</td>\n",
       "      <td>[]</td>\n",
       "      <td></td>\n",
       "      <td>[]</td>\n",
       "      <td>[{'type_hierarchie': 'Service Fils', 'service': 'a6008701-55a9-4eab-8524-9bc88b612c13'}, {'type_hierarchie': 'Service Fils', 'service': 'd6afa78f-afb5-41ff-aae4-c8d83039ccbb'}, {'type_hierarchie': 'Service Fils', 'service': '2bb124e0-1f1f-4afb-8aa3-4002768e24b9'}, {'type_hierarchie': 'Service Fils', 'service': 'c32bd4d0-ea62-4496-9a3d-8a6461d6054c'}, {'type_hierarchie': 'Service Fils', 'service': '01a548d9-122a-473b-933e-cdbea594ae9d'}, {'type_hierarchie': 'Service Fils', 'service': '4e1711e9-60a5-4921-8d55-91a18d34429a'}, {'type_hierarchie': 'Service Fils', 'service': '68445c0a-ff1e-4d33-acdc-79cb05face80'}, {'type_hierarchie': 'Service Fils', 'service': 'c611aa33-737b-488c-a26c-0c73fa2e97c5'}, {'type_hierarchie': 'Service Fils', 'service': '48e0b4ff-8ef5-488c-88d4-aeaaede69539'}, {'type_hierarchie': 'Service Fils', 'service': '4973b88d-9e1d-4cd1-b426-958ccc089563'}, {'type_hierarchie': 'Service Fils', 'service': 'a62bee61-4c7c-43dc-925f-3a506a006c2f'}, {'type_hierarchie': 'Service Fils', 'service': '9b240c4d-14e3-4066-8f14-de09c687d63a'}]</td>\n",
       "      <td>SI</td>\n",
       "      <td>[]</td>\n",
       "      <td>[]</td>\n",
       "      <td>Publiable</td>\n",
       "      <td></td>\n",
       "      <td>[{'valeur': '01 40 20 80 00', 'description': ''}]</td>\n",
       "      <td></td>\n",
       "      <td>30/06/2008 00:00:00</td>\n",
       "      <td></td>\n",
       "      <td>Créé en 1799, le Conseil d'État est le conseiller du Gouvernement. Il examine les projets de loi et d'ordonnance, avant que ceux-ci ne soient soumis au Conseil des ministres, ainsi que les projets de décret en Conseil d'État. Il émet un avis sur la régularité juridique des textes, sur leur forme et sur leur opportunité administrative. Il peut par ailleurs être consulté par le gouvernement sur toute question ou difficulté d'ordre juridique ou administratif. Le Conseil d'État est également conseiller du parlement sur les propositions de loi que ce dernier souhaite lui soumettre.</td>\n",
       "      <td>[]</td>\n",
       "      <td></td>\n",
       "      <td>Institution</td>\n",
       "      <td></td>\n",
       "      <td>true</td>\n",
       "      <td>[{'type_adresse': 'Adresse', 'complement1': '', 'complement2': '', 'numero_voie': '1 place du Palais-Royal', 'service_distribution': '', 'code_postal': '75100', 'nom_commune': 'Paris Cedex 01', 'pays': '', 'continent': '', 'longitude': '2.336682', 'latitude': '48.863316', 'accessibilite': '', 'note_accessibilite': ''}]</td>\n",
       "      <td>Bureau du greffe et de l'accueil du public, téléphone : 01 40 20 81 00.</td>\n",
       "      <td></td>\n",
       "    </tr>\n",
       "    <tr>\n",
       "      <th>9</th>\n",
       "      <td>[]</td>\n",
       "      <td>[{'libelle': '', 'valeur': 'https://www.defense.gouv.fr/sante'}]</td>\n",
       "      <td>Direction de l'information légale et administrative (Première ministre)</td>\n",
       "      <td></td>\n",
       "      <td></td>\n",
       "      <td>[{'libelle': 'Organisation du service de santé des armées (arrêté)', 'valeur': 'https://www.legifrance.gouv.fr/jorf/id/JORFTEXT000044553939'}, {'libelle': 'Compétences du service de santé des armées (Code de la défense)', 'valeur': 'http://www.legifrance.gouv.fr/affichCodeArticle.do?idArticle=LEGIARTI000019840621&amp;cidTexte=LEGITEXT000006071307'}]</td>\n",
       "      <td></td>\n",
       "      <td>[]</td>\n",
       "      <td>Direction centrale du service de santé des armées</td>\n",
       "      <td></td>\n",
       "      <td>172028</td>\n",
       "      <td></td>\n",
       "      <td>27/09/2022 18:48:01</td>\n",
       "      <td>[dcssa-paris@sante.defense.gouv.fr]</td>\n",
       "      <td></td>\n",
       "      <td>[]</td>\n",
       "      <td>[]</td>\n",
       "      <td></td>\n",
       "      <td>[]</td>\n",
       "      <td>0038c3ff-7094-4455-86ca-3ff7c274e761</td>\n",
       "      <td>[]</td>\n",
       "      <td></td>\n",
       "      <td>[]</td>\n",
       "      <td>[{'type_hierarchie': 'Service Fils', 'service': 'f4dda57f-ecd2-4b8a-b5a5-0bbc8d20ff8e'}, {'type_hierarchie': 'Service Fils', 'service': 'b157c3aa-93c0-44a1-97c0-660e0213545a'}, {'type_hierarchie': 'Service Fils', 'service': '79371e2e-0ec7-4bc9-8db5-a3480420449c'}, {'type_hierarchie': 'Service Fils', 'service': '64b176cd-4620-459d-939f-a2657ce9d3c2'}, {'type_hierarchie': 'Service Fils', 'service': '7b9740da-fc11-4873-968e-b40f4ecdcd34'}, {'type_hierarchie': 'Service Fils', 'service': '8bb2ec9d-a171-4c0c-a818-8f644c6bba04'}, {'type_hierarchie': 'Service Fils', 'service': '27664c6f-3ec5-43f3-9916-88e952a12910'}, {'type_hierarchie': 'Service Fils', 'service': '374ccb9a-9e51-4f93-93e2-c51cef2c12f3'}, {'type_hierarchie': 'Service Fils', 'service': '92e07fbd-10d7-44bf-be61-d99f6521e872'}, {'type_hierarchie': 'Service Fils', 'service': '1b14d3d1-1f38-451a-8e71-a494971b58b2'}, {'type_hierarchie': 'Service Fils', 'service': 'e9eb7dfe-8d51-4ae4-99e4-15b4b49180c7'}, {'type_hierarchie': 'Service Fils', 'service': '6da078fb-6ba8-4a96-9c97-93f3a751ff46'}, {'type_hierarchie': 'Service Fils', 'service': 'fe7188b6-a23a-459a-8174-9894658fbc47'}]</td>\n",
       "      <td>SI</td>\n",
       "      <td>[]</td>\n",
       "      <td>[]</td>\n",
       "      <td>Publiable</td>\n",
       "      <td></td>\n",
       "      <td>[{'valeur': '01 41 93 32 65', 'description': ''}]</td>\n",
       "      <td></td>\n",
       "      <td>30/06/2008 00:00:00</td>\n",
       "      <td></td>\n",
       "      <td></td>\n",
       "      <td>[]</td>\n",
       "      <td></td>\n",
       "      <td>Administration centrale (ou Ministère)</td>\n",
       "      <td></td>\n",
       "      <td>true</td>\n",
       "      <td>[{'type_adresse': 'Adresse', 'complement1': '', 'complement2': '', 'numero_voie': '60 boulevard du gal Martial Valin', 'service_distribution': 'CS 21623', 'code_postal': '75509', 'nom_commune': 'Paris Cedex 15', 'pays': '', 'continent': '', 'longitude': '2.275424', 'latitude': '48.835942', 'accessibilite': '', 'note_accessibilite': ''}]</td>\n",
       "      <td></td>\n",
       "      <td></td>\n",
       "    </tr>\n",
       "  </tbody>\n",
       "</table>\n",
       "</div>"
      ],
      "text/plain": [
       "  plage_ouverture  \\\n",
       "0              []   \n",
       "1              []   \n",
       "2              []   \n",
       "3              []   \n",
       "4              []   \n",
       "5              []   \n",
       "6              []   \n",
       "7              []   \n",
       "8              []   \n",
       "9              []   \n",
       "\n",
       "                                                                                                                            site_internet  \\\n",
       "0                                                            [{'libelle': '', 'valeur': 'http://www.police-nationale.interieur.gouv.fr'}]   \n",
       "1                                                                [{'libelle': '', 'valeur': 'https://www.dila.premier-ministre.gouv.fr'}]   \n",
       "2                                                                            [{'libelle': '', 'valeur': 'https://www.ecologie.gouv.fr/'}]   \n",
       "3                     [{'libelle': '', 'valeur': 'https://www.police-nationale.interieur.gouv.fr/Organisation/Service-de-la-Protection'}]   \n",
       "4                                                                             [{'libelle': '', 'valeur': 'https://www.allo119.gouv.fr/'}]   \n",
       "5  [{'libelle': '', 'valeur': 'http://www.education.gouv.fr'}, {'libelle': '', 'valeur': 'http://www.enseignementsup-recherche.gouv.fr'}]   \n",
       "6                                                                        [{'libelle': '', 'valeur': 'https://www.defense.gouv.fr/sante'}]   \n",
       "7              [{'libelle': '', 'valeur': 'http://travail-emploi.gouv.fr'}, {'libelle': '', 'valeur': 'http://www.social-sante.gouv.fr'}]   \n",
       "8                                                                             [{'libelle': '', 'valeur': 'https://www.conseil-etat.fr/'}]   \n",
       "9                                                                        [{'libelle': '', 'valeur': 'https://www.defense.gouv.fr/sante'}]   \n",
       "\n",
       "                                                                 copyright  \\\n",
       "0  Direction de l'information légale et administrative (Première ministre)   \n",
       "1  Direction de l'information légale et administrative (Première ministre)   \n",
       "2  Direction de l'information légale et administrative (Première ministre)   \n",
       "3  Direction de l'information légale et administrative (Première ministre)   \n",
       "4  Direction de l'information légale et administrative (Première ministre)   \n",
       "5  Direction de l'information légale et administrative (Première ministre)   \n",
       "6  Direction de l'information légale et administrative (Première ministre)   \n",
       "7  Direction de l'information légale et administrative (Première ministre)   \n",
       "8  Direction de l'information légale et administrative (Première ministre)   \n",
       "9  Direction de l'information légale et administrative (Première ministre)   \n",
       "\n",
       "       siren ancien_code_pivot  \\\n",
       "0                                \n",
       "1  130009186                     \n",
       "2                                \n",
       "3                                \n",
       "4                                \n",
       "5                                \n",
       "6                                \n",
       "7                                \n",
       "8                                \n",
       "9                                \n",
       "\n",
       "                                                                                                                                                                                                                                                                                                                                               texte_reference  \\\n",
       "0                                                                                                                                                                                                                                                                                                                                                           []   \n",
       "1                                                                             [{'libelle': 'Missions de la DILA (décret)', 'valeur': 'http://www.legifrance.gouv.fr/affichTexte.do?cidTexte=JORFTEXT000021658499'}, {'libelle': 'Organisation de la DILA (arrêté)', 'valeur': 'https://www.legifrance.gouv.fr/affichTexte.do;?cidTexte=JORFTEXT000033781192'}]   \n",
       "2                                                                                                                                                                                                                                                                                                                                                           []   \n",
       "3                                                                                                                                                                                       [{'libelle': 'Missions et organisation du Service de la protection (arrêté)', 'valeur': 'http://www.legifrance.gouv.fr/affichTexte.do?cidTexte=JORFTEXT000027838141'}]   \n",
       "4                                                                                                                                                                                                                                                                                                                                                           []   \n",
       "5                                                                                                                                                                                                                                                                                                                                                           []   \n",
       "6                                                                                                                                                                                                                                                                                                                                                           []   \n",
       "7                                                                                                                                                                                                                                                                                                                                                           []   \n",
       "8                                                                               [{'libelle': 'Attributions du Conseil d'État (Code de justice administrative, partie législative)', 'valeur': 'http://www.legifrance.gouv.fr/affichCode.do?idArticle=LEGIARTI000006449167&idSectionTA=LEGISCTA000006150369&cidTexte=LEGITEXT000006070933&dateTexte=20141010'}]   \n",
       "9  [{'libelle': 'Organisation du service de santé des armées (arrêté)', 'valeur': 'https://www.legifrance.gouv.fr/jorf/id/JORFTEXT000044553939'}, {'libelle': 'Compétences du service de santé des armées (Code de la défense)', 'valeur': 'http://www.legifrance.gouv.fr/affichCodeArticle.do?idArticle=LEGIARTI000019840621&cidTexte=LEGITEXT000006071307'}]   \n",
       "\n",
       "  partenaire         telecopie  \\\n",
       "0             [01 47 44 97 99]   \n",
       "1                           []   \n",
       "2             [01 40 81 27 34]   \n",
       "3                           []   \n",
       "4                           []   \n",
       "5             [01 55 55 70 66]   \n",
       "6                           []   \n",
       "7             [01 44 38 20 10]   \n",
       "8             [01 40 20 80 08]   \n",
       "9                           []   \n",
       "\n",
       "                                                                                                 nom  \\\n",
       "0                                                                 Bureau de coordination stratégique   \n",
       "1                                                Direction de l'information légale et administrative   \n",
       "2                                            Bureau de la simplification et de la qualité de service   \n",
       "3                                                                    Service de la protection (SDLP)   \n",
       "4                            Service national d'accueil téléphonique de l'enfance en danger (SNATED)   \n",
       "5  Sous-direction du budget des missions Enseignement scolaire et Sport, jeunesse et vie associative   \n",
       "6                                                                 Bureau Contrôles internes supports   \n",
       "7                                              Bureau de la synthèse et des programmes soutien - SPS   \n",
       "8                                                                                     Conseil d'État   \n",
       "9                                                  Direction centrale du service de santé des armées   \n",
       "\n",
       "            siret itm_identifiant sigle    date_modification  \\\n",
       "0                          184318        04/02/2021 18:26:23   \n",
       "1  13000918600011          185945  DILA  17/03/2023 14:31:25   \n",
       "2                          178944        21/12/2022 15:35:12   \n",
       "3                          171803        05/04/2023 09:50:44   \n",
       "4                         1170698        01/03/2019 08:58:12   \n",
       "5                          169843        08/07/2022 10:29:17   \n",
       "6                         1127311        26/09/2022 16:32:25   \n",
       "7                          166338        28/04/2023 17:47:29   \n",
       "8                          171313        18/10/2022 15:58:59   \n",
       "9                          172028        27/09/2022 18:48:01   \n",
       "\n",
       "                      adresse_courriel service_disponible  \\\n",
       "0                                   []                      \n",
       "1                                   []                      \n",
       "2                                   []                      \n",
       "3                                   []                      \n",
       "4                                   []                      \n",
       "5                                   []                      \n",
       "6  [dcssa-paris@sante.defense.gouv.fr]                      \n",
       "7                                   []                      \n",
       "8                                   []                      \n",
       "9  [dcssa-paris@sante.defense.gouv.fr]                      \n",
       "\n",
       "                                                                                                                                         organigramme  \\\n",
       "0                                                                                                                                                  []   \n",
       "1                                                                                                                                                  []   \n",
       "2                                                                                                                                                  []   \n",
       "3                                                                                                                                                  []   \n",
       "4                                                                                                                                                  []   \n",
       "5                                                                                                                                                  []   \n",
       "6                                                                                                                                                  []   \n",
       "7                                                                                                                                                  []   \n",
       "8  [{'libelle': 'Organigramme du Conseil d'État', 'valeur': 'http://www.conseil-etat.fr/Conseil-d-Etat/Organisation/Organigramme-du-Conseil-d-Etat'}]   \n",
       "9                                                                                                                                                  []   \n",
       "\n",
       "  pivot partenaire_identifiant ancien_identifiant  \\\n",
       "0    []                                        []   \n",
       "1    []                                        []   \n",
       "2    []                                        []   \n",
       "3    []                                        []   \n",
       "4    []                                        []   \n",
       "5    []                                        []   \n",
       "6    []                                        []   \n",
       "7    []                                        []   \n",
       "8    []                                        []   \n",
       "9    []                                        []   \n",
       "\n",
       "                                     id ancien_nom  \\\n",
       "0  00014eb0-f7fe-4988-9380-137ccdfc401e         []   \n",
       "1  0001945a-3c57-4271-b3cd-38ce8ff2c696         []   \n",
       "2  00021836-d404-4f42-95a3-0a8cb0e01d35         []   \n",
       "3  00088aa7-27fd-48d8-97bf-fe62e36425e7         []   \n",
       "4  00097eba-9000-454c-82d5-20e50310b5cf         []   \n",
       "5  001b277c-5cf3-4dda-b0e3-3d5b4c48fc9b         []   \n",
       "6  001d5334-6172-4435-9dd1-8204d8dcceba         []   \n",
       "7  001d7040-014f-42d2-9216-ba8d57a61c5e         []   \n",
       "8  003022d4-6d9c-450d-a4a3-4a3c43c4a340         []   \n",
       "9  0038c3ff-7094-4455-86ca-3ff7c274e761         []   \n",
       "\n",
       "  commentaire_plage_ouverture annuaire  \\\n",
       "0                                   []   \n",
       "1                                   []   \n",
       "2                                   []   \n",
       "3                                   []   \n",
       "4                                   []   \n",
       "5                                   []   \n",
       "6                                   []   \n",
       "7                                   []   \n",
       "8                                   []   \n",
       "9                                   []   \n",
       "\n",
       "                                                                                                                                                                                                                                                                                                                                                                                                                                                                                                                                                                                                                                                                                                                                                                                                                                                                                                                                                                                                                                                                                                                                                                                 hierarchie  \\\n",
       "0                                                                                                                                                                                                                                                                                                                                                                                                                                                                                                                                                                                                                                                                                                                                                                                                                                                                                                                                                                                                                                                                                                                                                                                        []   \n",
       "1                                                                                                                                                                                                                                                                                                                                                                                                                                                                                                                                                                                                                                                                                                                                                                                                                          [{'type_hierarchie': 'Service Fils', 'service': '68c54a12-2377-4d44-b170-c210312d37b6'}, {'type_hierarchie': 'Service Fils', 'service': '53735d1c-3257-47ad-9197-63fd7edfac36'}, {'type_hierarchie': 'Service Fils', 'service': 'd77756bc-6c8d-4a4f-8a1d-5fefe11a6729'}, {'type_hierarchie': 'Service Fils', 'service': '8df3ee3a-3db4-4bda-9780-89d958c74321'}]   \n",
       "2                                                                                                                                                                                                                                                                                                                                                                                                                                                                                                                                                                                                                                                                                                                                                                                                                                                                                                                                                                                                                                                                                                                                                                                        []   \n",
       "3                                                                                                                                                                                                                                                                                                                                                                                                                                                                                                                                                                                                                                                                                                                                                                                                                                                                                                                                                                                                                                                                                                                                                                                        []   \n",
       "4                                                                                                                                                                                                                                                                                                                                                                                                                                                                                                                                                                                                                                                                                                                                                                                                                                                                                                                                                                                                                                                                                                                                                                                        []   \n",
       "5                                                                                                                                                                                                                                                                                                                                                                                                                                                                                                                                                                                                                                                                                                                                                                                                                                                                                                                  [{'type_hierarchie': 'Service Fils', 'service': '5a49d526-738b-411d-a0f3-858eb724b7b9'}, {'type_hierarchie': 'Service Fils', 'service': 'f889a139-b635-4c83-bd77-494409c964ee'}, {'type_hierarchie': 'Service Fils', 'service': '2dce06b4-026d-4772-935c-54f17b64a0f1'}]   \n",
       "6                                                                                                                                                                                                                                                                                                                                                                                                                                                                                                                                                                                                                                                                                                                                                                                                                                                                                                                                                                                                                                                                                                                                                                                        []   \n",
       "7                                                                                                                                                                                                                                                                                                                                                                                                                                                                                                                                                                                                                                                                                                                                                                                                                                                                                                                                                                                                                                                                                                                                                                                        []   \n",
       "8                                                                                          [{'type_hierarchie': 'Service Fils', 'service': 'a6008701-55a9-4eab-8524-9bc88b612c13'}, {'type_hierarchie': 'Service Fils', 'service': 'd6afa78f-afb5-41ff-aae4-c8d83039ccbb'}, {'type_hierarchie': 'Service Fils', 'service': '2bb124e0-1f1f-4afb-8aa3-4002768e24b9'}, {'type_hierarchie': 'Service Fils', 'service': 'c32bd4d0-ea62-4496-9a3d-8a6461d6054c'}, {'type_hierarchie': 'Service Fils', 'service': '01a548d9-122a-473b-933e-cdbea594ae9d'}, {'type_hierarchie': 'Service Fils', 'service': '4e1711e9-60a5-4921-8d55-91a18d34429a'}, {'type_hierarchie': 'Service Fils', 'service': '68445c0a-ff1e-4d33-acdc-79cb05face80'}, {'type_hierarchie': 'Service Fils', 'service': 'c611aa33-737b-488c-a26c-0c73fa2e97c5'}, {'type_hierarchie': 'Service Fils', 'service': '48e0b4ff-8ef5-488c-88d4-aeaaede69539'}, {'type_hierarchie': 'Service Fils', 'service': '4973b88d-9e1d-4cd1-b426-958ccc089563'}, {'type_hierarchie': 'Service Fils', 'service': 'a62bee61-4c7c-43dc-925f-3a506a006c2f'}, {'type_hierarchie': 'Service Fils', 'service': '9b240c4d-14e3-4066-8f14-de09c687d63a'}]   \n",
       "9  [{'type_hierarchie': 'Service Fils', 'service': 'f4dda57f-ecd2-4b8a-b5a5-0bbc8d20ff8e'}, {'type_hierarchie': 'Service Fils', 'service': 'b157c3aa-93c0-44a1-97c0-660e0213545a'}, {'type_hierarchie': 'Service Fils', 'service': '79371e2e-0ec7-4bc9-8db5-a3480420449c'}, {'type_hierarchie': 'Service Fils', 'service': '64b176cd-4620-459d-939f-a2657ce9d3c2'}, {'type_hierarchie': 'Service Fils', 'service': '7b9740da-fc11-4873-968e-b40f4ecdcd34'}, {'type_hierarchie': 'Service Fils', 'service': '8bb2ec9d-a171-4c0c-a818-8f644c6bba04'}, {'type_hierarchie': 'Service Fils', 'service': '27664c6f-3ec5-43f3-9916-88e952a12910'}, {'type_hierarchie': 'Service Fils', 'service': '374ccb9a-9e51-4f93-93e2-c51cef2c12f3'}, {'type_hierarchie': 'Service Fils', 'service': '92e07fbd-10d7-44bf-be61-d99f6521e872'}, {'type_hierarchie': 'Service Fils', 'service': '1b14d3d1-1f38-451a-8e71-a494971b58b2'}, {'type_hierarchie': 'Service Fils', 'service': 'e9eb7dfe-8d51-4ae4-99e4-15b4b49180c7'}, {'type_hierarchie': 'Service Fils', 'service': '6da078fb-6ba8-4a96-9c97-93f3a751ff46'}, {'type_hierarchie': 'Service Fils', 'service': 'fe7188b6-a23a-459a-8174-9894658fbc47'}]   \n",
       "\n",
       "  categorie                                                               sve  \\\n",
       "0        SI                    [https://contacts-demarches.interieur.gouv.fr]   \n",
       "1        SI  [https://www.dila.premier-ministre.gouv.fr/contacts/saisine-sve]   \n",
       "2        SI                                                                []   \n",
       "3        SI                    [https://contacts-demarches.interieur.gouv.fr]   \n",
       "4        SI                                                                []   \n",
       "5        SI                                                                []   \n",
       "6        SI                                                                []   \n",
       "7        SI                                                                []   \n",
       "8        SI                                                                []   \n",
       "9        SI                                                                []   \n",
       "\n",
       "                                                                                                                                    telephone_accessible  \\\n",
       "0                                                                                                                                                     []   \n",
       "1  [{'valeur': 'https://www.acce-o.fr/client/dila', 'description': 'Du lundi au vendredi de 9h à 17h30', 'custom_dico1': ['Transcription automatique']}]   \n",
       "2                                                                                                                                                     []   \n",
       "3                                                                                                                                                     []   \n",
       "4                                                                                                                                                     []   \n",
       "5                                                                                                                                                     []   \n",
       "6                                                                                                                                                     []   \n",
       "7                                                                                                                                                     []   \n",
       "8                                                                                                                                                     []   \n",
       "9                                                                                                                                                     []   \n",
       "\n",
       "  version_type type_repertoire  \\\n",
       "0    Publiable                   \n",
       "1    Publiable                   \n",
       "2    Publiable                   \n",
       "3    Publiable                   \n",
       "4    Publiable                   \n",
       "5    Publiable                   \n",
       "6    Publiable                   \n",
       "7    Publiable                   \n",
       "8    Publiable                   \n",
       "9    Publiable                   \n",
       "\n",
       "                                           telephone  \\\n",
       "0  [{'valeur': '01 49 27 49 27', 'description': ''}]   \n",
       "1  [{'valeur': '01 40 58 75 00', 'description': ''}]   \n",
       "2  [{'valeur': '01 40 81 18 09', 'description': ''}]   \n",
       "3  [{'valeur': '01 49 27 49 27', 'description': ''}]   \n",
       "4             [{'valeur': '119', 'description': ''}]   \n",
       "5  [{'valeur': '01 55 55 61 66', 'description': ''}]   \n",
       "6  [{'valeur': '01 41 93 36 10', 'description': ''}]   \n",
       "7  [{'valeur': '01 44 38 37 34', 'description': ''}]   \n",
       "8  [{'valeur': '01 40 20 80 00', 'description': ''}]   \n",
       "9  [{'valeur': '01 41 93 32 65', 'description': ''}]   \n",
       "\n",
       "  version_etat_modification        date_creation partenaire_date_modification  \\\n",
       "0                            10/08/2009 00:00:00                                \n",
       "1                            06/01/2010 00:00:00                                \n",
       "2                            15/12/2008 00:00:00                                \n",
       "3                            30/06/2008 00:00:00                                \n",
       "4                            27/02/2019 10:08:25                                \n",
       "5                            30/06/2008 00:00:00                                \n",
       "6                            07/09/2018 11:27:29                                \n",
       "7                            30/06/2008 00:00:00                                \n",
       "8                            30/06/2008 00:00:00                                \n",
       "9                            30/06/2008 00:00:00                                \n",
       "\n",
       "                                                                                                                                                                                                                                                                                                                                                                                                                                                                                                                                                                                                                                                                                                                                                                                                                                                                                                                                                                                                                                                                                                                                                                                                                                                           mission  \\\n",
       "0                                                                                                                                                                                                                                                                                                                                                                                                                                                                                                                                                                                                                                                                                                                                                                                                                                                                                                                                                                                                                                                                                                                                                                                                                                                                    \n",
       "1  La direction de l’information légale et administrative (DILA) est une direction d’administration centrale des services du Premier ministre, placée sous l’autorité du Secrétaire général du Gouvernement. Créée par décret le 11 janvier 2010, elle résulte de la fusion des directions de La Documentation française et des Journaux officiels. La DILA exerce les missions de diffusion légale, d’édition publique et d’information administrative. Elle publie le Journal officiel de la République française (JORF), édite et diffuse les textes législatifs et réglementaires français, mettant à la disposition de tous, la norme juridique française. Elle garantit également la transparence économique et financière par la publication au niveau national de l’ensemble des informations légales, économiques et financières relatives à la vie des entreprises et au milieu associatif. Elle gère des services d’information qui permettent aux citoyens de connaître leurs droits et obligations et facilitent leurs démarches, via le site web service-public.fr. Elle édite des conventions collectives, des codes, des publications de référence, imprimées ou numériques, favorisant l’accès des citoyens à la vie publique et au débat public.   \n",
       "2                                                                                                                                                                                                                                                                                                                                                                                                                                                                                                                                                                                                                                                                                                                                                                                                                                                                                                                                                                                                                                                                                                                                                                                                                                                                    \n",
       "3                                                                                                                                                                                                                                                                                                                                                                                                                                                                                                                                                                                                                                                                                                                                                                                                                                                                                                                                                                                                                                                                                                                                                                                                                                                                    \n",
       "4                                                                                                                                                                                                                                                                                                                                                                                                                                                                                                                                                                                                                                             Le Service national d’accueil téléphonique de l’enfance en danger (SNATED) est accessible sans interruption par le numéro national d’urgence 119. Le SNATED assure une mission de prévention et de protection. Il reçoit les appels d’enfants en danger ou en risque de l’être et de toute personne confrontée à ce type de situations, pour aider à leur dépistage et faciliter la protection de mineurs en danger. Il transmet les informations préoccupantes concernant ces enfants aux services départementaux compétents en la matière, à savoir les cellules de recueil des informations préoccupantes (CRIP).   \n",
       "5                                                                                                                                                                                                                                                                                                                                                                                                                                                                                                                                                                                                                                                                                                                                                                                                                                                                                                                                                                                                                                                                                                                                                                                                                                                                    \n",
       "6                                                                                                                                                                                                                                                                                                                                                                                                                                                                                                                                                                                                                                                                                                                                                                                                                                                                                                                                                                                                                                                                                                                                                                                                                                                                    \n",
       "7                                                                                                                                                                                                                                                                                                                                                                                                                                                                                                                                                                                                                                                                                                                                                                                                                                                                                                                                                                                                                                                                                                                                                                                                                                                                    \n",
       "8                                                                                                                                                                                                                                                                                                                                                                                                                                                                                                                                                                                                                                                          Créé en 1799, le Conseil d'État est le conseiller du Gouvernement. Il examine les projets de loi et d'ordonnance, avant que ceux-ci ne soient soumis au Conseil des ministres, ainsi que les projets de décret en Conseil d'État. Il émet un avis sur la régularité juridique des textes, sur leur forme et sur leur opportunité administrative. Il peut par ailleurs être consulté par le gouvernement sur toute question ou difficulté d'ordre juridique ou administratif. Le Conseil d'État est également conseiller du parlement sur les propositions de loi que ce dernier souhaite lui soumettre.   \n",
       "9                                                                                                                                                                                                                                                                                                                                                                                                                                                                                                                                                                                                                                                                                                                                                                                                                                                                                                                                                                                                                                                                                                                                                                                                                                                                    \n",
       "\n",
       "                                                                  formulaire_contact  \\\n",
       "0  [http://www.police-nationale.interieur.gouv.fr/Menu-accessibilite/Nous-contacter]   \n",
       "1                [https://www.dila.premier-ministre.gouv.fr/contacts/nous-contacter]   \n",
       "2                                     [http://contact.ecologique-solidaire.gouv.fr/]   \n",
       "3  [http://www.police-nationale.interieur.gouv.fr/Menu-accessibilite/Nous-contacter]   \n",
       "4                                        [https://www.allo119.gouv.fr/vos-questions]   \n",
       "5                          [http://www.education.gouv.fr/cid2559/page-contacts.html]   \n",
       "6                                                                                 []   \n",
       "7                                                                                 []   \n",
       "8                                                                                 []   \n",
       "9                                                                                 []   \n",
       "\n",
       "  version_source                          type_organisme code_insee_commune  \\\n",
       "0                 Administration centrale (ou Ministère)                      \n",
       "1                 Administration centrale (ou Ministère)                      \n",
       "2                 Administration centrale (ou Ministère)                      \n",
       "3                 Administration centrale (ou Ministère)                      \n",
       "4                            Groupement d'intérêt public                      \n",
       "5                 Administration centrale (ou Ministère)                      \n",
       "6                 Administration centrale (ou Ministère)                      \n",
       "7                 Administration centrale (ou Ministère)                      \n",
       "8                                            Institution                      \n",
       "9                 Administration centrale (ou Ministère)                      \n",
       "\n",
       "  statut_de_diffusion  \\\n",
       "0                true   \n",
       "1                true   \n",
       "2                true   \n",
       "3                true   \n",
       "4                true   \n",
       "5                true   \n",
       "6                true   \n",
       "7                true   \n",
       "8                true   \n",
       "9                true   \n",
       "\n",
       "                                                                                                                                                                                                                                                                                                                                                                                                                                                                                                                                                                                                                                                         adresse  \\\n",
       "0                                                                                                                                                                                                                                                                                                                                                            [{'type_adresse': 'Adresse', 'complement1': '', 'complement2': '', 'numero_voie': '11 rue des Saussaies', 'service_distribution': '', 'code_postal': '75008', 'nom_commune': 'Paris', 'pays': '', 'continent': '', 'longitude': '', 'latitude': '', 'accessibilite': '', 'note_accessibilite': ''}]   \n",
       "1                      [{'type_adresse': 'Adresse', 'complement1': '', 'complement2': '', 'numero_voie': '26 rue Desaix', 'service_distribution': '', 'code_postal': '75015', 'nom_commune': 'Paris', 'pays': 'France', 'continent': 'Europe', 'longitude': '2.292977', 'latitude': '48.852932', 'accessibilite': 'ACC', 'note_accessibilite': ''}, {'type_adresse': 'Adresse postale', 'complement1': '', 'complement2': '', 'numero_voie': '26 rue Desaix', 'service_distribution': '', 'code_postal': '75727', 'nom_commune': 'Paris Cedex 15', 'pays': '', 'continent': '', 'longitude': '', 'latitude': '', 'accessibilite': '', 'note_accessibilite': ''}]   \n",
       "2  [{'type_adresse': 'Adresse', 'complement1': 'Grand Arche paroi Sud', 'complement2': '', 'numero_voie': 'Parvis de La Défense', 'service_distribution': '', 'code_postal': '92800', 'nom_commune': 'Puteaux', 'pays': 'France', 'continent': 'Europe', 'longitude': '2.23611', 'latitude': '48.89258', 'accessibilite': '', 'note_accessibilite': ''}, {'type_adresse': 'Adresse postale', 'complement1': '', 'complement2': '', 'numero_voie': '', 'service_distribution': '', 'code_postal': '92055', 'nom_commune': 'Paris-La-Défense Cedex', 'pays': '', 'continent': '', 'longitude': '', 'latitude': '', 'accessibilite': '', 'note_accessibilite': ''}]   \n",
       "3                                            [{'type_adresse': 'Adresse', 'complement1': '', 'complement2': '', 'numero_voie': '14-16 rue de Miromesnil', 'service_distribution': '', 'code_postal': '75008', 'nom_commune': 'Paris', 'pays': '', 'continent': '', 'longitude': '', 'latitude': '', 'accessibilite': '', 'note_accessibilite': ''}, {'type_adresse': 'Adresse postale', 'complement1': '', 'complement2': '', 'numero_voie': 'Place Beauvau', 'service_distribution': '', 'code_postal': '75800', 'nom_commune': 'Paris Cedex 08', 'pays': '', 'continent': '', 'longitude': '', 'latitude': '', 'accessibilite': '', 'note_accessibilite': ''}]   \n",
       "4                                                                                                                                                                                                                                                                                                                      [{'type_adresse': 'Adresse', 'complement1': '', 'complement2': '', 'numero_voie': '63bis boulevard Bessières', 'service_distribution': 'BP 30302', 'code_postal': '75823', 'nom_commune': 'Paris Cedex 17', 'pays': '', 'continent': '', 'longitude': '2.32215', 'latitude': '48.897253', 'accessibilite': '', 'note_accessibilite': ''}]   \n",
       "5                                             [{'type_adresse': 'Adresse', 'complement1': '', 'complement2': '', 'numero_voie': '110 rue de Grenelle', 'service_distribution': '', 'code_postal': '75007', 'nom_commune': 'Paris', 'pays': '', 'continent': '', 'longitude': '', 'latitude': '', 'accessibilite': '', 'note_accessibilite': ''}, {'type_adresse': 'Adresse postale', 'complement1': '', 'complement2': '', 'numero_voie': '110 rue de Grenelle', 'service_distribution': '', 'code_postal': '75357', 'nom_commune': 'Paris SP 07', 'pays': '', 'continent': '', 'longitude': '', 'latitude': '', 'accessibilite': '', 'note_accessibilite': ''}]   \n",
       "6                                                                                                                                                                                                                                                                                                               [{'type_adresse': 'Adresse', 'complement1': 'Fort neuf de Vincennes', 'complement2': '', 'numero_voie': 'Cours des Maréchaux', 'service_distribution': '', 'code_postal': '75614', 'nom_commune': 'Paris Cedex 12', 'pays': '', 'continent': '', 'longitude': '2.439246', 'latitude': '48.8425', 'accessibilite': '', 'note_accessibilite': ''}]   \n",
       "7                                               [{'type_adresse': 'Adresse', 'complement1': '', 'complement2': '', 'numero_voie': '14 avenue Duquesne', 'service_distribution': '', 'code_postal': '75007', 'nom_commune': 'Paris', 'pays': '', 'continent': '', 'longitude': '', 'latitude': '', 'accessibilite': '', 'note_accessibilite': ''}, {'type_adresse': 'Adresse postale', 'complement1': '', 'complement2': '', 'numero_voie': '14 avenue Duquesne', 'service_distribution': '', 'code_postal': '75350', 'nom_commune': 'Paris SP 07', 'pays': '', 'continent': '', 'longitude': '', 'latitude': '', 'accessibilite': '', 'note_accessibilite': ''}]   \n",
       "8                                                                                                                                                                                                                                                                                                                               [{'type_adresse': 'Adresse', 'complement1': '', 'complement2': '', 'numero_voie': '1 place du Palais-Royal', 'service_distribution': '', 'code_postal': '75100', 'nom_commune': 'Paris Cedex 01', 'pays': '', 'continent': '', 'longitude': '2.336682', 'latitude': '48.863316', 'accessibilite': '', 'note_accessibilite': ''}]   \n",
       "9                                                                                                                                                                                                                                                                                                             [{'type_adresse': 'Adresse', 'complement1': '', 'complement2': '', 'numero_voie': '60 boulevard du gal Martial Valin', 'service_distribution': 'CS 21623', 'code_postal': '75509', 'nom_commune': 'Paris Cedex 15', 'pays': '', 'continent': '', 'longitude': '2.275424', 'latitude': '48.835942', 'accessibilite': '', 'note_accessibilite': ''}]   \n",
       "\n",
       "                                                information_complementaire  \\\n",
       "0                                                                            \n",
       "1                                                                            \n",
       "2                                                                            \n",
       "3                                                                            \n",
       "4                                                                            \n",
       "5                                                                            \n",
       "6                                                                            \n",
       "7                                                                            \n",
       "8  Bureau du greffe et de l'accueil du public, téléphone : 01 40 20 81 00.   \n",
       "9                                                                            \n",
       "\n",
       "  date_diffusion  \n",
       "0                 \n",
       "1                 \n",
       "2                 \n",
       "3                 \n",
       "4                 \n",
       "5                 \n",
       "6                 \n",
       "7                 \n",
       "8                 \n",
       "9                 "
      ]
     },
     "execution_count": 136,
     "metadata": {},
     "output_type": "execute_result"
    }
   ],
   "source": [
    "orga_df.head(10)"
   ]
  },
  {
   "cell_type": "code",
   "execution_count": 47,
   "metadata": {},
   "outputs": [],
   "source": [
    "services_clean = ( orga_df\n",
    "    .pipe(remove_accent_from_df,['copyright','nom','type_organisme','sigle'])\n",
    "    .pipe(remove_punctuation_from_df,['copyright','nom','type_organisme','sigle'])\n",
    "    .pipe(tolower_df,['copyright','nom','type_organisme','sigle'])\n",
    ")"
   ]
  },
  {
   "cell_type": "code",
   "execution_count": 48,
   "metadata": {},
   "outputs": [],
   "source": [
    "services_clean = services_clean[['copyright','nom','type_organisme','sigle']]"
   ]
  },
  {
   "cell_type": "code",
   "execution_count": 49,
   "metadata": {},
   "outputs": [
    {
     "data": {
      "text/html": [
       "<div>\n",
       "<style scoped>\n",
       "    .dataframe tbody tr th:only-of-type {\n",
       "        vertical-align: middle;\n",
       "    }\n",
       "\n",
       "    .dataframe tbody tr th {\n",
       "        vertical-align: top;\n",
       "    }\n",
       "\n",
       "    .dataframe thead th {\n",
       "        text-align: right;\n",
       "    }\n",
       "</style>\n",
       "<table border=\"1\" class=\"dataframe\">\n",
       "  <thead>\n",
       "    <tr style=\"text-align: right;\">\n",
       "      <th></th>\n",
       "      <th>copyright</th>\n",
       "      <th>nom</th>\n",
       "      <th>type_organisme</th>\n",
       "      <th>sigle</th>\n",
       "    </tr>\n",
       "  </thead>\n",
       "  <tbody>\n",
       "    <tr>\n",
       "      <th>0</th>\n",
       "      <td>direction de l information legale et administrative premiere ministre</td>\n",
       "      <td>bureau de coordination strategique</td>\n",
       "      <td>administration centrale ou ministere</td>\n",
       "      <td></td>\n",
       "    </tr>\n",
       "    <tr>\n",
       "      <th>1</th>\n",
       "      <td>direction de l information legale et administrative premiere ministre</td>\n",
       "      <td>direction de l information legale et administrative</td>\n",
       "      <td>administration centrale ou ministere</td>\n",
       "      <td>dila</td>\n",
       "    </tr>\n",
       "    <tr>\n",
       "      <th>2</th>\n",
       "      <td>direction de l information legale et administrative premiere ministre</td>\n",
       "      <td>bureau de la simplification et de la qualite de service</td>\n",
       "      <td>administration centrale ou ministere</td>\n",
       "      <td></td>\n",
       "    </tr>\n",
       "    <tr>\n",
       "      <th>3</th>\n",
       "      <td>direction de l information legale et administrative premiere ministre</td>\n",
       "      <td>service de la protection sdlp</td>\n",
       "      <td>administration centrale ou ministere</td>\n",
       "      <td></td>\n",
       "    </tr>\n",
       "    <tr>\n",
       "      <th>4</th>\n",
       "      <td>direction de l information legale et administrative premiere ministre</td>\n",
       "      <td>service national d accueil telephonique de l enfance en danger snated</td>\n",
       "      <td>groupement d interet public</td>\n",
       "      <td></td>\n",
       "    </tr>\n",
       "  </tbody>\n",
       "</table>\n",
       "</div>"
      ],
      "text/plain": [
       "                                                               copyright  \\\n",
       "0  direction de l information legale et administrative premiere ministre   \n",
       "1  direction de l information legale et administrative premiere ministre   \n",
       "2  direction de l information legale et administrative premiere ministre   \n",
       "3  direction de l information legale et administrative premiere ministre   \n",
       "4  direction de l information legale et administrative premiere ministre   \n",
       "\n",
       "                                                                     nom  \\\n",
       "0                                     bureau de coordination strategique   \n",
       "1                    direction de l information legale et administrative   \n",
       "2                bureau de la simplification et de la qualite de service   \n",
       "3                                          service de la protection sdlp   \n",
       "4  service national d accueil telephonique de l enfance en danger snated   \n",
       "\n",
       "                         type_organisme sigle  \n",
       "0  administration centrale ou ministere        \n",
       "1  administration centrale ou ministere  dila  \n",
       "2  administration centrale ou ministere        \n",
       "3  administration centrale ou ministere        \n",
       "4           groupement d interet public        "
      ]
     },
     "execution_count": 49,
     "metadata": {},
     "output_type": "execute_result"
    }
   ],
   "source": [
    "services_clean.head(5)"
   ]
  },
  {
   "cell_type": "markdown",
   "metadata": {},
   "source": [
    "### Traitement offres"
   ]
  },
  {
   "cell_type": "code",
   "execution_count": 14,
   "metadata": {},
   "outputs": [],
   "source": [
    "offres_df = pd.concat([offres_2023_df,offres_2022_df])"
   ]
  },
  {
   "cell_type": "code",
   "execution_count": 15,
   "metadata": {},
   "outputs": [],
   "source": [
    "offres_df.columns = offres_df.columns.map(remove_accent).map(remove_punctuation).map(tolower).map(lambda s: s.replace(' ', '_'))"
   ]
  },
  {
   "cell_type": "markdown",
   "metadata": {},
   "source": [
    " offres_df[offres_df['metier'].str.contains('scientist|engineer',na=False)].head(2)"
   ]
  },
  {
   "cell_type": "code",
   "execution_count": 17,
   "metadata": {},
   "outputs": [],
   "source": [
    "offres_df_clean = ( offres_df\n",
    "    .pipe(remove_accent_from_df,['organisme_de_rattachement','metier','intitule_du_poste','localisation_du_poste'])\n",
    "    .pipe(remove_punctuation_from_df,['organisme_de_rattachement','metier','intitule_du_poste','localisation_du_poste'])\n",
    "    .pipe(tolower_df,['organisme_de_rattachement','metier','intitule_du_poste','localisation_du_poste'])\n",
    ")"
   ]
  },
  {
   "cell_type": "code",
   "execution_count": 90,
   "metadata": {},
   "outputs": [],
   "source": [
    "offres_df_clean = offres_df_clean[['organisme_de_rattachement','metier','intitule_du_poste','localisation_du_poste']]"
   ]
  },
  {
   "cell_type": "code",
   "execution_count": 105,
   "metadata": {},
   "outputs": [
    {
     "data": {
      "text/html": [
       "<div>\n",
       "<style scoped>\n",
       "    .dataframe tbody tr th:only-of-type {\n",
       "        vertical-align: middle;\n",
       "    }\n",
       "\n",
       "    .dataframe tbody tr th {\n",
       "        vertical-align: top;\n",
       "    }\n",
       "\n",
       "    .dataframe thead th {\n",
       "        text-align: right;\n",
       "    }\n",
       "</style>\n",
       "<table border=\"1\" class=\"dataframe\">\n",
       "  <thead>\n",
       "    <tr style=\"text-align: right;\">\n",
       "      <th></th>\n",
       "      <th>organisme_de_rattachement</th>\n",
       "      <th>metier</th>\n",
       "      <th>intitule_du_poste</th>\n",
       "      <th>localisation_du_poste</th>\n",
       "    </tr>\n",
       "  </thead>\n",
       "  <tbody>\n",
       "    <tr>\n",
       "      <th>136654</th>\n",
       "      <td>caisse des depots et consignations</td>\n",
       "      <td>architecte technique</td>\n",
       "      <td>expert conception et architecture de donnees d entreprise data designer h f</td>\n",
       "      <td>gironde</td>\n",
       "    </tr>\n",
       "    <tr>\n",
       "      <th>136668</th>\n",
       "      <td>caisse des depots et consignations</td>\n",
       "      <td>architecte technique</td>\n",
       "      <td>expert conception et architecture de donnees d entreprise data designer h f</td>\n",
       "      <td>maine et loire</td>\n",
       "    </tr>\n",
       "    <tr>\n",
       "      <th>136672</th>\n",
       "      <td>caisse des depots et consignations</td>\n",
       "      <td>architecte technique</td>\n",
       "      <td>expert conception et architecture de donnees d entreprise data designer h f</td>\n",
       "      <td>paris</td>\n",
       "    </tr>\n",
       "  </tbody>\n",
       "</table>\n",
       "</div>"
      ],
      "text/plain": [
       "                 organisme_de_rattachement                metier  \\\n",
       "136654  caisse des depots et consignations  architecte technique   \n",
       "136668  caisse des depots et consignations  architecte technique   \n",
       "136672  caisse des depots et consignations  architecte technique   \n",
       "\n",
       "                                                                  intitule_du_poste  \\\n",
       "136654  expert conception et architecture de donnees d entreprise data designer h f   \n",
       "136668  expert conception et architecture de donnees d entreprise data designer h f   \n",
       "136672  expert conception et architecture de donnees d entreprise data designer h f   \n",
       "\n",
       "       localisation_du_poste  \n",
       "136654               gironde  \n",
       "136668        maine et loire  \n",
       "136672                 paris  "
      ]
     },
     "execution_count": 105,
     "metadata": {},
     "output_type": "execute_result"
    }
   ],
   "source": [
    "offres_df_clean[offres_df_clean['metier'].str.contains(\"ux designer\",na=False)|offres_df_clean['intitule_du_poste'].str.contains(\"data designer\",na=False)].head(5)"
   ]
  },
  {
   "cell_type": "markdown",
   "metadata": {},
   "source": [
    "### Traitement Fiche de poste DNUM"
   ]
  },
  {
   "cell_type": "code",
   "execution_count": 84,
   "metadata": {},
   "outputs": [],
   "source": [
    "# Traitement des colonnes\n",
    "fdp_dinum_df.columns = fdp_dinum_df.columns.map(remove_accent).map(remove_punctuation).map(tolower).map(lambda s: s.replace(' ', '_'))"
   ]
  },
  {
   "cell_type": "code",
   "execution_count": 86,
   "metadata": {},
   "outputs": [],
   "source": [
    "fdp_clean = ( fdp_dinum_df\n",
    "    .pipe(remove_accent_from_df,['poste','intitule_du_service_demandeur_bureau_section','corps_grade','presentation','missions','competences'])\n",
    "    .pipe(remove_punctuation_from_df,['poste','intitule_du_service_demandeur_bureau_section','corps_grade','presentation','missions','competences'])\n",
    "    .pipe(tolower_df,['poste','intitule_du_service_demandeur_bureau_section','corps_grade','presentation','missions','competences'])\n",
    ")"
   ]
  },
  {
   "cell_type": "code",
   "execution_count": 88,
   "metadata": {},
   "outputs": [
    {
     "data": {
      "text/html": [
       "<div>\n",
       "<style scoped>\n",
       "    .dataframe tbody tr th:only-of-type {\n",
       "        vertical-align: middle;\n",
       "    }\n",
       "\n",
       "    .dataframe tbody tr th {\n",
       "        vertical-align: top;\n",
       "    }\n",
       "\n",
       "    .dataframe thead th {\n",
       "        text-align: right;\n",
       "    }\n",
       "</style>\n",
       "<table border=\"1\" class=\"dataframe\">\n",
       "  <thead>\n",
       "    <tr style=\"text-align: right;\">\n",
       "      <th></th>\n",
       "      <th>poste</th>\n",
       "      <th>intitule_du_service_demandeur_bureau_section</th>\n",
       "      <th>corps_grade</th>\n",
       "      <th>presentation</th>\n",
       "      <th>missions</th>\n",
       "      <th>competences</th>\n",
       "    </tr>\n",
       "  </thead>\n",
       "  <tbody>\n",
       "    <tr>\n",
       "      <th>0</th>\n",
       "      <td>gestionnaire financier</td>\n",
       "      <td>direction interministerielle du numerique secretariat general pole budget achats</td>\n",
       "      <td>secretaire administratif ve b</td>\n",
       "      <td>service de la premiere ministre place sous l autorite de la ministre de la transformation et de la fonction publiques la direction interministerielle du numerique dinum est en charge de la transformation numerique de l etat elle accompagne les ministeres conseille le gouvernement et developpe des services et ressources numeriques partagees pour les citoyens et les agents publics rejoindre la dinum c est prendre part a un collectif de pres de 200 agents reunis autour d une meme ambition creer grace au numerique le service public de demain le secretariat general de la dinum est responsable des fonctions transverses de la dinum ressources humaines communication finances logistique juridique garantissant le bon fonctionnement des services de la dinum et la qualite des conditions de travail des agents le pole budget et achats est plus particulierement en charge d assurer l execution financiere des actes de gestion de mettre en oeuvre l achat public et de contribuer a la performance et a la qualite de l execution des operations budgetaires et financieres l ensemble de ces actions porte aujourd hui sur trois programmes budgetaires et bop distincts 129 352 et 349</td>\n",
       "      <td>missions vous assurez l instruction et l execution financiere des actes de gestion de la dinum activites principales instruire saisir et suivre les actes de gestion demandes d achat services faits etc des differents programmes geres par la dinum au sein du logiciel chorus formulaires produire des restitutions et ou alertes financieres zdep56 zbud01 etc assurer l interface entre les differents acteurs de la chaine financiere services comptables et budgetaires des spm et fournisseurs afin d en garantir la fluidite contribuer a la gestion et au suivi des investissements fiec fies operations d inventaire notamment de la dinum suivre en continu le paiement et la cloture des engagements traitement des restes a payer en fonction de l evolution des priorites fixees a la dinum reorganisation en cours il elle peut etre amene e a prendre en charge d autres taches et projets</td>\n",
       "      <td>savoirs maitrise des regles et processus financiers lolf gbcp commande publique une premiere experience en gestion financiere dans la fonction publique est requise savoir faire solides connaissances de chorus coeur et formulaires connaissance et pratique souhaitees en matiere d investissement fiec fies gestion d inventaire gerer et exploiter les bases de donnees savoir etre autonomie rigueur et sens des responsabilites appetence pour le domaine du numerique solides capacites d organisation et de travail en equipe</td>\n",
       "    </tr>\n",
       "    <tr>\n",
       "      <th>1</th>\n",
       "      <td>adjoint e du de la chef fe de departement et responsable de l incubation de l operateur de produits interministeriels</td>\n",
       "      <td>direction interministerielle du numerique dinum departement de l operateur de produits interministeriels</td>\n",
       "      <td></td>\n",
       "      <td>la direction interministerielle du numerique dinum est un service de la premiere ministre place sous l autorite du ministre de la transformation et de la fonction publiques elle oriente anime soutient et coordonne les actions des administrations de l etat et celles des organismes places sous sa tutelle visant a ameliorer la qualite l efficacite l efficience et la fiabilite des services rendus par le systeme d information et de communication de l etat elle contribue a l ouverture des donnees publiques aux strategies d innovation ouverte et au travail avec les ecosystemes d innovation elle pilote la politique de mutualisation du systeme d information et de communication de l etat et peut intervenir dans la gouvernance des operations de mutualisation ainsi que dans la conception l elaboration et la mise en oeuvre de ces operations enfin elle soutient le developpement des competences dans le domaine du numerique en facilitant l emergence d une filiere professionnelle interministerielle du numerique rejoindre la dinum c est prendre part a un collectif de plus de 200 agents reunis autour d une meme ambition le numerique au service de l efficacite de l action publique le departement operateur de produits interministeriels est un collectif de 45 personnes qui construit met a disposition et opere des services numeriques d usage partage notamment un service de federation d identite electronique et des outils a a destination des agents publics impliquant en tant que de besoin les services de l etat les collectivites territoriales et la societe civile et visant a la transformation numerique des politiques et de l action publiques il peut egalement intervenir dans la gouvernance des operations de mutualisation ainsi que dans la conception l elaboration et la mise en oeuvre de ces operations</td>\n",
       "      <td>en tant qu adjoint de departement operateur de produits interministeriels et responsable du programme d incubation du departement vous animerez un collectif de 20 agents repartis en equipe produits qui experimentent et operent des services publics numeriques interministeriels mis a disposition du public des agents publics ainsi que des equipes de developpement numeriques vous construirez egalement puis diffuserez en interministeriel une approche operationnelle de la perennisation d equipes produits dans la sphere publique au sein de la dinum vous serez garant de cette organisation caracterisee par une gouvernance horizontale et par une recherche permanente de la maximisation de la valeur fournie au beneficiaire vous animerez un processus collectif d apprentissage de deliberation et de prise de decisions tout en garantissant la place aux initiatives individuelles des membres de l operateur vous preparerez avec vos equipes les comites d investissement avec la direction de la dinum pour chaque produit incube vous attacherez une importance particuliere a la trajectoire de conformite des produits operes par la dinum en matiere de securite d accessibilite de rgpd ainsi qu au service rendu aux beneficiaires disponibilite support vous engagerez des plans d amelioration continue pour chaque produit incube vous travaillerez en binome avec le la chef fe du departement activites conseiller les equipes sur les problematiques metier et techniques qu elles rencontrent mettre en place un suivi de l impact a l echelle de l operateur mettre en place l ensemble des process au niveau de l operateur s assurer que l investissement des equipes dans la qualite et la conformite est en adequation avec l impact obtenu representer l operateur aupres de differents acteurs au sein de l administration faciliter l emergence de nouvelles incubations aupres des administrations porteuses appel a innovateur veille creer une communaute de coach pour former et accompagner les intrapreuneurs du departement dans la gestion de leur produit budget rh financement comites d investissements ces activites demandent aussi d assurer la communication sur la mise en place du departement operateur documentation des actions mises en place et process instaures redaction de doctrines autour des reussites replicables organisation d evenements recurrents avec d autres operateurs de produit perenne a impact pour partager de bonnes pratiques</td>\n",
       "      <td>savoirs tres bonne culture numerique et notamment des enjeux et des defis de la transformation numerique publique expertise sur la construction de produits numeriques a impact methode agile bonne connaissance des enjeux de qualite et de conformite securite rgpd accessibilite savoirs faire competences manageriales d encadrement d equipe pluridisciplinaire en privilegiant l horizontalite capacite a reorienter des equipes pour se recentrer sur l impact capacite a interagir avec l ensemble de l ecosysteme de la dinum administration cabinets ministeriels collectivites territoriales acteurs du numerique capacites a mobiliser des disciplines diverses au service de projets complexes savoirs etre etre au service des beneficiaires des produits proposes etre systematiquement oriente e vers la creation de valeur et la qualite de service partager ses connaissances favoriser le mentorat sens de l innovation et de la creativite pour developper des solutions</td>\n",
       "    </tr>\n",
       "  </tbody>\n",
       "</table>\n",
       "</div>"
      ],
      "text/plain": [
       "                                                                                                                   poste  \\\n",
       "0                                                                                                 gestionnaire financier   \n",
       "1  adjoint e du de la chef fe de departement et responsable de l incubation de l operateur de produits interministeriels   \n",
       "\n",
       "                                                               intitule_du_service_demandeur_bureau_section  \\\n",
       "0                          direction interministerielle du numerique secretariat general pole budget achats   \n",
       "1  direction interministerielle du numerique dinum departement de l operateur de produits interministeriels   \n",
       "\n",
       "                     corps_grade  \\\n",
       "0  secretaire administratif ve b   \n",
       "1                                  \n",
       "\n",
       "                                                                                                                                                                                                                                                                                                                                                                                                                                                                                                                                                                                                                                                                                                                                                                                                                                                                                                                                                                                                                                                                                                                                                                                                                                                                                                                                                                                                                                                                                                                                                                                                                                                                                                                                                                                                                                                                       presentation  \\\n",
       "0                                                                                                                                                                                                                                                                                                                                                                                                                                                                                                                                                                                                                                                             service de la premiere ministre place sous l autorite de la ministre de la transformation et de la fonction publiques la direction interministerielle du numerique dinum est en charge de la transformation numerique de l etat elle accompagne les ministeres conseille le gouvernement et developpe des services et ressources numeriques partagees pour les citoyens et les agents publics rejoindre la dinum c est prendre part a un collectif de pres de 200 agents reunis autour d une meme ambition creer grace au numerique le service public de demain le secretariat general de la dinum est responsable des fonctions transverses de la dinum ressources humaines communication finances logistique juridique garantissant le bon fonctionnement des services de la dinum et la qualite des conditions de travail des agents le pole budget et achats est plus particulierement en charge d assurer l execution financiere des actes de gestion de mettre en oeuvre l achat public et de contribuer a la performance et a la qualite de l execution des operations budgetaires et financieres l ensemble de ces actions porte aujourd hui sur trois programmes budgetaires et bop distincts 129 352 et 349   \n",
       "1  la direction interministerielle du numerique dinum est un service de la premiere ministre place sous l autorite du ministre de la transformation et de la fonction publiques elle oriente anime soutient et coordonne les actions des administrations de l etat et celles des organismes places sous sa tutelle visant a ameliorer la qualite l efficacite l efficience et la fiabilite des services rendus par le systeme d information et de communication de l etat elle contribue a l ouverture des donnees publiques aux strategies d innovation ouverte et au travail avec les ecosystemes d innovation elle pilote la politique de mutualisation du systeme d information et de communication de l etat et peut intervenir dans la gouvernance des operations de mutualisation ainsi que dans la conception l elaboration et la mise en oeuvre de ces operations enfin elle soutient le developpement des competences dans le domaine du numerique en facilitant l emergence d une filiere professionnelle interministerielle du numerique rejoindre la dinum c est prendre part a un collectif de plus de 200 agents reunis autour d une meme ambition le numerique au service de l efficacite de l action publique le departement operateur de produits interministeriels est un collectif de 45 personnes qui construit met a disposition et opere des services numeriques d usage partage notamment un service de federation d identite electronique et des outils a a destination des agents publics impliquant en tant que de besoin les services de l etat les collectivites territoriales et la societe civile et visant a la transformation numerique des politiques et de l action publiques il peut egalement intervenir dans la gouvernance des operations de mutualisation ainsi que dans la conception l elaboration et la mise en oeuvre de ces operations   \n",
       "\n",
       "                                                                                                                                                                                                                                                                                                                                                                                                                                                                                                                                                                                                                                                                                                                                                                                                                                                                                                                                                                                                                                                                                                                                                                                                                                                                                                                                                                                                                                                                                                                                                                                                                                                                                                                                                                                                                                                                                                                                                                                                                                                                                                                                                                                                                                                                                                                                                                                                                                                                                                                      missions  \\\n",
       "0                                                                                                                                                                                                                                                                                                                                                                                                                                                                                                                                                                                                                                                                                                                                                                                                                                                                                                                                                                                                                                                                                                                                                                                                                                                                                                                                                                                                                                                                                                                                                                                                                  missions vous assurez l instruction et l execution financiere des actes de gestion de la dinum activites principales instruire saisir et suivre les actes de gestion demandes d achat services faits etc des differents programmes geres par la dinum au sein du logiciel chorus formulaires produire des restitutions et ou alertes financieres zdep56 zbud01 etc assurer l interface entre les differents acteurs de la chaine financiere services comptables et budgetaires des spm et fournisseurs afin d en garantir la fluidite contribuer a la gestion et au suivi des investissements fiec fies operations d inventaire notamment de la dinum suivre en continu le paiement et la cloture des engagements traitement des restes a payer en fonction de l evolution des priorites fixees a la dinum reorganisation en cours il elle peut etre amene e a prendre en charge d autres taches et projets   \n",
       "1  en tant qu adjoint de departement operateur de produits interministeriels et responsable du programme d incubation du departement vous animerez un collectif de 20 agents repartis en equipe produits qui experimentent et operent des services publics numeriques interministeriels mis a disposition du public des agents publics ainsi que des equipes de developpement numeriques vous construirez egalement puis diffuserez en interministeriel une approche operationnelle de la perennisation d equipes produits dans la sphere publique au sein de la dinum vous serez garant de cette organisation caracterisee par une gouvernance horizontale et par une recherche permanente de la maximisation de la valeur fournie au beneficiaire vous animerez un processus collectif d apprentissage de deliberation et de prise de decisions tout en garantissant la place aux initiatives individuelles des membres de l operateur vous preparerez avec vos equipes les comites d investissement avec la direction de la dinum pour chaque produit incube vous attacherez une importance particuliere a la trajectoire de conformite des produits operes par la dinum en matiere de securite d accessibilite de rgpd ainsi qu au service rendu aux beneficiaires disponibilite support vous engagerez des plans d amelioration continue pour chaque produit incube vous travaillerez en binome avec le la chef fe du departement activites conseiller les equipes sur les problematiques metier et techniques qu elles rencontrent mettre en place un suivi de l impact a l echelle de l operateur mettre en place l ensemble des process au niveau de l operateur s assurer que l investissement des equipes dans la qualite et la conformite est en adequation avec l impact obtenu representer l operateur aupres de differents acteurs au sein de l administration faciliter l emergence de nouvelles incubations aupres des administrations porteuses appel a innovateur veille creer une communaute de coach pour former et accompagner les intrapreuneurs du departement dans la gestion de leur produit budget rh financement comites d investissements ces activites demandent aussi d assurer la communication sur la mise en place du departement operateur documentation des actions mises en place et process instaures redaction de doctrines autour des reussites replicables organisation d evenements recurrents avec d autres operateurs de produit perenne a impact pour partager de bonnes pratiques   \n",
       "\n",
       "                                                                                                                                                                                                                                                                                                                                                                                                                                                                                                                                                                                                                                                                                                                                                                                                                                                                                                                                                                                    competences  \n",
       "0                                                                                                                                                                                                                                                                                                                                                                                                                                                        savoirs maitrise des regles et processus financiers lolf gbcp commande publique une premiere experience en gestion financiere dans la fonction publique est requise savoir faire solides connaissances de chorus coeur et formulaires connaissance et pratique souhaitees en matiere d investissement fiec fies gestion d inventaire gerer et exploiter les bases de donnees savoir etre autonomie rigueur et sens des responsabilites appetence pour le domaine du numerique solides capacites d organisation et de travail en equipe  \n",
       "1  savoirs tres bonne culture numerique et notamment des enjeux et des defis de la transformation numerique publique expertise sur la construction de produits numeriques a impact methode agile bonne connaissance des enjeux de qualite et de conformite securite rgpd accessibilite savoirs faire competences manageriales d encadrement d equipe pluridisciplinaire en privilegiant l horizontalite capacite a reorienter des equipes pour se recentrer sur l impact capacite a interagir avec l ensemble de l ecosysteme de la dinum administration cabinets ministeriels collectivites territoriales acteurs du numerique capacites a mobiliser des disciplines diverses au service de projets complexes savoirs etre etre au service des beneficiaires des produits proposes etre systematiquement oriente e vers la creation de valeur et la qualite de service partager ses connaissances favoriser le mentorat sens de l innovation et de la creativite pour developper des solutions  "
      ]
     },
     "execution_count": 88,
     "metadata": {},
     "output_type": "execute_result"
    }
   ],
   "source": [
    "fdp_clean = fdp_clean[['poste','intitule_du_service_demandeur_bureau_section','corps_grade','presentation','missions','competences']]\n",
    "fdp_clean.head(2)\n"
   ]
  },
  {
   "cell_type": "markdown",
   "metadata": {},
   "source": [
    "# Insertion des données dans Elastic Search"
   ]
  },
  {
   "cell_type": "code",
   "execution_count": 59,
   "metadata": {},
   "outputs": [],
   "source": [
    "# Paramétrage du client\n",
    "es_client = connections.create_connection(hosts=['http://elasticsearch-master:9200/'])"
   ]
  },
  {
   "cell_type": "code",
   "execution_count": 63,
   "metadata": {},
   "outputs": [],
   "source": [
    "# Fontion qui transforme un dataframe en document/index à stocker dans ElasticSearch\n",
    "def doc_generator(df,index_name):\n",
    "    df_iter = df.iterrows()\n",
    "    for index, document in df_iter:\n",
    "        yield {\n",
    "                \"_index\": index_name,\n",
    "                \"_type\": \"_doc\",\n",
    "                \"_source\": document,\n",
    "            }"
   ]
  },
  {
   "cell_type": "code",
   "execution_count": 68,
   "metadata": {},
   "outputs": [
    {
     "name": "stderr",
     "output_type": "stream",
     "text": [
      "/tmp/ipykernel_52094/3268320283.py:1: ElasticsearchWarning: Elasticsearch built-in security features are not enabled. Without authentication, your cluster could be accessible to anyone. See https://www.elastic.co/guide/en/elasticsearch/reference/7.17/security-minimal-setup.html to enable security.\n",
      "  helpers.bulk(es_client, doc_generator(offres_df_clean))\n",
      "/tmp/ipykernel_52094/3268320283.py:1: ElasticsearchWarning: [types removal] Specifying types in bulk requests is deprecated.\n",
      "  helpers.bulk(es_client, doc_generator(offres_df_clean))\n"
     ]
    },
    {
     "data": {
      "text/plain": [
       "(406755, [])"
      ]
     },
     "execution_count": 68,
     "metadata": {},
     "output_type": "execute_result"
    }
   ],
   "source": [
    "# Indexation des offres\n",
    "helpers.bulk(es_client, doc_generator(offres_df_clean,\"offres\"))"
   ]
  },
  {
   "cell_type": "code",
   "execution_count": 64,
   "metadata": {},
   "outputs": [
    {
     "name": "stderr",
     "output_type": "stream",
     "text": [
      "/tmp/ipykernel_72898/840881214.py:1: ElasticsearchWarning: Elasticsearch built-in security features are not enabled. Without authentication, your cluster could be accessible to anyone. See https://www.elastic.co/guide/en/elasticsearch/reference/7.17/security-minimal-setup.html to enable security.\n",
      "  helpers.bulk(es_client, doc_generator(services_clean,\"services\"))\n",
      "/tmp/ipykernel_72898/840881214.py:1: ElasticsearchWarning: [types removal] Specifying types in bulk requests is deprecated.\n",
      "  helpers.bulk(es_client, doc_generator(services_clean,\"services\"))\n"
     ]
    },
    {
     "data": {
      "text/plain": [
       "(7636, [])"
      ]
     },
     "execution_count": 64,
     "metadata": {},
     "output_type": "execute_result"
    }
   ],
   "source": [
    "# Indexation des services\n",
    "helpers.bulk(es_client, doc_generator(services_clean,\"services\"))"
   ]
  },
  {
   "cell_type": "code",
   "execution_count": 89,
   "metadata": {},
   "outputs": [
    {
     "name": "stderr",
     "output_type": "stream",
     "text": [
      "/tmp/ipykernel_72898/2169517871.py:2: ElasticsearchWarning: Elasticsearch built-in security features are not enabled. Without authentication, your cluster could be accessible to anyone. See https://www.elastic.co/guide/en/elasticsearch/reference/7.17/security-minimal-setup.html to enable security.\n",
      "  helpers.bulk(es_client, doc_generator(fdp_clean,\"fiches\"))\n",
      "/tmp/ipykernel_72898/2169517871.py:2: ElasticsearchWarning: [types removal] Specifying types in bulk requests is deprecated.\n",
      "  helpers.bulk(es_client, doc_generator(fdp_clean,\"fiches\"))\n"
     ]
    },
    {
     "data": {
      "text/plain": [
       "(30, [])"
      ]
     },
     "execution_count": 89,
     "metadata": {},
     "output_type": "execute_result"
    }
   ],
   "source": [
    "# Indexation des fiches de poste\n",
    "helpers.bulk(es_client, doc_generator(fdp_clean,\"fiches\"))"
   ]
  },
  {
   "cell_type": "code",
   "execution_count": 130,
   "metadata": {},
   "outputs": [],
   "source": [
    "from elasticsearch_dsl import Search\n",
    "s = Search(index='offres').query('match',metier='charge')"
   ]
  },
  {
   "cell_type": "code",
   "execution_count": 131,
   "metadata": {},
   "outputs": [
    {
     "name": "stderr",
     "output_type": "stream",
     "text": [
      "/opt/mamba/lib/python3.11/site-packages/elasticsearch_dsl/search.py:712: ElasticsearchWarning: Elasticsearch built-in security features are not enabled. Without authentication, your cluster could be accessible to anyone. See https://www.elastic.co/guide/en/elasticsearch/reference/7.17/security-minimal-setup.html to enable security.\n",
      "  es.search(index=self._index, body=self.to_dict(), **self._params).body,\n"
     ]
    }
   ],
   "source": [
    "r=s.execute()"
   ]
  },
  {
   "cell_type": "code",
   "execution_count": 132,
   "metadata": {},
   "outputs": [
    {
     "name": "stderr",
     "output_type": "stream",
     "text": [
      "/opt/mamba/lib/python3.11/site-packages/elasticsearch_dsl/search.py:728: ElasticsearchWarning: Elasticsearch built-in security features are not enabled. Without authentication, your cluster could be accessible to anyone. See https://www.elastic.co/guide/en/elasticsearch/reference/7.17/security-minimal-setup.html to enable security.\n",
      "  for hit in scan(es, query=self.to_dict(), index=self._index, **self._params):\n"
     ]
    }
   ],
   "source": [
    "df_results = pd.DataFrame((d.to_dict() for d in s.scan()))"
   ]
  },
  {
   "cell_type": "code",
   "execution_count": 133,
   "metadata": {},
   "outputs": [
    {
     "data": {
      "text/html": [
       "<div>\n",
       "<style scoped>\n",
       "    .dataframe tbody tr th:only-of-type {\n",
       "        vertical-align: middle;\n",
       "    }\n",
       "\n",
       "    .dataframe tbody tr th {\n",
       "        vertical-align: top;\n",
       "    }\n",
       "\n",
       "    .dataframe thead th {\n",
       "        text-align: right;\n",
       "    }\n",
       "</style>\n",
       "<table border=\"1\" class=\"dataframe\">\n",
       "  <thead>\n",
       "    <tr style=\"text-align: right;\">\n",
       "      <th></th>\n",
       "      <th>organisme_de_rattachement</th>\n",
       "      <th>metier</th>\n",
       "      <th>intitule_du_poste</th>\n",
       "      <th>localisation_du_poste</th>\n",
       "    </tr>\n",
       "  </thead>\n",
       "  <tbody>\n",
       "    <tr>\n",
       "      <th>0</th>\n",
       "      <td>universite paris saclay</td>\n",
       "      <td>chargee charge de controle interne budgetaire et comptable</td>\n",
       "      <td>gestionnaire des operations financieres h f</td>\n",
       "      <td>essonne</td>\n",
       "    </tr>\n",
       "    <tr>\n",
       "      <th>1</th>\n",
       "      <td>structures de cooperation territoriale</td>\n",
       "      <td>chargee charge de developpement territorial</td>\n",
       "      <td>che fe de projet petites villes de demain com com du civraisien en poitou</td>\n",
       "      <td>vienne</td>\n",
       "    </tr>\n",
       "    <tr>\n",
       "      <th>2</th>\n",
       "      <td>centres communaux d action sociale</td>\n",
       "      <td>chargee charge de gestion administrative et ou de paie</td>\n",
       "      <td>assistant charge du portage de repas et du logement h f</td>\n",
       "      <td>morbihan</td>\n",
       "    </tr>\n",
       "    <tr>\n",
       "      <th>3</th>\n",
       "      <td>conseils departementaux</td>\n",
       "      <td>chargee charge de gestion administrative et ou de paie</td>\n",
       "      <td>secretaire du service crip conseil departemental de la gironde</td>\n",
       "      <td>gironde</td>\n",
       "    </tr>\n",
       "    <tr>\n",
       "      <th>4</th>\n",
       "      <td>communes</td>\n",
       "      <td>chargee charge d amenagement des espaces verts et de production vegetale</td>\n",
       "      <td>agent d entretien des espaces verts h f le petit quevilly</td>\n",
       "      <td>seine maritime</td>\n",
       "    </tr>\n",
       "    <tr>\n",
       "      <th>...</th>\n",
       "      <td>...</td>\n",
       "      <td>...</td>\n",
       "      <td>...</td>\n",
       "      <td>...</td>\n",
       "    </tr>\n",
       "    <tr>\n",
       "      <th>153856</th>\n",
       "      <td>communes</td>\n",
       "      <td>chargee charge de l instruction de dossiers administratifs</td>\n",
       "      <td>instructeur instructrice des demandes autorisations droits des sols commune d aix en provence</td>\n",
       "      <td>bouches du rhone</td>\n",
       "    </tr>\n",
       "    <tr>\n",
       "      <th>153857</th>\n",
       "      <td>communes</td>\n",
       "      <td>chargee charge des d exploitation des equipements sportifs et ludiques</td>\n",
       "      <td>chef d equipe exploitation h f lyon</td>\n",
       "      <td>rhone</td>\n",
       "    </tr>\n",
       "    <tr>\n",
       "      <th>153858</th>\n",
       "      <td>direction des achats de l etat dae</td>\n",
       "      <td>chargee charge de conduite des politiques publiques</td>\n",
       "      <td>dae consultant interne etudes actions d optimisation des achats de l etat et de ses operateurs h f</td>\n",
       "      <td>paris</td>\n",
       "    </tr>\n",
       "    <tr>\n",
       "      <th>153859</th>\n",
       "      <td>communes</td>\n",
       "      <td>chargee charge de l instruction de dossiers administratifs</td>\n",
       "      <td>agent des formalites civiles commune d aix en provence</td>\n",
       "      <td>bouches du rhone</td>\n",
       "    </tr>\n",
       "    <tr>\n",
       "      <th>153860</th>\n",
       "      <td>communes</td>\n",
       "      <td>responsable d encadrement d equipe ou charge de surveillance</td>\n",
       "      <td>chef de police h f commune des saintes maries de la mer</td>\n",
       "      <td>bouches du rhone</td>\n",
       "    </tr>\n",
       "  </tbody>\n",
       "</table>\n",
       "<p>153861 rows × 4 columns</p>\n",
       "</div>"
      ],
      "text/plain": [
       "                     organisme_de_rattachement  \\\n",
       "0                      universite paris saclay   \n",
       "1       structures de cooperation territoriale   \n",
       "2           centres communaux d action sociale   \n",
       "3                      conseils departementaux   \n",
       "4                                     communes   \n",
       "...                                        ...   \n",
       "153856                                communes   \n",
       "153857                                communes   \n",
       "153858      direction des achats de l etat dae   \n",
       "153859                                communes   \n",
       "153860                                communes   \n",
       "\n",
       "                                                                          metier  \\\n",
       "0                     chargee charge de controle interne budgetaire et comptable   \n",
       "1                                    chargee charge de developpement territorial   \n",
       "2                         chargee charge de gestion administrative et ou de paie   \n",
       "3                         chargee charge de gestion administrative et ou de paie   \n",
       "4       chargee charge d amenagement des espaces verts et de production vegetale   \n",
       "...                                                                          ...   \n",
       "153856                chargee charge de l instruction de dossiers administratifs   \n",
       "153857    chargee charge des d exploitation des equipements sportifs et ludiques   \n",
       "153858                       chargee charge de conduite des politiques publiques   \n",
       "153859                chargee charge de l instruction de dossiers administratifs   \n",
       "153860              responsable d encadrement d equipe ou charge de surveillance   \n",
       "\n",
       "                                                                                         intitule_du_poste  \\\n",
       "0                                                              gestionnaire des operations financieres h f   \n",
       "1                                che fe de projet petites villes de demain com com du civraisien en poitou   \n",
       "2                                                  assistant charge du portage de repas et du logement h f   \n",
       "3                                           secretaire du service crip conseil departemental de la gironde   \n",
       "4                                                agent d entretien des espaces verts h f le petit quevilly   \n",
       "...                                                                                                    ...   \n",
       "153856       instructeur instructrice des demandes autorisations droits des sols commune d aix en provence   \n",
       "153857                                                                 chef d equipe exploitation h f lyon   \n",
       "153858  dae consultant interne etudes actions d optimisation des achats de l etat et de ses operateurs h f   \n",
       "153859                                              agent des formalites civiles commune d aix en provence   \n",
       "153860                                             chef de police h f commune des saintes maries de la mer   \n",
       "\n",
       "       localisation_du_poste  \n",
       "0                    essonne  \n",
       "1                     vienne  \n",
       "2                   morbihan  \n",
       "3                    gironde  \n",
       "4             seine maritime  \n",
       "...                      ...  \n",
       "153856      bouches du rhone  \n",
       "153857                 rhone  \n",
       "153858                 paris  \n",
       "153859      bouches du rhone  \n",
       "153860      bouches du rhone  \n",
       "\n",
       "[153861 rows x 4 columns]"
      ]
     },
     "execution_count": 133,
     "metadata": {},
     "output_type": "execute_result"
    }
   ],
   "source": [
    "df_results"
   ]
  },
  {
   "cell_type": "code",
   "execution_count": 96,
   "metadata": {},
   "outputs": [
    {
     "name": "stderr",
     "output_type": "stream",
     "text": [
      "/tmp/ipykernel_72898/3955335858.py:2: ElasticsearchWarning: Elasticsearch built-in security features are not enabled. Without authentication, your cluster could be accessible to anyone. See https://www.elastic.co/guide/en/elasticsearch/reference/7.17/security-minimal-setup.html to enable security.\n",
      "  fullsearch_easy = es_client.search(index = \"services\", # l'index dans lequel on cherche\n"
     ]
    }
   ],
   "source": [
    " # Recherche dans l'ensemble des champs le meilleur écho (le plus pertinent) #\n",
    "fullsearch_easy = es_client.search(index = \"services\", # l'index dans lequel on cherche\n",
    "                       q = \"direction generale des finances publiques dgfip\tdata scientis ssi dpn dtnum bureau si mission service a l utilisateur data scientist expert h f\", # notre requête textuelle\n",
    "                              size = 1) # taille de l'ensemble les échos souhaités"
   ]
  },
  {
   "cell_type": "code",
   "execution_count": 97,
   "metadata": {},
   "outputs": [
    {
     "data": {
      "text/plain": [
       "ObjectApiResponse({'took': 16, 'timed_out': False, '_shards': {'total': 1, 'successful': 1, 'skipped': 0, 'failed': 0}, 'hits': {'total': {'value': 7636, 'relation': 'eq'}, 'max_score': 26.99309, 'hits': [{'_index': 'services', '_type': '_doc', '_id': 'bbFaKIsB1My3OOFZFDtC', '_score': 26.99309, '_source': {'copyright': 'direction de l information legale et administrative premiere ministre', 'nom': 'direction generale des finances publiques dgfip', 'type_organisme': 'administration centrale ou ministere', 'sigle': ''}}]}})"
      ]
     },
     "execution_count": 97,
     "metadata": {},
     "output_type": "execute_result"
    }
   ],
   "source": [
    "fullsearch_easy"
   ]
  },
  {
   "cell_type": "code",
   "execution_count": 100,
   "metadata": {},
   "outputs": [
    {
     "name": "stderr",
     "output_type": "stream",
     "text": [
      "/tmp/ipykernel_72898/2210460514.py:2: ElasticsearchWarning: Elasticsearch built-in security features are not enabled. Without authentication, your cluster could be accessible to anyone. See https://www.elastic.co/guide/en/elasticsearch/reference/7.17/security-minimal-setup.html to enable security.\n",
      "  fullsearch1 = es_client.search(index = \"services\", # l'index dans lequel on cherche\n"
     ]
    }
   ],
   "source": [
    " # Recherche dans l'ensemble des champs le meilleur écho (le plus pertinent) #\n",
    "fullsearch_scientist = es_client.search(index = \"services\", # l'index dans lequel on cherche\n",
    "                       q = \"centre hospitalier universitaire de tours\tdata scientist datascientist centre de donnees cliniques\", # notre requête textuelle\n",
    "                              size = 1) # taille de l'ensemble les échos souhaités"
   ]
  },
  {
   "cell_type": "code",
   "execution_count": 101,
   "metadata": {},
   "outputs": [
    {
     "data": {
      "text/plain": [
       "ObjectApiResponse({'took': 6, 'timed_out': False, '_shards': {'total': 1, 'successful': 1, 'skipped': 0, 'failed': 0}, 'hits': {'total': {'value': 7636, 'relation': 'eq'}, 'max_score': 15.201317, 'hits': [{'_index': 'services', '_type': '_doc', '_id': 'DrFaKIsB1My3OOFZEzmY', '_score': 15.201317, '_source': {'copyright': 'direction de l information legale et administrative premiere ministre', 'nom': 'centre de valorisation des ressources humaines cvrh de tours', 'type_organisme': 'service a competence nationale', 'sigle': ''}}]}})"
      ]
     },
     "execution_count": 101,
     "metadata": {},
     "output_type": "execute_result"
    }
   ],
   "source": [
    "fullsearch_scientist"
   ]
  },
  {
   "cell_type": "code",
   "execution_count": 103,
   "metadata": {},
   "outputs": [
    {
     "name": "stderr",
     "output_type": "stream",
     "text": [
      "/tmp/ipykernel_72898/1096055904.py:2: ElasticsearchWarning: Elasticsearch built-in security features are not enabled. Without authentication, your cluster could be accessible to anyone. See https://www.elastic.co/guide/en/elasticsearch/reference/7.17/security-minimal-setup.html to enable security.\n",
      "  fullsearch_engineer= es_client.search(index = \"services\", # l'index dans lequel on cherche\n"
     ]
    }
   ],
   "source": [
    " # Recherche dans l'ensemble des champs le meilleur écho (le plus pertinent) #\n",
    "fullsearch_engineer= es_client.search(index = \"services\", # l'index dans lequel on cherche\n",
    "                       q = \"service hydrographique et oceanographique de la marine\tdata engineer\tingenieur en traitement de l information conception developpement et experimentation d ia h f\", # notre requête textuelle\n",
    "                              size = 1) # taille de l'ensemble les échos souhaités"
   ]
  },
  {
   "cell_type": "code",
   "execution_count": 104,
   "metadata": {},
   "outputs": [
    {
     "data": {
      "text/plain": [
       "ObjectApiResponse({'took': 23, 'timed_out': False, '_shards': {'total': 1, 'successful': 1, 'skipped': 0, 'failed': 0}, 'hits': {'total': {'value': 7636, 'relation': 'eq'}, 'max_score': 27.117067, 'hits': [{'_index': 'services', '_type': '_doc', '_id': 't7FaKIsB1My3OOFZFT--', '_score': 27.117067, '_source': {'copyright': 'direction de l information legale et administrative premiere ministre', 'nom': 'service hydrographique et oceanographique de la marine shom', 'type_organisme': 'etablissement public', 'sigle': ''}}]}})"
      ]
     },
     "execution_count": 104,
     "metadata": {},
     "output_type": "execute_result"
    }
   ],
   "source": [
    "fullsearch_engineer"
   ]
  },
  {
   "cell_type": "code",
   "execution_count": 106,
   "metadata": {},
   "outputs": [
    {
     "name": "stderr",
     "output_type": "stream",
     "text": [
      "/tmp/ipykernel_72898/3294352241.py:1: ElasticsearchWarning: Elasticsearch built-in security features are not enabled. Without authentication, your cluster could be accessible to anyone. See https://www.elastic.co/guide/en/elasticsearch/reference/7.17/security-minimal-setup.html to enable security.\n",
      "  fullsearch_designer = es_client.search(index = \"services\", # l'index dans lequel on cherche\n"
     ]
    }
   ],
   "source": [
    "fullsearch_designer = es_client.search(index = \"services\", # l'index dans lequel on cherche\n",
    "                       q = \"caisse des depots et consignations\tarchitecte technique expert conception et architecture de donnees d entreprise data designer h f\t\", # notre requête textuelle\n",
    "                              size = 1) # taille de l'ensemble les échos souhaités"
   ]
  },
  {
   "cell_type": "code",
   "execution_count": 107,
   "metadata": {},
   "outputs": [
    {
     "data": {
      "text/plain": [
       "ObjectApiResponse({'took': 17, 'timed_out': False, '_shards': {'total': 1, 'successful': 1, 'skipped': 0, 'failed': 0}, 'hits': {'total': {'value': 7636, 'relation': 'eq'}, 'max_score': 21.853615, 'hits': [{'_index': 'services', '_type': '_doc', '_id': 'RbFaKIsB1My3OOFZEDBa', '_score': 21.853615, '_source': {'copyright': 'direction de l information legale et administrative premiere ministre', 'nom': 'caisse des depots et consignations cdc', 'type_organisme': 'juridiction', 'sigle': ''}}]}})"
      ]
     },
     "execution_count": 107,
     "metadata": {},
     "output_type": "execute_result"
    }
   ],
   "source": [
    "fullsearch_designer"
   ]
  },
  {
   "cell_type": "code",
   "execution_count": 118,
   "metadata": {},
   "outputs": [],
   "source": [
    "def get_services(es,query):\n",
    "    fullsearch = es.search(index = \"services\", # l'index dans lequel on cherche\n",
    "                       q = query, # notre requête textuelle\n",
    "                       size = 1)\n",
    "    return fullsearch['hits']['hits'][0]['_source']['nom']"
   ]
  },
  {
   "cell_type": "code",
   "execution_count": 122,
   "metadata": {},
   "outputs": [],
   "source": [
    "def add_services(df, list_cols,es):\n",
    "    df['service'] = df[list_cols].apply(lambda row: get_services(es,' '.join(row.values.astype(str))), axis=1)\n",
    "    return df"
   ]
  },
  {
   "cell_type": "code",
   "execution_count": 119,
   "metadata": {},
   "outputs": [
    {
     "name": "stderr",
     "output_type": "stream",
     "text": [
      "/tmp/ipykernel_72898/198050217.py:2: ElasticsearchWarning: Elasticsearch built-in security features are not enabled. Without authentication, your cluster could be accessible to anyone. See https://www.elastic.co/guide/en/elasticsearch/reference/7.17/security-minimal-setup.html to enable security.\n",
      "  fullsearch = es.search(index = \"services\", # l'index dans lequel on cherche\n"
     ]
    },
    {
     "data": {
      "text/plain": [
       "'caisse des depots et consignations cdc'"
      ]
     },
     "execution_count": 119,
     "metadata": {},
     "output_type": "execute_result"
    }
   ],
   "source": [
    "get_services(es_client,\"caisse des depots et consignations\tarchitecte technique expert conception et architecture de donnees d entreprise data designer h f\")"
   ]
  },
  {
   "cell_type": "code",
   "execution_count": 143,
   "metadata": {},
   "outputs": [
    {
     "name": "stderr",
     "output_type": "stream",
     "text": [
      "/tmp/ipykernel_72898/198050217.py:2: ElasticsearchWarning: Elasticsearch built-in security features are not enabled. Without authentication, your cluster could be accessible to anyone. See https://www.elastic.co/guide/en/elasticsearch/reference/7.17/security-minimal-setup.html to enable security.\n",
      "  fullsearch = es.search(index = \"services\", # l'index dans lequel on cherche\n",
      "/tmp/ipykernel_72898/2305960098.py:2: SettingWithCopyWarning: \n",
      "A value is trying to be set on a copy of a slice from a DataFrame.\n",
      "Try using .loc[row_indexer,col_indexer] = value instead\n",
      "\n",
      "See the caveats in the documentation: https://pandas.pydata.org/pandas-docs/stable/user_guide/indexing.html#returning-a-view-versus-a-copy\n",
      "  df['service'] = df[list_cols].apply(lambda row: get_services(es,' '.join(row.values.astype(str))), axis=1)\n"
     ]
    }
   ],
   "source": [
    "list_cols = ['organisme_de_rattachement','metier','intitule_du_poste','localisation_du_poste']\n",
    "offres_df_temp = offres_df_clean[offres_df_clean['metier'].str.contains(\"ux designer\",na=False)|offres_df_clean['intitule_du_poste'].str.contains(\"ux designer\",na=False)]\n",
    "offres_with_services =  offres_df_temp.head(50).pipe(add_services,list_cols,es_client)"
   ]
  },
  {
   "cell_type": "code",
   "execution_count": null,
   "metadata": {},
   "outputs": [],
   "source": [
    "offres_with_services"
   ]
  },
  {
   "cell_type": "code",
   "execution_count": 148,
   "metadata": {},
   "outputs": [
    {
     "name": "stderr",
     "output_type": "stream",
     "text": [
      "/tmp/ipykernel_72898/198050217.py:2: ElasticsearchWarning: Elasticsearch built-in security features are not enabled. Without authentication, your cluster could be accessible to anyone. See https://www.elastic.co/guide/en/elasticsearch/reference/7.17/security-minimal-setup.html to enable security.\n",
      "  fullsearch = es.search(index = \"services\", # l'index dans lequel on cherche\n",
      "/tmp/ipykernel_72898/2305960098.py:2: SettingWithCopyWarning: \n",
      "A value is trying to be set on a copy of a slice from a DataFrame.\n",
      "Try using .loc[row_indexer,col_indexer] = value instead\n",
      "\n",
      "See the caveats in the documentation: https://pandas.pydata.org/pandas-docs/stable/user_guide/indexing.html#returning-a-view-versus-a-copy\n",
      "  df['service'] = df[list_cols].apply(lambda row: get_services(es,' '.join(row.values.astype(str))), axis=1)\n"
     ]
    }
   ],
   "source": [
    "list_cols = ['poste','intitule_du_service_demandeur_bureau_section','corps_grade'] #,'presentation','missions','competences'\n",
    "fdp_temp = fdp_clean[fdp_clean['poste'].str.contains(\"data engineer\",na=False)|fdp_clean['competences'].str.contains(\"data engineer\",na=False)]\n",
    "fdp_with_services =  fdp_temp.pipe(add_services,list_cols,es_client)"
   ]
  },
  {
   "cell_type": "code",
   "execution_count": 149,
   "metadata": {},
   "outputs": [
    {
     "data": {
      "text/html": [
       "<div>\n",
       "<style scoped>\n",
       "    .dataframe tbody tr th:only-of-type {\n",
       "        vertical-align: middle;\n",
       "    }\n",
       "\n",
       "    .dataframe tbody tr th {\n",
       "        vertical-align: top;\n",
       "    }\n",
       "\n",
       "    .dataframe thead th {\n",
       "        text-align: right;\n",
       "    }\n",
       "</style>\n",
       "<table border=\"1\" class=\"dataframe\">\n",
       "  <thead>\n",
       "    <tr style=\"text-align: right;\">\n",
       "      <th></th>\n",
       "      <th>poste</th>\n",
       "      <th>intitule_du_service_demandeur_bureau_section</th>\n",
       "      <th>corps_grade</th>\n",
       "      <th>presentation</th>\n",
       "      <th>missions</th>\n",
       "      <th>competences</th>\n",
       "      <th>service</th>\n",
       "    </tr>\n",
       "  </thead>\n",
       "  <tbody>\n",
       "    <tr>\n",
       "      <th>24</th>\n",
       "      <td>ingenieur data f h</td>\n",
       "      <td>direction interministerielle du numerique dinum departement etalab</td>\n",
       "      <td></td>\n",
       "      <td>la direction interministerielle du numerique dinum est un service de la premiere ministre place sous l autorite du ministre de la transformation et de la fonction publiques elle oriente anime soutient et coordonne les actions des administrations de l etat et celles des organismes places sous sa tutelle visant a ameliorer la qualite l efficacite l efficience et la fiabilite des services rendus par le systeme d information et de communication de l etat elle contribue a l ouverture des donnees publiques aux strategies d innovation ouverte et au travail avec les ecosystemes d innovation elle pilote la politique de mutualisation du systeme d information et de communication de l etat et peut intervenir dans la gouvernance des operations de mutualisation ainsi que dans la conception l elaboration et la mise en oeuvre de ces operations enfin elle soutient le developpement des competences de l etat et des organismes places sous sa tutelle dans le domaine du numerique en facilitant l emergence d une filiere professionnelle interministerielle du numerique rejoindre la dinum c est prendre part a un collectif de plus de 200 agents reunis autour d une meme ambition le numerique au service de l efficacite de l action publique la le titulaire du poste integre le departement etalab de la dinum etalab vise a valoriser et exploiter les donnees comme levier d efficacite de l action publique il coordonne la conception et la mise en oeuvre de la strategie de l etat dans le domaine de la donnee il promeut l action de l etat en matiere d ouverture de circulation et d exploitation des donnees publiques il accompagne les administrations dans l usage de la data science de l intelligence artificielle et diffuse une culture de l innovation ouverte au sein des administrations</td>\n",
       "      <td>au sein du datalab l ingenieur e data travaille avec un product owner des data scientists et un analyste de donnees pour developper des cas d usages mobilisant des donnees et a fort impact au sein d une equipe produit suivant la methode agile l agent a pour mission de mettre en place des outils de traitement de la donnee pour realiser des cas d usage il elle met en oeuvre des traitements sur les donnees manipulees dans le cadre des cas d usage portes par le datalab afin de favoriser et de faciliter la reutilisation de celles ci par son equipe vous serez amene e a utiliser et mettre en oeuvre des outils de traitements et de stockage de donnees bases de donnees pour faciliter leur mise a jour et leur mise a disposition vous serez sensible a la question de la securite et de l administration systeme et gererez cette problematique dans les infrastructures data que vous utiliserez a ce titre vous collaborerez etroitement avec le responsable datasecops f h de l equipe faciliter l interoperabilite des donnees en integrant des variables pivots permettant le croisement avec d autres donnees et vous assurer du respect de bonnes pratiques techniques permettant une meilleure exploitation des donnees pour cela vous integrerez les dimensions de completude d unicite de conformite de tracabilite et de coconformite de tracabilite et de coherence des donnees garantir les bonnes pratiques de developpements appliquees sur les donnees traitements montee en qualite calculs d indicateurs dans l optique de maximiser l impact de projet data a fort potentiel veiller a ce que les outils et traitements developpes dans le cadre du datalab soient transferables aux entites chargees de les executer en production dans les administrations lorsque les cas d usage data ont demontre leur impact et sont finalises mener une veille technologique active pour mobiliser les meilleures technologies au cours de la realisation de vos missions vous devriez etre en veille permanente pour detecter des projets a impact a valoriser ou a accompagner vous pourriez par ailleurs etre amene e a renforcer ponctuellement les autres agents du departement suivant l interet du service enfin en fonction de l evolution des priorites fixees a la dinum et au departement etalab vous pourrez etre amene e a prendre ponctuellement en charge d autres taches et projets</td>\n",
       "      <td>de formation superieure bac 5 vous disposez d une experience d au moins 5 ans en ingenierie de donnees vous etes un e expert e de la donnee a ce titre vous etes sensible a la question de la qualite des donnees et a leur accessibilite vous disposez egalement de tres bonnes connaissances dans la mise en place d outils de stockage de donnees minio elasticsearch postgres mongo etc de traitement de donnees apache arrow et spark python pandas polars etc d ordonnancement de flux airflow prefect luigi dbt etc bonnes connaissances en developpement backend notamment dans la mise en oeuvre d api et en administration systeme linux docker connaissance de l ecosysteme des outils libres connaissance du droit de la donnee et des enjeux juridiques lies au traitement des donnees sensibles bonne connaissance des donnees manipulees au sein de l administration serait un plus expertise dans les outils lies a l exploitation de la donnee data engineering solides competences en developpement python pandas polars arrow etc et en outils de developpement operationnel git ci cd docker airflow etc capacite a contribuer sur des logiciels libres force de proposition rigueur reactivite esprit analytique et de synthese</td>\n",
       "      <td>direction interministerielle du numerique dinum</td>\n",
       "    </tr>\n",
       "  </tbody>\n",
       "</table>\n",
       "</div>"
      ],
      "text/plain": [
       "                 poste  \\\n",
       "24  ingenieur data f h   \n",
       "\n",
       "                          intitule_du_service_demandeur_bureau_section  \\\n",
       "24  direction interministerielle du numerique dinum departement etalab   \n",
       "\n",
       "   corps_grade  \\\n",
       "24               \n",
       "\n",
       "                                                                                                                                                                                                                                                                                                                                                                                                                                                                                                                                                                                                                                                                                                                                                                                                                                                                                                                                                                                                                                                                                                                                                                                                                                                                                                                                                                                                                                                                                                                                                                                                                                                                                                                                                                                                                                        presentation  \\\n",
       "24  la direction interministerielle du numerique dinum est un service de la premiere ministre place sous l autorite du ministre de la transformation et de la fonction publiques elle oriente anime soutient et coordonne les actions des administrations de l etat et celles des organismes places sous sa tutelle visant a ameliorer la qualite l efficacite l efficience et la fiabilite des services rendus par le systeme d information et de communication de l etat elle contribue a l ouverture des donnees publiques aux strategies d innovation ouverte et au travail avec les ecosystemes d innovation elle pilote la politique de mutualisation du systeme d information et de communication de l etat et peut intervenir dans la gouvernance des operations de mutualisation ainsi que dans la conception l elaboration et la mise en oeuvre de ces operations enfin elle soutient le developpement des competences de l etat et des organismes places sous sa tutelle dans le domaine du numerique en facilitant l emergence d une filiere professionnelle interministerielle du numerique rejoindre la dinum c est prendre part a un collectif de plus de 200 agents reunis autour d une meme ambition le numerique au service de l efficacite de l action publique la le titulaire du poste integre le departement etalab de la dinum etalab vise a valoriser et exploiter les donnees comme levier d efficacite de l action publique il coordonne la conception et la mise en oeuvre de la strategie de l etat dans le domaine de la donnee il promeut l action de l etat en matiere d ouverture de circulation et d exploitation des donnees publiques il accompagne les administrations dans l usage de la data science de l intelligence artificielle et diffuse une culture de l innovation ouverte au sein des administrations   \n",
       "\n",
       "                                                                                                                                                                                                                                                                                                                                                                                                                                                                                                                                                                                                                                                                                                                                                                                                                                                                                                                                                                                                                                                                                                                                                                                                                                                                                                                                                                                                                                                                                                                                                                                                                                                                                                                                                                                                                                                                                                                                                                                                                                                                                                                                                                                                                                                                                                                                                                                                                               missions  \\\n",
       "24  au sein du datalab l ingenieur e data travaille avec un product owner des data scientists et un analyste de donnees pour developper des cas d usages mobilisant des donnees et a fort impact au sein d une equipe produit suivant la methode agile l agent a pour mission de mettre en place des outils de traitement de la donnee pour realiser des cas d usage il elle met en oeuvre des traitements sur les donnees manipulees dans le cadre des cas d usage portes par le datalab afin de favoriser et de faciliter la reutilisation de celles ci par son equipe vous serez amene e a utiliser et mettre en oeuvre des outils de traitements et de stockage de donnees bases de donnees pour faciliter leur mise a jour et leur mise a disposition vous serez sensible a la question de la securite et de l administration systeme et gererez cette problematique dans les infrastructures data que vous utiliserez a ce titre vous collaborerez etroitement avec le responsable datasecops f h de l equipe faciliter l interoperabilite des donnees en integrant des variables pivots permettant le croisement avec d autres donnees et vous assurer du respect de bonnes pratiques techniques permettant une meilleure exploitation des donnees pour cela vous integrerez les dimensions de completude d unicite de conformite de tracabilite et de coconformite de tracabilite et de coherence des donnees garantir les bonnes pratiques de developpements appliquees sur les donnees traitements montee en qualite calculs d indicateurs dans l optique de maximiser l impact de projet data a fort potentiel veiller a ce que les outils et traitements developpes dans le cadre du datalab soient transferables aux entites chargees de les executer en production dans les administrations lorsque les cas d usage data ont demontre leur impact et sont finalises mener une veille technologique active pour mobiliser les meilleures technologies au cours de la realisation de vos missions vous devriez etre en veille permanente pour detecter des projets a impact a valoriser ou a accompagner vous pourriez par ailleurs etre amene e a renforcer ponctuellement les autres agents du departement suivant l interet du service enfin en fonction de l evolution des priorites fixees a la dinum et au departement etalab vous pourrez etre amene e a prendre ponctuellement en charge d autres taches et projets   \n",
       "\n",
       "                                                                                                                                                                                                                                                                                                                                                                                                                                                                                                                                                                                                                                                                                                                                                                                                                                                                                                                                                                                                                                                                                                                                                                                                                                             competences  \\\n",
       "24  de formation superieure bac 5 vous disposez d une experience d au moins 5 ans en ingenierie de donnees vous etes un e expert e de la donnee a ce titre vous etes sensible a la question de la qualite des donnees et a leur accessibilite vous disposez egalement de tres bonnes connaissances dans la mise en place d outils de stockage de donnees minio elasticsearch postgres mongo etc de traitement de donnees apache arrow et spark python pandas polars etc d ordonnancement de flux airflow prefect luigi dbt etc bonnes connaissances en developpement backend notamment dans la mise en oeuvre d api et en administration systeme linux docker connaissance de l ecosysteme des outils libres connaissance du droit de la donnee et des enjeux juridiques lies au traitement des donnees sensibles bonne connaissance des donnees manipulees au sein de l administration serait un plus expertise dans les outils lies a l exploitation de la donnee data engineering solides competences en developpement python pandas polars arrow etc et en outils de developpement operationnel git ci cd docker airflow etc capacite a contribuer sur des logiciels libres force de proposition rigueur reactivite esprit analytique et de synthese   \n",
       "\n",
       "                                            service  \n",
       "24  direction interministerielle du numerique dinum  "
      ]
     },
     "execution_count": 149,
     "metadata": {},
     "output_type": "execute_result"
    }
   ],
   "source": [
    "fdp_with_services"
   ]
  }
 ],
 "metadata": {
  "kernelspec": {
   "display_name": "base",
   "language": "python",
   "name": "python3"
  },
  "language_info": {
   "codemirror_mode": {
    "name": "ipython",
    "version": 3
   },
   "file_extension": ".py",
   "mimetype": "text/x-python",
   "name": "python",
   "nbconvert_exporter": "python",
   "pygments_lexer": "ipython3",
   "version": "3.11.4"
  },
  "orig_nbformat": 4
 },
 "nbformat": 4,
 "nbformat_minor": 2
}
