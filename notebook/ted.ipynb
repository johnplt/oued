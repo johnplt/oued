{
 "cells": [
  {
   "attachments": {},
   "cell_type": "markdown",
   "metadata": {},
   "source": [
    "# Library imports, configurations"
   ]
  },
  {
   "cell_type": "code",
   "execution_count": 69,
   "metadata": {},
   "outputs": [
    {
     "name": "stderr",
     "output_type": "stream",
     "text": [
      "[nltk_data] Downloading package punkt to /home/onyxia/nltk_data...\n",
      "[nltk_data]   Package punkt is already up-to-date!\n"
     ]
    }
   ],
   "source": [
    "import os\n",
    "import re\n",
    "import s3fs\n",
    "import pandas as pd\n",
    "import requests\n",
    "import json\n",
    "pd.set_option('display.max_columns', None)\n",
    "pd.set_option('display.max_colwidth', None)\n",
    "from unidecode import unidecode\n",
    "from wordcloud import WordCloud\n",
    "import nltk\n",
    "nltk.download('punkt')\n",
    "\n",
    "from stop_words import get_stop_words\n",
    "import unicodedata\n",
    "\n",
    "from nltk.tokenize import word_tokenize\n",
    "from elasticsearch import Elasticsearch\n",
    "from elasticsearch import helpers\n",
    "from elasticsearch_dsl import connections\n",
    "from bs4 import BeautifulSoup as bs"
   ]
  },
  {
   "cell_type": "code",
   "execution_count": 71,
   "metadata": {},
   "outputs": [],
   "source": [
    "# Create filesystem object\n",
    "S3_ENDPOINT_URL = \"https://\" + os.environ[\"AWS_S3_ENDPOINT\"]\n",
    "fs = s3fs.S3FileSystem(client_kwargs={'endpoint_url': S3_ENDPOINT_URL})"
   ]
  },
  {
   "cell_type": "code",
   "execution_count": 72,
   "metadata": {},
   "outputs": [
    {
     "data": {
      "text/plain": [
       "['jplaton/diffusion/.keep',\n",
       " 'jplaton/diffusion/ted',\n",
       " 'jplaton/diffusion/visio_mel']"
      ]
     },
     "execution_count": 72,
     "metadata": {},
     "output_type": "execute_result"
    }
   ],
   "source": [
    "BUCKET = \"jplaton/diffusion\"\n",
    "fs.ls(BUCKET)"
   ]
  },
  {
   "cell_type": "code",
   "execution_count": 73,
   "metadata": {},
   "outputs": [
    {
     "data": {
      "text/plain": [
       "['clementg/diffusion/.keep',\n",
       " 'clementg/diffusion/Fiche de Poste DINUM - francetransfert-3595970061- pdf.csv',\n",
       " \"clementg/diffusion/Référentiel de l'organisation administrative de l'Etat.csv\"]"
      ]
     },
     "execution_count": 73,
     "metadata": {},
     "output_type": "execute_result"
    }
   ],
   "source": [
    "BUCKET_CLEM = \"clementg/diffusion\"\n",
    "fs.ls(BUCKET_CLEM)"
   ]
  },
  {
   "attachments": {},
   "cell_type": "markdown",
   "metadata": {},
   "source": [
    "# Functions"
   ]
  },
  {
   "cell_type": "code",
   "execution_count": 74,
   "metadata": {},
   "outputs": [],
   "source": [
    "# Suppression des accents\n",
    "\n",
    "def remove_accent(s):\n",
    "\n",
    "    s = unidecode(str(s))\n",
    "    return(s)\n",
    "\n",
    "# Suppression de la ponctuation\n",
    "\n",
    "def remove_punctuation(s):\n",
    "    # On retire la ponctuation\n",
    " \n",
    "    s = re.sub(r'[^A-Za-z0-9]',' ',str(s))\n",
    "    return(s)\n",
    "\n",
    "# Réduction de la casse\n",
    "\n",
    "def tolower(s):\n",
    "    s = ' '.join(str(s).lower().split())\n",
    "    return(s)\n",
    "\n",
    "\n",
    "# Sur cette base, on crée une petite fonction qui retire les stop words\n",
    "stopwords = get_stop_words('french')   \n",
    "stopwords = [unicodedata.normalize('NFKD',m).encode('ASCII', 'ignore').decode() for m in stopwords]\n",
    "\n",
    "def remove_stopwords(s):\n",
    "    s = [w for w in word_tokenize(s) if w not in stopwords]\n",
    "    s = ' '.join(s)\n",
    "    return(s)\n",
    "\n",
    "def remove_accent_from_df(df,list_cols):\n",
    "    df_c =  df.copy()\n",
    "    df_c[list_cols] = df_c[list_cols].map(remove_accent)\n",
    "    return df_c\n",
    "\n",
    "def remove_punctuation_from_df(df,list_cols):\n",
    "    df_c =  df.copy()\n",
    "    df_c[list_cols] = df_c[list_cols].map(remove_punctuation)\n",
    "    return df_c\n",
    "\n",
    "def tolower_df(df,list_cols):\n",
    "    df_c =  df.copy()\n",
    "    df_c[list_cols] = df_c[list_cols].map(tolower)\n",
    "    return df_c\n",
    "\n",
    "def remove_stopwords_df(df,list_cols):\n",
    "    df_c =  df.copy()\n",
    "    df_c[list_cols] = df_c[list_cols].map(remove_stopwords)\n",
    "    return df_c\n",
    "\n",
    "# Scraping de annuaire service public pour aller chercher les services à aprtir des ids\n",
    "# def get_service_from_scraping(service_id):\n",
    "#     try:\n",
    "#         url=f'https://lannuaire.service-public.fr/gouvernement/{service_id}'\n",
    "#         response = requests.get(url)\n",
    "#         html = response.content\n",
    "#         soup = bs(html, \"lxml\")\n",
    "#         return soup.title.get_text().replace(' - Annuaire | Service-public.fr', '')\n",
    "#     except:\n",
    "#         return ''"
   ]
  },
  {
   "attachments": {},
   "cell_type": "markdown",
   "metadata": {},
   "source": [
    "# DATA Download"
   ]
  },
  {
   "cell_type": "code",
   "execution_count": 77,
   "metadata": {},
   "outputs": [],
   "source": [
    "FILE_PATH_TED = \"ted\"\n",
    "FILE_PATH_TED_S3 = BUCKET + \"/\" + FILE_PATH_TED\n",
    "\n",
    "with fs.open(FILE_PATH_TED_S3+\"/offres_num.json\", mode=\"rb\") as file_in:  \n",
    "    offres_num =  pd.read_json(file_in) #json.load(file_in)\n",
    "\n",
    "with fs.open(FILE_PATH_TED_S3+\"/offres_access_V2.json\", mode=\"rb\") as file_in:  \n",
    "    offres_access =  pd.read_json(file_in) #json.load(file_in)\n",
    "\n",
    "# with fs.open(FILE_PATH_TED_S3+\"/offres-datagouv-20230409.csv\", mode=\"rb\") as file_in:\n",
    "#     offres_2023_df = pd.read_csv(file_in, sep=\";\")\n",
    "\n",
    "# with fs.open(FILE_PATH_TED_S3+\"/offres-datagouv-20221225.csv\", mode=\"rb\") as file_in:   \n",
    "#     offres_2022_df = pd.read_csv(file_in, sep=\";\")\n",
    "\n",
    "# with fs.open(FILE_PATH_TED_S3+\"/Bulloterie_10_Saison_2.xlsx\", mode=\"rb\") as file_in:  \n",
    "#     bulloterie_df =  pd.read_excel(file_in, sheet_name=0,header=[0,1])\n"
   ]
  },
  {
   "cell_type": "code",
   "execution_count": 78,
   "metadata": {},
   "outputs": [
    {
     "data": {
      "text/plain": [
       "637"
      ]
     },
     "execution_count": 78,
     "metadata": {},
     "output_type": "execute_result"
    }
   ],
   "source": [
    "len(offres_access.drop_duplicates(subset=['Url Offre']))"
   ]
  },
  {
   "cell_type": "code",
   "execution_count": 8,
   "metadata": {},
   "outputs": [
    {
     "name": "stderr",
     "output_type": "stream",
     "text": [
      "/tmp/ipykernel_53237/3630964928.py:2: DtypeWarning: Columns (0,1,2,3,4,5,6,7,8,9,10,11,12,13,14,15,17,18,19,20,21,22,23,24,26,27,28,29,31,32,33,34,35,36,37,38,39,40,41,43,44,45,46,47,49,50,51,52) have mixed types. Specify dtype option on import or set low_memory=False.\n",
      "  orga_csv_df = pd.read_csv(file_in, sep=\";\",encoding='utf-8').rename(columns={'sigle (construction)': 'sigle_const','service_parent.sigle (construction)':'service_parent_sigle_const'})\n"
     ]
    }
   ],
   "source": [
    "with fs.open(BUCKET_CLEM+\"/Référentiel de l'organisation administrative de l'Etat.csv\", mode=\"rb\") as file_in:\n",
    "    orga_csv_df = pd.read_csv(file_in, sep=\";\",encoding='utf-8').rename(columns={'sigle (construction)': 'sigle_const','service_parent.sigle (construction)':'service_parent_sigle_const'})\n",
    "\n",
    "# with fs.open(BUCKET_CLEM+\"/Fiche de Poste DINUM - francetransfert-3595970061- pdf.csv\", mode=\"rb\") as file_in:\n",
    "#     fdp_dinum_df = pd.read_csv(file_in, sep=\";\",encoding='Windows-1252')\n",
    "# # orga_sigle = orga_csv_df[['id','sigle (construction avec le nom)']].rename(columns={'sigle (construction avec le nom)':'sigle_calcul'})\n",
    "# with fs.open(FILE_PATH_TED_S3+\"/dila_refOrga_admin_Etat_fr_20230505.json\", mode=\"rb\") as file_in:  \n",
    "#     orga =  json.load(file_in)\n",
    "# orga_df['arbo_service_id'] = ''\n",
    "# for k,v in ref_pere_fils.items():\n",
    "#    orga_df.loc[(orga_df['id'].isin(v))|(orga_df['id']==k),'arbo_service_id'] = orga_df.loc[(orga_df['id'].isin(v))|(orga_df['id']==k),'arbo_service_id'].apply(lambda x: [k]+v)"
   ]
  },
  {
   "cell_type": "code",
   "execution_count": 9,
   "metadata": {},
   "outputs": [],
   "source": [
    "orga_csv_df.dropna(axis = 0, how = 'all', inplace = True)"
   ]
  },
  {
   "attachments": {},
   "cell_type": "markdown",
   "metadata": {},
   "source": [
    "### Traitement référentiel services"
   ]
  },
  {
   "cell_type": "code",
   "execution_count": 11,
   "metadata": {},
   "outputs": [],
   "source": [
    "ref_service_id_nom = orga_csv_df.set_index('id').to_dict()['nom']"
   ]
  },
  {
   "cell_type": "code",
   "execution_count": 12,
   "metadata": {},
   "outputs": [],
   "source": [
    "ref_service_id_sigle = orga_csv_df.set_index('id').to_dict()['sigle_const']"
   ]
  },
  {
   "cell_type": "code",
   "execution_count": 13,
   "metadata": {},
   "outputs": [],
   "source": [
    "list_cols = ['nom','sigle_const','mission','service_parent.nom','service_parent.sigle']\n",
    "services_clean = ( orga_csv_df\n",
    "    .pipe(remove_accent_from_df,list_cols)\n",
    "    .pipe(remove_punctuation_from_df,list_cols)\n",
    "    .pipe(tolower_df,list_cols)\n",
    "    .pipe(remove_stopwords_df,list_cols)\n",
    ")"
   ]
  },
  {
   "cell_type": "code",
   "execution_count": 14,
   "metadata": {},
   "outputs": [],
   "source": [
    "services_clean = services_clean[['id','nom','sigle_const','mission','url_service_public','service_parent.nom','service_parent.sigle']].fillna('') "
   ]
  },
  {
   "attachments": {},
   "cell_type": "markdown",
   "metadata": {},
   "source": [
    "### Traitement offres"
   ]
  },
  {
   "cell_type": "code",
   "execution_count": 30,
   "metadata": {},
   "outputs": [],
   "source": [
    "offres = pd.concat([offres_access,offres_num],axis=0)"
   ]
  },
  {
   "cell_type": "code",
   "execution_count": 33,
   "metadata": {},
   "outputs": [],
   "source": [
    "offres.columns = offres.columns.map(remove_accent).map(remove_punctuation).map(tolower).map(lambda s: s.replace(' ', '_'))"
   ]
  },
  {
   "cell_type": "code",
   "execution_count": 34,
   "metadata": {},
   "outputs": [],
   "source": [
    "offres = offres.drop_duplicates(subset=['url_offre'])"
   ]
  },
  {
   "cell_type": "code",
   "execution_count": 36,
   "metadata": {},
   "outputs": [],
   "source": [
    "list_cols=['titre_du_poste','employeur','information_mission','profil_recherche','metier_de_reference','domaine',\n",
    "'informations_complementaires','conditions_particulieres_d_exercice']\n",
    "offres_clean = ( offres\n",
    "    .pipe(remove_accent_from_df,list_cols)\n",
    "    .pipe(remove_punctuation_from_df,list_cols)\n",
    "    .pipe(tolower_df,list_cols)\n",
    "    .pipe(remove_stopwords_df,list_cols)\n",
    ")"
   ]
  },
  {
   "cell_type": "code",
   "execution_count": 37,
   "metadata": {},
   "outputs": [],
   "source": [
    "list_cols_keep = list_cols + ['url_offre']\n",
    "offres_clean = offres_clean[list_cols_keep]"
   ]
  },
  {
   "attachments": {},
   "cell_type": "markdown",
   "metadata": {},
   "source": [
    "# Insertion des données dans Elastic Search"
   ]
  },
  {
   "cell_type": "code",
   "execution_count": 23,
   "metadata": {},
   "outputs": [],
   "source": [
    "# Paramétrage du client\n",
    "es_client = connections.create_connection(hosts=['http://elasticsearch-master:9200/'])"
   ]
  },
  {
   "cell_type": "code",
   "execution_count": 24,
   "metadata": {},
   "outputs": [],
   "source": [
    "# Fontion qui transforme un dataframe en document/index à stocker dans ElasticSearch\n",
    "def doc_generator(df,index_name):\n",
    "    df_iter = df.iterrows()\n",
    "    for index, document in df_iter:\n",
    "        yield {\n",
    "                \"_index\": index_name,\n",
    "                \"_source\": document,\n",
    "            }"
   ]
  },
  {
   "cell_type": "code",
   "execution_count": 22,
   "metadata": {},
   "outputs": [
    {
     "ename": "NameError",
     "evalue": "name 'es_client' is not defined",
     "output_type": "error",
     "traceback": [
      "\u001b[0;31m---------------------------------------------------------------------------\u001b[0m",
      "\u001b[0;31mNameError\u001b[0m                                 Traceback (most recent call last)",
      "\u001b[1;32m/home/onyxia/work/ted/notebook/ted.ipynb Cell 26\u001b[0m line \u001b[0;36m2\n\u001b[1;32m      <a href='vscode-notebook-cell://user-jplaton-431023-0.user.lab.sspcloud.fr/home/onyxia/work/ted/notebook/ted.ipynb#X34sdnNjb2RlLXJlbW90ZQ%3D%3D?line=0'>1</a>\u001b[0m \u001b[39m# Indexation des services\u001b[39;00m\n\u001b[0;32m----> <a href='vscode-notebook-cell://user-jplaton-431023-0.user.lab.sspcloud.fr/home/onyxia/work/ted/notebook/ted.ipynb#X34sdnNjb2RlLXJlbW90ZQ%3D%3D?line=1'>2</a>\u001b[0m helpers\u001b[39m.\u001b[39mbulk(es_client, doc_generator(services_clean,\u001b[39m\"\u001b[39m\u001b[39mservices\u001b[39m\u001b[39m\"\u001b[39m))\n",
      "\u001b[0;31mNameError\u001b[0m: name 'es_client' is not defined"
     ]
    }
   ],
   "source": [
    "# Indexation des services\n",
    "helpers.bulk(es_client, doc_generator(services_clean,\"services\"))"
   ]
  },
  {
   "cell_type": "code",
   "execution_count": 25,
   "metadata": {},
   "outputs": [],
   "source": [
    "def get_services(es,query,nb_results):\n",
    "    fullsearch = es.search(index = \"services\", # l'index dans lequel on cherche\n",
    "                       q = query, # notre requête textuelle\n",
    "                       size = nb_results)\n",
    "    res = fullsearch['hits']['hits'][0]['_source']['id'] #for x in range(min(nb_results,len(fullsearch['hits']['hits'])))\n",
    "    score = fullsearch['hits']['hits'][0]['_score'] #for x in range(min(nb_results,len(fullsearch['hits']['hits'])))\n",
    "    return res, score"
   ]
  },
  {
   "cell_type": "code",
   "execution_count": 26,
   "metadata": {},
   "outputs": [],
   "source": [
    "def add_services(df, list_cols,es,nb_results):\n",
    "    df['service_id'] = df[list_cols].apply(lambda row: get_services(es,' '.join(row.values.astype(str)),nb_results)[0], axis=1)\n",
    "    df['scores'] = df[list_cols].apply(lambda row: get_services(es,' '.join(row.values.astype(str)),nb_results)[1], axis=1)\n",
    "    return df"
   ]
  },
  {
   "cell_type": "code",
   "execution_count": 38,
   "metadata": {},
   "outputs": [
    {
     "name": "stderr",
     "output_type": "stream",
     "text": [
      "/tmp/ipykernel_53237/133096714.py:2: ElasticsearchWarning: Elasticsearch built-in security features are not enabled. Without authentication, your cluster could be accessible to anyone. See https://www.elastic.co/guide/en/elasticsearch/reference/7.17/security-minimal-setup.html to enable security.\n",
      "  fullsearch = es.search(index = \"services\", # l'index dans lequel on cherche\n",
      "/tmp/ipykernel_53237/133096714.py:2: ElasticsearchWarning: Elasticsearch built-in security features are not enabled. Without authentication, your cluster could be accessible to anyone. See https://www.elastic.co/guide/en/elasticsearch/reference/7.17/security-minimal-setup.html to enable security.\n",
      "  fullsearch = es.search(index = \"services\", # l'index dans lequel on cherche\n"
     ]
    }
   ],
   "source": [
    "list_cols = ['information_mission']\n",
    "offres_with_services = offres_clean.pipe(add_services,list_cols,es_client,3)\n",
    "offres_with_services['service_nom'] = offres_with_services['service_id'].map(lambda x: ref_service_id_nom[x] if x in ref_service_id_nom.keys() else None) #[ref_service_id_nom[n] for n in x if n in ref_service_id_nom.keys()]"
   ]
  },
  {
   "cell_type": "code",
   "execution_count": 41,
   "metadata": {},
   "outputs": [],
   "source": [
    "offres_with_services_bis = pd.merge(offres_with_services,services_clean[['id','mission','url_service_public']],how='left',left_on='service_id',right_on='id').drop(['id'],axis=1)"
   ]
  },
  {
   "cell_type": "code",
   "execution_count": 45,
   "metadata": {},
   "outputs": [
    {
     "ename": "TypeError",
     "evalue": "list indices must be integers or slices, not tuple",
     "output_type": "error",
     "traceback": [
      "\u001b[0;31m---------------------------------------------------------------------------\u001b[0m",
      "\u001b[0;31mTypeError\u001b[0m                                 Traceback (most recent call last)",
      "\u001b[1;32m/home/onyxia/work/ted/notebook/ted.ipynb Cell 31\u001b[0m line \u001b[0;36m4\n\u001b[1;32m      <a href='vscode-notebook-cell://user-jplaton-431023-0.user.lab.sspcloud.fr/home/onyxia/work/ted/notebook/ted.ipynb#Y100sdnNjb2RlLXJlbW90ZQ%3D%3D?line=0'>1</a>\u001b[0m list_cols \u001b[39m=\u001b[39m [\u001b[39m'\u001b[39m\u001b[39mtitre_du_poste\u001b[39m\u001b[39m'\u001b[39m,\u001b[39m'\u001b[39m\u001b[39minformation_mission\u001b[39m\u001b[39m'\u001b[39m,\u001b[39m'\u001b[39m\u001b[39mprofil_recherche\u001b[39m\u001b[39m'\u001b[39m,\u001b[39m'\u001b[39m\u001b[39mmetier_de_reference\u001b[39m\u001b[39m'\u001b[39m,\n\u001b[1;32m      <a href='vscode-notebook-cell://user-jplaton-431023-0.user.lab.sspcloud.fr/home/onyxia/work/ted/notebook/ted.ipynb#Y100sdnNjb2RlLXJlbW90ZQ%3D%3D?line=1'>2</a>\u001b[0m \u001b[39m'\u001b[39m\u001b[39minformations_complementaires\u001b[39m\u001b[39m'\u001b[39m,\u001b[39m'\u001b[39m\u001b[39mconditions_particulieres_d_exercice\u001b[39m\u001b[39m'\u001b[39m,\u001b[39m'\u001b[39m\u001b[39mmission\u001b[39m\u001b[39m'\u001b[39m]\n\u001b[1;32m      <a href='vscode-notebook-cell://user-jplaton-431023-0.user.lab.sspcloud.fr/home/onyxia/work/ted/notebook/ted.ipynb#Y100sdnNjb2RlLXJlbW90ZQ%3D%3D?line=2'>3</a>\u001b[0m offres_with_services_bis[\u001b[39m'\u001b[39m\u001b[39mrecherche\u001b[39m\u001b[39m'\u001b[39m] \u001b[39m=\u001b[39m offres_with_services_bis[list_cols]\u001b[39m.\u001b[39mapply(\u001b[39mlambda\u001b[39;00m row: \u001b[39m'\u001b[39m\u001b[39m \u001b[39m\u001b[39m'\u001b[39m\u001b[39m.\u001b[39mjoin(row\u001b[39m.\u001b[39mvalues\u001b[39m.\u001b[39mastype(\u001b[39mstr\u001b[39m)),axis\u001b[39m=\u001b[39m\u001b[39m1\u001b[39m)\n\u001b[0;32m----> <a href='vscode-notebook-cell://user-jplaton-431023-0.user.lab.sspcloud.fr/home/onyxia/work/ted/notebook/ted.ipynb#Y100sdnNjb2RlLXJlbW90ZQ%3D%3D?line=3'>4</a>\u001b[0m offres_with_services_ter \u001b[39m=\u001b[39m offres_with_services_bis\u001b[39m.\u001b[39mdrop(list_cols[\u001b[39m'\u001b[39;49m\u001b[39memployeur\u001b[39;49m\u001b[39m'\u001b[39;49m,\u001b[39m'\u001b[39;49m\u001b[39mdomaine\u001b[39;49m\u001b[39m'\u001b[39;49m],axis\u001b[39m=\u001b[39m\u001b[39m1\u001b[39m)\n",
      "\u001b[0;31mTypeError\u001b[0m: list indices must be integers or slices, not tuple"
     ]
    }
   ],
   "source": [
    "list_cols = ['titre_du_poste','information_mission','profil_recherche','metier_de_reference',\n",
    "'informations_complementaires','conditions_particulieres_d_exercice','mission']\n",
    "offres_with_services_bis['recherche'] = offres_with_services_bis[list_cols].apply(lambda row: ' '.join(row.values.astype(str)),axis=1)"
   ]
  },
  {
   "cell_type": "code",
   "execution_count": 47,
   "metadata": {},
   "outputs": [],
   "source": [
    "offres_with_services_ter = offres_with_services_bis.drop(list_cols + ['employeur','domaine'],axis=1)"
   ]
  },
  {
   "cell_type": "code",
   "execution_count": 55,
   "metadata": {},
   "outputs": [],
   "source": [
    "cols_to_join = ['url_offre','metier_de_reference','domaine','employeur','fonction_publique','localisation']\n",
    "cols_to_join_bis = ['offre_'+x for x in cols_to_join if 'offre' not in x]\n",
    "offres_to_join = offres[cols_to_join]\n",
    "offres_to_join.columns = ['url_offre'] + cols_to_join_bis"
   ]
  },
  {
   "cell_type": "code",
   "execution_count": 57,
   "metadata": {},
   "outputs": [],
   "source": [
    "offres_with_services_final = pd.merge(offres_with_services_ter,offres_to_join,how='left',on='url_offre')"
   ]
  },
  {
   "cell_type": "code",
   "execution_count": 59,
   "metadata": {},
   "outputs": [],
   "source": [
    "with fs.open(FILE_PATH_TED_S3+\"/offres_with_services_V3.csv\", mode=\"w\") as file_out:  \n",
    "    offres_with_services_final.to_csv(file_out,index=False,sep=';',encoding='utf-8')"
   ]
  },
  {
   "cell_type": "code",
   "execution_count": 101,
   "metadata": {},
   "outputs": [
    {
     "name": "stderr",
     "output_type": "stream",
     "text": [
      "/tmp/ipykernel_11689/1889001195.py:2: SettingWithCopyWarning: \n",
      "A value is trying to be set on a copy of a slice from a DataFrame.\n",
      "Try using .loc[row_indexer,col_indexer] = value instead\n",
      "\n",
      "See the caveats in the documentation: https://pandas.pydata.org/pandas-docs/stable/user_guide/indexing.html#returning-a-view-versus-a-copy\n",
      "  temp['mots_cles'] = temp[['information_mission','profil_recherche','metier_de_reference']].apply(lambda row: ' '.join(row.values.astype(str)),axis=1)\n"
     ]
    }
   ],
   "source": [
    "temp = offres_with_services[['service_id','titre_du_poste','employeur','information_mission','profil_recherche','metier_de_reference']]\n",
    "temp['mots_cles'] = temp[['information_mission','profil_recherche','metier_de_reference']].apply(lambda row: ' '.join(row.values.astype(str)),axis=1)\n",
    "temp = (temp.drop(['employeur','information_mission','profil_recherche','metier_de_reference'],axis=1)\n",
    "        .explode('service_id')\n",
    "        .groupby('service_id')\n",
    "        .agg({'mots_cles': lambda x: ' '.join(x),'titre_du_poste': lambda x : list(x)})\n",
    "        .reset_index()\n",
    "        .rename(columns={'service_id':'id','titre_du_poste':'liste_postes'})\n",
    "       )"
   ]
  },
  {
   "cell_type": "code",
   "execution_count": 96,
   "metadata": {},
   "outputs": [],
   "source": [
    "services_with_offres = pd.merge(orga_csv_df,\n",
    "                               temp,on='id',how='left')"
   ]
  },
  {
   "cell_type": "code",
   "execution_count": 97,
   "metadata": {},
   "outputs": [],
   "source": [
    "services_with_offres.to_csv('services_with_offres.csv',index=False,sep=';',encoding='utf-8')"
   ]
  },
  {
   "cell_type": "code",
   "execution_count": 57,
   "metadata": {},
   "outputs": [],
   "source": [
    "# Indexation des services enrichies des offres\n",
    "helpers.bulk(es_client, doc_generator(services_with_offres.fillna(''),\"services_with_offres_ds_50\"))"
   ]
  },
  {
   "attachments": {},
   "cell_type": "markdown",
   "metadata": {},
   "source": [
    "### Autres mode de recherche"
   ]
  },
  {
   "cell_type": "code",
   "execution_count": 55,
   "metadata": {},
   "outputs": [
    {
     "name": "stderr",
     "output_type": "stream",
     "text": [
      "/tmp/ipykernel_11689/3714198487.py:4: ElasticsearchWarning: Elasticsearch built-in security features are not enabled. Without authentication, your cluster could be accessible to anyone. See https://www.elastic.co/guide/en/elasticsearch/reference/7.17/security-minimal-setup.html to enable security.\n",
      "  fullsearch_easy = es_client.search(index = \"services\", # l'index dans lequel on cherche\n"
     ]
    }
   ],
   "source": [
    "from elasticsearch_dsl import Search\n",
    "\n",
    " # Recherche dans l'ensemble des champs le meilleur écho (le plus pertinent) #\n",
    "fullsearch_easy = es_client.search(index = \"services\", # l'index dans lequel on cherche\n",
    "                       q = \"employeur secretariat general dir sg grand centre ministere de la justice secretariat general affectation delegation inter regionale grand centre dir sg gc departement informatique et telecommunications dit de dijon\", # notre requête textuelle\n",
    "                              size = 1) # taille de l'ensemble les échos souhaités\n"
   ]
  },
  {
   "cell_type": "code",
   "execution_count": 86,
   "metadata": {},
   "outputs": [
    {
     "data": {
      "text/plain": [
       "40.246254"
      ]
     },
     "execution_count": 86,
     "metadata": {},
     "output_type": "execute_result"
    }
   ],
   "source": [
    "fullsearch_easy['hits']['hits'][0]['_score']"
   ]
  },
  {
   "cell_type": "code",
   "execution_count": null,
   "metadata": {},
   "outputs": [],
   "source": [
    " # Recherche dans l'ensemble des champs le meilleur écho (le plus pertinent) #\n",
    "fullsearch_scientist = es_client.search(index = \"services\", # l'index dans lequel on cherche\n",
    "                       q = \"centre hospitalier universitaire de tours\tdata scientist datascientist centre de donnees cliniques\", # notre requête textuelle\n",
    "                              size = 1) # taille de l'ensemble les échos souhaités\n",
    " # Recherche dans l'ensemble des champs le meilleur écho (le plus pertinent) #\n",
    "fullsearch_engineer= es_client.search(index = \"services\", # l'index dans lequel on cherche\n",
    "                       q = \"service hydrographique et oceanographique de la marine\tdata engineer\tingenieur en traitement de l information conception developpement et experimentation d ia h f\", # notre requête textuelle\n",
    "                              size = 1) # taille de l'ensemble les échos souhaités\n",
    "fullsearch_designer = es_client.search(index = \"services\", # l'index dans lequel on cherche\n",
    "                       q = \"caisse des depots et consignations\tarchitecte technique expert conception et architecture de donnees d entreprise data designer h f\t\", # notre requête textuelle\n",
    "                              size = 1) # taille de l'ensemble les échos souhaités"
   ]
  },
  {
   "attachments": {},
   "cell_type": "markdown",
   "metadata": {},
   "source": [
    "### Traitement Fiche de poste DNUM"
   ]
  },
  {
   "cell_type": "code",
   "execution_count": 14,
   "metadata": {},
   "outputs": [],
   "source": [
    "# Traitement des colonnes\n",
    "fdp_dinum_df.columns = fdp_dinum_df.columns.map(remove_accent).map(remove_punctuation).map(tolower).map(lambda s: s.replace(' ', '_'))\n",
    "fdp_clean = ( fdp_dinum_df\n",
    "    .pipe(remove_accent_from_df,['poste','intitule_du_service_demandeur_bureau_section','corps_grade','presentation','missions','competences'])\n",
    "    .pipe(remove_punctuation_from_df,['poste','intitule_du_service_demandeur_bureau_section','corps_grade','presentation','missions','competences'])\n",
    "    .pipe(tolower_df,['poste','intitule_du_service_demandeur_bureau_section','corps_grade','presentation','missions','competences'])\n",
    ")\n",
    "fdp_clean = fdp_clean[['poste','intitule_du_service_demandeur_bureau_section','corps_grade','presentation','missions','competences']] #fdp_clean.head(2)\n"
   ]
  }
 ],
 "metadata": {
  "kernelspec": {
   "display_name": "Python 3 (ipykernel)",
   "language": "python",
   "name": "python3"
  },
  "language_info": {
   "codemirror_mode": {
    "name": "ipython",
    "version": 3
   },
   "file_extension": ".py",
   "mimetype": "text/x-python",
   "name": "python",
   "nbconvert_exporter": "python",
   "pygments_lexer": "ipython3",
   "version": "3.10.12"
  }
 },
 "nbformat": 4,
 "nbformat_minor": 4
}
