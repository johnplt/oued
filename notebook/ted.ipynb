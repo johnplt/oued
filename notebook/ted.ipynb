{
 "cells": [
  {
   "attachments": {},
   "cell_type": "markdown",
   "metadata": {},
   "source": [
    "# Library imports, configurations"
   ]
  },
  {
   "cell_type": "code",
   "execution_count": 4,
   "metadata": {},
   "outputs": [
    {
     "name": "stderr",
     "output_type": "stream",
     "text": [
      "[nltk_data] Downloading package punkt to /home/onyxia/nltk_data...\n",
      "[nltk_data]   Package punkt is already up-to-date!\n"
     ]
    }
   ],
   "source": [
    "import os\n",
    "import re\n",
    "import s3fs\n",
    "import pandas as pd\n",
    "import requests\n",
    "import json\n",
    "pd.set_option('display.max_columns', None)\n",
    "pd.set_option('display.max_colwidth', None)\n",
    "from unidecode import unidecode\n",
    "from wordcloud import WordCloud\n",
    "import nltk\n",
    "nltk.download('punkt')\n",
    "\n",
    "from stop_words import get_stop_words\n",
    "import unicodedata\n",
    "\n",
    "from nltk.tokenize import word_tokenize\n",
    "from elasticsearch import Elasticsearch\n",
    "from elasticsearch import helpers\n",
    "from elasticsearch_dsl import connections"
   ]
  },
  {
   "cell_type": "code",
   "execution_count": 6,
   "metadata": {},
   "outputs": [],
   "source": [
    "# Create filesystem object\n",
    "S3_ENDPOINT_URL = \"https://\" + os.environ[\"AWS_S3_ENDPOINT\"]\n",
    "fs = s3fs.S3FileSystem(client_kwargs={'endpoint_url': S3_ENDPOINT_URL})"
   ]
  },
  {
   "cell_type": "code",
   "execution_count": 7,
   "metadata": {},
   "outputs": [
    {
     "data": {
      "text/plain": [
       "['jplaton/diffusion/.keep',\n",
       " 'jplaton/diffusion/ted',\n",
       " 'jplaton/diffusion/visio_mel']"
      ]
     },
     "execution_count": 7,
     "metadata": {},
     "output_type": "execute_result"
    }
   ],
   "source": [
    "BUCKET = \"jplaton/diffusion\"\n",
    "fs.ls(BUCKET)"
   ]
  },
  {
   "cell_type": "code",
   "execution_count": 8,
   "metadata": {},
   "outputs": [
    {
     "data": {
      "text/plain": [
       "['clementg/diffusion/.keep',\n",
       " 'clementg/diffusion/Fiche de Poste DINUM - francetransfert-3595970061- pdf.csv']"
      ]
     },
     "execution_count": 8,
     "metadata": {},
     "output_type": "execute_result"
    }
   ],
   "source": [
    "BUCKET_CLEM = \"clementg/diffusion\"\n",
    "fs.ls(BUCKET_CLEM)"
   ]
  },
  {
   "cell_type": "markdown",
   "metadata": {},
   "source": [
    "# Functions"
   ]
  },
  {
   "cell_type": "code",
   "execution_count": 80,
   "metadata": {},
   "outputs": [],
   "source": [
    "# Suppression des accents\n",
    "\n",
    "def remove_accent(s):\n",
    "\n",
    "    s = unidecode(str(s))\n",
    "    return(s)\n",
    "\n",
    "# Suppression de la ponctuation\n",
    "\n",
    "def remove_punctuation(s):\n",
    "    # On retire la ponctuation\n",
    " \n",
    "    s = re.sub(r'[^A-Za-z0-9]',' ',str(s))\n",
    "    return(s)\n",
    "\n",
    "# Réduction de la casse\n",
    "\n",
    "def tolower(s):\n",
    "    s = ' '.join(str(s).lower().split())\n",
    "    return(s)\n",
    "\n",
    "\n",
    "# Sur cette base, on crée une petite fonction qui retire les stop words\n",
    "stopwords = get_stop_words('french')   \n",
    "stopwords = [unicodedata.normalize('NFKD',m).encode('ASCII', 'ignore').decode() for m in stopwords]\n",
    "\n",
    "def remove_stopwords(s):\n",
    "    s = [w for w in word_tokenize(s) if w not in stopwords]\n",
    "    s = ' '.join(s)\n",
    "    return(s)\n",
    "\n",
    "def remove_accent_from_df(df,list_cols):\n",
    "    df_c =  df.copy()\n",
    "    df_c[list_cols] = df_c[list_cols].applymap(remove_accent)\n",
    "    return df_c\n",
    "\n",
    "def remove_punctuation_from_df(df,list_cols):\n",
    "    df_c =  df.copy()\n",
    "    df_c[list_cols] = df_c[list_cols].applymap(remove_punctuation)\n",
    "    return df_c\n",
    "\n",
    "def tolower_df(df,list_cols):\n",
    "    df_c =  df.copy()\n",
    "    df_c[list_cols] = df_c[list_cols].applymap(tolower)\n",
    "    return df_c"
   ]
  },
  {
   "attachments": {},
   "cell_type": "markdown",
   "metadata": {},
   "source": [
    "# DATA Download"
   ]
  },
  {
   "cell_type": "code",
   "execution_count": 81,
   "metadata": {},
   "outputs": [
    {
     "name": "stderr",
     "output_type": "stream",
     "text": [
      "/tmp/ipykernel_72898/4280061390.py:5: DtypeWarning: Columns (22) have mixed types. Specify dtype option on import or set low_memory=False.\n",
      "  offres_2023_df = pd.read_csv(file_in, sep=\";\")\n",
      "/tmp/ipykernel_72898/4280061390.py:8: DtypeWarning: Columns (22) have mixed types. Specify dtype option on import or set low_memory=False.\n",
      "  offres_2022_df = pd.read_csv(file_in, sep=\";\")\n"
     ]
    }
   ],
   "source": [
    "FILE_PATH_TED = \"ted\"\n",
    "FILE_PATH_TED_S3 = BUCKET + \"/\" + FILE_PATH_TED\n",
    "\n",
    "with fs.open(FILE_PATH_TED_S3+\"/offres-datagouv-20230409.csv\", mode=\"rb\") as file_in:\n",
    "    offres_2023_df = pd.read_csv(file_in, sep=\";\")\n",
    "\n",
    "with fs.open(FILE_PATH_TED_S3+\"/offres-datagouv-20221225.csv\", mode=\"rb\") as file_in:   \n",
    "    offres_2022_df = pd.read_csv(file_in, sep=\";\")\n",
    "\n",
    "with fs.open(FILE_PATH_TED_S3+\"/Bulloterie_10_Saison_2.xlsx\", mode=\"rb\") as file_in:  \n",
    "    bulloterie_df =  pd.read_excel(file_in, sheet_name=0,header=[0,1])\n"
   ]
  },
  {
   "cell_type": "code",
   "execution_count": 82,
   "metadata": {},
   "outputs": [],
   "source": [
    "with fs.open(BUCKET_CLEM+\"/Fiche de Poste DINUM - francetransfert-3595970061- pdf.csv\", mode=\"rb\") as file_in:\n",
    "    fdp_dinum_df = pd.read_csv(file_in, sep=\";\",encoding='Windows-1252')"
   ]
  },
  {
   "cell_type": "code",
   "execution_count": 12,
   "metadata": {},
   "outputs": [],
   "source": [
    "with fs.open(FILE_PATH_TED_S3+\"/dila_refOrga_admin_Etat_fr_20230505.json\", mode=\"rb\") as file_in:  \n",
    "    orga =  json.load(file_in)"
   ]
  },
  {
   "cell_type": "markdown",
   "metadata": {},
   "source": [
    "### Traitement référentiel services"
   ]
  },
  {
   "cell_type": "code",
   "execution_count": 66,
   "metadata": {},
   "outputs": [],
   "source": [
    "orga_df = pd.json_normalize(orga,record_path='service')"
   ]
  },
  {
   "cell_type": "code",
   "execution_count": 47,
   "metadata": {},
   "outputs": [],
   "source": [
    "services_clean = ( orga_df\n",
    "    .pipe(remove_accent_from_df,['copyright','nom','type_organisme','sigle'])\n",
    "    .pipe(remove_punctuation_from_df,['copyright','nom','type_organisme','sigle'])\n",
    "    .pipe(tolower_df,['copyright','nom','type_organisme','sigle'])\n",
    ")"
   ]
  },
  {
   "cell_type": "code",
   "execution_count": 48,
   "metadata": {},
   "outputs": [],
   "source": [
    "services_clean = services_clean[['copyright','nom','type_organisme','sigle']]"
   ]
  },
  {
   "cell_type": "code",
   "execution_count": 49,
   "metadata": {},
   "outputs": [
    {
     "data": {
      "text/html": [
       "<div>\n",
       "<style scoped>\n",
       "    .dataframe tbody tr th:only-of-type {\n",
       "        vertical-align: middle;\n",
       "    }\n",
       "\n",
       "    .dataframe tbody tr th {\n",
       "        vertical-align: top;\n",
       "    }\n",
       "\n",
       "    .dataframe thead th {\n",
       "        text-align: right;\n",
       "    }\n",
       "</style>\n",
       "<table border=\"1\" class=\"dataframe\">\n",
       "  <thead>\n",
       "    <tr style=\"text-align: right;\">\n",
       "      <th></th>\n",
       "      <th>copyright</th>\n",
       "      <th>nom</th>\n",
       "      <th>type_organisme</th>\n",
       "      <th>sigle</th>\n",
       "    </tr>\n",
       "  </thead>\n",
       "  <tbody>\n",
       "    <tr>\n",
       "      <th>0</th>\n",
       "      <td>direction de l information legale et administrative premiere ministre</td>\n",
       "      <td>bureau de coordination strategique</td>\n",
       "      <td>administration centrale ou ministere</td>\n",
       "      <td></td>\n",
       "    </tr>\n",
       "    <tr>\n",
       "      <th>1</th>\n",
       "      <td>direction de l information legale et administrative premiere ministre</td>\n",
       "      <td>direction de l information legale et administrative</td>\n",
       "      <td>administration centrale ou ministere</td>\n",
       "      <td>dila</td>\n",
       "    </tr>\n",
       "    <tr>\n",
       "      <th>2</th>\n",
       "      <td>direction de l information legale et administrative premiere ministre</td>\n",
       "      <td>bureau de la simplification et de la qualite de service</td>\n",
       "      <td>administration centrale ou ministere</td>\n",
       "      <td></td>\n",
       "    </tr>\n",
       "    <tr>\n",
       "      <th>3</th>\n",
       "      <td>direction de l information legale et administrative premiere ministre</td>\n",
       "      <td>service de la protection sdlp</td>\n",
       "      <td>administration centrale ou ministere</td>\n",
       "      <td></td>\n",
       "    </tr>\n",
       "    <tr>\n",
       "      <th>4</th>\n",
       "      <td>direction de l information legale et administrative premiere ministre</td>\n",
       "      <td>service national d accueil telephonique de l enfance en danger snated</td>\n",
       "      <td>groupement d interet public</td>\n",
       "      <td></td>\n",
       "    </tr>\n",
       "  </tbody>\n",
       "</table>\n",
       "</div>"
      ],
      "text/plain": [
       "                                                               copyright  \\\n",
       "0  direction de l information legale et administrative premiere ministre   \n",
       "1  direction de l information legale et administrative premiere ministre   \n",
       "2  direction de l information legale et administrative premiere ministre   \n",
       "3  direction de l information legale et administrative premiere ministre   \n",
       "4  direction de l information legale et administrative premiere ministre   \n",
       "\n",
       "                                                                     nom  \\\n",
       "0                                     bureau de coordination strategique   \n",
       "1                    direction de l information legale et administrative   \n",
       "2                bureau de la simplification et de la qualite de service   \n",
       "3                                          service de la protection sdlp   \n",
       "4  service national d accueil telephonique de l enfance en danger snated   \n",
       "\n",
       "                         type_organisme sigle  \n",
       "0  administration centrale ou ministere        \n",
       "1  administration centrale ou ministere  dila  \n",
       "2  administration centrale ou ministere        \n",
       "3  administration centrale ou ministere        \n",
       "4           groupement d interet public        "
      ]
     },
     "execution_count": 49,
     "metadata": {},
     "output_type": "execute_result"
    }
   ],
   "source": [
    "services_clean.head(5)"
   ]
  },
  {
   "cell_type": "markdown",
   "metadata": {},
   "source": [
    "### Traitement offres"
   ]
  },
  {
   "cell_type": "code",
   "execution_count": 14,
   "metadata": {},
   "outputs": [],
   "source": [
    "offres_df = pd.concat([offres_2023_df,offres_2022_df])"
   ]
  },
  {
   "cell_type": "code",
   "execution_count": 15,
   "metadata": {},
   "outputs": [],
   "source": [
    "offres_df.columns = offres_df.columns.map(remove_accent).map(remove_punctuation).map(tolower).map(lambda s: s.replace(' ', '_'))"
   ]
  },
  {
   "cell_type": "markdown",
   "metadata": {},
   "source": [
    " offres_df[offres_df['metier'].str.contains('scientist|engineer',na=False)].head(2)"
   ]
  },
  {
   "cell_type": "code",
   "execution_count": 17,
   "metadata": {},
   "outputs": [],
   "source": [
    "offres_df_clean = ( offres_df\n",
    "    .pipe(remove_accent_from_df,['organisme_de_rattachement','metier','intitule_du_poste','localisation_du_poste'])\n",
    "    .pipe(remove_punctuation_from_df,['organisme_de_rattachement','metier','intitule_du_poste','localisation_du_poste'])\n",
    "    .pipe(tolower_df,['organisme_de_rattachement','metier','intitule_du_poste','localisation_du_poste'])\n",
    ")"
   ]
  },
  {
   "cell_type": "code",
   "execution_count": 67,
   "metadata": {},
   "outputs": [
    {
     "data": {
      "text/html": [
       "<div>\n",
       "<style scoped>\n",
       "    .dataframe tbody tr th:only-of-type {\n",
       "        vertical-align: middle;\n",
       "    }\n",
       "\n",
       "    .dataframe tbody tr th {\n",
       "        vertical-align: top;\n",
       "    }\n",
       "\n",
       "    .dataframe thead th {\n",
       "        text-align: right;\n",
       "    }\n",
       "</style>\n",
       "<table border=\"1\" class=\"dataframe\">\n",
       "  <thead>\n",
       "    <tr style=\"text-align: right;\">\n",
       "      <th></th>\n",
       "      <th>organisme_de_rattachement</th>\n",
       "      <th>metier</th>\n",
       "      <th>intitule_du_poste</th>\n",
       "      <th>localisation_du_poste</th>\n",
       "    </tr>\n",
       "  </thead>\n",
       "  <tbody>\n",
       "    <tr>\n",
       "      <th>0</th>\n",
       "      <td>structures de cooperation territoriale</td>\n",
       "      <td>chargee charge de politique environnementale</td>\n",
       "      <td>geomaticien ne ecologue syndicat mixte de gestion du conservatoire botanique</td>\n",
       "      <td>haute loire</td>\n",
       "    </tr>\n",
       "    <tr>\n",
       "      <th>1</th>\n",
       "      <td>structures de cooperation territoriale</td>\n",
       "      <td>chargee charge de politique environnementale</td>\n",
       "      <td>charge e mission flore habitats naturels vegetations agro pastorales</td>\n",
       "      <td>haute loire</td>\n",
       "    </tr>\n",
       "  </tbody>\n",
       "</table>\n",
       "</div>"
      ],
      "text/plain": [
       "                organisme_de_rattachement  \\\n",
       "0  structures de cooperation territoriale   \n",
       "1  structures de cooperation territoriale   \n",
       "\n",
       "                                         metier  \\\n",
       "0  chargee charge de politique environnementale   \n",
       "1  chargee charge de politique environnementale   \n",
       "\n",
       "                                                              intitule_du_poste  \\\n",
       "0  geomaticien ne ecologue syndicat mixte de gestion du conservatoire botanique   \n",
       "1          charge e mission flore habitats naturels vegetations agro pastorales   \n",
       "\n",
       "  localisation_du_poste  \n",
       "0           haute loire  \n",
       "1           haute loire  "
      ]
     },
     "execution_count": 67,
     "metadata": {},
     "output_type": "execute_result"
    }
   ],
   "source": [
    "offres_df_clean = offres_df_clean[['organisme_de_rattachement','metier','intitule_du_poste','localisation_du_poste']]\n",
    "offres_df_clean.head(2)"
   ]
  },
  {
   "cell_type": "markdown",
   "metadata": {},
   "source": [
    "### Traitement Fiche de poste DNUM"
   ]
  },
  {
   "cell_type": "code",
   "execution_count": 84,
   "metadata": {},
   "outputs": [],
   "source": [
    "# Traitement des colonnes\n",
    "fdp_dinum_df.columns = fdp_dinum_df.columns.map(remove_accent).map(remove_punctuation).map(tolower).map(lambda s: s.replace(' ', '_'))"
   ]
  },
  {
   "cell_type": "code",
   "execution_count": 86,
   "metadata": {},
   "outputs": [],
   "source": [
    "fdp_clean = ( fdp_dinum_df\n",
    "    .pipe(remove_accent_from_df,['poste','intitule_du_service_demandeur_bureau_section','corps_grade','presentation','missions','competences'])\n",
    "    .pipe(remove_punctuation_from_df,['poste','intitule_du_service_demandeur_bureau_section','corps_grade','presentation','missions','competences'])\n",
    "    .pipe(tolower_df,['poste','intitule_du_service_demandeur_bureau_section','corps_grade','presentation','missions','competences'])\n",
    ")"
   ]
  },
  {
   "cell_type": "code",
   "execution_count": 88,
   "metadata": {},
   "outputs": [
    {
     "data": {
      "text/html": [
       "<div>\n",
       "<style scoped>\n",
       "    .dataframe tbody tr th:only-of-type {\n",
       "        vertical-align: middle;\n",
       "    }\n",
       "\n",
       "    .dataframe tbody tr th {\n",
       "        vertical-align: top;\n",
       "    }\n",
       "\n",
       "    .dataframe thead th {\n",
       "        text-align: right;\n",
       "    }\n",
       "</style>\n",
       "<table border=\"1\" class=\"dataframe\">\n",
       "  <thead>\n",
       "    <tr style=\"text-align: right;\">\n",
       "      <th></th>\n",
       "      <th>poste</th>\n",
       "      <th>intitule_du_service_demandeur_bureau_section</th>\n",
       "      <th>corps_grade</th>\n",
       "      <th>presentation</th>\n",
       "      <th>missions</th>\n",
       "      <th>competences</th>\n",
       "    </tr>\n",
       "  </thead>\n",
       "  <tbody>\n",
       "    <tr>\n",
       "      <th>0</th>\n",
       "      <td>gestionnaire financier</td>\n",
       "      <td>direction interministerielle du numerique secretariat general pole budget achats</td>\n",
       "      <td>secretaire administratif ve b</td>\n",
       "      <td>service de la premiere ministre place sous l autorite de la ministre de la transformation et de la fonction publiques la direction interministerielle du numerique dinum est en charge de la transformation numerique de l etat elle accompagne les ministeres conseille le gouvernement et developpe des services et ressources numeriques partagees pour les citoyens et les agents publics rejoindre la dinum c est prendre part a un collectif de pres de 200 agents reunis autour d une meme ambition creer grace au numerique le service public de demain le secretariat general de la dinum est responsable des fonctions transverses de la dinum ressources humaines communication finances logistique juridique garantissant le bon fonctionnement des services de la dinum et la qualite des conditions de travail des agents le pole budget et achats est plus particulierement en charge d assurer l execution financiere des actes de gestion de mettre en oeuvre l achat public et de contribuer a la performance et a la qualite de l execution des operations budgetaires et financieres l ensemble de ces actions porte aujourd hui sur trois programmes budgetaires et bop distincts 129 352 et 349</td>\n",
       "      <td>missions vous assurez l instruction et l execution financiere des actes de gestion de la dinum activites principales instruire saisir et suivre les actes de gestion demandes d achat services faits etc des differents programmes geres par la dinum au sein du logiciel chorus formulaires produire des restitutions et ou alertes financieres zdep56 zbud01 etc assurer l interface entre les differents acteurs de la chaine financiere services comptables et budgetaires des spm et fournisseurs afin d en garantir la fluidite contribuer a la gestion et au suivi des investissements fiec fies operations d inventaire notamment de la dinum suivre en continu le paiement et la cloture des engagements traitement des restes a payer en fonction de l evolution des priorites fixees a la dinum reorganisation en cours il elle peut etre amene e a prendre en charge d autres taches et projets</td>\n",
       "      <td>savoirs maitrise des regles et processus financiers lolf gbcp commande publique une premiere experience en gestion financiere dans la fonction publique est requise savoir faire solides connaissances de chorus coeur et formulaires connaissance et pratique souhaitees en matiere d investissement fiec fies gestion d inventaire gerer et exploiter les bases de donnees savoir etre autonomie rigueur et sens des responsabilites appetence pour le domaine du numerique solides capacites d organisation et de travail en equipe</td>\n",
       "    </tr>\n",
       "    <tr>\n",
       "      <th>1</th>\n",
       "      <td>adjoint e du de la chef fe de departement et responsable de l incubation de l operateur de produits interministeriels</td>\n",
       "      <td>direction interministerielle du numerique dinum departement de l operateur de produits interministeriels</td>\n",
       "      <td></td>\n",
       "      <td>la direction interministerielle du numerique dinum est un service de la premiere ministre place sous l autorite du ministre de la transformation et de la fonction publiques elle oriente anime soutient et coordonne les actions des administrations de l etat et celles des organismes places sous sa tutelle visant a ameliorer la qualite l efficacite l efficience et la fiabilite des services rendus par le systeme d information et de communication de l etat elle contribue a l ouverture des donnees publiques aux strategies d innovation ouverte et au travail avec les ecosystemes d innovation elle pilote la politique de mutualisation du systeme d information et de communication de l etat et peut intervenir dans la gouvernance des operations de mutualisation ainsi que dans la conception l elaboration et la mise en oeuvre de ces operations enfin elle soutient le developpement des competences dans le domaine du numerique en facilitant l emergence d une filiere professionnelle interministerielle du numerique rejoindre la dinum c est prendre part a un collectif de plus de 200 agents reunis autour d une meme ambition le numerique au service de l efficacite de l action publique le departement operateur de produits interministeriels est un collectif de 45 personnes qui construit met a disposition et opere des services numeriques d usage partage notamment un service de federation d identite electronique et des outils a a destination des agents publics impliquant en tant que de besoin les services de l etat les collectivites territoriales et la societe civile et visant a la transformation numerique des politiques et de l action publiques il peut egalement intervenir dans la gouvernance des operations de mutualisation ainsi que dans la conception l elaboration et la mise en oeuvre de ces operations</td>\n",
       "      <td>en tant qu adjoint de departement operateur de produits interministeriels et responsable du programme d incubation du departement vous animerez un collectif de 20 agents repartis en equipe produits qui experimentent et operent des services publics numeriques interministeriels mis a disposition du public des agents publics ainsi que des equipes de developpement numeriques vous construirez egalement puis diffuserez en interministeriel une approche operationnelle de la perennisation d equipes produits dans la sphere publique au sein de la dinum vous serez garant de cette organisation caracterisee par une gouvernance horizontale et par une recherche permanente de la maximisation de la valeur fournie au beneficiaire vous animerez un processus collectif d apprentissage de deliberation et de prise de decisions tout en garantissant la place aux initiatives individuelles des membres de l operateur vous preparerez avec vos equipes les comites d investissement avec la direction de la dinum pour chaque produit incube vous attacherez une importance particuliere a la trajectoire de conformite des produits operes par la dinum en matiere de securite d accessibilite de rgpd ainsi qu au service rendu aux beneficiaires disponibilite support vous engagerez des plans d amelioration continue pour chaque produit incube vous travaillerez en binome avec le la chef fe du departement activites conseiller les equipes sur les problematiques metier et techniques qu elles rencontrent mettre en place un suivi de l impact a l echelle de l operateur mettre en place l ensemble des process au niveau de l operateur s assurer que l investissement des equipes dans la qualite et la conformite est en adequation avec l impact obtenu representer l operateur aupres de differents acteurs au sein de l administration faciliter l emergence de nouvelles incubations aupres des administrations porteuses appel a innovateur veille creer une communaute de coach pour former et accompagner les intrapreuneurs du departement dans la gestion de leur produit budget rh financement comites d investissements ces activites demandent aussi d assurer la communication sur la mise en place du departement operateur documentation des actions mises en place et process instaures redaction de doctrines autour des reussites replicables organisation d evenements recurrents avec d autres operateurs de produit perenne a impact pour partager de bonnes pratiques</td>\n",
       "      <td>savoirs tres bonne culture numerique et notamment des enjeux et des defis de la transformation numerique publique expertise sur la construction de produits numeriques a impact methode agile bonne connaissance des enjeux de qualite et de conformite securite rgpd accessibilite savoirs faire competences manageriales d encadrement d equipe pluridisciplinaire en privilegiant l horizontalite capacite a reorienter des equipes pour se recentrer sur l impact capacite a interagir avec l ensemble de l ecosysteme de la dinum administration cabinets ministeriels collectivites territoriales acteurs du numerique capacites a mobiliser des disciplines diverses au service de projets complexes savoirs etre etre au service des beneficiaires des produits proposes etre systematiquement oriente e vers la creation de valeur et la qualite de service partager ses connaissances favoriser le mentorat sens de l innovation et de la creativite pour developper des solutions</td>\n",
       "    </tr>\n",
       "  </tbody>\n",
       "</table>\n",
       "</div>"
      ],
      "text/plain": [
       "                                                                                                                   poste  \\\n",
       "0                                                                                                 gestionnaire financier   \n",
       "1  adjoint e du de la chef fe de departement et responsable de l incubation de l operateur de produits interministeriels   \n",
       "\n",
       "                                                               intitule_du_service_demandeur_bureau_section  \\\n",
       "0                          direction interministerielle du numerique secretariat general pole budget achats   \n",
       "1  direction interministerielle du numerique dinum departement de l operateur de produits interministeriels   \n",
       "\n",
       "                     corps_grade  \\\n",
       "0  secretaire administratif ve b   \n",
       "1                                  \n",
       "\n",
       "                                                                                                                                                                                                                                                                                                                                                                                                                                                                                                                                                                                                                                                                                                                                                                                                                                                                                                                                                                                                                                                                                                                                                                                                                                                                                                                                                                                                                                                                                                                                                                                                                                                                                                                                                                                                                                                                       presentation  \\\n",
       "0                                                                                                                                                                                                                                                                                                                                                                                                                                                                                                                                                                                                                                                             service de la premiere ministre place sous l autorite de la ministre de la transformation et de la fonction publiques la direction interministerielle du numerique dinum est en charge de la transformation numerique de l etat elle accompagne les ministeres conseille le gouvernement et developpe des services et ressources numeriques partagees pour les citoyens et les agents publics rejoindre la dinum c est prendre part a un collectif de pres de 200 agents reunis autour d une meme ambition creer grace au numerique le service public de demain le secretariat general de la dinum est responsable des fonctions transverses de la dinum ressources humaines communication finances logistique juridique garantissant le bon fonctionnement des services de la dinum et la qualite des conditions de travail des agents le pole budget et achats est plus particulierement en charge d assurer l execution financiere des actes de gestion de mettre en oeuvre l achat public et de contribuer a la performance et a la qualite de l execution des operations budgetaires et financieres l ensemble de ces actions porte aujourd hui sur trois programmes budgetaires et bop distincts 129 352 et 349   \n",
       "1  la direction interministerielle du numerique dinum est un service de la premiere ministre place sous l autorite du ministre de la transformation et de la fonction publiques elle oriente anime soutient et coordonne les actions des administrations de l etat et celles des organismes places sous sa tutelle visant a ameliorer la qualite l efficacite l efficience et la fiabilite des services rendus par le systeme d information et de communication de l etat elle contribue a l ouverture des donnees publiques aux strategies d innovation ouverte et au travail avec les ecosystemes d innovation elle pilote la politique de mutualisation du systeme d information et de communication de l etat et peut intervenir dans la gouvernance des operations de mutualisation ainsi que dans la conception l elaboration et la mise en oeuvre de ces operations enfin elle soutient le developpement des competences dans le domaine du numerique en facilitant l emergence d une filiere professionnelle interministerielle du numerique rejoindre la dinum c est prendre part a un collectif de plus de 200 agents reunis autour d une meme ambition le numerique au service de l efficacite de l action publique le departement operateur de produits interministeriels est un collectif de 45 personnes qui construit met a disposition et opere des services numeriques d usage partage notamment un service de federation d identite electronique et des outils a a destination des agents publics impliquant en tant que de besoin les services de l etat les collectivites territoriales et la societe civile et visant a la transformation numerique des politiques et de l action publiques il peut egalement intervenir dans la gouvernance des operations de mutualisation ainsi que dans la conception l elaboration et la mise en oeuvre de ces operations   \n",
       "\n",
       "                                                                                                                                                                                                                                                                                                                                                                                                                                                                                                                                                                                                                                                                                                                                                                                                                                                                                                                                                                                                                                                                                                                                                                                                                                                                                                                                                                                                                                                                                                                                                                                                                                                                                                                                                                                                                                                                                                                                                                                                                                                                                                                                                                                                                                                                                                                                                                                                                                                                                                                      missions  \\\n",
       "0                                                                                                                                                                                                                                                                                                                                                                                                                                                                                                                                                                                                                                                                                                                                                                                                                                                                                                                                                                                                                                                                                                                                                                                                                                                                                                                                                                                                                                                                                                                                                                                                                  missions vous assurez l instruction et l execution financiere des actes de gestion de la dinum activites principales instruire saisir et suivre les actes de gestion demandes d achat services faits etc des differents programmes geres par la dinum au sein du logiciel chorus formulaires produire des restitutions et ou alertes financieres zdep56 zbud01 etc assurer l interface entre les differents acteurs de la chaine financiere services comptables et budgetaires des spm et fournisseurs afin d en garantir la fluidite contribuer a la gestion et au suivi des investissements fiec fies operations d inventaire notamment de la dinum suivre en continu le paiement et la cloture des engagements traitement des restes a payer en fonction de l evolution des priorites fixees a la dinum reorganisation en cours il elle peut etre amene e a prendre en charge d autres taches et projets   \n",
       "1  en tant qu adjoint de departement operateur de produits interministeriels et responsable du programme d incubation du departement vous animerez un collectif de 20 agents repartis en equipe produits qui experimentent et operent des services publics numeriques interministeriels mis a disposition du public des agents publics ainsi que des equipes de developpement numeriques vous construirez egalement puis diffuserez en interministeriel une approche operationnelle de la perennisation d equipes produits dans la sphere publique au sein de la dinum vous serez garant de cette organisation caracterisee par une gouvernance horizontale et par une recherche permanente de la maximisation de la valeur fournie au beneficiaire vous animerez un processus collectif d apprentissage de deliberation et de prise de decisions tout en garantissant la place aux initiatives individuelles des membres de l operateur vous preparerez avec vos equipes les comites d investissement avec la direction de la dinum pour chaque produit incube vous attacherez une importance particuliere a la trajectoire de conformite des produits operes par la dinum en matiere de securite d accessibilite de rgpd ainsi qu au service rendu aux beneficiaires disponibilite support vous engagerez des plans d amelioration continue pour chaque produit incube vous travaillerez en binome avec le la chef fe du departement activites conseiller les equipes sur les problematiques metier et techniques qu elles rencontrent mettre en place un suivi de l impact a l echelle de l operateur mettre en place l ensemble des process au niveau de l operateur s assurer que l investissement des equipes dans la qualite et la conformite est en adequation avec l impact obtenu representer l operateur aupres de differents acteurs au sein de l administration faciliter l emergence de nouvelles incubations aupres des administrations porteuses appel a innovateur veille creer une communaute de coach pour former et accompagner les intrapreuneurs du departement dans la gestion de leur produit budget rh financement comites d investissements ces activites demandent aussi d assurer la communication sur la mise en place du departement operateur documentation des actions mises en place et process instaures redaction de doctrines autour des reussites replicables organisation d evenements recurrents avec d autres operateurs de produit perenne a impact pour partager de bonnes pratiques   \n",
       "\n",
       "                                                                                                                                                                                                                                                                                                                                                                                                                                                                                                                                                                                                                                                                                                                                                                                                                                                                                                                                                                                    competences  \n",
       "0                                                                                                                                                                                                                                                                                                                                                                                                                                                        savoirs maitrise des regles et processus financiers lolf gbcp commande publique une premiere experience en gestion financiere dans la fonction publique est requise savoir faire solides connaissances de chorus coeur et formulaires connaissance et pratique souhaitees en matiere d investissement fiec fies gestion d inventaire gerer et exploiter les bases de donnees savoir etre autonomie rigueur et sens des responsabilites appetence pour le domaine du numerique solides capacites d organisation et de travail en equipe  \n",
       "1  savoirs tres bonne culture numerique et notamment des enjeux et des defis de la transformation numerique publique expertise sur la construction de produits numeriques a impact methode agile bonne connaissance des enjeux de qualite et de conformite securite rgpd accessibilite savoirs faire competences manageriales d encadrement d equipe pluridisciplinaire en privilegiant l horizontalite capacite a reorienter des equipes pour se recentrer sur l impact capacite a interagir avec l ensemble de l ecosysteme de la dinum administration cabinets ministeriels collectivites territoriales acteurs du numerique capacites a mobiliser des disciplines diverses au service de projets complexes savoirs etre etre au service des beneficiaires des produits proposes etre systematiquement oriente e vers la creation de valeur et la qualite de service partager ses connaissances favoriser le mentorat sens de l innovation et de la creativite pour developper des solutions  "
      ]
     },
     "execution_count": 88,
     "metadata": {},
     "output_type": "execute_result"
    }
   ],
   "source": [
    "fdp_clean = fdp_clean[['poste','intitule_du_service_demandeur_bureau_section','corps_grade','presentation','missions','competences']]\n",
    "fdp_clean.head(2)\n"
   ]
  },
  {
   "cell_type": "markdown",
   "metadata": {},
   "source": [
    "# Insertion des données dans Elastic Search"
   ]
  },
  {
   "cell_type": "code",
   "execution_count": 59,
   "metadata": {},
   "outputs": [],
   "source": [
    "# Paramétrage du client\n",
    "es_client = connections.create_connection(hosts=['http://elasticsearch-master:9200/'])"
   ]
  },
  {
   "cell_type": "code",
   "execution_count": 63,
   "metadata": {},
   "outputs": [],
   "source": [
    "# Fontion qui transforme un dataframe en document/index à stocker dans ElasticSearch\n",
    "def doc_generator(df,index_name):\n",
    "    df_iter = df.iterrows()\n",
    "    for index, document in df_iter:\n",
    "        yield {\n",
    "                \"_index\": index_name,\n",
    "                \"_type\": \"_doc\",\n",
    "                \"_source\": document,\n",
    "            }"
   ]
  },
  {
   "cell_type": "code",
   "execution_count": 68,
   "metadata": {},
   "outputs": [
    {
     "name": "stderr",
     "output_type": "stream",
     "text": [
      "/tmp/ipykernel_52094/3268320283.py:1: ElasticsearchWarning: Elasticsearch built-in security features are not enabled. Without authentication, your cluster could be accessible to anyone. See https://www.elastic.co/guide/en/elasticsearch/reference/7.17/security-minimal-setup.html to enable security.\n",
      "  helpers.bulk(es_client, doc_generator(offres_df_clean))\n",
      "/tmp/ipykernel_52094/3268320283.py:1: ElasticsearchWarning: [types removal] Specifying types in bulk requests is deprecated.\n",
      "  helpers.bulk(es_client, doc_generator(offres_df_clean))\n"
     ]
    },
    {
     "data": {
      "text/plain": [
       "(406755, [])"
      ]
     },
     "execution_count": 68,
     "metadata": {},
     "output_type": "execute_result"
    }
   ],
   "source": [
    "# Indexation des offres\n",
    "helpers.bulk(es_client, doc_generator(offres_df_clean,\"offres\"))"
   ]
  },
  {
   "cell_type": "code",
   "execution_count": 64,
   "metadata": {},
   "outputs": [
    {
     "name": "stderr",
     "output_type": "stream",
     "text": [
      "/tmp/ipykernel_72898/840881214.py:1: ElasticsearchWarning: Elasticsearch built-in security features are not enabled. Without authentication, your cluster could be accessible to anyone. See https://www.elastic.co/guide/en/elasticsearch/reference/7.17/security-minimal-setup.html to enable security.\n",
      "  helpers.bulk(es_client, doc_generator(services_clean,\"services\"))\n",
      "/tmp/ipykernel_72898/840881214.py:1: ElasticsearchWarning: [types removal] Specifying types in bulk requests is deprecated.\n",
      "  helpers.bulk(es_client, doc_generator(services_clean,\"services\"))\n"
     ]
    },
    {
     "data": {
      "text/plain": [
       "(7636, [])"
      ]
     },
     "execution_count": 64,
     "metadata": {},
     "output_type": "execute_result"
    }
   ],
   "source": [
    "# Indexation des services\n",
    "helpers.bulk(es_client, doc_generator(services_clean,\"services\"))"
   ]
  },
  {
   "cell_type": "code",
   "execution_count": 89,
   "metadata": {},
   "outputs": [
    {
     "name": "stderr",
     "output_type": "stream",
     "text": [
      "/tmp/ipykernel_72898/2169517871.py:2: ElasticsearchWarning: Elasticsearch built-in security features are not enabled. Without authentication, your cluster could be accessible to anyone. See https://www.elastic.co/guide/en/elasticsearch/reference/7.17/security-minimal-setup.html to enable security.\n",
      "  helpers.bulk(es_client, doc_generator(fdp_clean,\"fiches\"))\n",
      "/tmp/ipykernel_72898/2169517871.py:2: ElasticsearchWarning: [types removal] Specifying types in bulk requests is deprecated.\n",
      "  helpers.bulk(es_client, doc_generator(fdp_clean,\"fiches\"))\n"
     ]
    },
    {
     "data": {
      "text/plain": [
       "(30, [])"
      ]
     },
     "execution_count": 89,
     "metadata": {},
     "output_type": "execute_result"
    }
   ],
   "source": [
    "# Indexation des fiches de poste\n",
    "helpers.bulk(es_client, doc_generator(fdp_clean,\"fiches\"))"
   ]
  },
  {
   "cell_type": "code",
   "execution_count": 34,
   "metadata": {},
   "outputs": [],
   "source": [
    "from elasticsearch_dsl import Search\n",
    "s = Search(index='offres').query('match',metier='charge')"
   ]
  },
  {
   "cell_type": "code",
   "execution_count": 35,
   "metadata": {},
   "outputs": [
    {
     "name": "stderr",
     "output_type": "stream",
     "text": [
      "/opt/mamba/lib/python3.11/site-packages/elasticsearch_dsl/search.py:712: ElasticsearchWarning: Elasticsearch built-in security features are not enabled. Without authentication, your cluster could be accessible to anyone. See https://www.elastic.co/guide/en/elasticsearch/reference/7.17/security-minimal-setup.html to enable security.\n",
      "  es.search(index=self._index, body=self.to_dict(), **self._params).body,\n"
     ]
    }
   ],
   "source": [
    "r=s.execute()"
   ]
  },
  {
   "cell_type": "code",
   "execution_count": 36,
   "metadata": {},
   "outputs": [
    {
     "name": "stderr",
     "output_type": "stream",
     "text": [
      "/opt/mamba/lib/python3.11/site-packages/elasticsearch_dsl/search.py:728: ElasticsearchWarning: Elasticsearch built-in security features are not enabled. Without authentication, your cluster could be accessible to anyone. See https://www.elastic.co/guide/en/elasticsearch/reference/7.17/security-minimal-setup.html to enable security.\n",
      "  for hit in scan(es, query=self.to_dict(), index=self._index, **self._params):\n"
     ]
    }
   ],
   "source": [
    "df_results = pd.DataFrame((d.to_dict() for d in s.scan()))"
   ]
  },
  {
   "cell_type": "code",
   "execution_count": 38,
   "metadata": {},
   "outputs": [
    {
     "data": {
      "text/plain": [
       "153861"
      ]
     },
     "execution_count": 38,
     "metadata": {},
     "output_type": "execute_result"
    }
   ],
   "source": [
    "len(df_results)"
   ]
  },
  {
   "cell_type": "code",
   "execution_count": 56,
   "metadata": {},
   "outputs": [
    {
     "name": "stderr",
     "output_type": "stream",
     "text": [
      "/tmp/ipykernel_72898/1249916277.py:6: ElasticsearchWarning: Elasticsearch built-in security features are not enabled. Without authentication, your cluster could be accessible to anyone. See https://www.elastic.co/guide/en/elasticsearch/reference/7.17/security-minimal-setup.html to enable security.\n",
      "  fullsearch = es_client.search(index = \"offres\", # l'index dans lequel on cherche\n"
     ]
    }
   ],
   "source": [
    " # Recherche dans l'ensemble des champs le meilleur écho (le plus pertinent) #\n",
    "#fullsearch = es.search(index = \"sirus_2020\", # l'index dans lequel on cherche\n",
    "#                              q = \"CPCU - CENTRALE DE BERCY\", # notre requête textuelle\n",
    "#                              size = 1) # taille de l'ensemble les échos souhaités\n",
    "# debug? unstable behaviour?\n",
    "fullsearch = es_client.search(index = \"offres\", # l'index dans lequel on cherche\n",
    "                       q = \"service de la protection sdlp\", # notre requête textuelle\n",
    "                              size = 1) # taille de l'ensemble les échos souhaités"
   ]
  },
  {
   "cell_type": "code",
   "execution_count": 57,
   "metadata": {},
   "outputs": [
    {
     "data": {
      "text/plain": [
       "ObjectApiResponse({'took': 38, 'timed_out': False, '_shards': {'total': 1, 'successful': 1, 'skipped': 0, 'failed': 0}, 'hits': {'total': {'value': 10000, 'relation': 'gte'}, 'max_score': 13.541397, 'hits': [{'_index': 'offres', '_type': '_doc', '_id': 'mlyuJYsBWOZ9YleKE8QM', '_score': 13.541397, '_source': {'organisme_de_rattachement': 'ministere de l interieur', 'metier': 'chargee charge de gestion administrative et ou de paie', 'intitule_du_poste': 'sdlp chef du secretariat de la sous direction de la protection des personnes h f', 'localisation_du_poste': 'paris'}}]}})"
      ]
     },
     "execution_count": 57,
     "metadata": {},
     "output_type": "execute_result"
    }
   ],
   "source": [
    "fullsearch"
   ]
  },
  {
   "cell_type": "code",
   "execution_count": 129,
   "metadata": {},
   "outputs": [
    {
     "data": {
      "text/html": [
       "<div>\n",
       "<style scoped>\n",
       "    .dataframe tbody tr th:only-of-type {\n",
       "        vertical-align: middle;\n",
       "    }\n",
       "\n",
       "    .dataframe tbody tr th {\n",
       "        vertical-align: top;\n",
       "    }\n",
       "\n",
       "    .dataframe thead th {\n",
       "        text-align: right;\n",
       "    }\n",
       "</style>\n",
       "<table border=\"1\" class=\"dataframe\">\n",
       "  <thead>\n",
       "    <tr style=\"text-align: right;\">\n",
       "      <th></th>\n",
       "      <th>Métier</th>\n",
       "      <th>Intitulé du poste</th>\n",
       "    </tr>\n",
       "  </thead>\n",
       "  <tbody>\n",
       "    <tr>\n",
       "      <th>136654</th>\n",
       "      <td>architecte technique</td>\n",
       "      <td>expert conception et architecture de donnees d...</td>\n",
       "    </tr>\n",
       "    <tr>\n",
       "      <th>136668</th>\n",
       "      <td>architecte technique</td>\n",
       "      <td>expert conception et architecture de donnees d...</td>\n",
       "    </tr>\n",
       "    <tr>\n",
       "      <th>136672</th>\n",
       "      <td>architecte technique</td>\n",
       "      <td>expert conception et architecture de donnees d...</td>\n",
       "    </tr>\n",
       "  </tbody>\n",
       "</table>\n",
       "</div>"
      ],
      "text/plain": [
       "                      Métier   \n",
       "136654  architecte technique  \\\n",
       "136668  architecte technique   \n",
       "136672  architecte technique   \n",
       "\n",
       "                                        Intitulé du poste  \n",
       "136654  expert conception et architecture de donnees d...  \n",
       "136668  expert conception et architecture de donnees d...  \n",
       "136672  expert conception et architecture de donnees d...  "
      ]
     },
     "execution_count": 129,
     "metadata": {},
     "output_type": "execute_result"
    }
   ],
   "source": [
    "offres_df_clean[offres_df_clean['Métier'].str.contains(\"ux designer\",na=False)|offres_df_clean['Intitulé du poste'].str.contains(\"data designer\",na=False)][['Métier','Intitulé du poste']].head(5)"
   ]
  },
  {
   "cell_type": "code",
   "execution_count": 130,
   "metadata": {},
   "outputs": [
    {
     "data": {
      "text/plain": [
       "array(['Centre Hospitalier Universitaire de Tours',\n",
       "       \"Muséum National d'Histoire Naturelle\",\n",
       "       'Direction générale des finances publiques (DGFiP)',\n",
       "       \"Institut national de l'information géographique et forestière\",\n",
       "       \"Ministère de l'éducation nationale et de la jeunesse  -  Ministère de l'enseignement supérieur et de la recherche\",\n",
       "       'Secrétariat Général', 'Administration Centrale MENJ - MESR',\n",
       "       'Autorité des Marchés Financiers',\n",
       "       \"Agence Régionale de Santé Provence-Alpes-Côte-d'Azur\",\n",
       "       'Agence de Services et de Paiement (ASP)',\n",
       "       'Structures de coopération territoriale',\n",
       "       'Direction Interministérielle du Numérique (DINUM)',\n",
       "       'Agence Nationale de Sécurité du Médicament et des Produits de Santé',\n",
       "       'Institut de Recherche pour le Développement',\n",
       "       \"Ministère de l'Intérieur\",\n",
       "       'Direction générale des entreprises (DGE)', 'DRSD',\n",
       "       'Direction des Services Judiciaires',\n",
       "       \"Ministère des Armées - CMG d'Arcueil\",\n",
       "       'INSERM - DR Nouvelle-Aquitaine', 'Université Clermont Auvergne',\n",
       "       'Central', 'INSERM - Délégation Régionale Paris 5',\n",
       "       'Cour des Comptes',\n",
       "       'Institut national de la propriété industrielle (INPI)',\n",
       "       'Caisse des Dépôts et Consignations', \"Université Côte d'Azur\",\n",
       "       'MTES/Secrétariat Général', 'Direction du renseignement militaire',\n",
       "       'Direction des affaires financières',\n",
       "       \"Centre d'Etudes et d'Expertise sur les Risques, l'Environnement, la Mobilité et l'Aménagement (CEREMA)\",\n",
       "       'Observatoire Régional des Urgences PACA',\n",
       "       'Délégation à la transformation numérique (DTNUM)  ',\n",
       "       \"Agence Régionale de Santé Provence-Alpes-Côte-d'Azur (ARS Provence-Alpes-Côte-d'Azur) \",\n",
       "       'Sécrétariat général des armées (SGA)',\n",
       "       \"Direction de l'Animation de la Recherche, des Etudes et des Statistiques\",\n",
       "       'DRCPN/SDARH/BPATS/Personnels Techniques et Scientifiques',\n",
       "       'Université de Strasbourg', 'Mairie de Paris - DSI',\n",
       "       'Santé Publique France', 'Autorité de la Concurrence',\n",
       "       \"Direction de la Recherche, des Etudes, de l'Evaluation et des Statistiques\",\n",
       "       \"Office National d'Information sur les Enseignements et les Professions (ONISEP)\",\n",
       "       'INSERM', 'Université Paris-Saclay',\n",
       "       'Université Reims-Champagne-Ardenne',\n",
       "       'INSERM - Délégation Régionale Paris 11',\n",
       "       \"Direction Générale de l'Offre de Soins\",\n",
       "       'Direction générale de la concurrence, de la consommation et de la répression des fraudes (DGCCRF)',\n",
       "       'Conseils départementaux',\n",
       "       \"Agence Nationale de la Sécurité des Systèmes d'Information (ANSSI)\",\n",
       "       'DIRISI',\n",
       "       'Direction générale des douanes et droits indirects (DGDDI)',\n",
       "       'Ecole Nationale vétérinaire de Toulouse',\n",
       "       'Inspection générale des finances (IGF)',\n",
       "       'Direction des Finances, des Achats et des Services ',\n",
       "       'Centre National des Oeuvres Universitaires et Scolaires',\n",
       "       'Direction générale du Trésor (DGT)', 'Sénat',\n",
       "       'Secrétariat général (SG)',\n",
       "       'Groupement interministériel de contrôle (GIC)',\n",
       "       'Centre interministériel de services informatiques relatifs aux ressources humaines (CISIRH)',\n",
       "       'Rectorat de Nantes', \"Commission de Régulation de l'Energie\",\n",
       "       'INSERM-Délégation Régionale Paris 6',\n",
       "       \"Direction de l'Information Légale et Administrative (DILA)\",\n",
       "       'Centre Hospitalier Universitaire de Rennes',\n",
       "       'Ministère des Armées - CMG de Bordeaux',\n",
       "       'Hospices civils de Lyon (CHU Lyon)',\n",
       "       \"Services départementaux d'incendie et de secours\",\n",
       "       \"Direction Générale de l'Aménagement, du Logement et de la Nature (DGALN)\",\n",
       "       'GIP Pulsy',\n",
       "       \"Agence Nationale de Sécurité Sanitaire de l'Alimentation, de l'Environnement et du Travail\",\n",
       "       'Secrétariat général - Service du numérique', \"Conseil d'Etat\",\n",
       "       'SSMSI', \"Agence pour l'informatique financière de l'Etat (AIFE)\",\n",
       "       'Haute Autorité de Santé',\n",
       "       'Agence Régionale de Santé Pays-de-la-Loire', 'Météo France',\n",
       "       \"Université d'Angers\",\n",
       "       'Sorbonne Université – Faculté des Sciences et Ingénierie',\n",
       "       'Inspection Générale des Affaires Sociales', 'IMT Nord Europe',\n",
       "       'Direction du Numérique ',\n",
       "       'Agence Régionale de Santé Ile-de-France',\n",
       "       'Agence Nationale de la Recherche'], dtype=object)"
      ]
     },
     "execution_count": 130,
     "metadata": {},
     "output_type": "execute_result"
    }
   ],
   "source": [
    "offres_df_clean[offres_df_clean['Métier'].str.contains(\"data scientist\",na=False)|offres_df_clean['Intitulé du poste'].str.contains(\"data scientist\",na=False)]['Organisme de rattachement'].unique()"
   ]
  },
  {
   "cell_type": "code",
   "execution_count": null,
   "metadata": {},
   "outputs": [],
   "source": [
    "offres_df_clean[]"
   ]
  }
 ],
 "metadata": {
  "kernelspec": {
   "display_name": "base",
   "language": "python",
   "name": "python3"
  },
  "language_info": {
   "codemirror_mode": {
    "name": "ipython",
    "version": 3
   },
   "file_extension": ".py",
   "mimetype": "text/x-python",
   "name": "python",
   "nbconvert_exporter": "python",
   "pygments_lexer": "ipython3",
   "version": "3.11.4"
  },
  "orig_nbformat": 4
 },
 "nbformat": 4,
 "nbformat_minor": 2
}
