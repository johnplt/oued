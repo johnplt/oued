{
 "cells": [
  {
   "attachments": {},
   "cell_type": "markdown",
   "metadata": {},
   "source": [
    "# Library imports, configurations"
   ]
  },
  {
   "cell_type": "code",
   "execution_count": 3,
   "metadata": {},
   "outputs": [
    {
     "name": "stderr",
     "output_type": "stream",
     "text": [
      "[nltk_data] Downloading package punkt to /home/onyxia/nltk_data...\n",
      "[nltk_data]   Package punkt is already up-to-date!\n"
     ]
    }
   ],
   "source": [
    "import os\n",
    "import re\n",
    "import s3fs\n",
    "import pandas as pd\n",
    "import requests\n",
    "import json\n",
    "pd.set_option('display.max_columns', None)\n",
    "pd.set_option('display.max_colwidth', None)\n",
    "from unidecode import unidecode\n",
    "from wordcloud import WordCloud\n",
    "import nltk\n",
    "nltk.download('punkt')\n",
    "\n",
    "from stop_words import get_stop_words\n",
    "import unicodedata\n",
    "\n",
    "from nltk.tokenize import word_tokenize\n",
    "from elasticsearch import Elasticsearch\n",
    "from elasticsearch import helpers\n",
    "from elasticsearch_dsl import connections\n",
    "from bs4 import BeautifulSoup as bs"
   ]
  },
  {
   "cell_type": "code",
   "execution_count": 11,
   "metadata": {},
   "outputs": [],
   "source": [
    "# Create filesystem object\n",
    "S3_ENDPOINT_URL = \"https://\" + os.environ[\"AWS_S3_ENDPOINT\"]\n",
    "fs = s3fs.S3FileSystem(client_kwargs={'endpoint_url': S3_ENDPOINT_URL})"
   ]
  },
  {
   "cell_type": "code",
   "execution_count": 12,
   "metadata": {},
   "outputs": [
    {
     "data": {
      "text/plain": [
       "['jplaton/diffusion/.keep',\n",
       " 'jplaton/diffusion/ted',\n",
       " 'jplaton/diffusion/visio_mel']"
      ]
     },
     "execution_count": 12,
     "metadata": {},
     "output_type": "execute_result"
    }
   ],
   "source": [
    "BUCKET = \"jplaton/diffusion\"\n",
    "fs.ls(BUCKET)"
   ]
  },
  {
   "cell_type": "code",
   "execution_count": 13,
   "metadata": {},
   "outputs": [
    {
     "data": {
      "text/plain": [
       "['clementg/diffusion/.keep',\n",
       " 'clementg/diffusion/Fiche de Poste DINUM - francetransfert-3595970061- pdf.csv']"
      ]
     },
     "execution_count": 13,
     "metadata": {},
     "output_type": "execute_result"
    }
   ],
   "source": [
    "BUCKET_CLEM = \"clementg/diffusion\"\n",
    "fs.ls(BUCKET_CLEM)"
   ]
  },
  {
   "cell_type": "markdown",
   "metadata": {},
   "source": [
    "# Functions"
   ]
  },
  {
   "cell_type": "code",
   "execution_count": 14,
   "metadata": {},
   "outputs": [],
   "source": [
    "# Suppression des accents\n",
    "\n",
    "def remove_accent(s):\n",
    "\n",
    "    s = unidecode(str(s))\n",
    "    return(s)\n",
    "\n",
    "# Suppression de la ponctuation\n",
    "\n",
    "def remove_punctuation(s):\n",
    "    # On retire la ponctuation\n",
    " \n",
    "    s = re.sub(r'[^A-Za-z0-9]',' ',str(s))\n",
    "    return(s)\n",
    "\n",
    "# Réduction de la casse\n",
    "\n",
    "def tolower(s):\n",
    "    s = ' '.join(str(s).lower().split())\n",
    "    return(s)\n",
    "\n",
    "\n",
    "# Sur cette base, on crée une petite fonction qui retire les stop words\n",
    "stopwords = get_stop_words('french')   \n",
    "stopwords = [unicodedata.normalize('NFKD',m).encode('ASCII', 'ignore').decode() for m in stopwords]\n",
    "\n",
    "def remove_stopwords(s):\n",
    "    s = [w for w in word_tokenize(s) if w not in stopwords]\n",
    "    s = ' '.join(s)\n",
    "    return(s)\n",
    "\n",
    "def remove_accent_from_df(df,list_cols):\n",
    "    df_c =  df.copy()\n",
    "    df_c[list_cols] = df_c[list_cols].map(remove_accent)\n",
    "    return df_c\n",
    "\n",
    "def remove_punctuation_from_df(df,list_cols):\n",
    "    df_c =  df.copy()\n",
    "    df_c[list_cols] = df_c[list_cols].map(remove_punctuation)\n",
    "    return df_c\n",
    "\n",
    "def tolower_df(df,list_cols):\n",
    "    df_c =  df.copy()\n",
    "    df_c[list_cols] = df_c[list_cols].map(tolower)\n",
    "    return df_c\n",
    "\n",
    "# Scraping de annuaire service public pour aller chercher les services à aprtir des ids\n",
    "def get_service_from_scraping(service_id):\n",
    "    try:\n",
    "        url=f'https://lannuaire.service-public.fr/gouvernement/{service_id}'\n",
    "        response = requests.get(url)\n",
    "        html = response.content\n",
    "        soup = bs(html, \"lxml\")\n",
    "        return soup.title.get_text().replace(' - Annuaire | Service-public.fr', '')\n",
    "    except:\n",
    "        return ''"
   ]
  },
  {
   "attachments": {},
   "cell_type": "markdown",
   "metadata": {},
   "source": [
    "# DATA Download"
   ]
  },
  {
   "cell_type": "code",
   "execution_count": 15,
   "metadata": {},
   "outputs": [
    {
     "name": "stderr",
     "output_type": "stream",
     "text": [
      "/tmp/ipykernel_11954/4280061390.py:5: DtypeWarning: Columns (22) have mixed types. Specify dtype option on import or set low_memory=False.\n",
      "  offres_2023_df = pd.read_csv(file_in, sep=\";\")\n",
      "/tmp/ipykernel_11954/4280061390.py:8: DtypeWarning: Columns (22) have mixed types. Specify dtype option on import or set low_memory=False.\n",
      "  offres_2022_df = pd.read_csv(file_in, sep=\";\")\n"
     ]
    }
   ],
   "source": [
    "FILE_PATH_TED = \"ted\"\n",
    "FILE_PATH_TED_S3 = BUCKET + \"/\" + FILE_PATH_TED\n",
    "\n",
    "with fs.open(FILE_PATH_TED_S3+\"/offres-datagouv-20230409.csv\", mode=\"rb\") as file_in:\n",
    "    offres_2023_df = pd.read_csv(file_in, sep=\";\")\n",
    "\n",
    "with fs.open(FILE_PATH_TED_S3+\"/offres-datagouv-20221225.csv\", mode=\"rb\") as file_in:   \n",
    "    offres_2022_df = pd.read_csv(file_in, sep=\";\")\n",
    "\n",
    "with fs.open(FILE_PATH_TED_S3+\"/Bulloterie_10_Saison_2.xlsx\", mode=\"rb\") as file_in:  \n",
    "    bulloterie_df =  pd.read_excel(file_in, sheet_name=0,header=[0,1])\n"
   ]
  },
  {
   "cell_type": "code",
   "execution_count": 17,
   "metadata": {},
   "outputs": [],
   "source": [
    "with fs.open(BUCKET_CLEM+\"/Fiche de Poste DINUM - francetransfert-3595970061- pdf.csv\", mode=\"rb\") as file_in:\n",
    "    fdp_dinum_df = pd.read_csv(file_in, sep=\";\",encoding='Windows-1252')"
   ]
  },
  {
   "cell_type": "code",
   "execution_count": 16,
   "metadata": {},
   "outputs": [],
   "source": [
    "with fs.open(FILE_PATH_TED_S3+\"/dila_refOrga_admin_Etat_fr_20230505.json\", mode=\"rb\") as file_in:  \n",
    "    orga =  json.load(file_in)"
   ]
  },
  {
   "cell_type": "markdown",
   "metadata": {},
   "source": [
    "### Traitement référentiel services"
   ]
  },
  {
   "cell_type": "code",
   "execution_count": 9,
   "metadata": {},
   "outputs": [],
   "source": [
    "orga_df = pd.json_normalize(orga,record_path='service')"
   ]
  },
  {
   "cell_type": "code",
   "execution_count": null,
   "metadata": {},
   "outputs": [],
   "source": [
    "orga_df['services_fils'] = orga_df['hierarchie'].map(lambda x: [x[i]['service'] for i in range(len(x))])"
   ]
  },
  {
   "cell_type": "code",
   "execution_count": 94,
   "metadata": {},
   "outputs": [],
   "source": [
    "services_clean = ( orga_df\n",
    "    .pipe(remove_accent_from_df,['nom','type_organisme','sigle','services_fils'])\n",
    "    .pipe(remove_punctuation_from_df,['nom','type_organisme','sigle','services_fils'])\n",
    "    .pipe(tolower_df,['nom','type_organisme','sigle','services_fils'])\n",
    ")"
   ]
  },
  {
   "cell_type": "code",
   "execution_count": 95,
   "metadata": {},
   "outputs": [],
   "source": [
    "services_clean = services_clean[['nom','type_organisme','sigle']] #,'services_fils' #services_clean[services_clean['services_fils'].map(len)==1]"
   ]
  },
  {
   "cell_type": "code",
   "execution_count": 96,
   "metadata": {},
   "outputs": [
    {
     "data": {
      "text/html": [
       "<div>\n",
       "<style scoped>\n",
       "    .dataframe tbody tr th:only-of-type {\n",
       "        vertical-align: middle;\n",
       "    }\n",
       "\n",
       "    .dataframe tbody tr th {\n",
       "        vertical-align: top;\n",
       "    }\n",
       "\n",
       "    .dataframe thead th {\n",
       "        text-align: right;\n",
       "    }\n",
       "</style>\n",
       "<table border=\"1\" class=\"dataframe\">\n",
       "  <thead>\n",
       "    <tr style=\"text-align: right;\">\n",
       "      <th></th>\n",
       "      <th>nom</th>\n",
       "      <th>type_organisme</th>\n",
       "      <th>sigle</th>\n",
       "    </tr>\n",
       "  </thead>\n",
       "  <tbody>\n",
       "    <tr>\n",
       "      <th>0</th>\n",
       "      <td>bureau de coordination strategique</td>\n",
       "      <td>administration centrale ou ministere</td>\n",
       "      <td></td>\n",
       "    </tr>\n",
       "    <tr>\n",
       "      <th>1</th>\n",
       "      <td>direction de l information legale et administrative</td>\n",
       "      <td>administration centrale ou ministere</td>\n",
       "      <td>dila</td>\n",
       "    </tr>\n",
       "    <tr>\n",
       "      <th>2</th>\n",
       "      <td>bureau de la simplification et de la qualite de service</td>\n",
       "      <td>administration centrale ou ministere</td>\n",
       "      <td></td>\n",
       "    </tr>\n",
       "    <tr>\n",
       "      <th>3</th>\n",
       "      <td>service de la protection sdlp</td>\n",
       "      <td>administration centrale ou ministere</td>\n",
       "      <td></td>\n",
       "    </tr>\n",
       "    <tr>\n",
       "      <th>4</th>\n",
       "      <td>service national d accueil telephonique de l enfance en danger snated</td>\n",
       "      <td>groupement d interet public</td>\n",
       "      <td></td>\n",
       "    </tr>\n",
       "  </tbody>\n",
       "</table>\n",
       "</div>"
      ],
      "text/plain": [
       "                                                                     nom  \\\n",
       "0                                     bureau de coordination strategique   \n",
       "1                    direction de l information legale et administrative   \n",
       "2                bureau de la simplification et de la qualite de service   \n",
       "3                                          service de la protection sdlp   \n",
       "4  service national d accueil telephonique de l enfance en danger snated   \n",
       "\n",
       "                         type_organisme sigle  \n",
       "0  administration centrale ou ministere        \n",
       "1  administration centrale ou ministere  dila  \n",
       "2  administration centrale ou ministere        \n",
       "3  administration centrale ou ministere        \n",
       "4           groupement d interet public        "
      ]
     },
     "execution_count": 96,
     "metadata": {},
     "output_type": "execute_result"
    }
   ],
   "source": [
    "services_clean.head(5)"
   ]
  },
  {
   "cell_type": "markdown",
   "metadata": {},
   "source": [
    "### Traitement offres"
   ]
  },
  {
   "cell_type": "code",
   "execution_count": 18,
   "metadata": {},
   "outputs": [],
   "source": [
    "offres_df = pd.concat([offres_2023_df,offres_2022_df])"
   ]
  },
  {
   "cell_type": "code",
   "execution_count": 19,
   "metadata": {},
   "outputs": [],
   "source": [
    "offres_df.columns = offres_df.columns.map(remove_accent).map(remove_punctuation).map(tolower).map(lambda s: s.replace(' ', '_'))"
   ]
  },
  {
   "cell_type": "markdown",
   "metadata": {},
   "source": [
    " offres_df[offres_df['metier'].str.contains('scientist|engineer',na=False)].head(2)"
   ]
  },
  {
   "cell_type": "code",
   "execution_count": 20,
   "metadata": {},
   "outputs": [],
   "source": [
    "offres_df_clean = ( offres_df\n",
    "    .pipe(remove_accent_from_df,['organisme_de_rattachement','metier','intitule_du_poste','localisation_du_poste'])\n",
    "    .pipe(remove_punctuation_from_df,['organisme_de_rattachement','metier','intitule_du_poste','localisation_du_poste'])\n",
    "    .pipe(tolower_df,['organisme_de_rattachement','metier','intitule_du_poste','localisation_du_poste'])\n",
    ")"
   ]
  },
  {
   "cell_type": "code",
   "execution_count": 21,
   "metadata": {},
   "outputs": [],
   "source": [
    "offres_df_clean = offres_df_clean[['organisme_de_rattachement','metier','intitule_du_poste','localisation_du_poste']] #offres_df_clean[offres_df_clean['metier'].str.contains(\"ux designer\",na=False)|offres_df_clean['intitule_du_poste'].str.contains(\"data designer\",na=False)].head(5)"
   ]
  },
  {
   "cell_type": "code",
   "execution_count": 22,
   "metadata": {},
   "outputs": [
    {
     "data": {
      "text/html": [
       "<div>\n",
       "<style scoped>\n",
       "    .dataframe tbody tr th:only-of-type {\n",
       "        vertical-align: middle;\n",
       "    }\n",
       "\n",
       "    .dataframe tbody tr th {\n",
       "        vertical-align: top;\n",
       "    }\n",
       "\n",
       "    .dataframe thead th {\n",
       "        text-align: right;\n",
       "    }\n",
       "</style>\n",
       "<table border=\"1\" class=\"dataframe\">\n",
       "  <thead>\n",
       "    <tr style=\"text-align: right;\">\n",
       "      <th></th>\n",
       "      <th>organisme_de_rattachement</th>\n",
       "      <th>metier</th>\n",
       "      <th>intitule_du_poste</th>\n",
       "      <th>localisation_du_poste</th>\n",
       "    </tr>\n",
       "  </thead>\n",
       "  <tbody>\n",
       "    <tr>\n",
       "      <th>0</th>\n",
       "      <td>structures de cooperation territoriale</td>\n",
       "      <td>chargee charge de politique environnementale</td>\n",
       "      <td>geomaticien ne ecologue syndicat mixte de gestion du conservatoire botanique</td>\n",
       "      <td>haute loire 43</td>\n",
       "    </tr>\n",
       "    <tr>\n",
       "      <th>1</th>\n",
       "      <td>structures de cooperation territoriale</td>\n",
       "      <td>chargee charge de politique environnementale</td>\n",
       "      <td>charge e mission flore habitats naturels vegetations agro pastorales</td>\n",
       "      <td>haute loire 43</td>\n",
       "    </tr>\n",
       "    <tr>\n",
       "      <th>2</th>\n",
       "      <td>structures de cooperation territoriale</td>\n",
       "      <td>chargee charge de politique environnementale</td>\n",
       "      <td>charge e de missions scientifiques et techniques</td>\n",
       "      <td>haute loire 43</td>\n",
       "    </tr>\n",
       "    <tr>\n",
       "      <th>3</th>\n",
       "      <td>structures de cooperation territoriale</td>\n",
       "      <td>plombiere operatrice chauffagiste plombier operateur chauffagiste en froid et ventilation</td>\n",
       "      <td>agent de maintenance des batiments communaute de communes lacq orthez cclo</td>\n",
       "      <td>pyrenees atlantiques 64</td>\n",
       "    </tr>\n",
       "    <tr>\n",
       "      <th>4</th>\n",
       "      <td>centres communaux d action sociale</td>\n",
       "      <td>educatrice educateur de jeunes enfants</td>\n",
       "      <td>puericulteur rice educateur rice de jeunes enfants c c a s de fleurance</td>\n",
       "      <td>gers 32</td>\n",
       "    </tr>\n",
       "  </tbody>\n",
       "</table>\n",
       "</div>"
      ],
      "text/plain": [
       "                organisme_de_rattachement  \\\n",
       "0  structures de cooperation territoriale   \n",
       "1  structures de cooperation territoriale   \n",
       "2  structures de cooperation territoriale   \n",
       "3  structures de cooperation territoriale   \n",
       "4      centres communaux d action sociale   \n",
       "\n",
       "                                                                                      metier  \\\n",
       "0                                               chargee charge de politique environnementale   \n",
       "1                                               chargee charge de politique environnementale   \n",
       "2                                               chargee charge de politique environnementale   \n",
       "3  plombiere operatrice chauffagiste plombier operateur chauffagiste en froid et ventilation   \n",
       "4                                                     educatrice educateur de jeunes enfants   \n",
       "\n",
       "                                                              intitule_du_poste  \\\n",
       "0  geomaticien ne ecologue syndicat mixte de gestion du conservatoire botanique   \n",
       "1          charge e mission flore habitats naturels vegetations agro pastorales   \n",
       "2                              charge e de missions scientifiques et techniques   \n",
       "3    agent de maintenance des batiments communaute de communes lacq orthez cclo   \n",
       "4       puericulteur rice educateur rice de jeunes enfants c c a s de fleurance   \n",
       "\n",
       "     localisation_du_poste  \n",
       "0           haute loire 43  \n",
       "1           haute loire 43  \n",
       "2           haute loire 43  \n",
       "3  pyrenees atlantiques 64  \n",
       "4                  gers 32  "
      ]
     },
     "execution_count": 22,
     "metadata": {},
     "output_type": "execute_result"
    }
   ],
   "source": [
    "offres_df_clean.head(5)"
   ]
  },
  {
   "cell_type": "markdown",
   "metadata": {},
   "source": [
    "### Traitement Fiche de poste DNUM"
   ]
  },
  {
   "cell_type": "code",
   "execution_count": 14,
   "metadata": {},
   "outputs": [],
   "source": [
    "# Traitement des colonnes\n",
    "fdp_dinum_df.columns = fdp_dinum_df.columns.map(remove_accent).map(remove_punctuation).map(tolower).map(lambda s: s.replace(' ', '_'))"
   ]
  },
  {
   "cell_type": "code",
   "execution_count": 15,
   "metadata": {},
   "outputs": [],
   "source": [
    "fdp_clean = ( fdp_dinum_df\n",
    "    .pipe(remove_accent_from_df,['poste','intitule_du_service_demandeur_bureau_section','corps_grade','presentation','missions','competences'])\n",
    "    .pipe(remove_punctuation_from_df,['poste','intitule_du_service_demandeur_bureau_section','corps_grade','presentation','missions','competences'])\n",
    "    .pipe(tolower_df,['poste','intitule_du_service_demandeur_bureau_section','corps_grade','presentation','missions','competences'])\n",
    ")"
   ]
  },
  {
   "cell_type": "code",
   "execution_count": 16,
   "metadata": {},
   "outputs": [],
   "source": [
    "fdp_clean = fdp_clean[['poste','intitule_du_service_demandeur_bureau_section','corps_grade','presentation','missions','competences']] #fdp_clean.head(2)\n"
   ]
  },
  {
   "cell_type": "markdown",
   "metadata": {},
   "source": [
    "# Insertion des données dans Elastic Search"
   ]
  },
  {
   "cell_type": "code",
   "execution_count": 4,
   "metadata": {},
   "outputs": [],
   "source": [
    "# Paramétrage du client\n",
    "es_client = connections.create_connection(hosts=['http://elasticsearch-master:9200/'])"
   ]
  },
  {
   "cell_type": "code",
   "execution_count": 5,
   "metadata": {},
   "outputs": [],
   "source": [
    "# Fontion qui transforme un dataframe en document/index à stocker dans ElasticSearch\n",
    "def doc_generator(df,index_name):\n",
    "    df_iter = df.iterrows()\n",
    "    for index, document in df_iter:\n",
    "        yield {\n",
    "                \"_index\": index_name,\n",
    "                \"_type\": \"_doc\",\n",
    "                \"_source\": document,\n",
    "            }"
   ]
  },
  {
   "cell_type": "code",
   "execution_count": 68,
   "metadata": {},
   "outputs": [
    {
     "name": "stderr",
     "output_type": "stream",
     "text": [
      "/tmp/ipykernel_52094/3268320283.py:1: ElasticsearchWarning: Elasticsearch built-in security features are not enabled. Without authentication, your cluster could be accessible to anyone. See https://www.elastic.co/guide/en/elasticsearch/reference/7.17/security-minimal-setup.html to enable security.\n",
      "  helpers.bulk(es_client, doc_generator(offres_df_clean))\n",
      "/tmp/ipykernel_52094/3268320283.py:1: ElasticsearchWarning: [types removal] Specifying types in bulk requests is deprecated.\n",
      "  helpers.bulk(es_client, doc_generator(offres_df_clean))\n"
     ]
    },
    {
     "data": {
      "text/plain": [
       "(406755, [])"
      ]
     },
     "execution_count": 68,
     "metadata": {},
     "output_type": "execute_result"
    }
   ],
   "source": [
    "# Indexation des offres\n",
    "helpers.bulk(es_client, doc_generator(offres_df_clean,\"offres\"))"
   ]
  },
  {
   "cell_type": "code",
   "execution_count": 73,
   "metadata": {},
   "outputs": [
    {
     "name": "stderr",
     "output_type": "stream",
     "text": [
      "/tmp/ipykernel_69563/1014443642.py:2: ElasticsearchWarning: Elasticsearch built-in security features are not enabled. Without authentication, your cluster could be accessible to anyone. See https://www.elastic.co/guide/en/elasticsearch/reference/7.17/security-minimal-setup.html to enable security.\n",
      "  helpers.bulk(es_client, doc_generator(services_clean,\"services\"))\n",
      "/tmp/ipykernel_69563/1014443642.py:2: ElasticsearchWarning: [types removal] Specifying types in bulk requests is deprecated.\n",
      "  helpers.bulk(es_client, doc_generator(services_clean,\"services\"))\n"
     ]
    },
    {
     "data": {
      "text/plain": [
       "(7636, [])"
      ]
     },
     "execution_count": 73,
     "metadata": {},
     "output_type": "execute_result"
    }
   ],
   "source": [
    "# Indexation des services\n",
    "helpers.bulk(es_client, doc_generator(services_clean,\"services\"))"
   ]
  },
  {
   "cell_type": "code",
   "execution_count": 89,
   "metadata": {},
   "outputs": [
    {
     "name": "stderr",
     "output_type": "stream",
     "text": [
      "/tmp/ipykernel_72898/2169517871.py:2: ElasticsearchWarning: Elasticsearch built-in security features are not enabled. Without authentication, your cluster could be accessible to anyone. See https://www.elastic.co/guide/en/elasticsearch/reference/7.17/security-minimal-setup.html to enable security.\n",
      "  helpers.bulk(es_client, doc_generator(fdp_clean,\"fiches\"))\n",
      "/tmp/ipykernel_72898/2169517871.py:2: ElasticsearchWarning: [types removal] Specifying types in bulk requests is deprecated.\n",
      "  helpers.bulk(es_client, doc_generator(fdp_clean,\"fiches\"))\n"
     ]
    },
    {
     "data": {
      "text/plain": [
       "(30, [])"
      ]
     },
     "execution_count": 89,
     "metadata": {},
     "output_type": "execute_result"
    }
   ],
   "source": [
    "# Indexation des fiches de poste\n",
    "helpers.bulk(es_client, doc_generator(fdp_clean,\"fiches\"))"
   ]
  },
  {
   "cell_type": "code",
   "execution_count": 19,
   "metadata": {},
   "outputs": [],
   "source": [
    "from elasticsearch_dsl import Search\n",
    "s = Search(index='offres').query('match',metier='charge')"
   ]
  },
  {
   "cell_type": "code",
   "execution_count": 20,
   "metadata": {},
   "outputs": [
    {
     "name": "stderr",
     "output_type": "stream",
     "text": [
      "/opt/mamba/lib/python3.11/site-packages/elasticsearch_dsl/search.py:712: ElasticsearchWarning: Elasticsearch built-in security features are not enabled. Without authentication, your cluster could be accessible to anyone. See https://www.elastic.co/guide/en/elasticsearch/reference/7.17/security-minimal-setup.html to enable security.\n",
      "  es.search(index=self._index, body=self.to_dict(), **self._params).body,\n"
     ]
    }
   ],
   "source": [
    "r=s.execute()"
   ]
  },
  {
   "cell_type": "code",
   "execution_count": 21,
   "metadata": {},
   "outputs": [
    {
     "name": "stderr",
     "output_type": "stream",
     "text": [
      "/opt/mamba/lib/python3.11/site-packages/elasticsearch_dsl/search.py:728: ElasticsearchWarning: Elasticsearch built-in security features are not enabled. Without authentication, your cluster could be accessible to anyone. See https://www.elastic.co/guide/en/elasticsearch/reference/7.17/security-minimal-setup.html to enable security.\n",
      "  for hit in scan(es, query=self.to_dict(), index=self._index, **self._params):\n"
     ]
    }
   ],
   "source": [
    "df_results = pd.DataFrame((d.to_dict() for d in s.scan()))"
   ]
  },
  {
   "cell_type": "code",
   "execution_count": 133,
   "metadata": {},
   "outputs": [
    {
     "data": {
      "text/html": [
       "<div>\n",
       "<style scoped>\n",
       "    .dataframe tbody tr th:only-of-type {\n",
       "        vertical-align: middle;\n",
       "    }\n",
       "\n",
       "    .dataframe tbody tr th {\n",
       "        vertical-align: top;\n",
       "    }\n",
       "\n",
       "    .dataframe thead th {\n",
       "        text-align: right;\n",
       "    }\n",
       "</style>\n",
       "<table border=\"1\" class=\"dataframe\">\n",
       "  <thead>\n",
       "    <tr style=\"text-align: right;\">\n",
       "      <th></th>\n",
       "      <th>organisme_de_rattachement</th>\n",
       "      <th>metier</th>\n",
       "      <th>intitule_du_poste</th>\n",
       "      <th>localisation_du_poste</th>\n",
       "    </tr>\n",
       "  </thead>\n",
       "  <tbody>\n",
       "    <tr>\n",
       "      <th>0</th>\n",
       "      <td>universite paris saclay</td>\n",
       "      <td>chargee charge de controle interne budgetaire et comptable</td>\n",
       "      <td>gestionnaire des operations financieres h f</td>\n",
       "      <td>essonne</td>\n",
       "    </tr>\n",
       "    <tr>\n",
       "      <th>1</th>\n",
       "      <td>structures de cooperation territoriale</td>\n",
       "      <td>chargee charge de developpement territorial</td>\n",
       "      <td>che fe de projet petites villes de demain com com du civraisien en poitou</td>\n",
       "      <td>vienne</td>\n",
       "    </tr>\n",
       "    <tr>\n",
       "      <th>2</th>\n",
       "      <td>centres communaux d action sociale</td>\n",
       "      <td>chargee charge de gestion administrative et ou de paie</td>\n",
       "      <td>assistant charge du portage de repas et du logement h f</td>\n",
       "      <td>morbihan</td>\n",
       "    </tr>\n",
       "    <tr>\n",
       "      <th>3</th>\n",
       "      <td>conseils departementaux</td>\n",
       "      <td>chargee charge de gestion administrative et ou de paie</td>\n",
       "      <td>secretaire du service crip conseil departemental de la gironde</td>\n",
       "      <td>gironde</td>\n",
       "    </tr>\n",
       "    <tr>\n",
       "      <th>4</th>\n",
       "      <td>communes</td>\n",
       "      <td>chargee charge d amenagement des espaces verts et de production vegetale</td>\n",
       "      <td>agent d entretien des espaces verts h f le petit quevilly</td>\n",
       "      <td>seine maritime</td>\n",
       "    </tr>\n",
       "    <tr>\n",
       "      <th>...</th>\n",
       "      <td>...</td>\n",
       "      <td>...</td>\n",
       "      <td>...</td>\n",
       "      <td>...</td>\n",
       "    </tr>\n",
       "    <tr>\n",
       "      <th>153856</th>\n",
       "      <td>communes</td>\n",
       "      <td>chargee charge de l instruction de dossiers administratifs</td>\n",
       "      <td>instructeur instructrice des demandes autorisations droits des sols commune d aix en provence</td>\n",
       "      <td>bouches du rhone</td>\n",
       "    </tr>\n",
       "    <tr>\n",
       "      <th>153857</th>\n",
       "      <td>communes</td>\n",
       "      <td>chargee charge des d exploitation des equipements sportifs et ludiques</td>\n",
       "      <td>chef d equipe exploitation h f lyon</td>\n",
       "      <td>rhone</td>\n",
       "    </tr>\n",
       "    <tr>\n",
       "      <th>153858</th>\n",
       "      <td>direction des achats de l etat dae</td>\n",
       "      <td>chargee charge de conduite des politiques publiques</td>\n",
       "      <td>dae consultant interne etudes actions d optimisation des achats de l etat et de ses operateurs h f</td>\n",
       "      <td>paris</td>\n",
       "    </tr>\n",
       "    <tr>\n",
       "      <th>153859</th>\n",
       "      <td>communes</td>\n",
       "      <td>chargee charge de l instruction de dossiers administratifs</td>\n",
       "      <td>agent des formalites civiles commune d aix en provence</td>\n",
       "      <td>bouches du rhone</td>\n",
       "    </tr>\n",
       "    <tr>\n",
       "      <th>153860</th>\n",
       "      <td>communes</td>\n",
       "      <td>responsable d encadrement d equipe ou charge de surveillance</td>\n",
       "      <td>chef de police h f commune des saintes maries de la mer</td>\n",
       "      <td>bouches du rhone</td>\n",
       "    </tr>\n",
       "  </tbody>\n",
       "</table>\n",
       "<p>153861 rows × 4 columns</p>\n",
       "</div>"
      ],
      "text/plain": [
       "                     organisme_de_rattachement  \\\n",
       "0                      universite paris saclay   \n",
       "1       structures de cooperation territoriale   \n",
       "2           centres communaux d action sociale   \n",
       "3                      conseils departementaux   \n",
       "4                                     communes   \n",
       "...                                        ...   \n",
       "153856                                communes   \n",
       "153857                                communes   \n",
       "153858      direction des achats de l etat dae   \n",
       "153859                                communes   \n",
       "153860                                communes   \n",
       "\n",
       "                                                                          metier  \\\n",
       "0                     chargee charge de controle interne budgetaire et comptable   \n",
       "1                                    chargee charge de developpement territorial   \n",
       "2                         chargee charge de gestion administrative et ou de paie   \n",
       "3                         chargee charge de gestion administrative et ou de paie   \n",
       "4       chargee charge d amenagement des espaces verts et de production vegetale   \n",
       "...                                                                          ...   \n",
       "153856                chargee charge de l instruction de dossiers administratifs   \n",
       "153857    chargee charge des d exploitation des equipements sportifs et ludiques   \n",
       "153858                       chargee charge de conduite des politiques publiques   \n",
       "153859                chargee charge de l instruction de dossiers administratifs   \n",
       "153860              responsable d encadrement d equipe ou charge de surveillance   \n",
       "\n",
       "                                                                                         intitule_du_poste  \\\n",
       "0                                                              gestionnaire des operations financieres h f   \n",
       "1                                che fe de projet petites villes de demain com com du civraisien en poitou   \n",
       "2                                                  assistant charge du portage de repas et du logement h f   \n",
       "3                                           secretaire du service crip conseil departemental de la gironde   \n",
       "4                                                agent d entretien des espaces verts h f le petit quevilly   \n",
       "...                                                                                                    ...   \n",
       "153856       instructeur instructrice des demandes autorisations droits des sols commune d aix en provence   \n",
       "153857                                                                 chef d equipe exploitation h f lyon   \n",
       "153858  dae consultant interne etudes actions d optimisation des achats de l etat et de ses operateurs h f   \n",
       "153859                                              agent des formalites civiles commune d aix en provence   \n",
       "153860                                             chef de police h f commune des saintes maries de la mer   \n",
       "\n",
       "       localisation_du_poste  \n",
       "0                    essonne  \n",
       "1                     vienne  \n",
       "2                   morbihan  \n",
       "3                    gironde  \n",
       "4             seine maritime  \n",
       "...                      ...  \n",
       "153856      bouches du rhone  \n",
       "153857                 rhone  \n",
       "153858                 paris  \n",
       "153859      bouches du rhone  \n",
       "153860      bouches du rhone  \n",
       "\n",
       "[153861 rows x 4 columns]"
      ]
     },
     "execution_count": 133,
     "metadata": {},
     "output_type": "execute_result"
    }
   ],
   "source": [
    "df_results"
   ]
  },
  {
   "cell_type": "code",
   "execution_count": 6,
   "metadata": {},
   "outputs": [
    {
     "name": "stderr",
     "output_type": "stream",
     "text": [
      "/tmp/ipykernel_11954/3955335858.py:2: ElasticsearchWarning: Elasticsearch built-in security features are not enabled. Without authentication, your cluster could be accessible to anyone. See https://www.elastic.co/guide/en/elasticsearch/reference/7.17/security-minimal-setup.html to enable security.\n",
      "  fullsearch_easy = es_client.search(index = \"services\", # l'index dans lequel on cherche\n"
     ]
    }
   ],
   "source": [
    " # Recherche dans l'ensemble des champs le meilleur écho (le plus pertinent) #\n",
    "fullsearch_easy = es_client.search(index = \"services\", # l'index dans lequel on cherche\n",
    "                       q = \"direction generale des finances publiques dgfip\tdata scientis ssi dpn dtnum bureau si mission service a l utilisateur data scientist expert h f\", # notre requête textuelle\n",
    "                              size = 1) # taille de l'ensemble les échos souhaités"
   ]
  },
  {
   "cell_type": "code",
   "execution_count": 7,
   "metadata": {},
   "outputs": [
    {
     "data": {
      "text/plain": [
       "ObjectApiResponse({'took': 14, 'timed_out': False, '_shards': {'total': 1, 'successful': 1, 'skipped': 0, 'failed': 0}, 'hits': {'total': {'value': 6310, 'relation': 'eq'}, 'max_score': 27.02822, 'hits': [{'_index': 'services', '_type': '_doc', '_id': 'QbHPPYsB1My3OOFZX1kn', '_score': 27.02822, '_ignored': ['services_fils.keyword'], '_source': {'nom': 'direction generale des finances publiques dgfip', 'type_organisme': 'administration centrale ou ministere', 'sigle': '', 'services_fils': 'cabinet et communication cabinet international delegation aux relations internationales delegation a la transformation numerique dtnum mission de cooperation internationale mission strategie des relations avec les differents publics mission unification du recouvrement fiscal murf direction de l immobilier de l etat direction de la legislation fiscale service de la securite juridique et du controle fiscal sjcf service de la gestion fiscale gf service des gestions publiques locales des activites bancaires et economiques service de la fonction financiere et comptable de l etat 2fce service des ressources humaines rh service strategie pilotage budget spib service des systemes d information si service des retraites de l etat sre service d enquetes judiciaires des finances'}}]}})"
      ]
     },
     "execution_count": 7,
     "metadata": {},
     "output_type": "execute_result"
    }
   ],
   "source": [
    "fullsearch_easy"
   ]
  },
  {
   "cell_type": "code",
   "execution_count": 100,
   "metadata": {},
   "outputs": [
    {
     "name": "stderr",
     "output_type": "stream",
     "text": [
      "/tmp/ipykernel_72898/2210460514.py:2: ElasticsearchWarning: Elasticsearch built-in security features are not enabled. Without authentication, your cluster could be accessible to anyone. See https://www.elastic.co/guide/en/elasticsearch/reference/7.17/security-minimal-setup.html to enable security.\n",
      "  fullsearch1 = es_client.search(index = \"services\", # l'index dans lequel on cherche\n"
     ]
    }
   ],
   "source": [
    " # Recherche dans l'ensemble des champs le meilleur écho (le plus pertinent) #\n",
    "fullsearch_scientist = es_client.search(index = \"services\", # l'index dans lequel on cherche\n",
    "                       q = \"centre hospitalier universitaire de tours\tdata scientist datascientist centre de donnees cliniques\", # notre requête textuelle\n",
    "                              size = 1) # taille de l'ensemble les échos souhaités"
   ]
  },
  {
   "cell_type": "code",
   "execution_count": 101,
   "metadata": {},
   "outputs": [
    {
     "data": {
      "text/plain": [
       "ObjectApiResponse({'took': 6, 'timed_out': False, '_shards': {'total': 1, 'successful': 1, 'skipped': 0, 'failed': 0}, 'hits': {'total': {'value': 7636, 'relation': 'eq'}, 'max_score': 15.201317, 'hits': [{'_index': 'services', '_type': '_doc', '_id': 'DrFaKIsB1My3OOFZEzmY', '_score': 15.201317, '_source': {'copyright': 'direction de l information legale et administrative premiere ministre', 'nom': 'centre de valorisation des ressources humaines cvrh de tours', 'type_organisme': 'service a competence nationale', 'sigle': ''}}]}})"
      ]
     },
     "execution_count": 101,
     "metadata": {},
     "output_type": "execute_result"
    }
   ],
   "source": [
    "fullsearch_scientist"
   ]
  },
  {
   "cell_type": "code",
   "execution_count": 103,
   "metadata": {},
   "outputs": [
    {
     "name": "stderr",
     "output_type": "stream",
     "text": [
      "/tmp/ipykernel_72898/1096055904.py:2: ElasticsearchWarning: Elasticsearch built-in security features are not enabled. Without authentication, your cluster could be accessible to anyone. See https://www.elastic.co/guide/en/elasticsearch/reference/7.17/security-minimal-setup.html to enable security.\n",
      "  fullsearch_engineer= es_client.search(index = \"services\", # l'index dans lequel on cherche\n"
     ]
    }
   ],
   "source": [
    " # Recherche dans l'ensemble des champs le meilleur écho (le plus pertinent) #\n",
    "fullsearch_engineer= es_client.search(index = \"services\", # l'index dans lequel on cherche\n",
    "                       q = \"service hydrographique et oceanographique de la marine\tdata engineer\tingenieur en traitement de l information conception developpement et experimentation d ia h f\", # notre requête textuelle\n",
    "                              size = 1) # taille de l'ensemble les échos souhaités"
   ]
  },
  {
   "cell_type": "code",
   "execution_count": 104,
   "metadata": {},
   "outputs": [
    {
     "data": {
      "text/plain": [
       "ObjectApiResponse({'took': 23, 'timed_out': False, '_shards': {'total': 1, 'successful': 1, 'skipped': 0, 'failed': 0}, 'hits': {'total': {'value': 7636, 'relation': 'eq'}, 'max_score': 27.117067, 'hits': [{'_index': 'services', '_type': '_doc', '_id': 't7FaKIsB1My3OOFZFT--', '_score': 27.117067, '_source': {'copyright': 'direction de l information legale et administrative premiere ministre', 'nom': 'service hydrographique et oceanographique de la marine shom', 'type_organisme': 'etablissement public', 'sigle': ''}}]}})"
      ]
     },
     "execution_count": 104,
     "metadata": {},
     "output_type": "execute_result"
    }
   ],
   "source": [
    "fullsearch_engineer"
   ]
  },
  {
   "cell_type": "code",
   "execution_count": 106,
   "metadata": {},
   "outputs": [
    {
     "name": "stderr",
     "output_type": "stream",
     "text": [
      "/tmp/ipykernel_72898/3294352241.py:1: ElasticsearchWarning: Elasticsearch built-in security features are not enabled. Without authentication, your cluster could be accessible to anyone. See https://www.elastic.co/guide/en/elasticsearch/reference/7.17/security-minimal-setup.html to enable security.\n",
      "  fullsearch_designer = es_client.search(index = \"services\", # l'index dans lequel on cherche\n"
     ]
    }
   ],
   "source": [
    "fullsearch_designer = es_client.search(index = \"services\", # l'index dans lequel on cherche\n",
    "                       q = \"caisse des depots et consignations\tarchitecte technique expert conception et architecture de donnees d entreprise data designer h f\t\", # notre requête textuelle\n",
    "                              size = 1) # taille de l'ensemble les échos souhaités"
   ]
  },
  {
   "cell_type": "code",
   "execution_count": 107,
   "metadata": {},
   "outputs": [
    {
     "data": {
      "text/plain": [
       "ObjectApiResponse({'took': 17, 'timed_out': False, '_shards': {'total': 1, 'successful': 1, 'skipped': 0, 'failed': 0}, 'hits': {'total': {'value': 7636, 'relation': 'eq'}, 'max_score': 21.853615, 'hits': [{'_index': 'services', '_type': '_doc', '_id': 'RbFaKIsB1My3OOFZEDBa', '_score': 21.853615, '_source': {'copyright': 'direction de l information legale et administrative premiere ministre', 'nom': 'caisse des depots et consignations cdc', 'type_organisme': 'juridiction', 'sigle': ''}}]}})"
      ]
     },
     "execution_count": 107,
     "metadata": {},
     "output_type": "execute_result"
    }
   ],
   "source": [
    "fullsearch_designer"
   ]
  },
  {
   "cell_type": "code",
   "execution_count": 24,
   "metadata": {},
   "outputs": [],
   "source": [
    "def get_services(es,query):\n",
    "    fullsearch = es.search(index = \"services\", # l'index dans lequel on cherche\n",
    "                       q = query, # notre requête textuelle\n",
    "                       size = 1)\n",
    "    return fullsearch['hits']['hits'][0]['_source']['services_fils']"
   ]
  },
  {
   "cell_type": "code",
   "execution_count": 25,
   "metadata": {},
   "outputs": [],
   "source": [
    "def add_services(df, list_cols,es):\n",
    "    df['service'] = df[list_cols].apply(lambda row: get_services(es,' '.join(row.values.astype(str))), axis=1)\n",
    "    return df"
   ]
  },
  {
   "cell_type": "code",
   "execution_count": 9,
   "metadata": {},
   "outputs": [
    {
     "name": "stderr",
     "output_type": "stream",
     "text": [
      "/tmp/ipykernel_11954/1125244949.py:2: ElasticsearchWarning: Elasticsearch built-in security features are not enabled. Without authentication, your cluster could be accessible to anyone. See https://www.elastic.co/guide/en/elasticsearch/reference/7.17/security-minimal-setup.html to enable security.\n",
      "  fullsearch = es.search(index = \"services\", # l'index dans lequel on cherche\n"
     ]
    },
    {
     "data": {
      "text/plain": [
       "'caisse des depots et consignations cdc direction regionale antilles guyane caisse des depots et consignations cdc direction regionale auvergne rhone alpes caisse des depots et consignations cdc direction regionale bourgogne franche comte caisse des depots et consignations cdc direction regionale bretagne caisse des depots et consignations cdc direction regionale centre val de loire caisse des depots et consignations cdc direction regionale corse caisse des depots et consignations cdc direction regionale grand est caisse des depots et consignations cdc direction regionale hauts de france caisse des depots et consignations cdc direction regionale normandie caisse des depots et consignations cdc direction regionale nouvelle aquitaine caisse des depots et consignations cdc direction regionale pays de la loire caisse des depots et consignations cdc direction regionale provence alpes cote d azur caisse des depots et consignations cdc direction regionale reunion ocean indien caisse des depots et consignations cdc direction regionale occitanie'"
      ]
     },
     "execution_count": 9,
     "metadata": {},
     "output_type": "execute_result"
    }
   ],
   "source": [
    "get_services(es_client,\"caisse des depots et consignations\tarchitecte technique expert conception et architecture de donnees d entreprise data designer h f\")"
   ]
  },
  {
   "cell_type": "code",
   "execution_count": 26,
   "metadata": {},
   "outputs": [
    {
     "name": "stderr",
     "output_type": "stream",
     "text": [
      "/tmp/ipykernel_11954/1125244949.py:2: ElasticsearchWarning: Elasticsearch built-in security features are not enabled. Without authentication, your cluster could be accessible to anyone. See https://www.elastic.co/guide/en/elasticsearch/reference/7.17/security-minimal-setup.html to enable security.\n",
      "  fullsearch = es.search(index = \"services\", # l'index dans lequel on cherche\n",
      "/tmp/ipykernel_11954/2305960098.py:2: SettingWithCopyWarning: \n",
      "A value is trying to be set on a copy of a slice from a DataFrame.\n",
      "Try using .loc[row_indexer,col_indexer] = value instead\n",
      "\n",
      "See the caveats in the documentation: https://pandas.pydata.org/pandas-docs/stable/user_guide/indexing.html#returning-a-view-versus-a-copy\n",
      "  df['service'] = df[list_cols].apply(lambda row: get_services(es,' '.join(row.values.astype(str))), axis=1)\n"
     ]
    }
   ],
   "source": [
    "list_cols = ['organisme_de_rattachement','metier','intitule_du_poste','localisation_du_poste']\n",
    "offres_df_temp = offres_df_clean[offres_df_clean['metier'].str.contains(\"data scientist\",na=False)|offres_df_clean['intitule_du_poste'].str.contains(\"data scientist\",na=False)]\n",
    "offres_with_services =  offres_df_temp.head(50).pipe(add_services,list_cols,es_client)"
   ]
  },
  {
   "cell_type": "code",
   "execution_count": 148,
   "metadata": {},
   "outputs": [
    {
     "name": "stderr",
     "output_type": "stream",
     "text": [
      "/tmp/ipykernel_72898/198050217.py:2: ElasticsearchWarning: Elasticsearch built-in security features are not enabled. Without authentication, your cluster could be accessible to anyone. See https://www.elastic.co/guide/en/elasticsearch/reference/7.17/security-minimal-setup.html to enable security.\n",
      "  fullsearch = es.search(index = \"services\", # l'index dans lequel on cherche\n",
      "/tmp/ipykernel_72898/2305960098.py:2: SettingWithCopyWarning: \n",
      "A value is trying to be set on a copy of a slice from a DataFrame.\n",
      "Try using .loc[row_indexer,col_indexer] = value instead\n",
      "\n",
      "See the caveats in the documentation: https://pandas.pydata.org/pandas-docs/stable/user_guide/indexing.html#returning-a-view-versus-a-copy\n",
      "  df['service'] = df[list_cols].apply(lambda row: get_services(es,' '.join(row.values.astype(str))), axis=1)\n"
     ]
    }
   ],
   "source": [
    "list_cols = ['poste','intitule_du_service_demandeur_bureau_section','corps_grade'] #,'presentation','missions','competences'\n",
    "fdp_temp = fdp_clean[fdp_clean['poste'].str.contains(\"data engineer\",na=False)|fdp_clean['competences'].str.contains(\"data engineer\",na=False)]\n",
    "fdp_with_services =  fdp_temp.pipe(add_services,list_cols,es_client)"
   ]
  },
  {
   "cell_type": "code",
   "execution_count": 149,
   "metadata": {},
   "outputs": [
    {
     "data": {
      "text/html": [
       "<div>\n",
       "<style scoped>\n",
       "    .dataframe tbody tr th:only-of-type {\n",
       "        vertical-align: middle;\n",
       "    }\n",
       "\n",
       "    .dataframe tbody tr th {\n",
       "        vertical-align: top;\n",
       "    }\n",
       "\n",
       "    .dataframe thead th {\n",
       "        text-align: right;\n",
       "    }\n",
       "</style>\n",
       "<table border=\"1\" class=\"dataframe\">\n",
       "  <thead>\n",
       "    <tr style=\"text-align: right;\">\n",
       "      <th></th>\n",
       "      <th>poste</th>\n",
       "      <th>intitule_du_service_demandeur_bureau_section</th>\n",
       "      <th>corps_grade</th>\n",
       "      <th>presentation</th>\n",
       "      <th>missions</th>\n",
       "      <th>competences</th>\n",
       "      <th>service</th>\n",
       "    </tr>\n",
       "  </thead>\n",
       "  <tbody>\n",
       "    <tr>\n",
       "      <th>24</th>\n",
       "      <td>ingenieur data f h</td>\n",
       "      <td>direction interministerielle du numerique dinum departement etalab</td>\n",
       "      <td></td>\n",
       "      <td>la direction interministerielle du numerique dinum est un service de la premiere ministre place sous l autorite du ministre de la transformation et de la fonction publiques elle oriente anime soutient et coordonne les actions des administrations de l etat et celles des organismes places sous sa tutelle visant a ameliorer la qualite l efficacite l efficience et la fiabilite des services rendus par le systeme d information et de communication de l etat elle contribue a l ouverture des donnees publiques aux strategies d innovation ouverte et au travail avec les ecosystemes d innovation elle pilote la politique de mutualisation du systeme d information et de communication de l etat et peut intervenir dans la gouvernance des operations de mutualisation ainsi que dans la conception l elaboration et la mise en oeuvre de ces operations enfin elle soutient le developpement des competences de l etat et des organismes places sous sa tutelle dans le domaine du numerique en facilitant l emergence d une filiere professionnelle interministerielle du numerique rejoindre la dinum c est prendre part a un collectif de plus de 200 agents reunis autour d une meme ambition le numerique au service de l efficacite de l action publique la le titulaire du poste integre le departement etalab de la dinum etalab vise a valoriser et exploiter les donnees comme levier d efficacite de l action publique il coordonne la conception et la mise en oeuvre de la strategie de l etat dans le domaine de la donnee il promeut l action de l etat en matiere d ouverture de circulation et d exploitation des donnees publiques il accompagne les administrations dans l usage de la data science de l intelligence artificielle et diffuse une culture de l innovation ouverte au sein des administrations</td>\n",
       "      <td>au sein du datalab l ingenieur e data travaille avec un product owner des data scientists et un analyste de donnees pour developper des cas d usages mobilisant des donnees et a fort impact au sein d une equipe produit suivant la methode agile l agent a pour mission de mettre en place des outils de traitement de la donnee pour realiser des cas d usage il elle met en oeuvre des traitements sur les donnees manipulees dans le cadre des cas d usage portes par le datalab afin de favoriser et de faciliter la reutilisation de celles ci par son equipe vous serez amene e a utiliser et mettre en oeuvre des outils de traitements et de stockage de donnees bases de donnees pour faciliter leur mise a jour et leur mise a disposition vous serez sensible a la question de la securite et de l administration systeme et gererez cette problematique dans les infrastructures data que vous utiliserez a ce titre vous collaborerez etroitement avec le responsable datasecops f h de l equipe faciliter l interoperabilite des donnees en integrant des variables pivots permettant le croisement avec d autres donnees et vous assurer du respect de bonnes pratiques techniques permettant une meilleure exploitation des donnees pour cela vous integrerez les dimensions de completude d unicite de conformite de tracabilite et de coconformite de tracabilite et de coherence des donnees garantir les bonnes pratiques de developpements appliquees sur les donnees traitements montee en qualite calculs d indicateurs dans l optique de maximiser l impact de projet data a fort potentiel veiller a ce que les outils et traitements developpes dans le cadre du datalab soient transferables aux entites chargees de les executer en production dans les administrations lorsque les cas d usage data ont demontre leur impact et sont finalises mener une veille technologique active pour mobiliser les meilleures technologies au cours de la realisation de vos missions vous devriez etre en veille permanente pour detecter des projets a impact a valoriser ou a accompagner vous pourriez par ailleurs etre amene e a renforcer ponctuellement les autres agents du departement suivant l interet du service enfin en fonction de l evolution des priorites fixees a la dinum et au departement etalab vous pourrez etre amene e a prendre ponctuellement en charge d autres taches et projets</td>\n",
       "      <td>de formation superieure bac 5 vous disposez d une experience d au moins 5 ans en ingenierie de donnees vous etes un e expert e de la donnee a ce titre vous etes sensible a la question de la qualite des donnees et a leur accessibilite vous disposez egalement de tres bonnes connaissances dans la mise en place d outils de stockage de donnees minio elasticsearch postgres mongo etc de traitement de donnees apache arrow et spark python pandas polars etc d ordonnancement de flux airflow prefect luigi dbt etc bonnes connaissances en developpement backend notamment dans la mise en oeuvre d api et en administration systeme linux docker connaissance de l ecosysteme des outils libres connaissance du droit de la donnee et des enjeux juridiques lies au traitement des donnees sensibles bonne connaissance des donnees manipulees au sein de l administration serait un plus expertise dans les outils lies a l exploitation de la donnee data engineering solides competences en developpement python pandas polars arrow etc et en outils de developpement operationnel git ci cd docker airflow etc capacite a contribuer sur des logiciels libres force de proposition rigueur reactivite esprit analytique et de synthese</td>\n",
       "      <td>direction interministerielle du numerique dinum</td>\n",
       "    </tr>\n",
       "  </tbody>\n",
       "</table>\n",
       "</div>"
      ],
      "text/plain": [
       "                 poste  \\\n",
       "24  ingenieur data f h   \n",
       "\n",
       "                          intitule_du_service_demandeur_bureau_section  \\\n",
       "24  direction interministerielle du numerique dinum departement etalab   \n",
       "\n",
       "   corps_grade  \\\n",
       "24               \n",
       "\n",
       "                                                                                                                                                                                                                                                                                                                                                                                                                                                                                                                                                                                                                                                                                                                                                                                                                                                                                                                                                                                                                                                                                                                                                                                                                                                                                                                                                                                                                                                                                                                                                                                                                                                                                                                                                                                                                                        presentation  \\\n",
       "24  la direction interministerielle du numerique dinum est un service de la premiere ministre place sous l autorite du ministre de la transformation et de la fonction publiques elle oriente anime soutient et coordonne les actions des administrations de l etat et celles des organismes places sous sa tutelle visant a ameliorer la qualite l efficacite l efficience et la fiabilite des services rendus par le systeme d information et de communication de l etat elle contribue a l ouverture des donnees publiques aux strategies d innovation ouverte et au travail avec les ecosystemes d innovation elle pilote la politique de mutualisation du systeme d information et de communication de l etat et peut intervenir dans la gouvernance des operations de mutualisation ainsi que dans la conception l elaboration et la mise en oeuvre de ces operations enfin elle soutient le developpement des competences de l etat et des organismes places sous sa tutelle dans le domaine du numerique en facilitant l emergence d une filiere professionnelle interministerielle du numerique rejoindre la dinum c est prendre part a un collectif de plus de 200 agents reunis autour d une meme ambition le numerique au service de l efficacite de l action publique la le titulaire du poste integre le departement etalab de la dinum etalab vise a valoriser et exploiter les donnees comme levier d efficacite de l action publique il coordonne la conception et la mise en oeuvre de la strategie de l etat dans le domaine de la donnee il promeut l action de l etat en matiere d ouverture de circulation et d exploitation des donnees publiques il accompagne les administrations dans l usage de la data science de l intelligence artificielle et diffuse une culture de l innovation ouverte au sein des administrations   \n",
       "\n",
       "                                                                                                                                                                                                                                                                                                                                                                                                                                                                                                                                                                                                                                                                                                                                                                                                                                                                                                                                                                                                                                                                                                                                                                                                                                                                                                                                                                                                                                                                                                                                                                                                                                                                                                                                                                                                                                                                                                                                                                                                                                                                                                                                                                                                                                                                                                                                                                                                                               missions  \\\n",
       "24  au sein du datalab l ingenieur e data travaille avec un product owner des data scientists et un analyste de donnees pour developper des cas d usages mobilisant des donnees et a fort impact au sein d une equipe produit suivant la methode agile l agent a pour mission de mettre en place des outils de traitement de la donnee pour realiser des cas d usage il elle met en oeuvre des traitements sur les donnees manipulees dans le cadre des cas d usage portes par le datalab afin de favoriser et de faciliter la reutilisation de celles ci par son equipe vous serez amene e a utiliser et mettre en oeuvre des outils de traitements et de stockage de donnees bases de donnees pour faciliter leur mise a jour et leur mise a disposition vous serez sensible a la question de la securite et de l administration systeme et gererez cette problematique dans les infrastructures data que vous utiliserez a ce titre vous collaborerez etroitement avec le responsable datasecops f h de l equipe faciliter l interoperabilite des donnees en integrant des variables pivots permettant le croisement avec d autres donnees et vous assurer du respect de bonnes pratiques techniques permettant une meilleure exploitation des donnees pour cela vous integrerez les dimensions de completude d unicite de conformite de tracabilite et de coconformite de tracabilite et de coherence des donnees garantir les bonnes pratiques de developpements appliquees sur les donnees traitements montee en qualite calculs d indicateurs dans l optique de maximiser l impact de projet data a fort potentiel veiller a ce que les outils et traitements developpes dans le cadre du datalab soient transferables aux entites chargees de les executer en production dans les administrations lorsque les cas d usage data ont demontre leur impact et sont finalises mener une veille technologique active pour mobiliser les meilleures technologies au cours de la realisation de vos missions vous devriez etre en veille permanente pour detecter des projets a impact a valoriser ou a accompagner vous pourriez par ailleurs etre amene e a renforcer ponctuellement les autres agents du departement suivant l interet du service enfin en fonction de l evolution des priorites fixees a la dinum et au departement etalab vous pourrez etre amene e a prendre ponctuellement en charge d autres taches et projets   \n",
       "\n",
       "                                                                                                                                                                                                                                                                                                                                                                                                                                                                                                                                                                                                                                                                                                                                                                                                                                                                                                                                                                                                                                                                                                                                                                                                                                             competences  \\\n",
       "24  de formation superieure bac 5 vous disposez d une experience d au moins 5 ans en ingenierie de donnees vous etes un e expert e de la donnee a ce titre vous etes sensible a la question de la qualite des donnees et a leur accessibilite vous disposez egalement de tres bonnes connaissances dans la mise en place d outils de stockage de donnees minio elasticsearch postgres mongo etc de traitement de donnees apache arrow et spark python pandas polars etc d ordonnancement de flux airflow prefect luigi dbt etc bonnes connaissances en developpement backend notamment dans la mise en oeuvre d api et en administration systeme linux docker connaissance de l ecosysteme des outils libres connaissance du droit de la donnee et des enjeux juridiques lies au traitement des donnees sensibles bonne connaissance des donnees manipulees au sein de l administration serait un plus expertise dans les outils lies a l exploitation de la donnee data engineering solides competences en developpement python pandas polars arrow etc et en outils de developpement operationnel git ci cd docker airflow etc capacite a contribuer sur des logiciels libres force de proposition rigueur reactivite esprit analytique et de synthese   \n",
       "\n",
       "                                            service  \n",
       "24  direction interministerielle du numerique dinum  "
      ]
     },
     "execution_count": 149,
     "metadata": {},
     "output_type": "execute_result"
    }
   ],
   "source": [
    "fdp_with_services"
   ]
  }
 ],
 "metadata": {
  "kernelspec": {
   "display_name": "base",
   "language": "python",
   "name": "python3"
  },
  "language_info": {
   "codemirror_mode": {
    "name": "ipython",
    "version": 3
   },
   "file_extension": ".py",
   "mimetype": "text/x-python",
   "name": "python",
   "nbconvert_exporter": "python",
   "pygments_lexer": "ipython3",
   "version": "3.11.4"
  },
  "orig_nbformat": 4
 },
 "nbformat": 4,
 "nbformat_minor": 2
}
