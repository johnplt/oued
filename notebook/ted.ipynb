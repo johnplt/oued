{
 "cells": [
  {
   "attachments": {},
   "cell_type": "markdown",
   "metadata": {},
   "source": [
    "# Library imports, configurations"
   ]
  },
  {
   "cell_type": "code",
   "execution_count": 3,
   "metadata": {},
   "outputs": [],
   "source": [
    "import os\n",
    "import s3fs\n",
    "import pandas as pd"
   ]
  },
  {
   "cell_type": "code",
   "execution_count": 4,
   "metadata": {},
   "outputs": [
    {
     "ename": "ValueError",
     "evalue": "Invalid endpoint: https://",
     "output_type": "error",
     "traceback": [
      "\u001b[0;31m---------------------------------------------------------------------------\u001b[0m",
      "\u001b[0;31mValueError\u001b[0m                                Traceback (most recent call last)",
      "Cell \u001b[0;32mIn[4], line 3\u001b[0m\n\u001b[1;32m      1\u001b[0m \u001b[39m# Create filesystem object\u001b[39;00m\n\u001b[1;32m      2\u001b[0m S3_ENDPOINT_URL \u001b[39m=\u001b[39m \u001b[39m\"\u001b[39m\u001b[39mhttps://\u001b[39m\u001b[39m\"\u001b[39m \u001b[39m+\u001b[39m os\u001b[39m.\u001b[39menviron[\u001b[39m\"\u001b[39m\u001b[39mAWS_S3_ENDPOINT\u001b[39m\u001b[39m\"\u001b[39m]\n\u001b[0;32m----> 3\u001b[0m fs \u001b[39m=\u001b[39m s3fs\u001b[39m.\u001b[39;49mS3FileSystem(client_kwargs\u001b[39m=\u001b[39;49m{\u001b[39m'\u001b[39;49m\u001b[39mendpoint_url\u001b[39;49m\u001b[39m'\u001b[39;49m: S3_ENDPOINT_URL})\n",
      "File \u001b[0;32m/opt/mamba/lib/python3.10/site-packages/fsspec/spec.py:76\u001b[0m, in \u001b[0;36m_Cached.__call__\u001b[0;34m(cls, *args, **kwargs)\u001b[0m\n\u001b[1;32m     74\u001b[0m     \u001b[39mreturn\u001b[39;00m \u001b[39mcls\u001b[39m\u001b[39m.\u001b[39m_cache[token]\n\u001b[1;32m     75\u001b[0m \u001b[39melse\u001b[39;00m:\n\u001b[0;32m---> 76\u001b[0m     obj \u001b[39m=\u001b[39m \u001b[39msuper\u001b[39;49m()\u001b[39m.\u001b[39;49m\u001b[39m__call__\u001b[39;49m(\u001b[39m*\u001b[39;49margs, \u001b[39m*\u001b[39;49m\u001b[39m*\u001b[39;49mkwargs)\n\u001b[1;32m     77\u001b[0m     \u001b[39m# Setting _fs_token here causes some static linters to complain.\u001b[39;00m\n\u001b[1;32m     78\u001b[0m     obj\u001b[39m.\u001b[39m_fs_token_ \u001b[39m=\u001b[39m token\n",
      "File \u001b[0;32m/opt/mamba/lib/python3.10/site-packages/s3fs/core.py:187\u001b[0m, in \u001b[0;36mS3FileSystem.__init__\u001b[0;34m(self, anon, key, secret, token, use_ssl, client_kwargs, requester_pays, default_block_size, default_fill_cache, default_cache_type, version_aware, config_kwargs, s3_additional_kwargs, session, username, password, **kwargs)\u001b[0m\n\u001b[1;32m    185\u001b[0m \u001b[39mself\u001b[39m\u001b[39m.\u001b[39ms3_additional_kwargs \u001b[39m=\u001b[39m s3_additional_kwargs \u001b[39mor\u001b[39;00m {}\n\u001b[1;32m    186\u001b[0m \u001b[39mself\u001b[39m\u001b[39m.\u001b[39muse_ssl \u001b[39m=\u001b[39m use_ssl\n\u001b[0;32m--> 187\u001b[0m \u001b[39mself\u001b[39m\u001b[39m.\u001b[39ms3 \u001b[39m=\u001b[39m \u001b[39mself\u001b[39;49m\u001b[39m.\u001b[39;49mconnect()\n\u001b[1;32m    188\u001b[0m \u001b[39mself\u001b[39m\u001b[39m.\u001b[39m_kwargs_helper \u001b[39m=\u001b[39m ParamKwargsHelper(\u001b[39mself\u001b[39m\u001b[39m.\u001b[39ms3)\n\u001b[1;32m    189\u001b[0m \u001b[39msuper\u001b[39m()\u001b[39m.\u001b[39m\u001b[39m__init__\u001b[39m(\u001b[39m*\u001b[39m\u001b[39m*\u001b[39msuper_kwargs)\n",
      "File \u001b[0;32m/opt/mamba/lib/python3.10/site-packages/s3fs/core.py:292\u001b[0m, in \u001b[0;36mS3FileSystem.connect\u001b[0;34m(self, refresh)\u001b[0m\n\u001b[1;32m    290\u001b[0m \u001b[39melse\u001b[39;00m:\n\u001b[1;32m    291\u001b[0m     conf \u001b[39m=\u001b[39m Config(\u001b[39m*\u001b[39m\u001b[39m*\u001b[39mconfig_kwargs)\n\u001b[0;32m--> 292\u001b[0m     \u001b[39mself\u001b[39m\u001b[39m.\u001b[39ms3 \u001b[39m=\u001b[39m \u001b[39mself\u001b[39;49m\u001b[39m.\u001b[39;49msession\u001b[39m.\u001b[39;49mcreate_client(\u001b[39m'\u001b[39;49m\u001b[39ms3\u001b[39;49m\u001b[39m'\u001b[39;49m, aws_access_key_id\u001b[39m=\u001b[39;49m\u001b[39mself\u001b[39;49m\u001b[39m.\u001b[39;49mkey, aws_secret_access_key\u001b[39m=\u001b[39;49m\u001b[39mself\u001b[39;49m\u001b[39m.\u001b[39;49msecret, aws_session_token\u001b[39m=\u001b[39;49m\u001b[39mself\u001b[39;49m\u001b[39m.\u001b[39;49mtoken, config\u001b[39m=\u001b[39;49mconf, use_ssl\u001b[39m=\u001b[39;49mssl,\n\u001b[1;32m    293\u001b[0m                                 \u001b[39m*\u001b[39;49m\u001b[39m*\u001b[39;49m\u001b[39mself\u001b[39;49m\u001b[39m.\u001b[39;49mclient_kwargs)\n\u001b[1;32m    294\u001b[0m \u001b[39mreturn\u001b[39;00m \u001b[39mself\u001b[39m\u001b[39m.\u001b[39ms3\n",
      "File \u001b[0;32m/opt/mamba/lib/python3.10/site-packages/botocore/session.py:976\u001b[0m, in \u001b[0;36mSession.create_client\u001b[0;34m(self, service_name, region_name, api_version, use_ssl, verify, endpoint_url, aws_access_key_id, aws_secret_access_key, aws_session_token, config)\u001b[0m\n\u001b[1;32m    962\u001b[0m     smart_defaults_factory\u001b[39m.\u001b[39mmerge_smart_defaults(\n\u001b[1;32m    963\u001b[0m         config_store, defaults_mode, region_name\n\u001b[1;32m    964\u001b[0m     )\n\u001b[1;32m    965\u001b[0m client_creator \u001b[39m=\u001b[39m botocore\u001b[39m.\u001b[39mclient\u001b[39m.\u001b[39mClientCreator(\n\u001b[1;32m    966\u001b[0m     loader,\n\u001b[1;32m    967\u001b[0m     endpoint_resolver,\n\u001b[0;32m   (...)\u001b[0m\n\u001b[1;32m    974\u001b[0m     config_store,\n\u001b[1;32m    975\u001b[0m )\n\u001b[0;32m--> 976\u001b[0m client \u001b[39m=\u001b[39m client_creator\u001b[39m.\u001b[39;49mcreate_client(\n\u001b[1;32m    977\u001b[0m     service_name\u001b[39m=\u001b[39;49mservice_name,\n\u001b[1;32m    978\u001b[0m     region_name\u001b[39m=\u001b[39;49mregion_name,\n\u001b[1;32m    979\u001b[0m     is_secure\u001b[39m=\u001b[39;49muse_ssl,\n\u001b[1;32m    980\u001b[0m     endpoint_url\u001b[39m=\u001b[39;49mendpoint_url,\n\u001b[1;32m    981\u001b[0m     verify\u001b[39m=\u001b[39;49mverify,\n\u001b[1;32m    982\u001b[0m     credentials\u001b[39m=\u001b[39;49mcredentials,\n\u001b[1;32m    983\u001b[0m     scoped_config\u001b[39m=\u001b[39;49m\u001b[39mself\u001b[39;49m\u001b[39m.\u001b[39;49mget_scoped_config(),\n\u001b[1;32m    984\u001b[0m     client_config\u001b[39m=\u001b[39;49mconfig,\n\u001b[1;32m    985\u001b[0m     api_version\u001b[39m=\u001b[39;49mapi_version,\n\u001b[1;32m    986\u001b[0m     auth_token\u001b[39m=\u001b[39;49mauth_token,\n\u001b[1;32m    987\u001b[0m )\n\u001b[1;32m    988\u001b[0m monitor \u001b[39m=\u001b[39m \u001b[39mself\u001b[39m\u001b[39m.\u001b[39m_get_internal_component(\u001b[39m'\u001b[39m\u001b[39mmonitor\u001b[39m\u001b[39m'\u001b[39m)\n\u001b[1;32m    989\u001b[0m \u001b[39mif\u001b[39;00m monitor \u001b[39mis\u001b[39;00m \u001b[39mnot\u001b[39;00m \u001b[39mNone\u001b[39;00m:\n",
      "File \u001b[0;32m/opt/mamba/lib/python3.10/site-packages/botocore/client.py:155\u001b[0m, in \u001b[0;36mClientCreator.create_client\u001b[0;34m(self, service_name, region_name, is_secure, endpoint_url, verify, credentials, scoped_config, api_version, client_config, auth_token)\u001b[0m\n\u001b[1;32m    142\u001b[0m region_name, client_config \u001b[39m=\u001b[39m \u001b[39mself\u001b[39m\u001b[39m.\u001b[39m_normalize_fips_region(\n\u001b[1;32m    143\u001b[0m     region_name, client_config\n\u001b[1;32m    144\u001b[0m )\n\u001b[1;32m    145\u001b[0m endpoint_bridge \u001b[39m=\u001b[39m ClientEndpointBridge(\n\u001b[1;32m    146\u001b[0m     \u001b[39mself\u001b[39m\u001b[39m.\u001b[39m_endpoint_resolver,\n\u001b[1;32m    147\u001b[0m     scoped_config,\n\u001b[0;32m   (...)\u001b[0m\n\u001b[1;32m    153\u001b[0m     ),\n\u001b[1;32m    154\u001b[0m )\n\u001b[0;32m--> 155\u001b[0m client_args \u001b[39m=\u001b[39m \u001b[39mself\u001b[39;49m\u001b[39m.\u001b[39;49m_get_client_args(\n\u001b[1;32m    156\u001b[0m     service_model,\n\u001b[1;32m    157\u001b[0m     region_name,\n\u001b[1;32m    158\u001b[0m     is_secure,\n\u001b[1;32m    159\u001b[0m     endpoint_url,\n\u001b[1;32m    160\u001b[0m     verify,\n\u001b[1;32m    161\u001b[0m     credentials,\n\u001b[1;32m    162\u001b[0m     scoped_config,\n\u001b[1;32m    163\u001b[0m     client_config,\n\u001b[1;32m    164\u001b[0m     endpoint_bridge,\n\u001b[1;32m    165\u001b[0m     auth_token,\n\u001b[1;32m    166\u001b[0m     endpoints_ruleset_data,\n\u001b[1;32m    167\u001b[0m     partition_data,\n\u001b[1;32m    168\u001b[0m )\n\u001b[1;32m    169\u001b[0m service_client \u001b[39m=\u001b[39m \u001b[39mcls\u001b[39m(\u001b[39m*\u001b[39m\u001b[39m*\u001b[39mclient_args)\n\u001b[1;32m    170\u001b[0m \u001b[39mself\u001b[39m\u001b[39m.\u001b[39m_register_retries(service_client)\n",
      "File \u001b[0;32m/opt/mamba/lib/python3.10/site-packages/botocore/client.py:485\u001b[0m, in \u001b[0;36mClientCreator._get_client_args\u001b[0;34m(self, service_model, region_name, is_secure, endpoint_url, verify, credentials, scoped_config, client_config, endpoint_bridge, auth_token, endpoints_ruleset_data, partition_data)\u001b[0m\n\u001b[1;32m    462\u001b[0m \u001b[39mdef\u001b[39;00m \u001b[39m_get_client_args\u001b[39m(\n\u001b[1;32m    463\u001b[0m     \u001b[39mself\u001b[39m,\n\u001b[1;32m    464\u001b[0m     service_model,\n\u001b[0;32m   (...)\u001b[0m\n\u001b[1;32m    475\u001b[0m     partition_data,\n\u001b[1;32m    476\u001b[0m ):\n\u001b[1;32m    477\u001b[0m     args_creator \u001b[39m=\u001b[39m ClientArgsCreator(\n\u001b[1;32m    478\u001b[0m         \u001b[39mself\u001b[39m\u001b[39m.\u001b[39m_event_emitter,\n\u001b[1;32m    479\u001b[0m         \u001b[39mself\u001b[39m\u001b[39m.\u001b[39m_user_agent,\n\u001b[0;32m   (...)\u001b[0m\n\u001b[1;32m    483\u001b[0m         config_store\u001b[39m=\u001b[39m\u001b[39mself\u001b[39m\u001b[39m.\u001b[39m_config_store,\n\u001b[1;32m    484\u001b[0m     )\n\u001b[0;32m--> 485\u001b[0m     \u001b[39mreturn\u001b[39;00m args_creator\u001b[39m.\u001b[39;49mget_client_args(\n\u001b[1;32m    486\u001b[0m         service_model,\n\u001b[1;32m    487\u001b[0m         region_name,\n\u001b[1;32m    488\u001b[0m         is_secure,\n\u001b[1;32m    489\u001b[0m         endpoint_url,\n\u001b[1;32m    490\u001b[0m         verify,\n\u001b[1;32m    491\u001b[0m         credentials,\n\u001b[1;32m    492\u001b[0m         scoped_config,\n\u001b[1;32m    493\u001b[0m         client_config,\n\u001b[1;32m    494\u001b[0m         endpoint_bridge,\n\u001b[1;32m    495\u001b[0m         auth_token,\n\u001b[1;32m    496\u001b[0m         endpoints_ruleset_data,\n\u001b[1;32m    497\u001b[0m         partition_data,\n\u001b[1;32m    498\u001b[0m     )\n",
      "File \u001b[0;32m/opt/mamba/lib/python3.10/site-packages/botocore/args.py:129\u001b[0m, in \u001b[0;36mClientArgsCreator.get_client_args\u001b[0;34m(self, service_model, region_name, is_secure, endpoint_url, verify, credentials, scoped_config, client_config, endpoint_bridge, auth_token, endpoints_ruleset_data, partition_data)\u001b[0m\n\u001b[1;32m    126\u001b[0m new_config \u001b[39m=\u001b[39m Config(\u001b[39m*\u001b[39m\u001b[39m*\u001b[39mconfig_kwargs)\n\u001b[1;32m    127\u001b[0m endpoint_creator \u001b[39m=\u001b[39m EndpointCreator(event_emitter)\n\u001b[0;32m--> 129\u001b[0m endpoint \u001b[39m=\u001b[39m endpoint_creator\u001b[39m.\u001b[39;49mcreate_endpoint(\n\u001b[1;32m    130\u001b[0m     service_model,\n\u001b[1;32m    131\u001b[0m     region_name\u001b[39m=\u001b[39;49mendpoint_region_name,\n\u001b[1;32m    132\u001b[0m     endpoint_url\u001b[39m=\u001b[39;49mendpoint_config[\u001b[39m'\u001b[39;49m\u001b[39mendpoint_url\u001b[39;49m\u001b[39m'\u001b[39;49m],\n\u001b[1;32m    133\u001b[0m     verify\u001b[39m=\u001b[39;49mverify,\n\u001b[1;32m    134\u001b[0m     response_parser_factory\u001b[39m=\u001b[39;49m\u001b[39mself\u001b[39;49m\u001b[39m.\u001b[39;49m_response_parser_factory,\n\u001b[1;32m    135\u001b[0m     max_pool_connections\u001b[39m=\u001b[39;49mnew_config\u001b[39m.\u001b[39;49mmax_pool_connections,\n\u001b[1;32m    136\u001b[0m     proxies\u001b[39m=\u001b[39;49mnew_config\u001b[39m.\u001b[39;49mproxies,\n\u001b[1;32m    137\u001b[0m     timeout\u001b[39m=\u001b[39;49m(new_config\u001b[39m.\u001b[39;49mconnect_timeout, new_config\u001b[39m.\u001b[39;49mread_timeout),\n\u001b[1;32m    138\u001b[0m     socket_options\u001b[39m=\u001b[39;49msocket_options,\n\u001b[1;32m    139\u001b[0m     client_cert\u001b[39m=\u001b[39;49mnew_config\u001b[39m.\u001b[39;49mclient_cert,\n\u001b[1;32m    140\u001b[0m     proxies_config\u001b[39m=\u001b[39;49mnew_config\u001b[39m.\u001b[39;49mproxies_config,\n\u001b[1;32m    141\u001b[0m )\n\u001b[1;32m    143\u001b[0m serializer \u001b[39m=\u001b[39m botocore\u001b[39m.\u001b[39mserialize\u001b[39m.\u001b[39mcreate_serializer(\n\u001b[1;32m    144\u001b[0m     protocol, parameter_validation\n\u001b[1;32m    145\u001b[0m )\n\u001b[1;32m    146\u001b[0m response_parser \u001b[39m=\u001b[39m botocore\u001b[39m.\u001b[39mparsers\u001b[39m.\u001b[39mcreate_parser(protocol)\n",
      "File \u001b[0;32m/opt/mamba/lib/python3.10/site-packages/botocore/endpoint.py:402\u001b[0m, in \u001b[0;36mEndpointCreator.create_endpoint\u001b[0;34m(self, service_model, region_name, endpoint_url, verify, response_parser_factory, timeout, max_pool_connections, http_session_cls, proxies, socket_options, client_cert, proxies_config)\u001b[0m\n\u001b[1;32m    384\u001b[0m \u001b[39mdef\u001b[39;00m \u001b[39mcreate_endpoint\u001b[39m(\n\u001b[1;32m    385\u001b[0m     \u001b[39mself\u001b[39m,\n\u001b[1;32m    386\u001b[0m     service_model,\n\u001b[0;32m   (...)\u001b[0m\n\u001b[1;32m    397\u001b[0m     proxies_config\u001b[39m=\u001b[39m\u001b[39mNone\u001b[39;00m,\n\u001b[1;32m    398\u001b[0m ):\n\u001b[1;32m    399\u001b[0m     \u001b[39mif\u001b[39;00m \u001b[39mnot\u001b[39;00m is_valid_endpoint_url(\n\u001b[1;32m    400\u001b[0m         endpoint_url\n\u001b[1;32m    401\u001b[0m     ) \u001b[39mand\u001b[39;00m \u001b[39mnot\u001b[39;00m is_valid_ipv6_endpoint_url(endpoint_url):\n\u001b[0;32m--> 402\u001b[0m         \u001b[39mraise\u001b[39;00m \u001b[39mValueError\u001b[39;00m(\u001b[39m\"\u001b[39m\u001b[39mInvalid endpoint: \u001b[39m\u001b[39m%s\u001b[39;00m\u001b[39m\"\u001b[39m \u001b[39m%\u001b[39m endpoint_url)\n\u001b[1;32m    404\u001b[0m     \u001b[39mif\u001b[39;00m proxies \u001b[39mis\u001b[39;00m \u001b[39mNone\u001b[39;00m:\n\u001b[1;32m    405\u001b[0m         proxies \u001b[39m=\u001b[39m \u001b[39mself\u001b[39m\u001b[39m.\u001b[39m_get_proxies(endpoint_url)\n",
      "\u001b[0;31mValueError\u001b[0m: Invalid endpoint: https://"
     ]
    }
   ],
   "source": [
    "# Create filesystem object\n",
    "S3_ENDPOINT_URL = \"https://\" + os.environ[\"AWS_S3_ENDPOINT\"]\n",
    "fs = s3fs.S3FileSystem(client_kwargs={'endpoint_url': S3_ENDPOINT_URL})"
   ]
  },
  {
   "cell_type": "code",
   "execution_count": 5,
   "metadata": {},
   "outputs": [
    {
     "ename": "NameError",
     "evalue": "name 'fs' is not defined",
     "output_type": "error",
     "traceback": [
      "\u001b[0;31m---------------------------------------------------------------------------\u001b[0m",
      "\u001b[0;31mNameError\u001b[0m                                 Traceback (most recent call last)",
      "Cell \u001b[0;32mIn[5], line 2\u001b[0m\n\u001b[1;32m      1\u001b[0m BUCKET \u001b[39m=\u001b[39m \u001b[39m\"\u001b[39m\u001b[39mjplaton/diffusion\u001b[39m\u001b[39m\"\u001b[39m\n\u001b[0;32m----> 2\u001b[0m fs\u001b[39m.\u001b[39mls(BUCKET)\n",
      "\u001b[0;31mNameError\u001b[0m: name 'fs' is not defined"
     ]
    }
   ],
   "source": [
    "BUCKET = \"jplaton/diffusion\"\n",
    "fs.ls(BUCKET)"
   ]
  },
  {
   "attachments": {},
   "cell_type": "markdown",
   "metadata": {},
   "source": [
    "# DATA Download"
   ]
  },
  {
   "cell_type": "code",
   "execution_count": null,
   "metadata": {},
   "outputs": [],
   "source": []
  }
 ],
 "metadata": {
  "kernelspec": {
   "display_name": "base",
   "language": "python",
   "name": "python3"
  },
  "language_info": {
   "codemirror_mode": {
    "name": "ipython",
    "version": 3
   },
   "file_extension": ".py",
   "mimetype": "text/x-python",
   "name": "python",
   "nbconvert_exporter": "python",
   "pygments_lexer": "ipython3",
   "version": "3.10.9"
  },
  "orig_nbformat": 4
 },
 "nbformat": 4,
 "nbformat_minor": 2
}
