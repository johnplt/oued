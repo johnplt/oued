{
 "cells": [
  {
   "attachments": {},
   "cell_type": "markdown",
   "metadata": {},
   "source": [
    "# Library imports, configurations"
   ]
  },
  {
   "cell_type": "code",
   "execution_count": 1,
   "metadata": {},
   "outputs": [
    {
     "name": "stderr",
     "output_type": "stream",
     "text": [
      "[nltk_data] Downloading package punkt to /home/onyxia/nltk_data...\n",
      "[nltk_data]   Package punkt is already up-to-date!\n"
     ]
    }
   ],
   "source": [
    "import os\n",
    "import re\n",
    "import s3fs\n",
    "import pandas as pd\n",
    "import requests\n",
    "import json\n",
    "pd.set_option('display.max_columns', None)\n",
    "pd.set_option('display.max_colwidth', None)\n",
    "from unidecode import unidecode\n",
    "from wordcloud import WordCloud\n",
    "import nltk\n",
    "nltk.download('punkt')\n",
    "\n",
    "from stop_words import get_stop_words\n",
    "import unicodedata\n",
    "\n",
    "from nltk.tokenize import word_tokenize\n",
    "from elasticsearch import Elasticsearch\n",
    "from elasticsearch import helpers\n",
    "from elasticsearch_dsl import connections\n",
    "from bs4 import BeautifulSoup as bs"
   ]
  },
  {
   "cell_type": "code",
   "execution_count": 2,
   "metadata": {},
   "outputs": [],
   "source": [
    "# Create filesystem object\n",
    "S3_ENDPOINT_URL = \"https://\" + os.environ[\"AWS_S3_ENDPOINT\"]\n",
    "fs = s3fs.S3FileSystem(client_kwargs={'endpoint_url': S3_ENDPOINT_URL})"
   ]
  },
  {
   "cell_type": "code",
   "execution_count": 3,
   "metadata": {},
   "outputs": [
    {
     "data": {
      "text/plain": [
       "['jplaton/diffusion/.keep',\n",
       " 'jplaton/diffusion/ted',\n",
       " 'jplaton/diffusion/visio_mel']"
      ]
     },
     "execution_count": 3,
     "metadata": {},
     "output_type": "execute_result"
    }
   ],
   "source": [
    "BUCKET = \"jplaton/diffusion\"\n",
    "fs.ls(BUCKET)"
   ]
  },
  {
   "cell_type": "code",
   "execution_count": 4,
   "metadata": {},
   "outputs": [
    {
     "data": {
      "text/plain": [
       "['clementg/diffusion/.keep',\n",
       " 'clementg/diffusion/Fiche de Poste DINUM - francetransfert-3595970061- pdf.csv',\n",
       " \"clementg/diffusion/Référentiel de l'organisation administrative de l'Etat.csv\"]"
      ]
     },
     "execution_count": 4,
     "metadata": {},
     "output_type": "execute_result"
    }
   ],
   "source": [
    "BUCKET_CLEM = \"clementg/diffusion\"\n",
    "fs.ls(BUCKET_CLEM)"
   ]
  },
  {
   "cell_type": "markdown",
   "metadata": {},
   "source": [
    "# Functions"
   ]
  },
  {
   "cell_type": "code",
   "execution_count": 5,
   "metadata": {},
   "outputs": [],
   "source": [
    "# Suppression des accents\n",
    "\n",
    "def remove_accent(s):\n",
    "\n",
    "    s = unidecode(str(s))\n",
    "    return(s)\n",
    "\n",
    "# Suppression de la ponctuation\n",
    "\n",
    "def remove_punctuation(s):\n",
    "    # On retire la ponctuation\n",
    " \n",
    "    s = re.sub(r'[^A-Za-z0-9]',' ',str(s))\n",
    "    return(s)\n",
    "\n",
    "# Réduction de la casse\n",
    "\n",
    "def tolower(s):\n",
    "    s = ' '.join(str(s).lower().split())\n",
    "    return(s)\n",
    "\n",
    "\n",
    "# Sur cette base, on crée une petite fonction qui retire les stop words\n",
    "stopwords = get_stop_words('french')   \n",
    "stopwords = [unicodedata.normalize('NFKD',m).encode('ASCII', 'ignore').decode() for m in stopwords]\n",
    "\n",
    "def remove_stopwords(s):\n",
    "    s = [w for w in word_tokenize(s) if w not in stopwords]\n",
    "    s = ' '.join(s)\n",
    "    return(s)\n",
    "\n",
    "def remove_accent_from_df(df,list_cols):\n",
    "    df_c =  df.copy()\n",
    "    df_c[list_cols] = df_c[list_cols].map(remove_accent)\n",
    "    return df_c\n",
    "\n",
    "def remove_punctuation_from_df(df,list_cols):\n",
    "    df_c =  df.copy()\n",
    "    df_c[list_cols] = df_c[list_cols].map(remove_punctuation)\n",
    "    return df_c\n",
    "\n",
    "def tolower_df(df,list_cols):\n",
    "    df_c =  df.copy()\n",
    "    df_c[list_cols] = df_c[list_cols].map(tolower)\n",
    "    return df_c\n",
    "\n",
    "# Scraping de annuaire service public pour aller chercher les services à aprtir des ids\n",
    "# def get_service_from_scraping(service_id):\n",
    "#     try:\n",
    "#         url=f'https://lannuaire.service-public.fr/gouvernement/{service_id}'\n",
    "#         response = requests.get(url)\n",
    "#         html = response.content\n",
    "#         soup = bs(html, \"lxml\")\n",
    "#         return soup.title.get_text().replace(' - Annuaire | Service-public.fr', '')\n",
    "#     except:\n",
    "#         return ''"
   ]
  },
  {
   "attachments": {},
   "cell_type": "markdown",
   "metadata": {},
   "source": [
    "# DATA Download"
   ]
  },
  {
   "cell_type": "code",
   "execution_count": 7,
   "metadata": {},
   "outputs": [
    {
     "name": "stderr",
     "output_type": "stream",
     "text": [
      "/tmp/ipykernel_9322/4280061390.py:5: DtypeWarning: Columns (22) have mixed types. Specify dtype option on import or set low_memory=False.\n",
      "  offres_2023_df = pd.read_csv(file_in, sep=\";\")\n",
      "/tmp/ipykernel_9322/4280061390.py:8: DtypeWarning: Columns (22) have mixed types. Specify dtype option on import or set low_memory=False.\n",
      "  offres_2022_df = pd.read_csv(file_in, sep=\";\")\n"
     ]
    }
   ],
   "source": [
    "FILE_PATH_TED = \"ted\"\n",
    "FILE_PATH_TED_S3 = BUCKET + \"/\" + FILE_PATH_TED\n",
    "\n",
    "with fs.open(FILE_PATH_TED_S3+\"/offres-datagouv-20230409.csv\", mode=\"rb\") as file_in:\n",
    "    offres_2023_df = pd.read_csv(file_in, sep=\";\")\n",
    "\n",
    "with fs.open(FILE_PATH_TED_S3+\"/offres-datagouv-20221225.csv\", mode=\"rb\") as file_in:   \n",
    "    offres_2022_df = pd.read_csv(file_in, sep=\";\")\n",
    "\n",
    "with fs.open(FILE_PATH_TED_S3+\"/Bulloterie_10_Saison_2.xlsx\", mode=\"rb\") as file_in:  \n",
    "    bulloterie_df =  pd.read_excel(file_in, sheet_name=0,header=[0,1])\n"
   ]
  },
  {
   "cell_type": "code",
   "execution_count": 8,
   "metadata": {},
   "outputs": [],
   "source": [
    "with fs.open(BUCKET_CLEM+\"/Fiche de Poste DINUM - francetransfert-3595970061- pdf.csv\", mode=\"rb\") as file_in:\n",
    "    fdp_dinum_df = pd.read_csv(file_in, sep=\";\",encoding='Windows-1252')"
   ]
  },
  {
   "cell_type": "code",
   "execution_count": 9,
   "metadata": {},
   "outputs": [],
   "source": [
    "with fs.open(FILE_PATH_TED_S3+\"/dila_refOrga_admin_Etat_fr_20230505.json\", mode=\"rb\") as file_in:  \n",
    "    orga =  json.load(file_in)"
   ]
  },
  {
   "cell_type": "markdown",
   "metadata": {},
   "source": [
    "### Traitement référentiel services"
   ]
  },
  {
   "cell_type": "code",
   "execution_count": 9,
   "metadata": {},
   "outputs": [],
   "source": [
    "orga_df = pd.json_normalize(orga,record_path='service')"
   ]
  },
  {
   "cell_type": "code",
   "execution_count": 13,
   "metadata": {},
   "outputs": [
    {
     "data": {
      "text/html": [
       "<div>\n",
       "<style scoped>\n",
       "    .dataframe tbody tr th:only-of-type {\n",
       "        vertical-align: middle;\n",
       "    }\n",
       "\n",
       "    .dataframe tbody tr th {\n",
       "        vertical-align: top;\n",
       "    }\n",
       "\n",
       "    .dataframe thead th {\n",
       "        text-align: right;\n",
       "    }\n",
       "</style>\n",
       "<table border=\"1\" class=\"dataframe\">\n",
       "  <thead>\n",
       "    <tr style=\"text-align: right;\">\n",
       "      <th></th>\n",
       "      <th>plage_ouverture</th>\n",
       "      <th>site_internet</th>\n",
       "      <th>copyright</th>\n",
       "      <th>siren</th>\n",
       "      <th>ancien_code_pivot</th>\n",
       "      <th>texte_reference</th>\n",
       "      <th>partenaire</th>\n",
       "      <th>telecopie</th>\n",
       "      <th>nom</th>\n",
       "      <th>siret</th>\n",
       "      <th>itm_identifiant</th>\n",
       "      <th>sigle</th>\n",
       "      <th>date_modification</th>\n",
       "      <th>adresse_courriel</th>\n",
       "      <th>service_disponible</th>\n",
       "      <th>organigramme</th>\n",
       "      <th>pivot</th>\n",
       "      <th>partenaire_identifiant</th>\n",
       "      <th>ancien_identifiant</th>\n",
       "      <th>id</th>\n",
       "      <th>ancien_nom</th>\n",
       "      <th>commentaire_plage_ouverture</th>\n",
       "      <th>annuaire</th>\n",
       "      <th>hierarchie</th>\n",
       "      <th>categorie</th>\n",
       "      <th>sve</th>\n",
       "      <th>telephone_accessible</th>\n",
       "      <th>version_type</th>\n",
       "      <th>type_repertoire</th>\n",
       "      <th>telephone</th>\n",
       "      <th>version_etat_modification</th>\n",
       "      <th>date_creation</th>\n",
       "      <th>partenaire_date_modification</th>\n",
       "      <th>mission</th>\n",
       "      <th>formulaire_contact</th>\n",
       "      <th>version_source</th>\n",
       "      <th>type_organisme</th>\n",
       "      <th>code_insee_commune</th>\n",
       "      <th>statut_de_diffusion</th>\n",
       "      <th>adresse</th>\n",
       "      <th>information_complementaire</th>\n",
       "      <th>date_diffusion</th>\n",
       "      <th>services_fils</th>\n",
       "    </tr>\n",
       "  </thead>\n",
       "  <tbody>\n",
       "    <tr>\n",
       "      <th>0</th>\n",
       "      <td>[]</td>\n",
       "      <td>[{'libelle': '', 'valeur': 'http://www.police-nationale.interieur.gouv.fr'}]</td>\n",
       "      <td>Direction de l'information légale et administrative (Première ministre)</td>\n",
       "      <td></td>\n",
       "      <td></td>\n",
       "      <td>[]</td>\n",
       "      <td></td>\n",
       "      <td>[01 47 44 97 99]</td>\n",
       "      <td>Bureau de coordination stratégique</td>\n",
       "      <td></td>\n",
       "      <td>184318</td>\n",
       "      <td></td>\n",
       "      <td>04/02/2021 18:26:23</td>\n",
       "      <td>[]</td>\n",
       "      <td></td>\n",
       "      <td>[]</td>\n",
       "      <td>[]</td>\n",
       "      <td></td>\n",
       "      <td>[]</td>\n",
       "      <td>00014eb0-f7fe-4988-9380-137ccdfc401e</td>\n",
       "      <td>[]</td>\n",
       "      <td></td>\n",
       "      <td>[]</td>\n",
       "      <td>[]</td>\n",
       "      <td>SI</td>\n",
       "      <td>[https://contacts-demarches.interieur.gouv.fr]</td>\n",
       "      <td>[]</td>\n",
       "      <td>Publiable</td>\n",
       "      <td></td>\n",
       "      <td>[{'valeur': '01 49 27 49 27', 'description': ''}]</td>\n",
       "      <td></td>\n",
       "      <td>10/08/2009 00:00:00</td>\n",
       "      <td></td>\n",
       "      <td></td>\n",
       "      <td>[http://www.police-nationale.interieur.gouv.fr/Menu-accessibilite/Nous-contacter]</td>\n",
       "      <td></td>\n",
       "      <td>Administration centrale (ou Ministère)</td>\n",
       "      <td></td>\n",
       "      <td>true</td>\n",
       "      <td>[{'type_adresse': 'Adresse', 'complement1': '', 'complement2': '', 'numero_voie': '11 rue des Saussaies', 'service_distribution': '', 'code_postal': '75008', 'nom_commune': 'Paris', 'pays': '', 'continent': '', 'longitude': '', 'latitude': '', 'accessibilite': '', 'note_accessibilite': ''}]</td>\n",
       "      <td></td>\n",
       "      <td></td>\n",
       "      <td>[]</td>\n",
       "    </tr>\n",
       "  </tbody>\n",
       "</table>\n",
       "</div>"
      ],
      "text/plain": [
       "  plage_ouverture  \\\n",
       "0              []   \n",
       "\n",
       "                                                                  site_internet  \\\n",
       "0  [{'libelle': '', 'valeur': 'http://www.police-nationale.interieur.gouv.fr'}]   \n",
       "\n",
       "                                                                 copyright  \\\n",
       "0  Direction de l'information légale et administrative (Première ministre)   \n",
       "\n",
       "  siren ancien_code_pivot texte_reference partenaire         telecopie  \\\n",
       "0                                      []             [01 47 44 97 99]   \n",
       "\n",
       "                                  nom siret itm_identifiant sigle  \\\n",
       "0  Bureau de coordination stratégique                184318         \n",
       "\n",
       "     date_modification adresse_courriel service_disponible organigramme pivot  \\\n",
       "0  04/02/2021 18:26:23               []                              []    []   \n",
       "\n",
       "  partenaire_identifiant ancien_identifiant  \\\n",
       "0                                        []   \n",
       "\n",
       "                                     id ancien_nom  \\\n",
       "0  00014eb0-f7fe-4988-9380-137ccdfc401e         []   \n",
       "\n",
       "  commentaire_plage_ouverture annuaire hierarchie categorie  \\\n",
       "0                                   []         []        SI   \n",
       "\n",
       "                                              sve telephone_accessible  \\\n",
       "0  [https://contacts-demarches.interieur.gouv.fr]                   []   \n",
       "\n",
       "  version_type type_repertoire  \\\n",
       "0    Publiable                   \n",
       "\n",
       "                                           telephone  \\\n",
       "0  [{'valeur': '01 49 27 49 27', 'description': ''}]   \n",
       "\n",
       "  version_etat_modification        date_creation partenaire_date_modification  \\\n",
       "0                            10/08/2009 00:00:00                                \n",
       "\n",
       "  mission  \\\n",
       "0           \n",
       "\n",
       "                                                                  formulaire_contact  \\\n",
       "0  [http://www.police-nationale.interieur.gouv.fr/Menu-accessibilite/Nous-contacter]   \n",
       "\n",
       "  version_source                          type_organisme code_insee_commune  \\\n",
       "0                 Administration centrale (ou Ministère)                      \n",
       "\n",
       "  statut_de_diffusion  \\\n",
       "0                true   \n",
       "\n",
       "                                                                                                                                                                                                                                                                                               adresse  \\\n",
       "0  [{'type_adresse': 'Adresse', 'complement1': '', 'complement2': '', 'numero_voie': '11 rue des Saussaies', 'service_distribution': '', 'code_postal': '75008', 'nom_commune': 'Paris', 'pays': '', 'continent': '', 'longitude': '', 'latitude': '', 'accessibilite': '', 'note_accessibilite': ''}]   \n",
       "\n",
       "  information_complementaire date_diffusion services_fils  \n",
       "0                                                      []  "
      ]
     },
     "execution_count": 13,
     "metadata": {},
     "output_type": "execute_result"
    }
   ],
   "source": [
    "orga_df.head(1)"
   ]
  },
  {
   "cell_type": "code",
   "execution_count": 10,
   "metadata": {},
   "outputs": [],
   "source": [
    "orga_df['services_fils'] = orga_df['hierarchie'].map(lambda x: [x[i]['service'] for i in range(len(x))])"
   ]
  },
  {
   "cell_type": "code",
   "execution_count": 94,
   "metadata": {},
   "outputs": [],
   "source": [
    "services_clean = ( orga_df\n",
    "    .pipe(remove_accent_from_df,['nom','type_organisme','sigle','ancien_nom'])\n",
    "    .pipe(remove_punctuation_from_df,['nom','type_organisme','sigle','ancien_nom'])\n",
    "    .pipe(tolower_df,['nom','type_organisme','sigle','ancien_nom'])\n",
    ")"
   ]
  },
  {
   "cell_type": "code",
   "execution_count": 95,
   "metadata": {},
   "outputs": [],
   "source": [
    "services_clean = services_clean[['nom','type_organisme','sigle']] #,'services_fils' #services_clean[services_clean['services_fils'].map(len)==1]"
   ]
  },
  {
   "cell_type": "code",
   "execution_count": 96,
   "metadata": {},
   "outputs": [
    {
     "data": {
      "text/html": [
       "<div>\n",
       "<style scoped>\n",
       "    .dataframe tbody tr th:only-of-type {\n",
       "        vertical-align: middle;\n",
       "    }\n",
       "\n",
       "    .dataframe tbody tr th {\n",
       "        vertical-align: top;\n",
       "    }\n",
       "\n",
       "    .dataframe thead th {\n",
       "        text-align: right;\n",
       "    }\n",
       "</style>\n",
       "<table border=\"1\" class=\"dataframe\">\n",
       "  <thead>\n",
       "    <tr style=\"text-align: right;\">\n",
       "      <th></th>\n",
       "      <th>nom</th>\n",
       "      <th>type_organisme</th>\n",
       "      <th>sigle</th>\n",
       "    </tr>\n",
       "  </thead>\n",
       "  <tbody>\n",
       "    <tr>\n",
       "      <th>0</th>\n",
       "      <td>bureau de coordination strategique</td>\n",
       "      <td>administration centrale ou ministere</td>\n",
       "      <td></td>\n",
       "    </tr>\n",
       "    <tr>\n",
       "      <th>1</th>\n",
       "      <td>direction de l information legale et administrative</td>\n",
       "      <td>administration centrale ou ministere</td>\n",
       "      <td>dila</td>\n",
       "    </tr>\n",
       "    <tr>\n",
       "      <th>2</th>\n",
       "      <td>bureau de la simplification et de la qualite de service</td>\n",
       "      <td>administration centrale ou ministere</td>\n",
       "      <td></td>\n",
       "    </tr>\n",
       "    <tr>\n",
       "      <th>3</th>\n",
       "      <td>service de la protection sdlp</td>\n",
       "      <td>administration centrale ou ministere</td>\n",
       "      <td></td>\n",
       "    </tr>\n",
       "    <tr>\n",
       "      <th>4</th>\n",
       "      <td>service national d accueil telephonique de l enfance en danger snated</td>\n",
       "      <td>groupement d interet public</td>\n",
       "      <td></td>\n",
       "    </tr>\n",
       "  </tbody>\n",
       "</table>\n",
       "</div>"
      ],
      "text/plain": [
       "                                                                     nom  \\\n",
       "0                                     bureau de coordination strategique   \n",
       "1                    direction de l information legale et administrative   \n",
       "2                bureau de la simplification et de la qualite de service   \n",
       "3                                          service de la protection sdlp   \n",
       "4  service national d accueil telephonique de l enfance en danger snated   \n",
       "\n",
       "                         type_organisme sigle  \n",
       "0  administration centrale ou ministere        \n",
       "1  administration centrale ou ministere  dila  \n",
       "2  administration centrale ou ministere        \n",
       "3  administration centrale ou ministere        \n",
       "4           groupement d interet public        "
      ]
     },
     "execution_count": 96,
     "metadata": {},
     "output_type": "execute_result"
    }
   ],
   "source": [
    "services_clean.head(5)"
   ]
  },
  {
   "cell_type": "markdown",
   "metadata": {},
   "source": [
    "### Traitement offres"
   ]
  },
  {
   "cell_type": "code",
   "execution_count": 10,
   "metadata": {},
   "outputs": [],
   "source": [
    "offres_df = pd.concat([offres_2023_df,offres_2022_df])"
   ]
  },
  {
   "cell_type": "code",
   "execution_count": 11,
   "metadata": {},
   "outputs": [
    {
     "data": {
      "text/html": [
       "<div>\n",
       "<style scoped>\n",
       "    .dataframe tbody tr th:only-of-type {\n",
       "        vertical-align: middle;\n",
       "    }\n",
       "\n",
       "    .dataframe tbody tr th {\n",
       "        vertical-align: top;\n",
       "    }\n",
       "\n",
       "    .dataframe thead th {\n",
       "        text-align: right;\n",
       "    }\n",
       "</style>\n",
       "<table border=\"1\" class=\"dataframe\">\n",
       "  <thead>\n",
       "    <tr style=\"text-align: right;\">\n",
       "      <th></th>\n",
       "      <th>Organisme de rattachement</th>\n",
       "      <th>Référence</th>\n",
       "      <th>Versant</th>\n",
       "      <th>Métier</th>\n",
       "      <th>Statut du poste</th>\n",
       "      <th>Nature de l'emploi</th>\n",
       "      <th>Durée du contrat</th>\n",
       "      <th>Intitulé du poste</th>\n",
       "      <th>Localisation du poste</th>\n",
       "      <th>Lieu d'affectation</th>\n",
       "      <th>Niveau d'études</th>\n",
       "      <th>Niveau d'expérience min. requis</th>\n",
       "      <th>Date de vacance de l'emploi</th>\n",
       "      <th>Date de début de publication par défaut</th>\n",
       "      <th>Date de fin de publication par défaut</th>\n",
       "      <th>Date de première publication</th>\n",
       "      <th>Spécialisation</th>\n",
       "      <th>Télétravail</th>\n",
       "      <th>Management</th>\n",
       "      <th>Employeur</th>\n",
       "      <th>Catégorie</th>\n",
       "      <th>Temps Plein</th>\n",
       "      <th>Durée du poste</th>\n",
       "      <th>Langues</th>\n",
       "      <th>Niveaux</th>\n",
       "      <th>Lieu d'affectation (sans géolocalisation)</th>\n",
       "      <th>Avis de vacances au JO</th>\n",
       "      <th>Compétences attendues</th>\n",
       "      <th>Documents à transmettre</th>\n",
       "      <th>Nature de contrat</th>\n",
       "    </tr>\n",
       "  </thead>\n",
       "  <tbody>\n",
       "    <tr>\n",
       "      <th>0</th>\n",
       "      <td>Structures de coopération territoriale</td>\n",
       "      <td>O043221200865282</td>\n",
       "      <td>Fonction Publique Territoriale</td>\n",
       "      <td>Chargée / Chargé de politique environnementale</td>\n",
       "      <td>Vacant</td>\n",
       "      <td>Emploi ouvert aux titulaires et aux contractuels</td>\n",
       "      <td>NaN</td>\n",
       "      <td>Géomaticien.ne écologue - SYNDICAT MIXTE DE GESTION DU CONSERVATOIRE BOTANIQUE</td>\n",
       "      <td>Haute Loire (43)</td>\n",
       "      <td>1 rue Adrienne de Noailles - 43230 Chavaniac-Lafayette</td>\n",
       "      <td>NaN</td>\n",
       "      <td>NaN</td>\n",
       "      <td>01/03/2023</td>\n",
       "      <td>28/12/2022</td>\n",
       "      <td>31/01/2023</td>\n",
       "      <td>01/12/2022</td>\n",
       "      <td>NaN</td>\n",
       "      <td>NaN</td>\n",
       "      <td>NaN</td>\n",
       "      <td>NaN</td>\n",
       "      <td>Catégorie A (cadre)</td>\n",
       "      <td>Oui</td>\n",
       "      <td>NaN</td>\n",
       "      <td>NaN</td>\n",
       "      <td>NaN</td>\n",
       "      <td>Chavaniac-Lafayette</td>\n",
       "      <td>NaN</td>\n",
       "      <td>NaN</td>\n",
       "      <td>NaN</td>\n",
       "      <td>NaN</td>\n",
       "    </tr>\n",
       "    <tr>\n",
       "      <th>1</th>\n",
       "      <td>Structures de coopération territoriale</td>\n",
       "      <td>O043221200864991</td>\n",
       "      <td>Fonction Publique Territoriale</td>\n",
       "      <td>Chargée / Chargé de politique environnementale</td>\n",
       "      <td>Vacant</td>\n",
       "      <td>Emploi ouvert aux titulaires et aux contractuels</td>\n",
       "      <td>NaN</td>\n",
       "      <td>Chargé.e mission \"flore/habitats naturels\" végétations agro pastorales</td>\n",
       "      <td>Haute Loire (43)</td>\n",
       "      <td>1 rue Adrienne de Noailles - 43230 Chavaniac-Lafayette</td>\n",
       "      <td>NaN</td>\n",
       "      <td>NaN</td>\n",
       "      <td>01/03/2023</td>\n",
       "      <td>28/12/2022</td>\n",
       "      <td>31/01/2023</td>\n",
       "      <td>01/12/2022</td>\n",
       "      <td>NaN</td>\n",
       "      <td>NaN</td>\n",
       "      <td>NaN</td>\n",
       "      <td>NaN</td>\n",
       "      <td>Catégorie A (cadre)</td>\n",
       "      <td>Oui</td>\n",
       "      <td>NaN</td>\n",
       "      <td>NaN</td>\n",
       "      <td>NaN</td>\n",
       "      <td>Chavaniac-Lafayette</td>\n",
       "      <td>NaN</td>\n",
       "      <td>NaN</td>\n",
       "      <td>NaN</td>\n",
       "      <td>NaN</td>\n",
       "    </tr>\n",
       "    <tr>\n",
       "      <th>2</th>\n",
       "      <td>Structures de coopération territoriale</td>\n",
       "      <td>O043221200865428</td>\n",
       "      <td>Fonction Publique Territoriale</td>\n",
       "      <td>Chargée / Chargé de politique environnementale</td>\n",
       "      <td>Vacant</td>\n",
       "      <td>Emploi ouvert aux titulaires et aux contractuels</td>\n",
       "      <td>NaN</td>\n",
       "      <td>Chargé.e de missions scientifiques et techniques</td>\n",
       "      <td>Haute Loire (43)</td>\n",
       "      <td>1 rue Adrienne de Noailles - 43230 Chavaniac-Lafayette</td>\n",
       "      <td>NaN</td>\n",
       "      <td>NaN</td>\n",
       "      <td>01/03/2023</td>\n",
       "      <td>28/12/2022</td>\n",
       "      <td>31/01/2023</td>\n",
       "      <td>01/12/2022</td>\n",
       "      <td>NaN</td>\n",
       "      <td>NaN</td>\n",
       "      <td>NaN</td>\n",
       "      <td>NaN</td>\n",
       "      <td>Catégorie A (cadre)</td>\n",
       "      <td>Oui</td>\n",
       "      <td>NaN</td>\n",
       "      <td>NaN</td>\n",
       "      <td>NaN</td>\n",
       "      <td>Chavaniac-Lafayette</td>\n",
       "      <td>NaN</td>\n",
       "      <td>NaN</td>\n",
       "      <td>NaN</td>\n",
       "      <td>NaN</td>\n",
       "    </tr>\n",
       "    <tr>\n",
       "      <th>3</th>\n",
       "      <td>Structures de coopération territoriale</td>\n",
       "      <td>O064221200866576</td>\n",
       "      <td>Fonction Publique Territoriale</td>\n",
       "      <td>Plombière, opératrice, chauffagiste / Plombier, opérateur, chauffagiste en froid et ventilation</td>\n",
       "      <td>Vacant</td>\n",
       "      <td>Emploi ouvert aux titulaires et aux contractuels</td>\n",
       "      <td>NaN</td>\n",
       "      <td>Agent de maintenance des bâtiments - Communauté de communes lacq-orthez - CCLO</td>\n",
       "      <td>Pyrénées Atlantiques (64)</td>\n",
       "      <td>Hôtel de la communauté de communes de lacq-orthez - 64150 Mourenx</td>\n",
       "      <td>NaN</td>\n",
       "      <td>NaN</td>\n",
       "      <td>01/03/2023</td>\n",
       "      <td>28/12/2022</td>\n",
       "      <td>27/01/2023</td>\n",
       "      <td>02/12/2022</td>\n",
       "      <td>NaN</td>\n",
       "      <td>NaN</td>\n",
       "      <td>NaN</td>\n",
       "      <td>NaN</td>\n",
       "      <td>Catégorie C (employé)</td>\n",
       "      <td>Oui</td>\n",
       "      <td>NaN</td>\n",
       "      <td>NaN</td>\n",
       "      <td>NaN</td>\n",
       "      <td>Mourenx</td>\n",
       "      <td>NaN</td>\n",
       "      <td>NaN</td>\n",
       "      <td>NaN</td>\n",
       "      <td>NaN</td>\n",
       "    </tr>\n",
       "    <tr>\n",
       "      <th>4</th>\n",
       "      <td>Centres communaux d'Action Sociale</td>\n",
       "      <td>O032221000829833</td>\n",
       "      <td>Fonction Publique Territoriale</td>\n",
       "      <td>Éducatrice / Educateur de jeunes enfants</td>\n",
       "      <td>Vacant</td>\n",
       "      <td>Emploi ouvert uniquement aux contractuels</td>\n",
       "      <td>7 mois</td>\n",
       "      <td>Puériculteur.rice / Educateur.rice de jeunes enfants - C.C.A.S de FLEURANCE</td>\n",
       "      <td>Gers (32)</td>\n",
       "      <td>Mairie - 32500 FLEURANCE</td>\n",
       "      <td>NaN</td>\n",
       "      <td>NaN</td>\n",
       "      <td>09/01/2023</td>\n",
       "      <td>27/10/2022</td>\n",
       "      <td>26/12/2022</td>\n",
       "      <td>03/11/2022</td>\n",
       "      <td>NaN</td>\n",
       "      <td>NaN</td>\n",
       "      <td>NaN</td>\n",
       "      <td>NaN</td>\n",
       "      <td>Catégorie A (cadre)</td>\n",
       "      <td>Non</td>\n",
       "      <td>NaN</td>\n",
       "      <td>NaN</td>\n",
       "      <td>NaN</td>\n",
       "      <td>FLEURANCE</td>\n",
       "      <td>NaN</td>\n",
       "      <td>NaN</td>\n",
       "      <td>NaN</td>\n",
       "      <td>NaN</td>\n",
       "    </tr>\n",
       "  </tbody>\n",
       "</table>\n",
       "</div>"
      ],
      "text/plain": [
       "                Organisme de rattachement         Référence  \\\n",
       "0  Structures de coopération territoriale  O043221200865282   \n",
       "1  Structures de coopération territoriale  O043221200864991   \n",
       "2  Structures de coopération territoriale  O043221200865428   \n",
       "3  Structures de coopération territoriale  O064221200866576   \n",
       "4      Centres communaux d'Action Sociale  O032221000829833   \n",
       "\n",
       "                          Versant  \\\n",
       "0  Fonction Publique Territoriale   \n",
       "1  Fonction Publique Territoriale   \n",
       "2  Fonction Publique Territoriale   \n",
       "3  Fonction Publique Territoriale   \n",
       "4  Fonction Publique Territoriale   \n",
       "\n",
       "                                                                                            Métier  \\\n",
       "0                                                   Chargée / Chargé de politique environnementale   \n",
       "1                                                   Chargée / Chargé de politique environnementale   \n",
       "2                                                   Chargée / Chargé de politique environnementale   \n",
       "3  Plombière, opératrice, chauffagiste / Plombier, opérateur, chauffagiste en froid et ventilation   \n",
       "4                                                         Éducatrice / Educateur de jeunes enfants   \n",
       "\n",
       "  Statut du poste                                Nature de l'emploi  \\\n",
       "0          Vacant  Emploi ouvert aux titulaires et aux contractuels   \n",
       "1          Vacant  Emploi ouvert aux titulaires et aux contractuels   \n",
       "2          Vacant  Emploi ouvert aux titulaires et aux contractuels   \n",
       "3          Vacant  Emploi ouvert aux titulaires et aux contractuels   \n",
       "4          Vacant         Emploi ouvert uniquement aux contractuels   \n",
       "\n",
       "  Durée du contrat  \\\n",
       "0              NaN   \n",
       "1              NaN   \n",
       "2              NaN   \n",
       "3              NaN   \n",
       "4           7 mois   \n",
       "\n",
       "                                                                Intitulé du poste  \\\n",
       "0  Géomaticien.ne écologue - SYNDICAT MIXTE DE GESTION DU CONSERVATOIRE BOTANIQUE   \n",
       "1          Chargé.e mission \"flore/habitats naturels\" végétations agro pastorales   \n",
       "2                                Chargé.e de missions scientifiques et techniques   \n",
       "3  Agent de maintenance des bâtiments - Communauté de communes lacq-orthez - CCLO   \n",
       "4     Puériculteur.rice / Educateur.rice de jeunes enfants - C.C.A.S de FLEURANCE   \n",
       "\n",
       "       Localisation du poste  \\\n",
       "0           Haute Loire (43)   \n",
       "1           Haute Loire (43)   \n",
       "2           Haute Loire (43)   \n",
       "3  Pyrénées Atlantiques (64)   \n",
       "4                  Gers (32)   \n",
       "\n",
       "                                                  Lieu d'affectation  \\\n",
       "0             1 rue Adrienne de Noailles - 43230 Chavaniac-Lafayette   \n",
       "1             1 rue Adrienne de Noailles - 43230 Chavaniac-Lafayette   \n",
       "2             1 rue Adrienne de Noailles - 43230 Chavaniac-Lafayette   \n",
       "3  Hôtel de la communauté de communes de lacq-orthez - 64150 Mourenx   \n",
       "4                                           Mairie - 32500 FLEURANCE   \n",
       "\n",
       "  Niveau d'études Niveau d'expérience min. requis Date de vacance de l'emploi  \\\n",
       "0             NaN                             NaN                  01/03/2023   \n",
       "1             NaN                             NaN                  01/03/2023   \n",
       "2             NaN                             NaN                  01/03/2023   \n",
       "3             NaN                             NaN                  01/03/2023   \n",
       "4             NaN                             NaN                  09/01/2023   \n",
       "\n",
       "  Date de début de publication par défaut  \\\n",
       "0                              28/12/2022   \n",
       "1                              28/12/2022   \n",
       "2                              28/12/2022   \n",
       "3                              28/12/2022   \n",
       "4                              27/10/2022   \n",
       "\n",
       "  Date de fin de publication par défaut Date de première publication  \\\n",
       "0                            31/01/2023                   01/12/2022   \n",
       "1                            31/01/2023                   01/12/2022   \n",
       "2                            31/01/2023                   01/12/2022   \n",
       "3                            27/01/2023                   02/12/2022   \n",
       "4                            26/12/2022                   03/11/2022   \n",
       "\n",
       "  Spécialisation Télétravail Management Employeur              Catégorie  \\\n",
       "0            NaN         NaN        NaN       NaN    Catégorie A (cadre)   \n",
       "1            NaN         NaN        NaN       NaN    Catégorie A (cadre)   \n",
       "2            NaN         NaN        NaN       NaN    Catégorie A (cadre)   \n",
       "3            NaN         NaN        NaN       NaN  Catégorie C (employé)   \n",
       "4            NaN         NaN        NaN       NaN    Catégorie A (cadre)   \n",
       "\n",
       "  Temps Plein Durée du poste Langues Niveaux  \\\n",
       "0         Oui            NaN     NaN     NaN   \n",
       "1         Oui            NaN     NaN     NaN   \n",
       "2         Oui            NaN     NaN     NaN   \n",
       "3         Oui            NaN     NaN     NaN   \n",
       "4         Non            NaN     NaN     NaN   \n",
       "\n",
       "  Lieu d'affectation (sans géolocalisation) Avis de vacances au JO  \\\n",
       "0                       Chavaniac-Lafayette                    NaN   \n",
       "1                       Chavaniac-Lafayette                    NaN   \n",
       "2                       Chavaniac-Lafayette                    NaN   \n",
       "3                                   Mourenx                    NaN   \n",
       "4                                 FLEURANCE                    NaN   \n",
       "\n",
       "  Compétences attendues Documents à transmettre Nature de contrat  \n",
       "0                   NaN                     NaN               NaN  \n",
       "1                   NaN                     NaN               NaN  \n",
       "2                   NaN                     NaN               NaN  \n",
       "3                   NaN                     NaN               NaN  \n",
       "4                   NaN                     NaN               NaN  "
      ]
     },
     "execution_count": 11,
     "metadata": {},
     "output_type": "execute_result"
    }
   ],
   "source": [
    "offres_df.head()"
   ]
  },
  {
   "cell_type": "code",
   "execution_count": 19,
   "metadata": {},
   "outputs": [],
   "source": [
    "offres_df.columns = offres_df.columns.map(remove_accent).map(remove_punctuation).map(tolower).map(lambda s: s.replace(' ', '_'))"
   ]
  },
  {
   "cell_type": "markdown",
   "metadata": {},
   "source": [
    " offres_df[offres_df['metier'].str.contains('scientist|engineer',na=False)].head(2)"
   ]
  },
  {
   "cell_type": "code",
   "execution_count": 20,
   "metadata": {},
   "outputs": [],
   "source": [
    "offres_df_clean = ( offres_df\n",
    "    .pipe(remove_accent_from_df,['organisme_de_rattachement','metier','intitule_du_poste','localisation_du_poste'])\n",
    "    .pipe(remove_punctuation_from_df,['organisme_de_rattachement','metier','intitule_du_poste','localisation_du_poste'])\n",
    "    .pipe(tolower_df,['organisme_de_rattachement','metier','intitule_du_poste','localisation_du_poste'])\n",
    ")"
   ]
  },
  {
   "cell_type": "code",
   "execution_count": 21,
   "metadata": {},
   "outputs": [],
   "source": [
    "offres_df_clean = offres_df_clean[['organisme_de_rattachement','metier','intitule_du_poste','localisation_du_poste']] #offres_df_clean[offres_df_clean['metier'].str.contains(\"ux designer\",na=False)|offres_df_clean['intitule_du_poste'].str.contains(\"data designer\",na=False)].head(5)"
   ]
  },
  {
   "cell_type": "code",
   "execution_count": 22,
   "metadata": {},
   "outputs": [
    {
     "data": {
      "text/html": [
       "<div>\n",
       "<style scoped>\n",
       "    .dataframe tbody tr th:only-of-type {\n",
       "        vertical-align: middle;\n",
       "    }\n",
       "\n",
       "    .dataframe tbody tr th {\n",
       "        vertical-align: top;\n",
       "    }\n",
       "\n",
       "    .dataframe thead th {\n",
       "        text-align: right;\n",
       "    }\n",
       "</style>\n",
       "<table border=\"1\" class=\"dataframe\">\n",
       "  <thead>\n",
       "    <tr style=\"text-align: right;\">\n",
       "      <th></th>\n",
       "      <th>organisme_de_rattachement</th>\n",
       "      <th>metier</th>\n",
       "      <th>intitule_du_poste</th>\n",
       "      <th>localisation_du_poste</th>\n",
       "    </tr>\n",
       "  </thead>\n",
       "  <tbody>\n",
       "    <tr>\n",
       "      <th>0</th>\n",
       "      <td>structures de cooperation territoriale</td>\n",
       "      <td>chargee charge de politique environnementale</td>\n",
       "      <td>geomaticien ne ecologue syndicat mixte de gestion du conservatoire botanique</td>\n",
       "      <td>haute loire 43</td>\n",
       "    </tr>\n",
       "    <tr>\n",
       "      <th>1</th>\n",
       "      <td>structures de cooperation territoriale</td>\n",
       "      <td>chargee charge de politique environnementale</td>\n",
       "      <td>charge e mission flore habitats naturels vegetations agro pastorales</td>\n",
       "      <td>haute loire 43</td>\n",
       "    </tr>\n",
       "    <tr>\n",
       "      <th>2</th>\n",
       "      <td>structures de cooperation territoriale</td>\n",
       "      <td>chargee charge de politique environnementale</td>\n",
       "      <td>charge e de missions scientifiques et techniques</td>\n",
       "      <td>haute loire 43</td>\n",
       "    </tr>\n",
       "    <tr>\n",
       "      <th>3</th>\n",
       "      <td>structures de cooperation territoriale</td>\n",
       "      <td>plombiere operatrice chauffagiste plombier operateur chauffagiste en froid et ventilation</td>\n",
       "      <td>agent de maintenance des batiments communaute de communes lacq orthez cclo</td>\n",
       "      <td>pyrenees atlantiques 64</td>\n",
       "    </tr>\n",
       "    <tr>\n",
       "      <th>4</th>\n",
       "      <td>centres communaux d action sociale</td>\n",
       "      <td>educatrice educateur de jeunes enfants</td>\n",
       "      <td>puericulteur rice educateur rice de jeunes enfants c c a s de fleurance</td>\n",
       "      <td>gers 32</td>\n",
       "    </tr>\n",
       "  </tbody>\n",
       "</table>\n",
       "</div>"
      ],
      "text/plain": [
       "                organisme_de_rattachement  \\\n",
       "0  structures de cooperation territoriale   \n",
       "1  structures de cooperation territoriale   \n",
       "2  structures de cooperation territoriale   \n",
       "3  structures de cooperation territoriale   \n",
       "4      centres communaux d action sociale   \n",
       "\n",
       "                                                                                      metier  \\\n",
       "0                                               chargee charge de politique environnementale   \n",
       "1                                               chargee charge de politique environnementale   \n",
       "2                                               chargee charge de politique environnementale   \n",
       "3  plombiere operatrice chauffagiste plombier operateur chauffagiste en froid et ventilation   \n",
       "4                                                     educatrice educateur de jeunes enfants   \n",
       "\n",
       "                                                              intitule_du_poste  \\\n",
       "0  geomaticien ne ecologue syndicat mixte de gestion du conservatoire botanique   \n",
       "1          charge e mission flore habitats naturels vegetations agro pastorales   \n",
       "2                              charge e de missions scientifiques et techniques   \n",
       "3    agent de maintenance des batiments communaute de communes lacq orthez cclo   \n",
       "4       puericulteur rice educateur rice de jeunes enfants c c a s de fleurance   \n",
       "\n",
       "     localisation_du_poste  \n",
       "0           haute loire 43  \n",
       "1           haute loire 43  \n",
       "2           haute loire 43  \n",
       "3  pyrenees atlantiques 64  \n",
       "4                  gers 32  "
      ]
     },
     "execution_count": 22,
     "metadata": {},
     "output_type": "execute_result"
    }
   ],
   "source": [
    "offres_df_clean.head(5)"
   ]
  },
  {
   "cell_type": "markdown",
   "metadata": {},
   "source": [
    "### Traitement Fiche de poste DNUM"
   ]
  },
  {
   "cell_type": "code",
   "execution_count": 14,
   "metadata": {},
   "outputs": [],
   "source": [
    "# Traitement des colonnes\n",
    "fdp_dinum_df.columns = fdp_dinum_df.columns.map(remove_accent).map(remove_punctuation).map(tolower).map(lambda s: s.replace(' ', '_'))"
   ]
  },
  {
   "cell_type": "code",
   "execution_count": 15,
   "metadata": {},
   "outputs": [],
   "source": [
    "fdp_clean = ( fdp_dinum_df\n",
    "    .pipe(remove_accent_from_df,['poste','intitule_du_service_demandeur_bureau_section','corps_grade','presentation','missions','competences'])\n",
    "    .pipe(remove_punctuation_from_df,['poste','intitule_du_service_demandeur_bureau_section','corps_grade','presentation','missions','competences'])\n",
    "    .pipe(tolower_df,['poste','intitule_du_service_demandeur_bureau_section','corps_grade','presentation','missions','competences'])\n",
    ")"
   ]
  },
  {
   "cell_type": "code",
   "execution_count": 16,
   "metadata": {},
   "outputs": [],
   "source": [
    "fdp_clean = fdp_clean[['poste','intitule_du_service_demandeur_bureau_section','corps_grade','presentation','missions','competences']] #fdp_clean.head(2)\n"
   ]
  },
  {
   "cell_type": "markdown",
   "metadata": {},
   "source": [
    "# Insertion des données dans Elastic Search"
   ]
  },
  {
   "cell_type": "code",
   "execution_count": 4,
   "metadata": {},
   "outputs": [],
   "source": [
    "# Paramétrage du client\n",
    "es_client = connections.create_connection(hosts=['http://elasticsearch-master:9200/'])"
   ]
  },
  {
   "cell_type": "code",
   "execution_count": 5,
   "metadata": {},
   "outputs": [],
   "source": [
    "# Fontion qui transforme un dataframe en document/index à stocker dans ElasticSearch\n",
    "def doc_generator(df,index_name):\n",
    "    df_iter = df.iterrows()\n",
    "    for index, document in df_iter:\n",
    "        yield {\n",
    "                \"_index\": index_name,\n",
    "                \"_type\": \"_doc\",\n",
    "                \"_source\": document,\n",
    "            }"
   ]
  },
  {
   "cell_type": "code",
   "execution_count": 68,
   "metadata": {},
   "outputs": [
    {
     "name": "stderr",
     "output_type": "stream",
     "text": [
      "/tmp/ipykernel_52094/3268320283.py:1: ElasticsearchWarning: Elasticsearch built-in security features are not enabled. Without authentication, your cluster could be accessible to anyone. See https://www.elastic.co/guide/en/elasticsearch/reference/7.17/security-minimal-setup.html to enable security.\n",
      "  helpers.bulk(es_client, doc_generator(offres_df_clean))\n",
      "/tmp/ipykernel_52094/3268320283.py:1: ElasticsearchWarning: [types removal] Specifying types in bulk requests is deprecated.\n",
      "  helpers.bulk(es_client, doc_generator(offres_df_clean))\n"
     ]
    },
    {
     "data": {
      "text/plain": [
       "(406755, [])"
      ]
     },
     "execution_count": 68,
     "metadata": {},
     "output_type": "execute_result"
    }
   ],
   "source": [
    "# Indexation des offres\n",
    "helpers.bulk(es_client, doc_generator(offres_df_clean,\"offres\"))"
   ]
  },
  {
   "cell_type": "code",
   "execution_count": 73,
   "metadata": {},
   "outputs": [
    {
     "name": "stderr",
     "output_type": "stream",
     "text": [
      "/tmp/ipykernel_69563/1014443642.py:2: ElasticsearchWarning: Elasticsearch built-in security features are not enabled. Without authentication, your cluster could be accessible to anyone. See https://www.elastic.co/guide/en/elasticsearch/reference/7.17/security-minimal-setup.html to enable security.\n",
      "  helpers.bulk(es_client, doc_generator(services_clean,\"services\"))\n",
      "/tmp/ipykernel_69563/1014443642.py:2: ElasticsearchWarning: [types removal] Specifying types in bulk requests is deprecated.\n",
      "  helpers.bulk(es_client, doc_generator(services_clean,\"services\"))\n"
     ]
    },
    {
     "data": {
      "text/plain": [
       "(7636, [])"
      ]
     },
     "execution_count": 73,
     "metadata": {},
     "output_type": "execute_result"
    }
   ],
   "source": [
    "# Indexation des services\n",
    "helpers.bulk(es_client, doc_generator(services_clean,\"services\"))"
   ]
  },
  {
   "cell_type": "code",
   "execution_count": 89,
   "metadata": {},
   "outputs": [
    {
     "name": "stderr",
     "output_type": "stream",
     "text": [
      "/tmp/ipykernel_72898/2169517871.py:2: ElasticsearchWarning: Elasticsearch built-in security features are not enabled. Without authentication, your cluster could be accessible to anyone. See https://www.elastic.co/guide/en/elasticsearch/reference/7.17/security-minimal-setup.html to enable security.\n",
      "  helpers.bulk(es_client, doc_generator(fdp_clean,\"fiches\"))\n",
      "/tmp/ipykernel_72898/2169517871.py:2: ElasticsearchWarning: [types removal] Specifying types in bulk requests is deprecated.\n",
      "  helpers.bulk(es_client, doc_generator(fdp_clean,\"fiches\"))\n"
     ]
    },
    {
     "data": {
      "text/plain": [
       "(30, [])"
      ]
     },
     "execution_count": 89,
     "metadata": {},
     "output_type": "execute_result"
    }
   ],
   "source": [
    "# Indexation des fiches de poste\n",
    "helpers.bulk(es_client, doc_generator(fdp_clean,\"fiches\"))"
   ]
  },
  {
   "cell_type": "code",
   "execution_count": 19,
   "metadata": {},
   "outputs": [],
   "source": [
    "from elasticsearch_dsl import Search\n",
    "s = Search(index='offres').query('match',metier='charge')"
   ]
  },
  {
   "cell_type": "code",
   "execution_count": 20,
   "metadata": {},
   "outputs": [
    {
     "name": "stderr",
     "output_type": "stream",
     "text": [
      "/opt/mamba/lib/python3.11/site-packages/elasticsearch_dsl/search.py:712: ElasticsearchWarning: Elasticsearch built-in security features are not enabled. Without authentication, your cluster could be accessible to anyone. See https://www.elastic.co/guide/en/elasticsearch/reference/7.17/security-minimal-setup.html to enable security.\n",
      "  es.search(index=self._index, body=self.to_dict(), **self._params).body,\n"
     ]
    }
   ],
   "source": [
    "r=s.execute()"
   ]
  },
  {
   "cell_type": "code",
   "execution_count": 21,
   "metadata": {},
   "outputs": [
    {
     "name": "stderr",
     "output_type": "stream",
     "text": [
      "/opt/mamba/lib/python3.11/site-packages/elasticsearch_dsl/search.py:728: ElasticsearchWarning: Elasticsearch built-in security features are not enabled. Without authentication, your cluster could be accessible to anyone. See https://www.elastic.co/guide/en/elasticsearch/reference/7.17/security-minimal-setup.html to enable security.\n",
      "  for hit in scan(es, query=self.to_dict(), index=self._index, **self._params):\n"
     ]
    }
   ],
   "source": [
    "df_results = pd.DataFrame((d.to_dict() for d in s.scan()))"
   ]
  },
  {
   "cell_type": "code",
   "execution_count": 133,
   "metadata": {},
   "outputs": [
    {
     "data": {
      "text/html": [
       "<div>\n",
       "<style scoped>\n",
       "    .dataframe tbody tr th:only-of-type {\n",
       "        vertical-align: middle;\n",
       "    }\n",
       "\n",
       "    .dataframe tbody tr th {\n",
       "        vertical-align: top;\n",
       "    }\n",
       "\n",
       "    .dataframe thead th {\n",
       "        text-align: right;\n",
       "    }\n",
       "</style>\n",
       "<table border=\"1\" class=\"dataframe\">\n",
       "  <thead>\n",
       "    <tr style=\"text-align: right;\">\n",
       "      <th></th>\n",
       "      <th>organisme_de_rattachement</th>\n",
       "      <th>metier</th>\n",
       "      <th>intitule_du_poste</th>\n",
       "      <th>localisation_du_poste</th>\n",
       "    </tr>\n",
       "  </thead>\n",
       "  <tbody>\n",
       "    <tr>\n",
       "      <th>0</th>\n",
       "      <td>universite paris saclay</td>\n",
       "      <td>chargee charge de controle interne budgetaire et comptable</td>\n",
       "      <td>gestionnaire des operations financieres h f</td>\n",
       "      <td>essonne</td>\n",
       "    </tr>\n",
       "    <tr>\n",
       "      <th>1</th>\n",
       "      <td>structures de cooperation territoriale</td>\n",
       "      <td>chargee charge de developpement territorial</td>\n",
       "      <td>che fe de projet petites villes de demain com com du civraisien en poitou</td>\n",
       "      <td>vienne</td>\n",
       "    </tr>\n",
       "    <tr>\n",
       "      <th>2</th>\n",
       "      <td>centres communaux d action sociale</td>\n",
       "      <td>chargee charge de gestion administrative et ou de paie</td>\n",
       "      <td>assistant charge du portage de repas et du logement h f</td>\n",
       "      <td>morbihan</td>\n",
       "    </tr>\n",
       "    <tr>\n",
       "      <th>3</th>\n",
       "      <td>conseils departementaux</td>\n",
       "      <td>chargee charge de gestion administrative et ou de paie</td>\n",
       "      <td>secretaire du service crip conseil departemental de la gironde</td>\n",
       "      <td>gironde</td>\n",
       "    </tr>\n",
       "    <tr>\n",
       "      <th>4</th>\n",
       "      <td>communes</td>\n",
       "      <td>chargee charge d amenagement des espaces verts et de production vegetale</td>\n",
       "      <td>agent d entretien des espaces verts h f le petit quevilly</td>\n",
       "      <td>seine maritime</td>\n",
       "    </tr>\n",
       "    <tr>\n",
       "      <th>...</th>\n",
       "      <td>...</td>\n",
       "      <td>...</td>\n",
       "      <td>...</td>\n",
       "      <td>...</td>\n",
       "    </tr>\n",
       "    <tr>\n",
       "      <th>153856</th>\n",
       "      <td>communes</td>\n",
       "      <td>chargee charge de l instruction de dossiers administratifs</td>\n",
       "      <td>instructeur instructrice des demandes autorisations droits des sols commune d aix en provence</td>\n",
       "      <td>bouches du rhone</td>\n",
       "    </tr>\n",
       "    <tr>\n",
       "      <th>153857</th>\n",
       "      <td>communes</td>\n",
       "      <td>chargee charge des d exploitation des equipements sportifs et ludiques</td>\n",
       "      <td>chef d equipe exploitation h f lyon</td>\n",
       "      <td>rhone</td>\n",
       "    </tr>\n",
       "    <tr>\n",
       "      <th>153858</th>\n",
       "      <td>direction des achats de l etat dae</td>\n",
       "      <td>chargee charge de conduite des politiques publiques</td>\n",
       "      <td>dae consultant interne etudes actions d optimisation des achats de l etat et de ses operateurs h f</td>\n",
       "      <td>paris</td>\n",
       "    </tr>\n",
       "    <tr>\n",
       "      <th>153859</th>\n",
       "      <td>communes</td>\n",
       "      <td>chargee charge de l instruction de dossiers administratifs</td>\n",
       "      <td>agent des formalites civiles commune d aix en provence</td>\n",
       "      <td>bouches du rhone</td>\n",
       "    </tr>\n",
       "    <tr>\n",
       "      <th>153860</th>\n",
       "      <td>communes</td>\n",
       "      <td>responsable d encadrement d equipe ou charge de surveillance</td>\n",
       "      <td>chef de police h f commune des saintes maries de la mer</td>\n",
       "      <td>bouches du rhone</td>\n",
       "    </tr>\n",
       "  </tbody>\n",
       "</table>\n",
       "<p>153861 rows × 4 columns</p>\n",
       "</div>"
      ],
      "text/plain": [
       "                     organisme_de_rattachement  \\\n",
       "0                      universite paris saclay   \n",
       "1       structures de cooperation territoriale   \n",
       "2           centres communaux d action sociale   \n",
       "3                      conseils departementaux   \n",
       "4                                     communes   \n",
       "...                                        ...   \n",
       "153856                                communes   \n",
       "153857                                communes   \n",
       "153858      direction des achats de l etat dae   \n",
       "153859                                communes   \n",
       "153860                                communes   \n",
       "\n",
       "                                                                          metier  \\\n",
       "0                     chargee charge de controle interne budgetaire et comptable   \n",
       "1                                    chargee charge de developpement territorial   \n",
       "2                         chargee charge de gestion administrative et ou de paie   \n",
       "3                         chargee charge de gestion administrative et ou de paie   \n",
       "4       chargee charge d amenagement des espaces verts et de production vegetale   \n",
       "...                                                                          ...   \n",
       "153856                chargee charge de l instruction de dossiers administratifs   \n",
       "153857    chargee charge des d exploitation des equipements sportifs et ludiques   \n",
       "153858                       chargee charge de conduite des politiques publiques   \n",
       "153859                chargee charge de l instruction de dossiers administratifs   \n",
       "153860              responsable d encadrement d equipe ou charge de surveillance   \n",
       "\n",
       "                                                                                         intitule_du_poste  \\\n",
       "0                                                              gestionnaire des operations financieres h f   \n",
       "1                                che fe de projet petites villes de demain com com du civraisien en poitou   \n",
       "2                                                  assistant charge du portage de repas et du logement h f   \n",
       "3                                           secretaire du service crip conseil departemental de la gironde   \n",
       "4                                                agent d entretien des espaces verts h f le petit quevilly   \n",
       "...                                                                                                    ...   \n",
       "153856       instructeur instructrice des demandes autorisations droits des sols commune d aix en provence   \n",
       "153857                                                                 chef d equipe exploitation h f lyon   \n",
       "153858  dae consultant interne etudes actions d optimisation des achats de l etat et de ses operateurs h f   \n",
       "153859                                              agent des formalites civiles commune d aix en provence   \n",
       "153860                                             chef de police h f commune des saintes maries de la mer   \n",
       "\n",
       "       localisation_du_poste  \n",
       "0                    essonne  \n",
       "1                     vienne  \n",
       "2                   morbihan  \n",
       "3                    gironde  \n",
       "4             seine maritime  \n",
       "...                      ...  \n",
       "153856      bouches du rhone  \n",
       "153857                 rhone  \n",
       "153858                 paris  \n",
       "153859      bouches du rhone  \n",
       "153860      bouches du rhone  \n",
       "\n",
       "[153861 rows x 4 columns]"
      ]
     },
     "execution_count": 133,
     "metadata": {},
     "output_type": "execute_result"
    }
   ],
   "source": [
    "df_results"
   ]
  },
  {
   "cell_type": "code",
   "execution_count": 6,
   "metadata": {},
   "outputs": [
    {
     "name": "stderr",
     "output_type": "stream",
     "text": [
      "/tmp/ipykernel_11954/3955335858.py:2: ElasticsearchWarning: Elasticsearch built-in security features are not enabled. Without authentication, your cluster could be accessible to anyone. See https://www.elastic.co/guide/en/elasticsearch/reference/7.17/security-minimal-setup.html to enable security.\n",
      "  fullsearch_easy = es_client.search(index = \"services\", # l'index dans lequel on cherche\n"
     ]
    }
   ],
   "source": [
    " # Recherche dans l'ensemble des champs le meilleur écho (le plus pertinent) #\n",
    "fullsearch_easy = es_client.search(index = \"services\", # l'index dans lequel on cherche\n",
    "                       q = \"direction generale des finances publiques dgfip\tdata scientis ssi dpn dtnum bureau si mission service a l utilisateur data scientist expert h f\", # notre requête textuelle\n",
    "                              size = 1) # taille de l'ensemble les échos souhaités"
   ]
  },
  {
   "cell_type": "code",
   "execution_count": 7,
   "metadata": {},
   "outputs": [
    {
     "data": {
      "text/plain": [
       "ObjectApiResponse({'took': 14, 'timed_out': False, '_shards': {'total': 1, 'successful': 1, 'skipped': 0, 'failed': 0}, 'hits': {'total': {'value': 6310, 'relation': 'eq'}, 'max_score': 27.02822, 'hits': [{'_index': 'services', '_type': '_doc', '_id': 'QbHPPYsB1My3OOFZX1kn', '_score': 27.02822, '_ignored': ['services_fils.keyword'], '_source': {'nom': 'direction generale des finances publiques dgfip', 'type_organisme': 'administration centrale ou ministere', 'sigle': '', 'services_fils': 'cabinet et communication cabinet international delegation aux relations internationales delegation a la transformation numerique dtnum mission de cooperation internationale mission strategie des relations avec les differents publics mission unification du recouvrement fiscal murf direction de l immobilier de l etat direction de la legislation fiscale service de la securite juridique et du controle fiscal sjcf service de la gestion fiscale gf service des gestions publiques locales des activites bancaires et economiques service de la fonction financiere et comptable de l etat 2fce service des ressources humaines rh service strategie pilotage budget spib service des systemes d information si service des retraites de l etat sre service d enquetes judiciaires des finances'}}]}})"
      ]
     },
     "execution_count": 7,
     "metadata": {},
     "output_type": "execute_result"
    }
   ],
   "source": [
    "fullsearch_easy"
   ]
  },
  {
   "cell_type": "code",
   "execution_count": 100,
   "metadata": {},
   "outputs": [
    {
     "name": "stderr",
     "output_type": "stream",
     "text": [
      "/tmp/ipykernel_72898/2210460514.py:2: ElasticsearchWarning: Elasticsearch built-in security features are not enabled. Without authentication, your cluster could be accessible to anyone. See https://www.elastic.co/guide/en/elasticsearch/reference/7.17/security-minimal-setup.html to enable security.\n",
      "  fullsearch1 = es_client.search(index = \"services\", # l'index dans lequel on cherche\n"
     ]
    }
   ],
   "source": [
    " # Recherche dans l'ensemble des champs le meilleur écho (le plus pertinent) #\n",
    "fullsearch_scientist = es_client.search(index = \"services\", # l'index dans lequel on cherche\n",
    "                       q = \"centre hospitalier universitaire de tours\tdata scientist datascientist centre de donnees cliniques\", # notre requête textuelle\n",
    "                              size = 1) # taille de l'ensemble les échos souhaités"
   ]
  },
  {
   "cell_type": "code",
   "execution_count": 101,
   "metadata": {},
   "outputs": [
    {
     "data": {
      "text/plain": [
       "ObjectApiResponse({'took': 6, 'timed_out': False, '_shards': {'total': 1, 'successful': 1, 'skipped': 0, 'failed': 0}, 'hits': {'total': {'value': 7636, 'relation': 'eq'}, 'max_score': 15.201317, 'hits': [{'_index': 'services', '_type': '_doc', '_id': 'DrFaKIsB1My3OOFZEzmY', '_score': 15.201317, '_source': {'copyright': 'direction de l information legale et administrative premiere ministre', 'nom': 'centre de valorisation des ressources humaines cvrh de tours', 'type_organisme': 'service a competence nationale', 'sigle': ''}}]}})"
      ]
     },
     "execution_count": 101,
     "metadata": {},
     "output_type": "execute_result"
    }
   ],
   "source": [
    "fullsearch_scientist"
   ]
  },
  {
   "cell_type": "code",
   "execution_count": 103,
   "metadata": {},
   "outputs": [
    {
     "name": "stderr",
     "output_type": "stream",
     "text": [
      "/tmp/ipykernel_72898/1096055904.py:2: ElasticsearchWarning: Elasticsearch built-in security features are not enabled. Without authentication, your cluster could be accessible to anyone. See https://www.elastic.co/guide/en/elasticsearch/reference/7.17/security-minimal-setup.html to enable security.\n",
      "  fullsearch_engineer= es_client.search(index = \"services\", # l'index dans lequel on cherche\n"
     ]
    }
   ],
   "source": [
    " # Recherche dans l'ensemble des champs le meilleur écho (le plus pertinent) #\n",
    "fullsearch_engineer= es_client.search(index = \"services\", # l'index dans lequel on cherche\n",
    "                       q = \"service hydrographique et oceanographique de la marine\tdata engineer\tingenieur en traitement de l information conception developpement et experimentation d ia h f\", # notre requête textuelle\n",
    "                              size = 1) # taille de l'ensemble les échos souhaités"
   ]
  },
  {
   "cell_type": "code",
   "execution_count": 104,
   "metadata": {},
   "outputs": [
    {
     "data": {
      "text/plain": [
       "ObjectApiResponse({'took': 23, 'timed_out': False, '_shards': {'total': 1, 'successful': 1, 'skipped': 0, 'failed': 0}, 'hits': {'total': {'value': 7636, 'relation': 'eq'}, 'max_score': 27.117067, 'hits': [{'_index': 'services', '_type': '_doc', '_id': 't7FaKIsB1My3OOFZFT--', '_score': 27.117067, '_source': {'copyright': 'direction de l information legale et administrative premiere ministre', 'nom': 'service hydrographique et oceanographique de la marine shom', 'type_organisme': 'etablissement public', 'sigle': ''}}]}})"
      ]
     },
     "execution_count": 104,
     "metadata": {},
     "output_type": "execute_result"
    }
   ],
   "source": [
    "fullsearch_engineer"
   ]
  },
  {
   "cell_type": "code",
   "execution_count": 106,
   "metadata": {},
   "outputs": [
    {
     "name": "stderr",
     "output_type": "stream",
     "text": [
      "/tmp/ipykernel_72898/3294352241.py:1: ElasticsearchWarning: Elasticsearch built-in security features are not enabled. Without authentication, your cluster could be accessible to anyone. See https://www.elastic.co/guide/en/elasticsearch/reference/7.17/security-minimal-setup.html to enable security.\n",
      "  fullsearch_designer = es_client.search(index = \"services\", # l'index dans lequel on cherche\n"
     ]
    }
   ],
   "source": [
    "fullsearch_designer = es_client.search(index = \"services\", # l'index dans lequel on cherche\n",
    "                       q = \"caisse des depots et consignations\tarchitecte technique expert conception et architecture de donnees d entreprise data designer h f\t\", # notre requête textuelle\n",
    "                              size = 1) # taille de l'ensemble les échos souhaités"
   ]
  },
  {
   "cell_type": "code",
   "execution_count": 107,
   "metadata": {},
   "outputs": [
    {
     "data": {
      "text/plain": [
       "ObjectApiResponse({'took': 17, 'timed_out': False, '_shards': {'total': 1, 'successful': 1, 'skipped': 0, 'failed': 0}, 'hits': {'total': {'value': 7636, 'relation': 'eq'}, 'max_score': 21.853615, 'hits': [{'_index': 'services', '_type': '_doc', '_id': 'RbFaKIsB1My3OOFZEDBa', '_score': 21.853615, '_source': {'copyright': 'direction de l information legale et administrative premiere ministre', 'nom': 'caisse des depots et consignations cdc', 'type_organisme': 'juridiction', 'sigle': ''}}]}})"
      ]
     },
     "execution_count": 107,
     "metadata": {},
     "output_type": "execute_result"
    }
   ],
   "source": [
    "fullsearch_designer"
   ]
  },
  {
   "cell_type": "code",
   "execution_count": 24,
   "metadata": {},
   "outputs": [],
   "source": [
    "def get_services(es,query):\n",
    "    fullsearch = es.search(index = \"services\", # l'index dans lequel on cherche\n",
    "                       q = query, # notre requête textuelle\n",
    "                       size = 1)\n",
    "    return fullsearch['hits']['hits'][0]['_source']['services_fils']"
   ]
  },
  {
   "cell_type": "code",
   "execution_count": 25,
   "metadata": {},
   "outputs": [],
   "source": [
    "def add_services(df, list_cols,es):\n",
    "    df['service'] = df[list_cols].apply(lambda row: get_services(es,' '.join(row.values.astype(str))), axis=1)\n",
    "    return df"
   ]
  },
  {
   "cell_type": "code",
   "execution_count": 9,
   "metadata": {},
   "outputs": [
    {
     "name": "stderr",
     "output_type": "stream",
     "text": [
      "/tmp/ipykernel_11954/1125244949.py:2: ElasticsearchWarning: Elasticsearch built-in security features are not enabled. Without authentication, your cluster could be accessible to anyone. See https://www.elastic.co/guide/en/elasticsearch/reference/7.17/security-minimal-setup.html to enable security.\n",
      "  fullsearch = es.search(index = \"services\", # l'index dans lequel on cherche\n"
     ]
    },
    {
     "data": {
      "text/plain": [
       "'caisse des depots et consignations cdc direction regionale antilles guyane caisse des depots et consignations cdc direction regionale auvergne rhone alpes caisse des depots et consignations cdc direction regionale bourgogne franche comte caisse des depots et consignations cdc direction regionale bretagne caisse des depots et consignations cdc direction regionale centre val de loire caisse des depots et consignations cdc direction regionale corse caisse des depots et consignations cdc direction regionale grand est caisse des depots et consignations cdc direction regionale hauts de france caisse des depots et consignations cdc direction regionale normandie caisse des depots et consignations cdc direction regionale nouvelle aquitaine caisse des depots et consignations cdc direction regionale pays de la loire caisse des depots et consignations cdc direction regionale provence alpes cote d azur caisse des depots et consignations cdc direction regionale reunion ocean indien caisse des depots et consignations cdc direction regionale occitanie'"
      ]
     },
     "execution_count": 9,
     "metadata": {},
     "output_type": "execute_result"
    }
   ],
   "source": [
    "get_services(es_client,\"caisse des depots et consignations\tarchitecte technique expert conception et architecture de donnees d entreprise data designer h f\")"
   ]
  },
  {
   "cell_type": "code",
   "execution_count": 26,
   "metadata": {},
   "outputs": [
    {
     "name": "stderr",
     "output_type": "stream",
     "text": [
      "/tmp/ipykernel_11954/1125244949.py:2: ElasticsearchWarning: Elasticsearch built-in security features are not enabled. Without authentication, your cluster could be accessible to anyone. See https://www.elastic.co/guide/en/elasticsearch/reference/7.17/security-minimal-setup.html to enable security.\n",
      "  fullsearch = es.search(index = \"services\", # l'index dans lequel on cherche\n",
      "/tmp/ipykernel_11954/2305960098.py:2: SettingWithCopyWarning: \n",
      "A value is trying to be set on a copy of a slice from a DataFrame.\n",
      "Try using .loc[row_indexer,col_indexer] = value instead\n",
      "\n",
      "See the caveats in the documentation: https://pandas.pydata.org/pandas-docs/stable/user_guide/indexing.html#returning-a-view-versus-a-copy\n",
      "  df['service'] = df[list_cols].apply(lambda row: get_services(es,' '.join(row.values.astype(str))), axis=1)\n"
     ]
    }
   ],
   "source": [
    "list_cols = ['organisme_de_rattachement','metier','intitule_du_poste','localisation_du_poste']\n",
    "offres_df_temp = offres_df_clean[offres_df_clean['metier'].str.contains(\"data scientist\",na=False)|offres_df_clean['intitule_du_poste'].str.contains(\"data scientist\",na=False)]\n",
    "offres_with_services =  offres_df_temp.head(50).pipe(add_services,list_cols,es_client)"
   ]
  }
 ],
 "metadata": {
  "kernelspec": {
   "display_name": "base",
   "language": "python",
   "name": "python3"
  },
  "language_info": {
   "codemirror_mode": {
    "name": "ipython",
    "version": 3
   },
   "file_extension": ".py",
   "mimetype": "text/x-python",
   "name": "python",
   "nbconvert_exporter": "python",
   "pygments_lexer": "ipython3",
   "version": "3.11.4"
  },
  "orig_nbformat": 4
 },
 "nbformat": 4,
 "nbformat_minor": 2
}
