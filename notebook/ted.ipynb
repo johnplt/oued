{
 "cells": [
  {
   "attachments": {},
   "cell_type": "markdown",
   "metadata": {},
   "source": [
    "# Library imports, configurations"
   ]
  },
  {
   "cell_type": "code",
   "execution_count": 1,
   "metadata": {},
   "outputs": [
    {
     "name": "stderr",
     "output_type": "stream",
     "text": [
      "[nltk_data] Downloading package punkt to /home/onyxia/nltk_data...\n",
      "[nltk_data]   Package punkt is already up-to-date!\n"
     ]
    }
   ],
   "source": [
    "import os\n",
    "import re\n",
    "import s3fs\n",
    "import pandas as pd\n",
    "import requests\n",
    "import json\n",
    "pd.set_option('display.max_columns', None)\n",
    "pd.set_option('display.max_colwidth', None)\n",
    "from unidecode import unidecode\n",
    "from wordcloud import WordCloud\n",
    "import nltk\n",
    "nltk.download('punkt')\n",
    "\n",
    "from stop_words import get_stop_words\n",
    "import unicodedata\n",
    "\n",
    "from nltk.tokenize import word_tokenize\n",
    "from elasticsearch import Elasticsearch\n",
    "from elasticsearch import helpers\n",
    "from elasticsearch_dsl import connections\n",
    "from bs4 import BeautifulSoup as bs"
   ]
  },
  {
   "cell_type": "code",
   "execution_count": 2,
   "metadata": {},
   "outputs": [],
   "source": [
    "# Create filesystem object\n",
    "S3_ENDPOINT_URL = \"https://\" + os.environ[\"AWS_S3_ENDPOINT\"]\n",
    "fs = s3fs.S3FileSystem(client_kwargs={'endpoint_url': S3_ENDPOINT_URL})"
   ]
  },
  {
   "cell_type": "code",
   "execution_count": 4,
   "metadata": {},
   "outputs": [
    {
     "data": {
      "text/plain": [
       "['jplaton/diffusion/.keep',\n",
       " 'jplaton/diffusion/ted',\n",
       " 'jplaton/diffusion/visio_mel']"
      ]
     },
     "execution_count": 4,
     "metadata": {},
     "output_type": "execute_result"
    }
   ],
   "source": [
    "BUCKET = \"jplaton/diffusion\"\n",
    "fs.ls(BUCKET)"
   ]
  },
  {
   "cell_type": "code",
   "execution_count": 5,
   "metadata": {},
   "outputs": [
    {
     "data": {
      "text/plain": [
       "['clementg/diffusion/.keep',\n",
       " 'clementg/diffusion/Fiche de Poste DINUM - francetransfert-3595970061- pdf.csv',\n",
       " \"clementg/diffusion/Référentiel de l'organisation administrative de l'Etat.csv\"]"
      ]
     },
     "execution_count": 5,
     "metadata": {},
     "output_type": "execute_result"
    }
   ],
   "source": [
    "BUCKET_CLEM = \"clementg/diffusion\"\n",
    "fs.ls(BUCKET_CLEM)"
   ]
  },
  {
   "cell_type": "markdown",
   "metadata": {},
   "source": [
    "# Functions"
   ]
  },
  {
   "cell_type": "code",
   "execution_count": 6,
   "metadata": {},
   "outputs": [],
   "source": [
    "# Suppression des accents\n",
    "\n",
    "def remove_accent(s):\n",
    "\n",
    "    s = unidecode(str(s))\n",
    "    return(s)\n",
    "\n",
    "# Suppression de la ponctuation\n",
    "\n",
    "def remove_punctuation(s):\n",
    "    # On retire la ponctuation\n",
    " \n",
    "    s = re.sub(r'[^A-Za-z0-9]',' ',str(s))\n",
    "    return(s)\n",
    "\n",
    "# Réduction de la casse\n",
    "\n",
    "def tolower(s):\n",
    "    s = ' '.join(str(s).lower().split())\n",
    "    return(s)\n",
    "\n",
    "\n",
    "# Sur cette base, on crée une petite fonction qui retire les stop words\n",
    "stopwords = get_stop_words('french')   \n",
    "stopwords = [unicodedata.normalize('NFKD',m).encode('ASCII', 'ignore').decode() for m in stopwords]\n",
    "\n",
    "def remove_stopwords(s):\n",
    "    s = [w for w in word_tokenize(s) if w not in stopwords]\n",
    "    s = ' '.join(s)\n",
    "    return(s)\n",
    "\n",
    "def remove_accent_from_df(df,list_cols):\n",
    "    df_c =  df.copy()\n",
    "    df_c[list_cols] = df_c[list_cols].map(remove_accent)\n",
    "    return df_c\n",
    "\n",
    "def remove_punctuation_from_df(df,list_cols):\n",
    "    df_c =  df.copy()\n",
    "    df_c[list_cols] = df_c[list_cols].map(remove_punctuation)\n",
    "    return df_c\n",
    "\n",
    "def tolower_df(df,list_cols):\n",
    "    df_c =  df.copy()\n",
    "    df_c[list_cols] = df_c[list_cols].map(tolower)\n",
    "    return df_c\n",
    "\n",
    "# Scraping de annuaire service public pour aller chercher les services à aprtir des ids\n",
    "# def get_service_from_scraping(service_id):\n",
    "#     try:\n",
    "#         url=f'https://lannuaire.service-public.fr/gouvernement/{service_id}'\n",
    "#         response = requests.get(url)\n",
    "#         html = response.content\n",
    "#         soup = bs(html, \"lxml\")\n",
    "#         return soup.title.get_text().replace(' - Annuaire | Service-public.fr', '')\n",
    "#     except:\n",
    "#         return ''"
   ]
  },
  {
   "attachments": {},
   "cell_type": "markdown",
   "metadata": {},
   "source": [
    "# DATA Download"
   ]
  },
  {
   "cell_type": "code",
   "execution_count": 7,
   "metadata": {},
   "outputs": [
    {
     "name": "stderr",
     "output_type": "stream",
     "text": [
      "/tmp/ipykernel_3125/4280061390.py:5: DtypeWarning: Columns (22) have mixed types. Specify dtype option on import or set low_memory=False.\n",
      "  offres_2023_df = pd.read_csv(file_in, sep=\";\")\n",
      "/tmp/ipykernel_3125/4280061390.py:8: DtypeWarning: Columns (22) have mixed types. Specify dtype option on import or set low_memory=False.\n",
      "  offres_2022_df = pd.read_csv(file_in, sep=\";\")\n"
     ]
    }
   ],
   "source": [
    "FILE_PATH_TED = \"ted\"\n",
    "FILE_PATH_TED_S3 = BUCKET + \"/\" + FILE_PATH_TED\n",
    "\n",
    "with fs.open(FILE_PATH_TED_S3+\"/offres-datagouv-20230409.csv\", mode=\"rb\") as file_in:\n",
    "    offres_2023_df = pd.read_csv(file_in, sep=\";\")\n",
    "\n",
    "with fs.open(FILE_PATH_TED_S3+\"/offres-datagouv-20221225.csv\", mode=\"rb\") as file_in:   \n",
    "    offres_2022_df = pd.read_csv(file_in, sep=\";\")\n",
    "\n",
    "with fs.open(FILE_PATH_TED_S3+\"/Bulloterie_10_Saison_2.xlsx\", mode=\"rb\") as file_in:  \n",
    "    bulloterie_df =  pd.read_excel(file_in, sheet_name=0,header=[0,1])\n"
   ]
  },
  {
   "cell_type": "code",
   "execution_count": 8,
   "metadata": {},
   "outputs": [],
   "source": [
    "with fs.open(BUCKET_CLEM+\"/Fiche de Poste DINUM - francetransfert-3595970061- pdf.csv\", mode=\"rb\") as file_in:\n",
    "    fdp_dinum_df = pd.read_csv(file_in, sep=\";\",encoding='Windows-1252')\n",
    "with fs.open(BUCKET_CLEM+\"/Référentiel de l'organisation administrative de l'Etat.csv\", mode=\"rb\") as file_in:\n",
    "    orga_csv_df = pd.read_csv(file_in, sep=\";\",encoding='utf-8')"
   ]
  },
  {
   "cell_type": "code",
   "execution_count": 9,
   "metadata": {},
   "outputs": [],
   "source": [
    "orga_sigle = orga_csv_df[['id','sigle (construction avec le nom)']].rename(columns={'sigle (construction avec le nom)':'sigle_calcul'})"
   ]
  },
  {
   "cell_type": "code",
   "execution_count": 10,
   "metadata": {},
   "outputs": [],
   "source": [
    "with fs.open(FILE_PATH_TED_S3+\"/dila_refOrga_admin_Etat_fr_20230505.json\", mode=\"rb\") as file_in:  \n",
    "    orga =  json.load(file_in)"
   ]
  },
  {
   "cell_type": "markdown",
   "metadata": {},
   "source": [
    "### Traitement référentiel services"
   ]
  },
  {
   "cell_type": "code",
   "execution_count": 11,
   "metadata": {},
   "outputs": [],
   "source": [
    "orga_df = pd.merge(pd.json_normalize(orga,record_path='service'),orga_sigle,on='id',how='left')"
   ]
  },
  {
   "cell_type": "code",
   "execution_count": 12,
   "metadata": {},
   "outputs": [],
   "source": [
    "ref_service_id_name = orga_df.set_index('id').to_dict()['nom']"
   ]
  },
  {
   "cell_type": "code",
   "execution_count": 13,
   "metadata": {},
   "outputs": [],
   "source": [
    "ref_service_id_sigle = orga_df.set_index('id').to_dict()['sigle_calcul']"
   ]
  },
  {
   "cell_type": "code",
   "execution_count": 14,
   "metadata": {},
   "outputs": [],
   "source": [
    "orga_df['services_fils_id'] = orga_df['hierarchie'].map(lambda x: [x[i]['service'] for i in range(len(x))])"
   ]
  },
  {
   "cell_type": "code",
   "execution_count": 15,
   "metadata": {},
   "outputs": [],
   "source": [
    "orga_df['services_fils_name'] = orga_df['services_fils_id'].map(lambda x: [ref_service_id_name[n] for n in x if n in ref_service_id_name.keys()])"
   ]
  },
  {
   "cell_type": "code",
   "execution_count": 16,
   "metadata": {},
   "outputs": [],
   "source": [
    "ref_pere_fils = orga_df.set_index('id').to_dict()['services_fils_id']"
   ]
  },
  {
   "cell_type": "code",
   "execution_count": 17,
   "metadata": {},
   "outputs": [],
   "source": [
    "orga_df['arbo_service_id'] = ''\n",
    "for k,v in ref_pere_fils.items():\n",
    "   orga_df.loc[(orga_df['id'].isin(v))|(orga_df['id']==k),'arbo_service_id'] = orga_df.loc[(orga_df['id'].isin(v))|(orga_df['id']==k),'arbo_service_id'].apply(lambda x: [k]+v)"
   ]
  },
  {
   "cell_type": "code",
   "execution_count": 18,
   "metadata": {},
   "outputs": [],
   "source": [
    "orga_df['arbo_service_name'] = orga_df['arbo_service_id'].map(lambda x: [ref_service_id_name[n] for n in x if n in ref_service_id_name.keys()])"
   ]
  },
  {
   "cell_type": "code",
   "execution_count": 19,
   "metadata": {},
   "outputs": [],
   "source": [
    "ref_service_id_arbo = orga_df.set_index('id').to_dict()['arbo_service_name']"
   ]
  },
  {
   "cell_type": "code",
   "execution_count": 20,
   "metadata": {},
   "outputs": [],
   "source": [
    "orga_df['arbo_service_sigle'] = orga_df['arbo_service_id'].map(lambda x: [ref_service_id_sigle[n] for n in x if n in ref_service_id_sigle.keys()])"
   ]
  },
  {
   "cell_type": "code",
   "execution_count": 47,
   "metadata": {},
   "outputs": [],
   "source": [
    "orga_df[['id','nom','ancien_nom','type_organisme','sigle','services_fils_name','arbo_service_name','arbo_service_sigle']].to_csv('orga_with_arbo.csv',sep=';',index=False)"
   ]
  },
  {
   "cell_type": "code",
   "execution_count": 21,
   "metadata": {},
   "outputs": [],
   "source": [
    "services_clean = ( orga_df\n",
    "    .pipe(remove_accent_from_df,['nom','ancien_nom','type_organisme','sigle','services_fils_name','arbo_service_name','arbo_service_sigle'])\n",
    "    .pipe(remove_punctuation_from_df,['nom','ancien_nom','type_organisme','sigle','services_fils_name','arbo_service_name','arbo_service_sigle'])\n",
    "    .pipe(tolower_df,['nom','ancien_nom','type_organisme','sigle','services_fils_name','arbo_service_name','arbo_service_sigle'])\n",
    ")"
   ]
  },
  {
   "cell_type": "code",
   "execution_count": 22,
   "metadata": {},
   "outputs": [],
   "source": [
    "services_clean = services_clean[['id','nom','ancien_nom','type_organisme','sigle','services_fils_name','arbo_service_name','arbo_service_sigle']] "
   ]
  },
  {
   "cell_type": "markdown",
   "metadata": {},
   "source": [
    "### Traitement offres"
   ]
  },
  {
   "cell_type": "code",
   "execution_count": 23,
   "metadata": {},
   "outputs": [],
   "source": [
    "offres_df = pd.concat([offres_2023_df,offres_2022_df])"
   ]
  },
  {
   "cell_type": "code",
   "execution_count": 24,
   "metadata": {},
   "outputs": [],
   "source": [
    "offres_df.columns = offres_df.columns.map(remove_accent).map(remove_punctuation).map(tolower).map(lambda s: s.replace(' ', '_'))"
   ]
  },
  {
   "cell_type": "code",
   "execution_count": 25,
   "metadata": {},
   "outputs": [],
   "source": [
    "offres_df_clean = ( offres_df\n",
    "    .pipe(remove_accent_from_df,['organisme_de_rattachement','metier','intitule_du_poste','localisation_du_poste'])\n",
    "    .pipe(remove_punctuation_from_df,['organisme_de_rattachement','metier','intitule_du_poste','localisation_du_poste'])\n",
    "    .pipe(tolower_df,['organisme_de_rattachement','metier','intitule_du_poste','localisation_du_poste'])\n",
    ")"
   ]
  },
  {
   "cell_type": "code",
   "execution_count": 26,
   "metadata": {},
   "outputs": [],
   "source": [
    "offres_df_clean = offres_df_clean[['organisme_de_rattachement','metier','intitule_du_poste','localisation_du_poste']]"
   ]
  },
  {
   "cell_type": "markdown",
   "metadata": {},
   "source": [
    "# Insertion des données dans Elastic Search"
   ]
  },
  {
   "cell_type": "code",
   "execution_count": 27,
   "metadata": {},
   "outputs": [],
   "source": [
    "# Paramétrage du client\n",
    "es_client = connections.create_connection(hosts=['http://elasticsearch-master:9200/'])"
   ]
  },
  {
   "cell_type": "code",
   "execution_count": 32,
   "metadata": {},
   "outputs": [],
   "source": [
    "# Fontion qui transforme un dataframe en document/index à stocker dans ElasticSearch\n",
    "def doc_generator(df,index_name):\n",
    "    df_iter = df.iterrows()\n",
    "    for index, document in df_iter:\n",
    "        yield {\n",
    "                \"_index\": index_name,\n",
    "                \"_source\": document,\n",
    "            }"
   ]
  },
  {
   "cell_type": "code",
   "execution_count": 36,
   "metadata": {},
   "outputs": [
    {
     "name": "stderr",
     "output_type": "stream",
     "text": [
      "/tmp/ipykernel_3125/1014443642.py:2: ElasticsearchWarning: Elasticsearch built-in security features are not enabled. Without authentication, your cluster could be accessible to anyone. See https://www.elastic.co/guide/en/elasticsearch/reference/7.17/security-minimal-setup.html to enable security.\n",
      "  helpers.bulk(es_client, doc_generator(services_clean,\"services\"))\n"
     ]
    },
    {
     "data": {
      "text/plain": [
       "(7636, [])"
      ]
     },
     "execution_count": 36,
     "metadata": {},
     "output_type": "execute_result"
    }
   ],
   "source": [
    "# Indexation des services\n",
    "helpers.bulk(es_client, doc_generator(services_clean,\"services\"))"
   ]
  },
  {
   "cell_type": "code",
   "execution_count": 28,
   "metadata": {},
   "outputs": [],
   "source": [
    "def get_services(es,query,nb_results):\n",
    "    fullsearch = es.search(index = \"services\", # l'index dans lequel on cherche\n",
    "                       q = query, # notre requête textuelle\n",
    "                       size = nb_results)\n",
    "    res = [fullsearch['hits']['hits'][x]['_source']['id'] for x in range(nb_results)]\n",
    "    return res"
   ]
  },
  {
   "cell_type": "code",
   "execution_count": 29,
   "metadata": {},
   "outputs": [],
   "source": [
    "def add_services(df, list_cols,es,nb_results):\n",
    "    df['service_id'] = df[list_cols].apply(lambda row: get_services(es,' '.join(row.values.astype(str)),nb_results), axis=1)\n",
    "    return df"
   ]
  },
  {
   "cell_type": "code",
   "execution_count": 42,
   "metadata": {},
   "outputs": [
    {
     "name": "stderr",
     "output_type": "stream",
     "text": [
      "/tmp/ipykernel_3125/4037462833.py:2: ElasticsearchWarning: Elasticsearch built-in security features are not enabled. Without authentication, your cluster could be accessible to anyone. See https://www.elastic.co/guide/en/elasticsearch/reference/7.17/security-minimal-setup.html to enable security.\n",
      "  fullsearch = es.search(index = \"services\", # l'index dans lequel on cherche\n",
      "/tmp/ipykernel_3125/1241132570.py:2: SettingWithCopyWarning: \n",
      "A value is trying to be set on a copy of a slice from a DataFrame.\n",
      "Try using .loc[row_indexer,col_indexer] = value instead\n",
      "\n",
      "See the caveats in the documentation: https://pandas.pydata.org/pandas-docs/stable/user_guide/indexing.html#returning-a-view-versus-a-copy\n",
      "  df['service_id'] = df[list_cols].apply(lambda row: get_services(es,' '.join(row.values.astype(str)),nb_results), axis=1)\n",
      "/tmp/ipykernel_3125/1349295690.py:4: SettingWithCopyWarning: \n",
      "A value is trying to be set on a copy of a slice from a DataFrame.\n",
      "Try using .loc[row_indexer,col_indexer] = value instead\n",
      "\n",
      "See the caveats in the documentation: https://pandas.pydata.org/pandas-docs/stable/user_guide/indexing.html#returning-a-view-versus-a-copy\n",
      "  offres_with_services['service_nom'] = offres_with_services['service_id'].map(lambda x: [ref_service_id_name[n] for n in x if n in ref_service_id_name.keys()])\n",
      "/tmp/ipykernel_3125/1349295690.py:5: SettingWithCopyWarning: \n",
      "A value is trying to be set on a copy of a slice from a DataFrame.\n",
      "Try using .loc[row_indexer,col_indexer] = value instead\n",
      "\n",
      "See the caveats in the documentation: https://pandas.pydata.org/pandas-docs/stable/user_guide/indexing.html#returning-a-view-versus-a-copy\n",
      "  offres_with_services['service_arbo'] = offres_with_services['service_id'].map(lambda x: [ref_service_id_arbo[n] for n in x if n in ref_service_id_arbo.keys()])\n"
     ]
    }
   ],
   "source": [
    "list_cols = ['organisme_de_rattachement','metier','intitule_du_poste','localisation_du_poste']\n",
    "offres_df_temp = offres_df_clean[offres_df_clean['metier'].str.contains(\"data scientist\",na=False)|offres_df_clean['intitule_du_poste'].str.contains(\"data scientist\",na=False)]\n",
    "offres_with_services =  offres_df_temp.head(50).pipe(add_services,list_cols,es_client,3)\n",
    "offres_with_services['service_nom'] = offres_with_services['service_id'].map(lambda x: [ref_service_id_name[n] for n in x if n in ref_service_id_name.keys()])\n",
    "offres_with_services['service_arbo'] = offres_with_services['service_id'].map(lambda x: [ref_service_id_arbo[n] for n in x if n in ref_service_id_arbo.keys()])"
   ]
  },
  {
   "cell_type": "code",
   "execution_count": 78,
   "metadata": {},
   "outputs": [
    {
     "name": "stderr",
     "output_type": "stream",
     "text": [
      "/tmp/ipykernel_3125/1862555769.py:2: ElasticsearchWarning: Elasticsearch built-in security features are not enabled. Without authentication, your cluster could be accessible to anyone. See https://www.elastic.co/guide/en/elasticsearch/reference/7.17/security-minimal-setup.html to enable security.\n",
      "  helpers.bulk(es_client, doc_generator(offres_with_services,\"offres_with_services_ds_50\"))\n"
     ]
    },
    {
     "data": {
      "text/plain": [
       "(50, [])"
      ]
     },
     "execution_count": 78,
     "metadata": {},
     "output_type": "execute_result"
    }
   ],
   "source": [
    "# Indexation des offres enrichies des services\n",
    "helpers.bulk(es_client, doc_generator(offres_with_services,\"offres_with_services_ds_50\"))"
   ]
  },
  {
   "cell_type": "code",
   "execution_count": 73,
   "metadata": {},
   "outputs": [
    {
     "name": "stderr",
     "output_type": "stream",
     "text": [
      "/tmp/ipykernel_3125/2647205700.py:2: SettingWithCopyWarning: \n",
      "A value is trying to be set on a copy of a slice from a DataFrame.\n",
      "Try using .loc[row_indexer,col_indexer] = value instead\n",
      "\n",
      "See the caveats in the documentation: https://pandas.pydata.org/pandas-docs/stable/user_guide/indexing.html#returning-a-view-versus-a-copy\n",
      "  temp['description_offre'] = temp[['organisme_de_rattachement','metier','intitule_du_poste','localisation_du_poste']].apply(lambda row: ' '.join(row.values.astype(str)),axis=1)\n"
     ]
    }
   ],
   "source": [
    "temp = offres_with_services[['organisme_de_rattachement','metier','intitule_du_poste','localisation_du_poste','service_id']]\n",
    "temp['description_offre'] = temp[['organisme_de_rattachement','metier','intitule_du_poste','localisation_du_poste']].apply(lambda row: ' '.join(row.values.astype(str)),axis=1)\n",
    "temp = (temp.drop(['organisme_de_rattachement','metier','intitule_du_poste','localisation_du_poste'],axis=1)\n",
    "        .explode('service_id')\n",
    "        .groupby('service_id')\n",
    "        .agg({'description_offre': lambda x: list(x)})\n",
    "        .reset_index()\n",
    "        .rename(columns={'service_id':'id','description_offre':'liste_offres_description'})\n",
    "       )"
   ]
  },
  {
   "cell_type": "code",
   "execution_count": 75,
   "metadata": {},
   "outputs": [],
   "source": [
    "services_with_offres = pd.merge(orga_df[['id','nom','ancien_nom','type_organisme','sigle','services_fils_name','arbo_service_name','arbo_service_sigle']],\n",
    "                               temp,on='id',how='left')"
   ]
  },
  {
   "cell_type": "code",
   "execution_count": 80,
   "metadata": {},
   "outputs": [
    {
     "name": "stderr",
     "output_type": "stream",
     "text": [
      "/tmp/ipykernel_3125/344794700.py:2: ElasticsearchWarning: Elasticsearch built-in security features are not enabled. Without authentication, your cluster could be accessible to anyone. See https://www.elastic.co/guide/en/elasticsearch/reference/7.17/security-minimal-setup.html to enable security.\n",
      "  helpers.bulk(es_client, doc_generator(services_with_offres.fillna(''),\"services_with_offres_ds_50\"))\n"
     ]
    },
    {
     "ename": "BulkIndexError",
     "evalue": "56 document(s) failed to index.",
     "output_type": "error",
     "traceback": [
      "\u001b[0;31m---------------------------------------------------------------------------\u001b[0m",
      "\u001b[0;31mBulkIndexError\u001b[0m                            Traceback (most recent call last)",
      "Cell \u001b[0;32mIn[80], line 2\u001b[0m\n\u001b[1;32m      1\u001b[0m \u001b[38;5;66;03m# Indexation des services enrichies des offres\u001b[39;00m\n\u001b[0;32m----> 2\u001b[0m \u001b[43mhelpers\u001b[49m\u001b[38;5;241;43m.\u001b[39;49m\u001b[43mbulk\u001b[49m\u001b[43m(\u001b[49m\u001b[43mes_client\u001b[49m\u001b[43m,\u001b[49m\u001b[43m \u001b[49m\u001b[43mdoc_generator\u001b[49m\u001b[43m(\u001b[49m\u001b[43mservices_with_offres\u001b[49m\u001b[38;5;241;43m.\u001b[39;49m\u001b[43mfillna\u001b[49m\u001b[43m(\u001b[49m\u001b[38;5;124;43m'\u001b[39;49m\u001b[38;5;124;43m'\u001b[39;49m\u001b[43m)\u001b[49m\u001b[43m,\u001b[49m\u001b[38;5;124;43m\"\u001b[39;49m\u001b[38;5;124;43mservices_with_offres_ds_50\u001b[39;49m\u001b[38;5;124;43m\"\u001b[39;49m\u001b[43m)\u001b[49m\u001b[43m)\u001b[49m\n",
      "File \u001b[0;32m/opt/mamba/lib/python3.11/site-packages/elasticsearch/helpers/actions.py:521\u001b[0m, in \u001b[0;36mbulk\u001b[0;34m(client, actions, stats_only, ignore_status, *args, **kwargs)\u001b[0m\n\u001b[1;32m    519\u001b[0m \u001b[38;5;66;03m# make streaming_bulk yield successful results so we can count them\u001b[39;00m\n\u001b[1;32m    520\u001b[0m kwargs[\u001b[38;5;124m\"\u001b[39m\u001b[38;5;124myield_ok\u001b[39m\u001b[38;5;124m\"\u001b[39m] \u001b[38;5;241m=\u001b[39m \u001b[38;5;28;01mTrue\u001b[39;00m\n\u001b[0;32m--> 521\u001b[0m \u001b[43m\u001b[49m\u001b[38;5;28;43;01mfor\u001b[39;49;00m\u001b[43m \u001b[49m\u001b[43mok\u001b[49m\u001b[43m,\u001b[49m\u001b[43m \u001b[49m\u001b[43mitem\u001b[49m\u001b[43m \u001b[49m\u001b[38;5;129;43;01min\u001b[39;49;00m\u001b[43m \u001b[49m\u001b[43mstreaming_bulk\u001b[49m\u001b[43m(\u001b[49m\n\u001b[1;32m    522\u001b[0m \u001b[43m    \u001b[49m\u001b[43mclient\u001b[49m\u001b[43m,\u001b[49m\u001b[43m \u001b[49m\u001b[43mactions\u001b[49m\u001b[43m,\u001b[49m\u001b[43m \u001b[49m\u001b[43mignore_status\u001b[49m\u001b[38;5;241;43m=\u001b[39;49m\u001b[43mignore_status\u001b[49m\u001b[43m,\u001b[49m\u001b[43m \u001b[49m\u001b[38;5;241;43m*\u001b[39;49m\u001b[43margs\u001b[49m\u001b[43m,\u001b[49m\u001b[43m \u001b[49m\u001b[38;5;241;43m*\u001b[39;49m\u001b[38;5;241;43m*\u001b[39;49m\u001b[43mkwargs\u001b[49m\u001b[43m  \u001b[49m\u001b[38;5;66;43;03m# type: ignore[misc]\u001b[39;49;00m\n\u001b[1;32m    523\u001b[0m \u001b[43m\u001b[49m\u001b[43m)\u001b[49m\u001b[43m:\u001b[49m\n\u001b[1;32m    524\u001b[0m \u001b[43m    \u001b[49m\u001b[38;5;66;43;03m# go through request-response pairs and detect failures\u001b[39;49;00m\n\u001b[1;32m    525\u001b[0m \u001b[43m    \u001b[49m\u001b[38;5;28;43;01mif\u001b[39;49;00m\u001b[43m \u001b[49m\u001b[38;5;129;43;01mnot\u001b[39;49;00m\u001b[43m \u001b[49m\u001b[43mok\u001b[49m\u001b[43m:\u001b[49m\n\u001b[1;32m    526\u001b[0m \u001b[43m        \u001b[49m\u001b[38;5;28;43;01mif\u001b[39;49;00m\u001b[43m \u001b[49m\u001b[38;5;129;43;01mnot\u001b[39;49;00m\u001b[43m \u001b[49m\u001b[43mstats_only\u001b[49m\u001b[43m:\u001b[49m\n",
      "File \u001b[0;32m/opt/mamba/lib/python3.11/site-packages/elasticsearch/helpers/actions.py:436\u001b[0m, in \u001b[0;36mstreaming_bulk\u001b[0;34m(client, actions, chunk_size, max_chunk_bytes, raise_on_error, expand_action_callback, raise_on_exception, max_retries, initial_backoff, max_backoff, yield_ok, ignore_status, *args, **kwargs)\u001b[0m\n\u001b[1;32m    433\u001b[0m     time\u001b[38;5;241m.\u001b[39msleep(\u001b[38;5;28mmin\u001b[39m(max_backoff, initial_backoff \u001b[38;5;241m*\u001b[39m \u001b[38;5;241m2\u001b[39m \u001b[38;5;241m*\u001b[39m\u001b[38;5;241m*\u001b[39m (attempt \u001b[38;5;241m-\u001b[39m \u001b[38;5;241m1\u001b[39m)))\n\u001b[1;32m    435\u001b[0m \u001b[38;5;28;01mtry\u001b[39;00m:\n\u001b[0;32m--> 436\u001b[0m \u001b[43m    \u001b[49m\u001b[38;5;28;43;01mfor\u001b[39;49;00m\u001b[43m \u001b[49m\u001b[43mdata\u001b[49m\u001b[43m,\u001b[49m\u001b[43m \u001b[49m\u001b[43m(\u001b[49m\u001b[43mok\u001b[49m\u001b[43m,\u001b[49m\u001b[43m \u001b[49m\u001b[43minfo\u001b[49m\u001b[43m)\u001b[49m\u001b[43m \u001b[49m\u001b[38;5;129;43;01min\u001b[39;49;00m\u001b[43m \u001b[49m\u001b[38;5;28;43mzip\u001b[39;49m\u001b[43m(\u001b[49m\n\u001b[1;32m    437\u001b[0m \u001b[43m        \u001b[49m\u001b[43mbulk_data\u001b[49m\u001b[43m,\u001b[49m\n\u001b[1;32m    438\u001b[0m \u001b[43m        \u001b[49m\u001b[43m_process_bulk_chunk\u001b[49m\u001b[43m(\u001b[49m\n\u001b[1;32m    439\u001b[0m \u001b[43m            \u001b[49m\u001b[43mclient\u001b[49m\u001b[43m,\u001b[49m\n\u001b[1;32m    440\u001b[0m \u001b[43m            \u001b[49m\u001b[43mbulk_actions\u001b[49m\u001b[43m,\u001b[49m\n\u001b[1;32m    441\u001b[0m \u001b[43m            \u001b[49m\u001b[43mbulk_data\u001b[49m\u001b[43m,\u001b[49m\n\u001b[1;32m    442\u001b[0m \u001b[43m            \u001b[49m\u001b[43mraise_on_exception\u001b[49m\u001b[43m,\u001b[49m\n\u001b[1;32m    443\u001b[0m \u001b[43m            \u001b[49m\u001b[43mraise_on_error\u001b[49m\u001b[43m,\u001b[49m\n\u001b[1;32m    444\u001b[0m \u001b[43m            \u001b[49m\u001b[43mignore_status\u001b[49m\u001b[43m,\u001b[49m\n\u001b[1;32m    445\u001b[0m \u001b[43m            \u001b[49m\u001b[38;5;241;43m*\u001b[39;49m\u001b[43margs\u001b[49m\u001b[43m,\u001b[49m\n\u001b[1;32m    446\u001b[0m \u001b[43m            \u001b[49m\u001b[38;5;241;43m*\u001b[39;49m\u001b[38;5;241;43m*\u001b[39;49m\u001b[43mkwargs\u001b[49m\u001b[43m,\u001b[49m\n\u001b[1;32m    447\u001b[0m \u001b[43m        \u001b[49m\u001b[43m)\u001b[49m\u001b[43m,\u001b[49m\n\u001b[1;32m    448\u001b[0m \u001b[43m    \u001b[49m\u001b[43m)\u001b[49m\u001b[43m:\u001b[49m\n\u001b[1;32m    449\u001b[0m \u001b[43m        \u001b[49m\u001b[38;5;28;43;01mif\u001b[39;49;00m\u001b[43m \u001b[49m\u001b[38;5;129;43;01mnot\u001b[39;49;00m\u001b[43m \u001b[49m\u001b[43mok\u001b[49m\u001b[43m:\u001b[49m\n\u001b[1;32m    450\u001b[0m \u001b[43m            \u001b[49m\u001b[43maction\u001b[49m\u001b[43m,\u001b[49m\u001b[43m \u001b[49m\u001b[43minfo\u001b[49m\u001b[43m \u001b[49m\u001b[38;5;241;43m=\u001b[39;49m\u001b[43m \u001b[49m\u001b[43minfo\u001b[49m\u001b[38;5;241;43m.\u001b[39;49m\u001b[43mpopitem\u001b[49m\u001b[43m(\u001b[49m\u001b[43m)\u001b[49m\n",
      "File \u001b[0;32m/opt/mamba/lib/python3.11/site-packages/elasticsearch/helpers/actions.py:355\u001b[0m, in \u001b[0;36m_process_bulk_chunk\u001b[0;34m(client, bulk_actions, bulk_data, raise_on_exception, raise_on_error, ignore_status, *args, **kwargs)\u001b[0m\n\u001b[1;32m    348\u001b[0m \u001b[38;5;28;01melse\u001b[39;00m:\n\u001b[1;32m    349\u001b[0m     gen \u001b[38;5;241m=\u001b[39m _process_bulk_chunk_success(\n\u001b[1;32m    350\u001b[0m         resp\u001b[38;5;241m=\u001b[39mresp\u001b[38;5;241m.\u001b[39mbody,\n\u001b[1;32m    351\u001b[0m         bulk_data\u001b[38;5;241m=\u001b[39mbulk_data,\n\u001b[1;32m    352\u001b[0m         ignore_status\u001b[38;5;241m=\u001b[39mignore_status,\n\u001b[1;32m    353\u001b[0m         raise_on_error\u001b[38;5;241m=\u001b[39mraise_on_error,\n\u001b[1;32m    354\u001b[0m     )\n\u001b[0;32m--> 355\u001b[0m \u001b[38;5;28;01myield from\u001b[39;00m gen\n",
      "File \u001b[0;32m/opt/mamba/lib/python3.11/site-packages/elasticsearch/helpers/actions.py:274\u001b[0m, in \u001b[0;36m_process_bulk_chunk_success\u001b[0;34m(resp, bulk_data, ignore_status, raise_on_error)\u001b[0m\n\u001b[1;32m    271\u001b[0m         \u001b[38;5;28;01myield\u001b[39;00m ok, {op_type: item}\n\u001b[1;32m    273\u001b[0m \u001b[38;5;28;01mif\u001b[39;00m errors:\n\u001b[0;32m--> 274\u001b[0m     \u001b[38;5;28;01mraise\u001b[39;00m BulkIndexError(\u001b[38;5;124mf\u001b[39m\u001b[38;5;124m\"\u001b[39m\u001b[38;5;132;01m{\u001b[39;00m\u001b[38;5;28mlen\u001b[39m(errors)\u001b[38;5;132;01m}\u001b[39;00m\u001b[38;5;124m document(s) failed to index.\u001b[39m\u001b[38;5;124m\"\u001b[39m, errors)\n",
      "\u001b[0;31mBulkIndexError\u001b[0m: 56 document(s) failed to index."
     ]
    }
   ],
   "source": [
    "# Indexation des services enrichies des offres\n",
    "helpers.bulk(es_client, doc_generator(services_with_offres.fillna(''),\"services_with_offres_ds_50\"))"
   ]
  },
  {
   "cell_type": "markdown",
   "metadata": {},
   "source": [
    "### Autres mode de recherche"
   ]
  },
  {
   "cell_type": "code",
   "execution_count": 19,
   "metadata": {},
   "outputs": [],
   "source": [
    "from elasticsearch_dsl import Search\n",
    "s = Search(index='offres').query('match',metier='charge')\n",
    "r=s.execute()\n",
    "df_results = pd.DataFrame((d.to_dict() for d in s.scan()))\n",
    " # Recherche dans l'ensemble des champs le meilleur écho (le plus pertinent) #\n",
    "fullsearch_easy = es_client.search(index = \"services\", # l'index dans lequel on cherche\n",
    "                       q = \"direction generale des finances publiques dgfip\tdata scientis ssi dpn dtnum bureau si mission service a l utilisateur data scientist expert h f\", # notre requête textuelle\n",
    "                              size = 1) # taille de l'ensemble les échos souhaités\n",
    " # Recherche dans l'ensemble des champs le meilleur écho (le plus pertinent) #\n",
    "fullsearch_scientist = es_client.search(index = \"services\", # l'index dans lequel on cherche\n",
    "                       q = \"centre hospitalier universitaire de tours\tdata scientist datascientist centre de donnees cliniques\", # notre requête textuelle\n",
    "                              size = 1) # taille de l'ensemble les échos souhaités\n",
    " # Recherche dans l'ensemble des champs le meilleur écho (le plus pertinent) #\n",
    "fullsearch_engineer= es_client.search(index = \"services\", # l'index dans lequel on cherche\n",
    "                       q = \"service hydrographique et oceanographique de la marine\tdata engineer\tingenieur en traitement de l information conception developpement et experimentation d ia h f\", # notre requête textuelle\n",
    "                              size = 1) # taille de l'ensemble les échos souhaités\n",
    "fullsearch_designer = es_client.search(index = \"services\", # l'index dans lequel on cherche\n",
    "                       q = \"caisse des depots et consignations\tarchitecte technique expert conception et architecture de donnees d entreprise data designer h f\t\", # notre requête textuelle\n",
    "                              size = 1) # taille de l'ensemble les échos souhaités"
   ]
  },
  {
   "cell_type": "markdown",
   "metadata": {},
   "source": [
    "### Traitement Fiche de poste DNUM"
   ]
  },
  {
   "cell_type": "code",
   "execution_count": 14,
   "metadata": {},
   "outputs": [],
   "source": [
    "# Traitement des colonnes\n",
    "fdp_dinum_df.columns = fdp_dinum_df.columns.map(remove_accent).map(remove_punctuation).map(tolower).map(lambda s: s.replace(' ', '_'))\n",
    "fdp_clean = ( fdp_dinum_df\n",
    "    .pipe(remove_accent_from_df,['poste','intitule_du_service_demandeur_bureau_section','corps_grade','presentation','missions','competences'])\n",
    "    .pipe(remove_punctuation_from_df,['poste','intitule_du_service_demandeur_bureau_section','corps_grade','presentation','missions','competences'])\n",
    "    .pipe(tolower_df,['poste','intitule_du_service_demandeur_bureau_section','corps_grade','presentation','missions','competences'])\n",
    ")\n",
    "fdp_clean = fdp_clean[['poste','intitule_du_service_demandeur_bureau_section','corps_grade','presentation','missions','competences']] #fdp_clean.head(2)\n"
   ]
  }
 ],
 "metadata": {
  "kernelspec": {
   "display_name": "Python 3 (ipykernel)",
   "language": "python",
   "name": "python3"
  },
  "language_info": {
   "codemirror_mode": {
    "name": "ipython",
    "version": 3
   },
   "file_extension": ".py",
   "mimetype": "text/x-python",
   "name": "python",
   "nbconvert_exporter": "python",
   "pygments_lexer": "ipython3",
   "version": "3.11.4"
  }
 },
 "nbformat": 4,
 "nbformat_minor": 4
}
